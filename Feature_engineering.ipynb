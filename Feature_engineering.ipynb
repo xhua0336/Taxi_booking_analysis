{
 "cells": [
  {
   "cell_type": "code",
   "execution_count": 1,
   "metadata": {},
   "outputs": [
    {
     "data": {
      "text/html": [
       "<style type='text/css'>\n",
       ".datatable table.frame { margin-bottom: 0; }\n",
       ".datatable table.frame thead { border-bottom: none; }\n",
       ".datatable table.frame tr.coltypes td {  color: #FFFFFF;  line-height: 6px;  padding: 0 0.5em;}\n",
       ".datatable .bool    { background: #DDDD99; }\n",
       ".datatable .object  { background: #565656; }\n",
       ".datatable .int     { background: #5D9E5D; }\n",
       ".datatable .float   { background: #4040CC; }\n",
       ".datatable .str     { background: #CC4040; }\n",
       ".datatable .row_index {  background: var(--jp-border-color3);  border-right: 1px solid var(--jp-border-color0);  color: var(--jp-ui-font-color3);  font-size: 9px;}\n",
       ".datatable .frame tr.coltypes .row_index {  background: var(--jp-border-color0);}\n",
       ".datatable th:nth-child(2) { padding-left: 12px; }\n",
       ".datatable .hellipsis {  color: var(--jp-cell-editor-border-color);}\n",
       ".datatable .vellipsis {  background: var(--jp-layout-color0);  color: var(--jp-cell-editor-border-color);}\n",
       ".datatable .na {  color: var(--jp-cell-editor-border-color);  font-size: 80%;}\n",
       ".datatable .footer { font-size: 9px; }\n",
       ".datatable .frame_dimensions {  background: var(--jp-border-color3);  border-top: 1px solid var(--jp-border-color0);  color: var(--jp-ui-font-color3);  display: inline-block;  opacity: 0.6;  padding: 1px 10px 1px 5px;}\n",
       "</style>\n"
      ],
      "text/plain": [
       "<IPython.core.display.HTML object>"
      ]
     },
     "metadata": {},
     "output_type": "display_data"
    }
   ],
   "source": [
    "# general packages\n",
    "import numpy as np\n",
    "import pandas as pd\n",
    "import datatable as dt\n",
    "import gc"
   ]
  },
  {
   "cell_type": "markdown",
   "metadata": {},
   "source": [
    "## 1. Data preposessing"
   ]
  },
  {
   "cell_type": "code",
   "execution_count": 2,
   "metadata": {},
   "outputs": [
    {
     "name": "stdout",
     "output_type": "stream",
     "text": [
      "Wall time: 0 ns\n"
     ]
    }
   ],
   "source": [
    "%%time\n",
    "#parse_dates = ['CreatedDate', 'RequestedDate', 'AccTime', 'PupTime', 'DelTime']\n",
    "#A = pd.read_csv('Booking_Dispatch_training_set.csv', parse_dates = parse_dates, \n",
    "#date_parser = lambda x: pd.to_datetime(x).strftime(\"%Y-%m-%d %H:%M:%S\"))\n",
    "#data_parsed = A.to_csv('data_parsed.csv')"
   ]
  },
  {
   "cell_type": "code",
   "execution_count": 2,
   "metadata": {},
   "outputs": [
    {
     "name": "stdout",
     "output_type": "stream",
     "text": [
      "CPU times: user 9.29 s, sys: 304 ms, total: 9.6 s\n",
      "Wall time: 9.86 s\n"
     ]
    }
   ],
   "source": [
    "%%time\n",
    "#parse_dates = ['CreatedDate', 'RequestedDate']\n",
    "#B = pd.read_csv('Booking_Dispatch_validation_set.csv', parse_dates = parse_dates, \n",
    "#date_parser = lambda x: pd.to_datetime(x).strftime(\"%Y-%m-%d %H:%M:%S\"))\n",
    "#data_parsed = B.to_csv('val_data_parsed.csv')"
   ]
  },
  {
   "cell_type": "code",
   "execution_count": 3,
   "metadata": {},
   "outputs": [
    {
     "name": "stdout",
     "output_type": "stream",
     "text": [
      "CPU times: user 21.6 s, sys: 24.9 s, total: 46.5 s\n",
      "Wall time: 48.6 s\n"
     ]
    }
   ],
   "source": [
    "%%time\n",
    "train_data_datatable = dt.fread('data_parsed.csv') \n",
    "data = train_data_datatable.to_pandas()\n",
    "data = data.iloc[:,1:]"
   ]
  },
  {
   "cell_type": "code",
   "execution_count": 4,
   "metadata": {},
   "outputs": [
    {
     "name": "stdout",
     "output_type": "stream",
     "text": [
      "CPU times: user 1.26 s, sys: 283 ms, total: 1.54 s\n",
      "Wall time: 1.23 s\n"
     ]
    }
   ],
   "source": [
    "%%time\n",
    "val_data_datatable = dt.fread('val_data_parsed.csv')\n",
    "val_data = val_data_datatable.to_pandas()\n",
    "val_data = val_data.iloc[:,1:]"
   ]
  },
  {
   "cell_type": "code",
   "execution_count": 5,
   "metadata": {},
   "outputs": [
    {
     "data": {
      "text/plain": [
       "(3000000, 37)"
      ]
     },
     "execution_count": 5,
     "metadata": {},
     "output_type": "execute_result"
    }
   ],
   "source": [
    "data.shape"
   ]
  },
  {
   "cell_type": "code",
   "execution_count": 6,
   "metadata": {},
   "outputs": [
    {
     "data": {
      "text/plain": [
       "(300000, 17)"
      ]
     },
     "execution_count": 6,
     "metadata": {},
     "output_type": "execute_result"
    }
   ],
   "source": [
    "val_data.shape"
   ]
  },
  {
   "cell_type": "code",
   "execution_count": 7,
   "metadata": {},
   "outputs": [],
   "source": [
    "#subtract the features and target variable for modeling \n",
    "train_features = data[['BookingSource','Conditions',\n",
    "     'HasCondition','IsAccountBooking','CreatedDate','RequestedDate',\n",
    "     'BookingFleet','DispatchFleet','AreaNumber','PuPlace','PuAddress',\n",
    "     'PuSuburb','PuLat','PuLong','TargetVariable']]"
   ]
  },
  {
   "cell_type": "code",
   "execution_count": 8,
   "metadata": {},
   "outputs": [],
   "source": [
    "val_features = val_data[['BookingSource','Conditions',\n",
    "     'HasCondition','IsAccountBooking','CreatedDate','RequestedDate',\n",
    "     'BookingFleet','DispatchFleet','AreaNumber','PuPlace','PuAddress',\n",
    "     'PuSuburb','PuLat','PuLong','TargetVariable']]"
   ]
  },
  {
   "cell_type": "code",
   "execution_count": 9,
   "metadata": {},
   "outputs": [
    {
     "data": {
      "text/html": [
       "<div>\n",
       "<style scoped>\n",
       "    .dataframe tbody tr th:only-of-type {\n",
       "        vertical-align: middle;\n",
       "    }\n",
       "\n",
       "    .dataframe tbody tr th {\n",
       "        vertical-align: top;\n",
       "    }\n",
       "\n",
       "    .dataframe thead th {\n",
       "        text-align: right;\n",
       "    }\n",
       "</style>\n",
       "<table border=\"1\" class=\"dataframe\">\n",
       "  <thead>\n",
       "    <tr style=\"text-align: right;\">\n",
       "      <th></th>\n",
       "      <th>BookingSource</th>\n",
       "      <th>Conditions</th>\n",
       "      <th>HasCondition</th>\n",
       "      <th>IsAccountBooking</th>\n",
       "      <th>CreatedDate</th>\n",
       "      <th>RequestedDate</th>\n",
       "      <th>BookingFleet</th>\n",
       "      <th>DispatchFleet</th>\n",
       "      <th>AreaNumber</th>\n",
       "      <th>PuPlace</th>\n",
       "      <th>PuAddress</th>\n",
       "      <th>PuSuburb</th>\n",
       "      <th>PuLat</th>\n",
       "      <th>PuLong</th>\n",
       "      <th>TargetVariable</th>\n",
       "    </tr>\n",
       "  </thead>\n",
       "  <tbody>\n",
       "    <tr>\n",
       "      <th>0</th>\n",
       "      <td>TelOp</td>\n",
       "      <td>0</td>\n",
       "      <td>No</td>\n",
       "      <td>No</td>\n",
       "      <td>2019-04-11 10:36:55</td>\n",
       "      <td>2019-04-11 11:00:00</td>\n",
       "      <td>13cabs Sydney</td>\n",
       "      <td>13cabs Sydney</td>\n",
       "      <td>177</td>\n",
       "      <td>House</td>\n",
       "      <td>11 Stewart St</td>\n",
       "      <td>Randwick</td>\n",
       "      <td>-33.921022</td>\n",
       "      <td>151.244202</td>\n",
       "      <td>Completed</td>\n",
       "    </tr>\n",
       "    <tr>\n",
       "      <th>1</th>\n",
       "      <td>TelOp</td>\n",
       "      <td>0</td>\n",
       "      <td>No</td>\n",
       "      <td>No</td>\n",
       "      <td>2019-06-23 09:52:55</td>\n",
       "      <td>2019-06-23 09:52:55</td>\n",
       "      <td>13cabs Sydney</td>\n",
       "      <td>13cabs Sydney</td>\n",
       "      <td>111</td>\n",
       "      <td></td>\n",
       "      <td>145 Alfred Rd</td>\n",
       "      <td>Narraweena</td>\n",
       "      <td>-33.755931</td>\n",
       "      <td>151.273028</td>\n",
       "      <td>Cancelled</td>\n",
       "    </tr>\n",
       "    <tr>\n",
       "      <th>2</th>\n",
       "      <td>Internet</td>\n",
       "      <td>0</td>\n",
       "      <td>No</td>\n",
       "      <td>No</td>\n",
       "      <td>2019-12-01 00:14:02</td>\n",
       "      <td>2019-12-01 00:14:02</td>\n",
       "      <td>13cabs Sydney</td>\n",
       "      <td>13cabs Sydney</td>\n",
       "      <td>92</td>\n",
       "      <td></td>\n",
       "      <td>284 Birrell Street</td>\n",
       "      <td>Bondi</td>\n",
       "      <td>-33.897201</td>\n",
       "      <td>151.261205</td>\n",
       "      <td>Completed</td>\n",
       "    </tr>\n",
       "    <tr>\n",
       "      <th>3</th>\n",
       "      <td>StratumIVR</td>\n",
       "      <td>0</td>\n",
       "      <td>No</td>\n",
       "      <td>No</td>\n",
       "      <td>2019-09-12 09:07:03</td>\n",
       "      <td>2019-09-12 09:07:04</td>\n",
       "      <td>13cabs Sydney</td>\n",
       "      <td>13cabs Sydney</td>\n",
       "      <td>182</td>\n",
       "      <td></td>\n",
       "      <td>127-131 Cook Rd</td>\n",
       "      <td>Centennial Park</td>\n",
       "      <td>-33.895716</td>\n",
       "      <td>151.228609</td>\n",
       "      <td>Completed</td>\n",
       "    </tr>\n",
       "    <tr>\n",
       "      <th>4</th>\n",
       "      <td>Internet</td>\n",
       "      <td>0</td>\n",
       "      <td>No</td>\n",
       "      <td>No</td>\n",
       "      <td>2019-02-21 21:37:04</td>\n",
       "      <td>2019-02-21 21:37:04</td>\n",
       "      <td>13cabs Sydney</td>\n",
       "      <td>13cabs Sydney</td>\n",
       "      <td>4</td>\n",
       "      <td></td>\n",
       "      <td>Unit 87/5010 Macquarie St</td>\n",
       "      <td>Sydney</td>\n",
       "      <td>-33.859737</td>\n",
       "      <td>151.213307</td>\n",
       "      <td>Cancelled</td>\n",
       "    </tr>\n",
       "  </tbody>\n",
       "</table>\n",
       "</div>"
      ],
      "text/plain": [
       "  BookingSource  Conditions HasCondition IsAccountBooking  \\\n",
       "0         TelOp           0           No               No   \n",
       "1         TelOp           0           No               No   \n",
       "2      Internet           0           No               No   \n",
       "3    StratumIVR           0           No               No   \n",
       "4      Internet           0           No               No   \n",
       "\n",
       "           CreatedDate        RequestedDate   BookingFleet  DispatchFleet  \\\n",
       "0  2019-04-11 10:36:55  2019-04-11 11:00:00  13cabs Sydney  13cabs Sydney   \n",
       "1  2019-06-23 09:52:55  2019-06-23 09:52:55  13cabs Sydney  13cabs Sydney   \n",
       "2  2019-12-01 00:14:02  2019-12-01 00:14:02  13cabs Sydney  13cabs Sydney   \n",
       "3  2019-09-12 09:07:03  2019-09-12 09:07:04  13cabs Sydney  13cabs Sydney   \n",
       "4  2019-02-21 21:37:04  2019-02-21 21:37:04  13cabs Sydney  13cabs Sydney   \n",
       "\n",
       "   AreaNumber PuPlace                  PuAddress         PuSuburb      PuLat  \\\n",
       "0         177   House              11 Stewart St         Randwick -33.921022   \n",
       "1         111                      145 Alfred Rd       Narraweena -33.755931   \n",
       "2          92                 284 Birrell Street            Bondi -33.897201   \n",
       "3         182                    127-131 Cook Rd  Centennial Park -33.895716   \n",
       "4           4          Unit 87/5010 Macquarie St           Sydney -33.859737   \n",
       "\n",
       "       PuLong TargetVariable  \n",
       "0  151.244202      Completed  \n",
       "1  151.273028      Cancelled  \n",
       "2  151.261205      Completed  \n",
       "3  151.228609      Completed  \n",
       "4  151.213307      Cancelled  "
      ]
     },
     "execution_count": 9,
     "metadata": {},
     "output_type": "execute_result"
    }
   ],
   "source": [
    "train_features.head()"
   ]
  },
  {
   "cell_type": "code",
   "execution_count": 10,
   "metadata": {},
   "outputs": [
    {
     "data": {
      "text/html": [
       "<div>\n",
       "<style scoped>\n",
       "    .dataframe tbody tr th:only-of-type {\n",
       "        vertical-align: middle;\n",
       "    }\n",
       "\n",
       "    .dataframe tbody tr th {\n",
       "        vertical-align: top;\n",
       "    }\n",
       "\n",
       "    .dataframe thead th {\n",
       "        text-align: right;\n",
       "    }\n",
       "</style>\n",
       "<table border=\"1\" class=\"dataframe\">\n",
       "  <thead>\n",
       "    <tr style=\"text-align: right;\">\n",
       "      <th></th>\n",
       "      <th>BookingSource</th>\n",
       "      <th>Conditions</th>\n",
       "      <th>HasCondition</th>\n",
       "      <th>IsAccountBooking</th>\n",
       "      <th>CreatedDate</th>\n",
       "      <th>RequestedDate</th>\n",
       "      <th>BookingFleet</th>\n",
       "      <th>DispatchFleet</th>\n",
       "      <th>AreaNumber</th>\n",
       "      <th>PuPlace</th>\n",
       "      <th>PuAddress</th>\n",
       "      <th>PuSuburb</th>\n",
       "      <th>PuLat</th>\n",
       "      <th>PuLong</th>\n",
       "      <th>TargetVariable</th>\n",
       "    </tr>\n",
       "  </thead>\n",
       "  <tbody>\n",
       "    <tr>\n",
       "      <th>0</th>\n",
       "      <td>StratumIVR</td>\n",
       "      <td>0</td>\n",
       "      <td>No</td>\n",
       "      <td>No</td>\n",
       "      <td>2019-03-07 16:24:17</td>\n",
       "      <td>2019-03-07 16:24:18</td>\n",
       "      <td>13cabs Sydney</td>\n",
       "      <td>13cabs Sydney</td>\n",
       "      <td>181</td>\n",
       "      <td></td>\n",
       "      <td>42  Maddox St</td>\n",
       "      <td>Alexandria</td>\n",
       "      <td>-33.908468</td>\n",
       "      <td>151.193097</td>\n",
       "      <td>Completed</td>\n",
       "    </tr>\n",
       "    <tr>\n",
       "      <th>1</th>\n",
       "      <td>Internet</td>\n",
       "      <td>0</td>\n",
       "      <td>No</td>\n",
       "      <td>No</td>\n",
       "      <td>2019-07-27 14:47:45</td>\n",
       "      <td>2019-07-27 14:47:45</td>\n",
       "      <td>13cabs Sydney</td>\n",
       "      <td>13cabs Sydney</td>\n",
       "      <td>95</td>\n",
       "      <td></td>\n",
       "      <td>16 Yarranabbe Rd</td>\n",
       "      <td>Darling Point</td>\n",
       "      <td>-33.872471</td>\n",
       "      <td>151.237137</td>\n",
       "      <td>Completed</td>\n",
       "    </tr>\n",
       "    <tr>\n",
       "      <th>2</th>\n",
       "      <td>TelOp</td>\n",
       "      <td>0</td>\n",
       "      <td>No</td>\n",
       "      <td>No</td>\n",
       "      <td>2019-01-15 11:36:47</td>\n",
       "      <td>2019-01-15 15:15:00</td>\n",
       "      <td>13cabs Sydney</td>\n",
       "      <td>Silver Service Sydney</td>\n",
       "      <td>221</td>\n",
       "      <td>House</td>\n",
       "      <td>107 Napier St</td>\n",
       "      <td>Drummoyne</td>\n",
       "      <td>-33.848875</td>\n",
       "      <td>151.155960</td>\n",
       "      <td>Completed</td>\n",
       "    </tr>\n",
       "    <tr>\n",
       "      <th>3</th>\n",
       "      <td>TelOp</td>\n",
       "      <td>0</td>\n",
       "      <td>No</td>\n",
       "      <td>No</td>\n",
       "      <td>2019-01-29 18:00:00</td>\n",
       "      <td>2019-01-29 18:00:00</td>\n",
       "      <td>13cabs Sydney</td>\n",
       "      <td>13cabs Sydney</td>\n",
       "      <td>197</td>\n",
       "      <td>Campsie Sydney Metro Station S</td>\n",
       "      <td>Lilian St</td>\n",
       "      <td>Campsie</td>\n",
       "      <td>-33.910592</td>\n",
       "      <td>151.103468</td>\n",
       "      <td>No Job</td>\n",
       "    </tr>\n",
       "    <tr>\n",
       "      <th>4</th>\n",
       "      <td>StratumIVR</td>\n",
       "      <td>0</td>\n",
       "      <td>No</td>\n",
       "      <td>No</td>\n",
       "      <td>2019-09-23 00:18:25</td>\n",
       "      <td>2019-09-23 00:18:25</td>\n",
       "      <td>13cabs Sydney</td>\n",
       "      <td>13cabs Sydney</td>\n",
       "      <td>179</td>\n",
       "      <td></td>\n",
       "      <td>109 Alison Rd</td>\n",
       "      <td>Randwick</td>\n",
       "      <td>-33.912590</td>\n",
       "      <td>151.236801</td>\n",
       "      <td>Completed</td>\n",
       "    </tr>\n",
       "  </tbody>\n",
       "</table>\n",
       "</div>"
      ],
      "text/plain": [
       "  BookingSource  Conditions HasCondition IsAccountBooking  \\\n",
       "0    StratumIVR           0           No               No   \n",
       "1      Internet           0           No               No   \n",
       "2         TelOp           0           No               No   \n",
       "3         TelOp           0           No               No   \n",
       "4    StratumIVR           0           No               No   \n",
       "\n",
       "           CreatedDate        RequestedDate   BookingFleet  \\\n",
       "0  2019-03-07 16:24:17  2019-03-07 16:24:18  13cabs Sydney   \n",
       "1  2019-07-27 14:47:45  2019-07-27 14:47:45  13cabs Sydney   \n",
       "2  2019-01-15 11:36:47  2019-01-15 15:15:00  13cabs Sydney   \n",
       "3  2019-01-29 18:00:00  2019-01-29 18:00:00  13cabs Sydney   \n",
       "4  2019-09-23 00:18:25  2019-09-23 00:18:25  13cabs Sydney   \n",
       "\n",
       "           DispatchFleet  AreaNumber                         PuPlace  \\\n",
       "0          13cabs Sydney         181                                   \n",
       "1          13cabs Sydney          95                                   \n",
       "2  Silver Service Sydney         221                           House   \n",
       "3          13cabs Sydney         197  Campsie Sydney Metro Station S   \n",
       "4          13cabs Sydney         179                                   \n",
       "\n",
       "          PuAddress       PuSuburb      PuLat      PuLong TargetVariable  \n",
       "0     42  Maddox St     Alexandria -33.908468  151.193097      Completed  \n",
       "1  16 Yarranabbe Rd  Darling Point -33.872471  151.237137      Completed  \n",
       "2     107 Napier St      Drummoyne -33.848875  151.155960      Completed  \n",
       "3         Lilian St        Campsie -33.910592  151.103468         No Job  \n",
       "4     109 Alison Rd       Randwick -33.912590  151.236801      Completed  "
      ]
     },
     "execution_count": 10,
     "metadata": {},
     "output_type": "execute_result"
    }
   ],
   "source": [
    "val_features.head()"
   ]
  },
  {
   "cell_type": "code",
   "execution_count": 11,
   "metadata": {},
   "outputs": [],
   "source": [
    "#concatenate training data and validation data for feature engineering\n",
    "features = pd.concat([train_features, val_features], axis=0).reset_index(drop=True)"
   ]
  },
  {
   "cell_type": "code",
   "execution_count": 12,
   "metadata": {},
   "outputs": [
    {
     "data": {
      "text/plain": [
       "BookingSource        object\n",
       "Conditions            int64\n",
       "HasCondition         object\n",
       "IsAccountBooking     object\n",
       "CreatedDate          object\n",
       "RequestedDate        object\n",
       "BookingFleet         object\n",
       "DispatchFleet        object\n",
       "AreaNumber            int32\n",
       "PuPlace              object\n",
       "PuAddress            object\n",
       "PuSuburb             object\n",
       "PuLat               float64\n",
       "PuLong              float64\n",
       "TargetVariable       object\n",
       "dtype: object"
      ]
     },
     "execution_count": 12,
     "metadata": {},
     "output_type": "execute_result"
    }
   ],
   "source": [
    "# check datatypes\n",
    "features.dtypes"
   ]
  },
  {
   "cell_type": "code",
   "execution_count": 13,
   "metadata": {},
   "outputs": [
    {
     "data": {
      "text/html": [
       "<div>\n",
       "<style scoped>\n",
       "    .dataframe tbody tr th:only-of-type {\n",
       "        vertical-align: middle;\n",
       "    }\n",
       "\n",
       "    .dataframe tbody tr th {\n",
       "        vertical-align: top;\n",
       "    }\n",
       "\n",
       "    .dataframe thead th {\n",
       "        text-align: right;\n",
       "    }\n",
       "</style>\n",
       "<table border=\"1\" class=\"dataframe\">\n",
       "  <thead>\n",
       "    <tr style=\"text-align: right;\">\n",
       "      <th></th>\n",
       "      <th>unique_values</th>\n",
       "      <th>counts</th>\n",
       "    </tr>\n",
       "  </thead>\n",
       "  <tbody>\n",
       "    <tr>\n",
       "      <th>0</th>\n",
       "      <td>0</td>\n",
       "      <td>2240288</td>\n",
       "    </tr>\n",
       "    <tr>\n",
       "      <th>1</th>\n",
       "      <td>4194304</td>\n",
       "      <td>304956</td>\n",
       "    </tr>\n",
       "    <tr>\n",
       "      <th>2</th>\n",
       "      <td>64</td>\n",
       "      <td>101869</td>\n",
       "    </tr>\n",
       "    <tr>\n",
       "      <th>3</th>\n",
       "      <td>262144</td>\n",
       "      <td>88487</td>\n",
       "    </tr>\n",
       "    <tr>\n",
       "      <th>4</th>\n",
       "      <td>16777216</td>\n",
       "      <td>38880</td>\n",
       "    </tr>\n",
       "    <tr>\n",
       "      <th>...</th>\n",
       "      <td>...</td>\n",
       "      <td>...</td>\n",
       "    </tr>\n",
       "    <tr>\n",
       "      <th>375</th>\n",
       "      <td>537133056</td>\n",
       "      <td>1</td>\n",
       "    </tr>\n",
       "    <tr>\n",
       "      <th>376</th>\n",
       "      <td>604012544</td>\n",
       "      <td>1</td>\n",
       "    </tr>\n",
       "    <tr>\n",
       "      <th>377</th>\n",
       "      <td>17196908544</td>\n",
       "      <td>1</td>\n",
       "    </tr>\n",
       "    <tr>\n",
       "      <th>378</th>\n",
       "      <td>262152</td>\n",
       "      <td>1</td>\n",
       "    </tr>\n",
       "    <tr>\n",
       "      <th>379</th>\n",
       "      <td>4195392</td>\n",
       "      <td>1</td>\n",
       "    </tr>\n",
       "  </tbody>\n",
       "</table>\n",
       "<p>380 rows × 2 columns</p>\n",
       "</div>"
      ],
      "text/plain": [
       "     unique_values   counts\n",
       "0                0  2240288\n",
       "1          4194304   304956\n",
       "2               64   101869\n",
       "3           262144    88487\n",
       "4         16777216    38880\n",
       "..             ...      ...\n",
       "375      537133056        1\n",
       "376      604012544        1\n",
       "377    17196908544        1\n",
       "378         262152        1\n",
       "379        4195392        1\n",
       "\n",
       "[380 rows x 2 columns]"
      ]
     },
     "execution_count": 13,
     "metadata": {},
     "output_type": "execute_result"
    }
   ],
   "source": [
    "#BookingSource variable\n",
    "Conditions_count = data['Conditions'].value_counts().rename_axis('unique_values').reset_index(name='counts')\n",
    "Conditions_count"
   ]
  },
  {
   "cell_type": "code",
   "execution_count": 14,
   "metadata": {},
   "outputs": [],
   "source": [
    "#save the concatenated data\n",
    "features_parsed = features.to_csv('feature1_parsed.csv')"
   ]
  },
  {
   "cell_type": "markdown",
   "metadata": {},
   "source": [
    "## 2. Feature engineering"
   ]
  },
  {
   "cell_type": "code",
   "execution_count": 15,
   "metadata": {},
   "outputs": [],
   "source": [
    "feature1 = features"
   ]
  },
  {
   "cell_type": "code",
   "execution_count": 17,
   "metadata": {},
   "outputs": [
    {
     "name": "stdout",
     "output_type": "stream",
     "text": [
      "CPU times: user 2 µs, sys: 0 ns, total: 2 µs\n",
      "Wall time: 3.81 µs\n"
     ]
    }
   ],
   "source": [
    "%%time\n",
    "#feature_data_datatable = dt.fread('feature1_parsed.csv') \n",
    "#feature1 = feature_data_datatable.to_pandas()\n",
    "#feature1 = feature1.iloc[:,1:]"
   ]
  },
  {
   "cell_type": "code",
   "execution_count": 18,
   "metadata": {},
   "outputs": [
    {
     "data": {
      "text/plain": [
       "(3300000, 15)"
      ]
     },
     "execution_count": 18,
     "metadata": {},
     "output_type": "execute_result"
    }
   ],
   "source": [
    "feature1.shape"
   ]
  },
  {
   "cell_type": "markdown",
   "metadata": {},
   "source": [
    "### 2.1 New time features: \n",
    "booking by day, request by day, booking by hour, request by hour, create part of day, request part of day"
   ]
  },
  {
   "cell_type": "code",
   "execution_count": 77,
   "metadata": {},
   "outputs": [],
   "source": [
    "# Changing the pickup_datetime and dropoff_datetime from object to datetime datatype\n",
    "feature1['CreatedDate']=pd.to_datetime(feature1['CreatedDate'])\n",
    "feature1['RequestedDate']=pd.to_datetime(feature1['RequestedDate'])"
   ]
  },
  {
   "cell_type": "code",
   "execution_count": 78,
   "metadata": {},
   "outputs": [],
   "source": [
    "# Creating features based on day\n",
    "feature1['create_by_day'] = feature1['CreatedDate'].dt.day_name()\n",
    "feature1['request_by_day'] = feature1['RequestedDate'].dt.day_name()"
   ]
  },
  {
   "cell_type": "code",
   "execution_count": 79,
   "metadata": {},
   "outputs": [],
   "source": [
    "# Creating features based on Hour\n",
    "feature1['create_by_hour'] = feature1['CreatedDate'].dt.hour\n",
    "feature1['request_by_hour'] = feature1['RequestedDate'].dt.hour\n",
    "#Morning, which starts at 6:01 am and ends at 12:oopm\n",
    "#Afternoon, which starts at 12:01 pm and ends at 18:00pm\n",
    "#Evening, which starts at 18:01 and ends at 21:00pm\n",
    "#Night, which start at 21:01 and ends at 6:00am"
   ]
  },
  {
   "cell_type": "code",
   "execution_count": 80,
   "metadata": {},
   "outputs": [],
   "source": [
    "def part_of_day (t):\n",
    "    if t in range (6,12):\n",
    "        return \"Morning\"\n",
    "    elif t in range (12,18):\n",
    "        return \"Afternoon\"\n",
    "    elif t in range (18,21):\n",
    "        return \"Evening\"\n",
    "    else:\n",
    "        return \"Night\""
   ]
  },
  {
   "cell_type": "code",
   "execution_count": 81,
   "metadata": {},
   "outputs": [],
   "source": [
    "feature1['create_part_of_day']=feature1['create_by_hour'].apply(part_of_day)\n",
    "feature1['request_part_of_day']=feature1['request_by_hour'].apply(part_of_day)"
   ]
  },
  {
   "cell_type": "markdown",
   "metadata": {},
   "source": [
    "### 2.2 New feature: if booking fleet matches with the dispatch fleet(binary)"
   ]
  },
  {
   "cell_type": "code",
   "execution_count": 82,
   "metadata": {},
   "outputs": [
    {
     "name": "stdout",
     "output_type": "stream",
     "text": [
      "Wall time: 54.9 s\n"
     ]
    }
   ],
   "source": [
    "%%time\n",
    "equal = list()\n",
    "for i in range(feature1.shape[0]):\n",
    "    if feature1['BookingFleet'][i] == feature1['DispatchFleet'][i]:\n",
    "        equal.append('True')\n",
    "    else:\n",
    "        equal.append('False')"
   ]
  },
  {
   "cell_type": "code",
   "execution_count": 83,
   "metadata": {},
   "outputs": [],
   "source": [
    "feature1['BookingisDispatch'] = equal"
   ]
  },
  {
   "cell_type": "markdown",
   "metadata": {},
   "source": [
    "### 2.3 New feature: if the records of pick up surburbs exceed 10 (binary)"
   ]
  },
  {
   "cell_type": "code",
   "execution_count": 84,
   "metadata": {},
   "outputs": [],
   "source": [
    "pick = feature1['PuSuburb'].value_counts().head(966).keys().tolist() #<10"
   ]
  },
  {
   "cell_type": "code",
   "execution_count": 85,
   "metadata": {},
   "outputs": [],
   "source": [
    "feature1['pick'] = np.where(feature1['PuSuburb'].isin(pick), 1, 0)"
   ]
  },
  {
   "cell_type": "markdown",
   "metadata": {},
   "source": [
    "### 2.4 Drop columns"
   ]
  },
  {
   "cell_type": "code",
   "execution_count": 86,
   "metadata": {},
   "outputs": [
    {
     "data": {
      "text/plain": [
       "247"
      ]
     },
     "execution_count": 86,
     "metadata": {},
     "output_type": "execute_result"
    }
   ],
   "source": [
    "gc.collect()"
   ]
  },
  {
   "cell_type": "code",
   "execution_count": 87,
   "metadata": {},
   "outputs": [],
   "source": [
    "feature1 = feature1.drop(columns=['CreatedDate', 'RequestedDate']) #date features"
   ]
  },
  {
   "cell_type": "code",
   "execution_count": 88,
   "metadata": {},
   "outputs": [],
   "source": [
    "feature1 = feature1.drop(columns=['PuSuburb','PuPlace','PuAddress']) # pick-up location related features"
   ]
  },
  {
   "cell_type": "code",
   "execution_count": 89,
   "metadata": {},
   "outputs": [
    {
     "data": {
      "text/plain": [
       "(3300000, 18)"
      ]
     },
     "execution_count": 89,
     "metadata": {},
     "output_type": "execute_result"
    }
   ],
   "source": [
    "feature1.shape"
   ]
  },
  {
   "cell_type": "markdown",
   "metadata": {},
   "source": [
    "### 2.5 Encode categorical features"
   ]
  },
  {
   "cell_type": "code",
   "execution_count": 90,
   "metadata": {},
   "outputs": [],
   "source": [
    "#cat = feature1[['BookingSource','BookingFleet','DispatchFleet','create_by_day',\n",
    "#               'request_by_day','create_part_of_day','request_part_of_day']]"
   ]
  },
  {
   "cell_type": "code",
   "execution_count": 91,
   "metadata": {},
   "outputs": [
    {
     "data": {
      "text/plain": [
       "(3300000, 63)"
      ]
     },
     "execution_count": 91,
     "metadata": {},
     "output_type": "execute_result"
    }
   ],
   "source": [
    "feature2 = pd.get_dummies(feature1).reset_index(drop=True)\n",
    "feature2.shape"
   ]
  },
  {
   "cell_type": "code",
   "execution_count": 94,
   "metadata": {},
   "outputs": [
    {
     "data": {
      "text/html": [
       "<div>\n",
       "<style scoped>\n",
       "    .dataframe tbody tr th:only-of-type {\n",
       "        vertical-align: middle;\n",
       "    }\n",
       "\n",
       "    .dataframe tbody tr th {\n",
       "        vertical-align: top;\n",
       "    }\n",
       "\n",
       "    .dataframe thead th {\n",
       "        text-align: right;\n",
       "    }\n",
       "</style>\n",
       "<table border=\"1\" class=\"dataframe\">\n",
       "  <thead>\n",
       "    <tr style=\"text-align: right;\">\n",
       "      <th></th>\n",
       "      <th>Conditions</th>\n",
       "      <th>AreaNumber</th>\n",
       "      <th>PuLat</th>\n",
       "      <th>PuLong</th>\n",
       "      <th>create_by_hour</th>\n",
       "      <th>request_by_hour</th>\n",
       "      <th>pick</th>\n",
       "      <th>BookingSource_Internet</th>\n",
       "      <th>BookingSource_Permanent</th>\n",
       "      <th>BookingSource_StratumIVR</th>\n",
       "      <th>...</th>\n",
       "      <th>create_part_of_day_Afternoon</th>\n",
       "      <th>create_part_of_day_Evening</th>\n",
       "      <th>create_part_of_day_Morning</th>\n",
       "      <th>create_part_of_day_Night</th>\n",
       "      <th>request_part_of_day_Afternoon</th>\n",
       "      <th>request_part_of_day_Evening</th>\n",
       "      <th>request_part_of_day_Morning</th>\n",
       "      <th>request_part_of_day_Night</th>\n",
       "      <th>BookingisDispatch_False</th>\n",
       "      <th>BookingisDispatch_True</th>\n",
       "    </tr>\n",
       "  </thead>\n",
       "  <tbody>\n",
       "    <tr>\n",
       "      <th>0</th>\n",
       "      <td>0</td>\n",
       "      <td>177</td>\n",
       "      <td>-33.921022</td>\n",
       "      <td>151.244202</td>\n",
       "      <td>10</td>\n",
       "      <td>11</td>\n",
       "      <td>1</td>\n",
       "      <td>0</td>\n",
       "      <td>0</td>\n",
       "      <td>0</td>\n",
       "      <td>...</td>\n",
       "      <td>0</td>\n",
       "      <td>0</td>\n",
       "      <td>1</td>\n",
       "      <td>0</td>\n",
       "      <td>0</td>\n",
       "      <td>0</td>\n",
       "      <td>1</td>\n",
       "      <td>0</td>\n",
       "      <td>0</td>\n",
       "      <td>1</td>\n",
       "    </tr>\n",
       "    <tr>\n",
       "      <th>1</th>\n",
       "      <td>0</td>\n",
       "      <td>111</td>\n",
       "      <td>-33.755931</td>\n",
       "      <td>151.273028</td>\n",
       "      <td>9</td>\n",
       "      <td>9</td>\n",
       "      <td>1</td>\n",
       "      <td>0</td>\n",
       "      <td>0</td>\n",
       "      <td>0</td>\n",
       "      <td>...</td>\n",
       "      <td>0</td>\n",
       "      <td>0</td>\n",
       "      <td>1</td>\n",
       "      <td>0</td>\n",
       "      <td>0</td>\n",
       "      <td>0</td>\n",
       "      <td>1</td>\n",
       "      <td>0</td>\n",
       "      <td>0</td>\n",
       "      <td>1</td>\n",
       "    </tr>\n",
       "    <tr>\n",
       "      <th>2</th>\n",
       "      <td>0</td>\n",
       "      <td>92</td>\n",
       "      <td>-33.897201</td>\n",
       "      <td>151.261205</td>\n",
       "      <td>0</td>\n",
       "      <td>0</td>\n",
       "      <td>1</td>\n",
       "      <td>1</td>\n",
       "      <td>0</td>\n",
       "      <td>0</td>\n",
       "      <td>...</td>\n",
       "      <td>0</td>\n",
       "      <td>0</td>\n",
       "      <td>0</td>\n",
       "      <td>1</td>\n",
       "      <td>0</td>\n",
       "      <td>0</td>\n",
       "      <td>0</td>\n",
       "      <td>1</td>\n",
       "      <td>0</td>\n",
       "      <td>1</td>\n",
       "    </tr>\n",
       "    <tr>\n",
       "      <th>3</th>\n",
       "      <td>0</td>\n",
       "      <td>182</td>\n",
       "      <td>-33.895716</td>\n",
       "      <td>151.228609</td>\n",
       "      <td>9</td>\n",
       "      <td>9</td>\n",
       "      <td>1</td>\n",
       "      <td>0</td>\n",
       "      <td>0</td>\n",
       "      <td>1</td>\n",
       "      <td>...</td>\n",
       "      <td>0</td>\n",
       "      <td>0</td>\n",
       "      <td>1</td>\n",
       "      <td>0</td>\n",
       "      <td>0</td>\n",
       "      <td>0</td>\n",
       "      <td>1</td>\n",
       "      <td>0</td>\n",
       "      <td>0</td>\n",
       "      <td>1</td>\n",
       "    </tr>\n",
       "    <tr>\n",
       "      <th>4</th>\n",
       "      <td>0</td>\n",
       "      <td>4</td>\n",
       "      <td>-33.859737</td>\n",
       "      <td>151.213307</td>\n",
       "      <td>21</td>\n",
       "      <td>21</td>\n",
       "      <td>1</td>\n",
       "      <td>1</td>\n",
       "      <td>0</td>\n",
       "      <td>0</td>\n",
       "      <td>...</td>\n",
       "      <td>0</td>\n",
       "      <td>0</td>\n",
       "      <td>0</td>\n",
       "      <td>1</td>\n",
       "      <td>0</td>\n",
       "      <td>0</td>\n",
       "      <td>0</td>\n",
       "      <td>1</td>\n",
       "      <td>0</td>\n",
       "      <td>1</td>\n",
       "    </tr>\n",
       "    <tr>\n",
       "      <th>5</th>\n",
       "      <td>0</td>\n",
       "      <td>253</td>\n",
       "      <td>-33.851305</td>\n",
       "      <td>151.186032</td>\n",
       "      <td>17</td>\n",
       "      <td>17</td>\n",
       "      <td>1</td>\n",
       "      <td>1</td>\n",
       "      <td>0</td>\n",
       "      <td>0</td>\n",
       "      <td>...</td>\n",
       "      <td>1</td>\n",
       "      <td>0</td>\n",
       "      <td>0</td>\n",
       "      <td>0</td>\n",
       "      <td>1</td>\n",
       "      <td>0</td>\n",
       "      <td>0</td>\n",
       "      <td>0</td>\n",
       "      <td>0</td>\n",
       "      <td>1</td>\n",
       "    </tr>\n",
       "    <tr>\n",
       "      <th>6</th>\n",
       "      <td>0</td>\n",
       "      <td>27</td>\n",
       "      <td>-33.839003</td>\n",
       "      <td>151.234135</td>\n",
       "      <td>7</td>\n",
       "      <td>7</td>\n",
       "      <td>1</td>\n",
       "      <td>1</td>\n",
       "      <td>0</td>\n",
       "      <td>0</td>\n",
       "      <td>...</td>\n",
       "      <td>0</td>\n",
       "      <td>0</td>\n",
       "      <td>1</td>\n",
       "      <td>0</td>\n",
       "      <td>0</td>\n",
       "      <td>0</td>\n",
       "      <td>1</td>\n",
       "      <td>0</td>\n",
       "      <td>1</td>\n",
       "      <td>0</td>\n",
       "    </tr>\n",
       "    <tr>\n",
       "      <th>7</th>\n",
       "      <td>0</td>\n",
       "      <td>31</td>\n",
       "      <td>-33.834917</td>\n",
       "      <td>151.210208</td>\n",
       "      <td>18</td>\n",
       "      <td>7</td>\n",
       "      <td>1</td>\n",
       "      <td>1</td>\n",
       "      <td>0</td>\n",
       "      <td>0</td>\n",
       "      <td>...</td>\n",
       "      <td>0</td>\n",
       "      <td>1</td>\n",
       "      <td>0</td>\n",
       "      <td>0</td>\n",
       "      <td>0</td>\n",
       "      <td>0</td>\n",
       "      <td>1</td>\n",
       "      <td>0</td>\n",
       "      <td>0</td>\n",
       "      <td>1</td>\n",
       "    </tr>\n",
       "    <tr>\n",
       "      <th>8</th>\n",
       "      <td>524288</td>\n",
       "      <td>129</td>\n",
       "      <td>-33.799541</td>\n",
       "      <td>151.182911</td>\n",
       "      <td>4</td>\n",
       "      <td>12</td>\n",
       "      <td>1</td>\n",
       "      <td>0</td>\n",
       "      <td>0</td>\n",
       "      <td>0</td>\n",
       "      <td>...</td>\n",
       "      <td>0</td>\n",
       "      <td>0</td>\n",
       "      <td>0</td>\n",
       "      <td>1</td>\n",
       "      <td>1</td>\n",
       "      <td>0</td>\n",
       "      <td>0</td>\n",
       "      <td>0</td>\n",
       "      <td>1</td>\n",
       "      <td>0</td>\n",
       "    </tr>\n",
       "    <tr>\n",
       "      <th>9</th>\n",
       "      <td>0</td>\n",
       "      <td>274</td>\n",
       "      <td>-33.805868</td>\n",
       "      <td>151.021825</td>\n",
       "      <td>10</td>\n",
       "      <td>10</td>\n",
       "      <td>1</td>\n",
       "      <td>1</td>\n",
       "      <td>0</td>\n",
       "      <td>0</td>\n",
       "      <td>...</td>\n",
       "      <td>0</td>\n",
       "      <td>0</td>\n",
       "      <td>1</td>\n",
       "      <td>0</td>\n",
       "      <td>0</td>\n",
       "      <td>0</td>\n",
       "      <td>1</td>\n",
       "      <td>0</td>\n",
       "      <td>1</td>\n",
       "      <td>0</td>\n",
       "    </tr>\n",
       "  </tbody>\n",
       "</table>\n",
       "<p>10 rows × 63 columns</p>\n",
       "</div>"
      ],
      "text/plain": [
       "   Conditions  AreaNumber      PuLat      PuLong  create_by_hour  \\\n",
       "0           0         177 -33.921022  151.244202              10   \n",
       "1           0         111 -33.755931  151.273028               9   \n",
       "2           0          92 -33.897201  151.261205               0   \n",
       "3           0         182 -33.895716  151.228609               9   \n",
       "4           0           4 -33.859737  151.213307              21   \n",
       "5           0         253 -33.851305  151.186032              17   \n",
       "6           0          27 -33.839003  151.234135               7   \n",
       "7           0          31 -33.834917  151.210208              18   \n",
       "8      524288         129 -33.799541  151.182911               4   \n",
       "9           0         274 -33.805868  151.021825              10   \n",
       "\n",
       "   request_by_hour  pick  BookingSource_Internet  BookingSource_Permanent  \\\n",
       "0               11     1                       0                        0   \n",
       "1                9     1                       0                        0   \n",
       "2                0     1                       1                        0   \n",
       "3                9     1                       0                        0   \n",
       "4               21     1                       1                        0   \n",
       "5               17     1                       1                        0   \n",
       "6                7     1                       1                        0   \n",
       "7                7     1                       1                        0   \n",
       "8               12     1                       0                        0   \n",
       "9               10     1                       1                        0   \n",
       "\n",
       "   BookingSource_StratumIVR  ...  create_part_of_day_Afternoon  \\\n",
       "0                         0  ...                             0   \n",
       "1                         0  ...                             0   \n",
       "2                         0  ...                             0   \n",
       "3                         1  ...                             0   \n",
       "4                         0  ...                             0   \n",
       "5                         0  ...                             1   \n",
       "6                         0  ...                             0   \n",
       "7                         0  ...                             0   \n",
       "8                         0  ...                             0   \n",
       "9                         0  ...                             0   \n",
       "\n",
       "   create_part_of_day_Evening  create_part_of_day_Morning  \\\n",
       "0                           0                           1   \n",
       "1                           0                           1   \n",
       "2                           0                           0   \n",
       "3                           0                           1   \n",
       "4                           0                           0   \n",
       "5                           0                           0   \n",
       "6                           0                           1   \n",
       "7                           1                           0   \n",
       "8                           0                           0   \n",
       "9                           0                           1   \n",
       "\n",
       "   create_part_of_day_Night  request_part_of_day_Afternoon  \\\n",
       "0                         0                              0   \n",
       "1                         0                              0   \n",
       "2                         1                              0   \n",
       "3                         0                              0   \n",
       "4                         1                              0   \n",
       "5                         0                              1   \n",
       "6                         0                              0   \n",
       "7                         0                              0   \n",
       "8                         1                              1   \n",
       "9                         0                              0   \n",
       "\n",
       "   request_part_of_day_Evening  request_part_of_day_Morning  \\\n",
       "0                            0                            1   \n",
       "1                            0                            1   \n",
       "2                            0                            0   \n",
       "3                            0                            1   \n",
       "4                            0                            0   \n",
       "5                            0                            0   \n",
       "6                            0                            1   \n",
       "7                            0                            1   \n",
       "8                            0                            0   \n",
       "9                            0                            1   \n",
       "\n",
       "   request_part_of_day_Night  BookingisDispatch_False  BookingisDispatch_True  \n",
       "0                          0                        0                       1  \n",
       "1                          0                        0                       1  \n",
       "2                          1                        0                       1  \n",
       "3                          0                        0                       1  \n",
       "4                          1                        0                       1  \n",
       "5                          0                        0                       1  \n",
       "6                          0                        1                       0  \n",
       "7                          0                        0                       1  \n",
       "8                          0                        1                       0  \n",
       "9                          0                        1                       0  \n",
       "\n",
       "[10 rows x 63 columns]"
      ]
     },
     "execution_count": 94,
     "metadata": {},
     "output_type": "execute_result"
    }
   ],
   "source": [
    "feature2.iloc[0:10,:]"
   ]
  },
  {
   "cell_type": "code",
   "execution_count": 93,
   "metadata": {},
   "outputs": [],
   "source": [
    "features_for_modelling = feature2.to_csv('features_processed.csv')"
   ]
  },
  {
   "cell_type": "code",
   "execution_count": null,
   "metadata": {},
   "outputs": [],
   "source": []
  }
 ],
 "metadata": {
  "kernelspec": {
   "display_name": "Python 3",
   "language": "python",
   "name": "python3"
  },
  "language_info": {
   "codemirror_mode": {
    "name": "ipython",
    "version": 3
   },
   "file_extension": ".py",
   "mimetype": "text/x-python",
   "name": "python",
   "nbconvert_exporter": "python",
   "pygments_lexer": "ipython3",
   "version": "3.8.5"
  }
 },
 "nbformat": 4,
 "nbformat_minor": 4
}
