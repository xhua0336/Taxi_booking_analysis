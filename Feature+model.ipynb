{
 "cells": [
  {
   "cell_type": "code",
   "execution_count": 1,
   "metadata": {},
   "outputs": [],
   "source": [
    "import numpy as np\n",
    "import pandas as pd\n",
    "import toad\n",
    "import matplotlib.pyplot as plt\n",
    "import seaborn as sns\n",
    "import datetime\n",
    "from toad.plot import bin_plot\n",
    "from sklearn.model_selection import train_test_split, GridSearchCV\n",
    "from sklearn.neighbors import KNeighborsClassifier\n",
    "from sklearn.tree import DecisionTreeClassifier\n",
    "from sklearn.naive_bayes import GaussianNB\n",
    "import xgboost\n",
    "from sklearn.multiclass import OneVsOneClassifier\n",
    "from sklearn.linear_model import LogisticRegression \n",
    "\n",
    "from sklearn.metrics import accuracy_score, f1_score,precision_score, recall_score"
   ]
  },
  {
   "cell_type": "code",
   "execution_count": 2,
   "metadata": {},
   "outputs": [],
   "source": [
    "parse_dates = ['CreatedDate', 'RequestedDate', 'AccTime', 'PupTime', 'DelTime']\n",
    "data = pd.read_csv('Booking_Dispatch_training_set.csv', parse_dates = parse_dates, \\\n",
    "                   date_parser = lambda x: pd.to_datetime(x).strftime(\"%Y-%m-%d %H:%M:%S\"))\n",
    "#read training dataset"
   ]
  },
  {
   "cell_type": "code",
   "execution_count": 3,
   "metadata": {},
   "outputs": [],
   "source": [
    "parse_dates2 = ['CreatedDate', 'RequestedDate']\n",
    "\n",
    "validation = pd.read_csv('Booking_Dispatch_validation_set.csv', parse_dates = parse_dates2, \\\n",
    "                   date_parser = lambda x: pd.to_datetime(x).strftime(\"%Y-%m-%d %H:%M:%S\"))\n",
    "#read validation dataset"
   ]
  },
  {
   "cell_type": "code",
   "execution_count": 4,
   "metadata": {},
   "outputs": [
    {
     "data": {
      "text/plain": [
       "(3000000, 37)"
      ]
     },
     "execution_count": 4,
     "metadata": {},
     "output_type": "execute_result"
    }
   ],
   "source": [
    "data.shape\n",
    "#checking training dataset shape"
   ]
  },
  {
   "cell_type": "code",
   "execution_count": 5,
   "metadata": {},
   "outputs": [
    {
     "data": {
      "text/plain": [
       "(300000, 17)"
      ]
     },
     "execution_count": 5,
     "metadata": {},
     "output_type": "execute_result"
    }
   ],
   "source": [
    "validation.shape\n",
    "#checking validation dataset shape"
   ]
  },
  {
   "cell_type": "code",
   "execution_count": 6,
   "metadata": {},
   "outputs": [
    {
     "data": {
      "text/plain": [
       "Completed    0.776306\n",
       "Cancelled    0.128554\n",
       "No Job       0.082690\n",
       "ELSE         0.012449\n",
       "Name: TargetVariable, dtype: float64"
      ]
     },
     "execution_count": 6,
     "metadata": {},
     "output_type": "execute_result"
    }
   ],
   "source": [
    "data['TargetVariable'].value_counts()/len(data)\n",
    "#checking target variable proportion"
   ]
  },
  {
   "cell_type": "code",
   "execution_count": 7,
   "metadata": {},
   "outputs": [],
   "source": [
    "# binary target: 'Cancelled'\n",
    "target_dict = {'Cancelled':1,'Completed':0,'ELSE':0,'No Job':0,}\n",
    "data['target_2cls_Cancelled'] = data['TargetVariable'].replace(target_dict)\n",
    "validation['target_2cls_Cancelled'] = validation['TargetVariable'].replace(target_dict)\n",
    "\n",
    "# binary target: 'Completed'\n",
    "target_dict = {'Cancelled':0,'Completed':1,'ELSE':0,'No Job':0,}\n",
    "data['target_2cls_Completed'] = data['TargetVariable'].replace(target_dict)\n",
    "validation['target_2cls_Completed'] = validation['TargetVariable'].replace(target_dict)\n",
    "\n",
    "# binary target: 'ELSE'\n",
    "target_dict = {'Cancelled':0,'Completed':0,'ELSE':1,'No Job':0,}\n",
    "data['target_2cls_ELSE'] = data['TargetVariable'].replace(target_dict)\n",
    "validation['target_2cls_ELSE'] = validation['TargetVariable'].replace(target_dict)\n",
    "\n",
    "# binary target: 'No Job'\n",
    "target_dict = {'Cancelled':0,'Completed':0,'ELSE':0,'No Job':1,}\n",
    "data['target_2cls_NoJob'] = data['TargetVariable'].replace(target_dict)\n",
    "validation['target_2cls_NoJob'] = validation['TargetVariable'].replace(target_dict)\n",
    "#create binary target for feature engineering"
   ]
  },
  {
   "cell_type": "code",
   "execution_count": 8,
   "metadata": {},
   "outputs": [],
   "source": [
    "target_dict2 = {\n",
    "    'Cancelled':0,\n",
    "    'Completed':1,\n",
    "    'No Job':2,\n",
    "    'ELSE':3,\n",
    "}\n",
    "\n",
    "data['target_4cls'] = data['TargetVariable'].replace(target_dict2)\n",
    "validation['target_4cls'] = validation['TargetVariable'].replace(target_dict2)\n",
    "#create multi class target for modelling"
   ]
  },
  {
   "cell_type": "code",
   "execution_count": 9,
   "metadata": {},
   "outputs": [
    {
     "data": {
      "text/plain": [
       "Index(['BookingID', 'BookingSource', 'Conditions', 'HasCondition',\n",
       "       'IsAccountBooking', 'CreatedDate', 'RequestedDate', 'BookingFleet',\n",
       "       'DispatchFleet', 'AreaNumber', 'PuPlace', 'PuAddress', 'PuSuburb',\n",
       "       'PuLat', 'PuLong', 'FinalDispatchStatus', 'TargetVariable',\n",
       "       'target_2cls_Cancelled', 'target_2cls_Completed', 'target_2cls_ELSE',\n",
       "       'target_2cls_NoJob', 'target_4cls'],\n",
       "      dtype='object')"
      ]
     },
     "execution_count": 9,
     "metadata": {},
     "output_type": "execute_result"
    }
   ],
   "source": [
    "validation.columns\n",
    "#check validation variables"
   ]
  },
  {
   "cell_type": "code",
   "execution_count": 10,
   "metadata": {},
   "outputs": [],
   "source": [
    "cols = ['BookingID', 'BookingSource', 'Conditions', 'HasCondition', 'IsAccountBooking', 'CreatedDate', 'RequestedDate', 'BookingFleet'\n",
    "        , 'DispatchFleet', 'AreaNumber', 'PuPlace', 'PuAddress', 'PuSuburb', 'PuLat', 'PuLong', 'TargetVariable','target_2cls_Cancelled','target_2cls_Completed','target_2cls_ELSE','target_2cls_NoJob','target_4cls']\n",
    "data = data[cols]\n",
    "validation=validation[cols]\n",
    "#use the variables that are available at booking"
   ]
  },
  {
   "cell_type": "markdown",
   "metadata": {},
   "source": [
    "# 2. Feature Engineering"
   ]
  },
  {
   "cell_type": "markdown",
   "metadata": {},
   "source": [
    "## 2.1 Suburb"
   ]
  },
  {
   "cell_type": "code",
   "execution_count": 11,
   "metadata": {},
   "outputs": [
    {
     "data": {
      "text/plain": [
       "<toad.transform.Combiner at 0x134c62a90>"
      ]
     },
     "execution_count": 11,
     "metadata": {},
     "output_type": "execute_result"
    }
   ],
   "source": [
    "c = toad.transform.Combiner()\n",
    "col = 'PuSuburb'\n",
    "c.fit(data[[col,'target_2cls_Completed']], y = 'target_2cls_Completed', method = 'chi',min_samples = 0.05)  \n",
    "#use toad package to binning suburbs based on complete rate"
   ]
  },
  {
   "cell_type": "code",
   "execution_count": 18,
   "metadata": {},
   "outputs": [
    {
     "data": {
      "text/plain": [
       "Text(0, 0.5, 'Proportion')"
      ]
     },
     "execution_count": 18,
     "metadata": {},
     "output_type": "execute_result"
    },
    {
     "data": {
      "image/png": "[encoded data removed]",
      "text/plain": [
       "<Figure size 864x432 with 2 Axes>"
      ]
     },
     "metadata": {},
     "output_type": "display_data"
    }
   ],
   "source": [
    "ax = bin_plot(c.transform(data[[col,'target_2cls_Completed']], labels=False), x=col, target='target_2cls_Completed')\n",
    "ax.set_title(\"Plot of binned suburbs based on complete rate\",fontweight='bold',fontsize=20)\n",
    "ax.set_xlabel(\"Bins of suburbs\")\n",
    "ax.set_ylabel(\"Proportion\")\n",
    "#visualize the binning result"
   ]
  },
  {
   "cell_type": "code",
   "execution_count": 20,
   "metadata": {},
   "outputs": [
    {
     "data": {
      "text/plain": [
       "Text(0, 0.5, 'Proportion')"
      ]
     },
     "execution_count": 20,
     "metadata": {},
     "output_type": "execute_result"
    },
    {
     "data": {
      "image/png": "[encoded data removed]",
      "text/plain": [
       "<Figure size 864x432 with 2 Axes>"
      ]
     },
     "metadata": {},
     "output_type": "display_data"
    }
   ],
   "source": [
    "ax = bin_plot(c.transform(validation[[col,'target_2cls_Completed']], labels=False), x=col, target='target_2cls_Completed')\n",
    "ax.set_title(\"Plot of binned suburbs based on complete rate on validation set\",fontweight='bold',fontsize=20)\n",
    "ax.set_xlabel(\"Bins of suburbs\")\n",
    "ax.set_ylabel(\"Proportion\")\n",
    "#visualize the binning result on validation set "
   ]
  },
  {
   "cell_type": "code",
   "execution_count": 21,
   "metadata": {},
   "outputs": [
    {
     "data": {
      "text/plain": [
       "{'PuSuburb': [['Bathurst',\n",
       "   'Lithgow',\n",
       "   'Brownlow Hill',\n",
       "   'South Maroota',\n",
       "   'Pitt Town',\n",
       "   'Clarendon',\n",
       "   'Lansdowne',\n",
       "   'Windsor',\n",
       "   'Hobartville',\n",
       "   'Wollongong',\n",
       "   'Bowenfels',\n",
       "   'Glenmore',\n",
       "   'South Windsor',\n",
       "   'Audley',\n",
       "   'Douglas Park',\n",
       "   'Warrimoo',\n",
       "   'Balmoral (South)',\n",
       "   'Gosford',\n",
       "   'Scotland Island',\n",
       "   'Ku-Ring-Gai Chase',\n",
       "   'Ebenezer',\n",
       "   'Londonderry',\n",
       "   'Cottage Point',\n",
       "   'Wilton',\n",
       "   'Oakdale',\n",
       "   'Berkshire Park',\n",
       "   'Cattai',\n",
       "   'Palm Beach',\n",
       "   'Whale Beach',\n",
       "   'Springwood',\n",
       "   'Oakville',\n",
       "   'Mulgrave',\n",
       "   'Mcgraths Hill',\n",
       "   'Shanes Park',\n",
       "   'The Oaks',\n",
       "   'Port Kembla',\n",
       "   'REGENTS PARK',\n",
       "   'Sun Valley',\n",
       "   'Werombi',\n",
       "   'Lakesland',\n",
       "   'Kelso',\n",
       "   'Hill Top (North)',\n",
       "   'HAYMARKET',\n",
       "   'Belimbla Park',\n",
       "   'Kurmond',\n",
       "   'Vineyard',\n",
       "   'Bligh Park',\n",
       "   'Mount Vernon',\n",
       "   'Agnes Banks',\n",
       "   'Winmalee',\n",
       "   'Windsor Downs',\n",
       "   'Castlereagh',\n",
       "   'Shalvey',\n",
       "   'Bringelly',\n",
       "   'WEST HOXTON',\n",
       "   'Bilgola Beach',\n",
       "   'Thirroul',\n",
       "   'Wallerawang',\n",
       "   'Maroota',\n",
       "   'Bellambi',\n",
       "   'Badgerys Creek',\n",
       "   'Balgownie',\n",
       "   'Balmoral',\n",
       "   'Middle Harbour',\n",
       "   'Maraylya',\n",
       "   'Berkeley',\n",
       "   'Warilla',\n",
       "   'Rydal',\n",
       "   'Tarrawanna',\n",
       "   'BAYVIEW',\n",
       "   'LILLI PILLI',\n",
       "   'Careel Bay',\n",
       "   'South Bathurst',\n",
       "   'Clareville',\n",
       "   'Willmot',\n",
       "   'Royal National Park',\n",
       "   'Cecil Park',\n",
       "   'Avalon Beach',\n",
       "   'Berrilee',\n",
       "   'Mulgoa',\n",
       "   'Mount Riverview',\n",
       "   'Bidwill',\n",
       "   'Tregear',\n",
       "   'Rossmore',\n",
       "   'Emerton',\n",
       "   'Faulconbridge',\n",
       "   'Picton',\n",
       "   'Werrington',\n",
       "   'WOLLI CREEK',\n",
       "   'BANKSTOWN',\n",
       "   'Kemps Creek',\n",
       "   'Lethbridge Park',\n",
       "   'Riverstone',\n",
       "   'Lapstone',\n",
       "   'Blackett',\n",
       "   'Ropes Crossing',\n",
       "   'Glenorie',\n",
       "   'Wallacia',\n",
       "   'Kingswood Park',\n",
       "   'St Marys',\n",
       "   'Cambridge Gardens',\n",
       "   'Luddenham',\n",
       "   'Duffys Forest',\n",
       "   'Berowra Waters',\n",
       "   'Cowan',\n",
       "   'Avalon',\n",
       "   'Annangrove',\n",
       "   'Horsley Park',\n",
       "   'Hebersham',\n",
       "   'Bilgola Plateau',\n",
       "   'Richmond',\n",
       "   'Cranebrook',\n",
       "   'Kentlyn',\n",
       "   'Colyton',\n",
       "   'Newport',\n",
       "   'Whalan',\n",
       "   'St Clair',\n",
       "   'Camden Park',\n",
       "   'North St Marys',\n",
       "   'Barangaroo',\n",
       "   'Cawdor',\n",
       "   'Razorback',\n",
       "   'Dharruk',\n",
       "   'Little Hartley',\n",
       "   'MERRYLANDS',\n",
       "   'QUAKERS HILL',\n",
       "   'KANGAROO POINT',\n",
       "   'MONTEREY',\n",
       "   'KEARNS',\n",
       "   'Mount Warrigal',\n",
       "   'MOUNT VICTORIA',\n",
       "   'CARLTON',\n",
       "   'LIBERTY GROVE',\n",
       "   'TERREY HILLS',\n",
       "   'DOONSIDE',\n",
       "   'LOFTUS',\n",
       "   'LURNEA',\n",
       "   'MILLER',\n",
       "   'KELLYVILLE RIDGE',\n",
       "   'Mckellars Park',\n",
       "   'Cringila',\n",
       "   'Morts Estate',\n",
       "   'COLEBEE',\n",
       "   'Kingswood (North)',\n",
       "   'KYEEMAGH',\n",
       "   'Mount Pleasant',\n",
       "   'MERRYLANDS WEST',\n",
       "   'HURSTVILLE GROVE',\n",
       "   'DENHAM COURT',\n",
       "   'Lemongrove',\n",
       "   'Hurstville South',\n",
       "   'West Bathurst',\n",
       "   'Mount Ousley',\n",
       "   'Maldon',\n",
       "   'Mittagong',\n",
       "   'darling harbour',\n",
       "   'Bobbin Head',\n",
       "   'ROUSE HILL',\n",
       "   'BANGOR',\n",
       "   'WALSH BAY',\n",
       "   'BARANGAROO',\n",
       "   'WOOLOOWARE',\n",
       "   'REGENTVILLE',\n",
       "   'GLENFIELD',\n",
       "   'VINEYARD',\n",
       "   'GRAYS POINT',\n",
       "   'Pitt Town Bottoms',\n",
       "   'GREEN VALLEY',\n",
       "   'BEXLEY NORTH',\n",
       "   'GREENFIELD PARK',\n",
       "   'EAST HILLS',\n",
       "   'Glenbrook',\n",
       "   'Woonona',\n",
       "   'BONNET BAY',\n",
       "   'Randwick NSW',\n",
       "   'GEORGES HALL',\n",
       "   'AIRDS',\n",
       "   'Eglinton',\n",
       "   'AMBARVALE',\n",
       "   'ST ANDREWS',\n",
       "   'SPRING FARM',\n",
       "   'Yellow Rock',\n",
       "   'SCHOFIELDS',\n",
       "   'YARRAWARRAH',\n",
       "   'SYLVANIA WATERS',\n",
       "   'Akuna Bay',\n",
       "   'Albion Park Rail',\n",
       "   'GALSTON',\n",
       "   'East Gordon',\n",
       "   'East Corrimal',\n",
       "   'Richmond RAAF',\n",
       "   'GLENDENNING',\n",
       "   'EAGLE VALE',\n",
       "   'BARDEN RIDGE',\n",
       "   'DURAL',\n",
       "   'HARRIS PARK',\n",
       "   'ORAN PARK',\n",
       "   'HAMMONDVILLE',\n",
       "   'Windradyne',\n",
       "   'OLD TOONGABBIE',\n",
       "   'OATLEY',\n",
       "   'OAKHURST',\n",
       "   'Grenfell',\n",
       "   'HECKENBERG',\n",
       "   'North Cronulla',\n",
       "   'Oberon',\n",
       "   'Nattai',\n",
       "   'DUNDAS',\n",
       "   'Dobroyd Point',\n",
       "   'WESTMEAD',\n",
       "   'Gormans Hill',\n",
       "   'BUSBY',\n",
       "   'WOODCROFT',\n",
       "   'NORTH PARRAMATTA',\n",
       "   'White Bay',\n",
       "   'BURRANEER',\n",
       "   'HENLEY',\n",
       "   'Glenmore Park',\n",
       "   'Claremont Meadows',\n",
       "   'Darling Harbour',\n",
       "   'Orchard Hills',\n",
       "   'Kurnell',\n",
       "   'Claymore',\n",
       "   'Austral',\n",
       "   'Villawood',\n",
       "   'Bargo',\n",
       "   'Regentville',\n",
       "   'Llandilo',\n",
       "   'Catherine Field',\n",
       "   'Emu Heights',\n",
       "   'Buxton',\n",
       "   'Dawes Point',\n",
       "   'Linden',\n",
       "   'Erskine Park',\n",
       "   'SYDNEY',\n",
       "   'Brooklyn',\n",
       "   'Greenhills Beach',\n",
       "   'Rouse Hill',\n",
       "   'Cambridge Park',\n",
       "   'Emu Plains',\n",
       "   'GLENHAVEN',\n",
       "   'Walsh Bay',\n",
       "   'Bilgola',\n",
       "   'Chester Hill',\n",
       "   'Schofields',\n",
       "   'Oxley Park',\n",
       "   'Appin',\n",
       "   'Penrith',\n",
       "   'Lucas Heights',\n",
       "   'Box Hill',\n",
       "   'Millers Point',\n",
       "   'Camden South',\n",
       "   'Kingswood',\n",
       "   'Mount Druitt',\n",
       "   'Engadine',\n",
       "   'Jordan Springs',\n",
       "   'Tahmoor',\n",
       "   'Len Waters Estate',\n",
       "   'Bass Hill',\n",
       "   'Yarrawarrah',\n",
       "   'Kellyville Ridge',\n",
       "   'Elderslie',\n",
       "   'JORDAN SPRINGS',\n",
       "   'Woronora',\n",
       "   'Plumpton',\n",
       "   'Caddens',\n",
       "   'Camden',\n",
       "   'Menangle Park',\n",
       "   'Oran Park',\n",
       "   'Regents Park',\n",
       "   'Hassall Grove',\n",
       "   'Orangeville',\n",
       "   'East Botany',\n",
       "   'Church Point',\n",
       "   'Narellan',\n",
       "   'Thirlmere',\n",
       "   'Maianbar',\n",
       "   'The Spit',\n",
       "   'Sydney',\n",
       "   'Old Guildford',\n",
       "   'Mona Vale',\n",
       "   'Heathcote',\n",
       "   'Grasmere',\n",
       "   'Gledswood Hills',\n",
       "   'Illawong',\n",
       "   'Abbotsbury',\n",
       "   'Wentworth Falls',\n",
       "   'Greenfield Park',\n",
       "   'Colebee',\n",
       "   'South Penrith',\n",
       "   'Harbord',\n",
       "   'BONNYRIGG',\n",
       "   'PEMULWUY',\n",
       "   'LEUMEAH',\n",
       "   'CARRAMAR',\n",
       "   'SOUTH HURSTVILLE',\n",
       "   'WILEY PARK',\n",
       "   'Fiddletown',\n",
       "   'Pheasants Nest',\n",
       "   'BEVERLEY PARK',\n",
       "   'BERALA',\n",
       "   'Wedderburn',\n",
       "   'MINTO',\n",
       "   'Bayview',\n",
       "   'Sydney Airport',\n",
       "   'Wetherill Park',\n",
       "   'Dean Park',\n",
       "   'Minchinbury',\n",
       "   'Spring Farm',\n",
       "   'Werrington County',\n",
       "   'AUBURN',\n",
       "   'Kenthurst'],\n",
       "  ['Menai',\n",
       "   'Mount Hunter',\n",
       "   'GUILDFORD',\n",
       "   'Nelson',\n",
       "   'Greendale',\n",
       "   'The Rocks',\n",
       "   'Guildford West',\n",
       "   'Ingleside',\n",
       "   'Haymarket',\n",
       "   'Edensor Park',\n",
       "   'Smithfield',\n",
       "   'Sefton',\n",
       "   'North Narrabeen',\n",
       "   'Leonay',\n",
       "   'MILLERS POINT',\n",
       "   'Waterfall',\n",
       "   'Oakhurst',\n",
       "   'Fairfield',\n",
       "   'Birrong',\n",
       "   'Leppington',\n",
       "   'Alfords Point',\n",
       "   'Guildford',\n",
       "   'Eagle Vale',\n",
       "   'COLLAROY',\n",
       "   'PRESTONS',\n",
       "   'Old Toongabbie',\n",
       "   'PARRAMATTA',\n",
       "   'Yagoona',\n",
       "   'Carnes Hill',\n",
       "   'Kings Cross',\n",
       "   'Bungarribee',\n",
       "   'Edmondson Park',\n",
       "   'MANLY VALE',\n",
       "   'NARRAWEENA',\n",
       "   'Strathfield West',\n",
       "   'Quakers Hill',\n",
       "   'Eastern Creek',\n",
       "   'Narellan Vale',\n",
       "   'Merrylands',\n",
       "   'Berowra',\n",
       "   'Georges Hall',\n",
       "   'Woronora Heights',\n",
       "   'Kirkham',\n",
       "   'ILLAWONG',\n",
       "   'Telopea',\n",
       "   'Rooty Hill',\n",
       "   'Lalor Park',\n",
       "   'CROMER',\n",
       "   'Warriewood',\n",
       "   'Gregory Hills',\n",
       "   'Galston',\n",
       "   'Greystanes',\n",
       "   'Wheeler Heights',\n",
       "   'MASCOT',\n",
       "   'Terrey Hills',\n",
       "   'Bossley Park',\n",
       "   'Leura',\n",
       "   'Fairfield East',\n",
       "   'Toongabbie',\n",
       "   'Pemulwuy',\n",
       "   'Collaroy',\n",
       "   'Parramatta',\n",
       "   'Mount Annan',\n",
       "   'Pendle Hill',\n",
       "   'The Ponds',\n",
       "   'Bundeena',\n",
       "   'Doonside',\n",
       "   'Mascot',\n",
       "   'Katoomba',\n",
       "   'South Turramurra',\n",
       "   'ST MARYS'],\n",
       "  ['SOUTH TURRAMURRA',\n",
       "   'SILVERWATER',\n",
       "   'SYDNEY OLYMPIC PARK',\n",
       "   'THE PONDS',\n",
       "   'GREGORY HILLS',\n",
       "   'MACQUARIE LINKS',\n",
       "   'MEADOWBANK',\n",
       "   'KINGS LANGLEY',\n",
       "   'Megalong Valley',\n",
       "   'Theresa Park',\n",
       "   'Hartley',\n",
       "   'Rose Bay North',\n",
       "   'NEWPORT',\n",
       "   'NORTH EPPING',\n",
       "   'TOONGABBIE',\n",
       "   'North St Ives',\n",
       "   'PENDLE HILL',\n",
       "   'PENSHURST',\n",
       "   'PUNCHBOWL',\n",
       "   'HOMEBUSH WEST',\n",
       "   'MONA VALE',\n",
       "   'HARRINGTON PARK',\n",
       "   'SUTHERLAND',\n",
       "   'DAVIDSON',\n",
       "   'WORONORA',\n",
       "   'CONDELL PARK',\n",
       "   'COMO',\n",
       "   'CHESTER HILL',\n",
       "   'CARINGBAH SOUTH',\n",
       "   'CARINGBAH',\n",
       "   'CANLEY VALE',\n",
       "   'WENTWORTHVILLE',\n",
       "   'CABRAMATTA WEST',\n",
       "   'WARRIEWOOD',\n",
       "   'BILGOLA PLATEAU',\n",
       "   'BELLA VISTA',\n",
       "   'BANKSMEADOW',\n",
       "   'CABRAMATTA',\n",
       "   'AVALON BEACH',\n",
       "   'ALLAWAH',\n",
       "   'ARCADIA',\n",
       "   'Collaroy Plateau',\n",
       "   'Berowra Heights',\n",
       "   'Bardia',\n",
       "   'Arcadia',\n",
       "   'Homebush Bay',\n",
       "   'Prospect',\n",
       "   'Fairfield Heights',\n",
       "   'Elanora Heights',\n",
       "   'St. Ives',\n",
       "   'Lilli Pilli',\n",
       "   'Glenhaven',\n",
       "   'Narrabeen',\n",
       "   'Beaumont Hills',\n",
       "   'Eastgardens',\n",
       "   'Jamisontown',\n",
       "   'Brookvale',\n",
       "   'Prairiewood',\n",
       "   'Granville',\n",
       "   'Voyager Point',\n",
       "   'LONGUEVILLE',\n",
       "   'Bangor',\n",
       "   'Mount Lewis',\n",
       "   'Cromer',\n",
       "   'HILLSDALE',\n",
       "   'Stanhope Gardens',\n",
       "   'Canley Heights',\n",
       "   'Seven Hills',\n",
       "   'Denham Court',\n",
       "   'BELROSE',\n",
       "   'Cobbitty',\n",
       "   'Macquarie Park',\n",
       "   'Sutherland',\n",
       "   'East Hills',\n",
       "   'Holroyd',\n",
       "   'Sydney Olympic Park',\n",
       "   'Fairfield West',\n",
       "   'Brighton-Le-Sands',\n",
       "   'Winston Hills',\n",
       "   'Merrylands West',\n",
       "   'Valley Heights',\n",
       "   'Oxford Falls',\n",
       "   'Cronulla',\n",
       "   'Kearns',\n",
       "   'Dee Why',\n",
       "   'Kellyville',\n",
       "   'Woodpark',\n",
       "   'Riverwood',\n",
       "   'Westmead',\n",
       "   'Ambarvale',\n",
       "   'Davidson',\n",
       "   'Clyde',\n",
       "   'St Ives Chase',\n",
       "   'Constitution Hill',\n",
       "   'Moore Park',\n",
       "   'Airds',\n",
       "   'SANS SOUCI',\n",
       "   'CASULA',\n",
       "   'South Granville',\n",
       "   'Wentworthville',\n",
       "   'Harris Park',\n",
       "   'Canley Vale',\n",
       "   'North Balgowlah',\n",
       "   'Pyrmont',\n",
       "   'EVELEIGH',\n",
       "   'Ramsgate',\n",
       "   'Circular Quay',\n",
       "   'St Johns Park',\n",
       "   'Manly',\n",
       "   'Currans Hill',\n",
       "   'Marsfield',\n",
       "   'Yennora',\n",
       "   'Kings Park',\n",
       "   'Bonnet Bay',\n",
       "   'Holsworthy',\n",
       "   'Bankstown',\n",
       "   'Lansvale',\n",
       "   'Panania',\n",
       "   'Marayong',\n",
       "   'Middleton Grange',\n",
       "   'Homebush',\n",
       "   'Revesby',\n",
       "   'Chippendale',\n",
       "   'Werrington Downs',\n",
       "   'Milperra',\n",
       "   'Cabramatta',\n",
       "   'Barden Ridge',\n",
       "   'Killarney Heights',\n",
       "   'Linley Point',\n",
       "   'RYDALMERE',\n",
       "   'BEVERLY HILLS',\n",
       "   'MOUNT KURING-GAI',\n",
       "   'Boronia Park',\n",
       "   'NORTH TURRAMURRA',\n",
       "   'Watsons Bay',\n",
       "   'Manly Vale',\n",
       "   'Castle Hill',\n",
       "   'Jannali',\n",
       "   'South Wentworthville',\n",
       "   'Marsden Park',\n",
       "   'Baulkham Hills',\n",
       "   'Padstow',\n",
       "   'North Manly',\n",
       "   'Blacktown',\n",
       "   'Connells Point',\n",
       "   'Surry Hills',\n",
       "   'Kareela',\n",
       "   'Middle Dural',\n",
       "   'Elizabeth Hills',\n",
       "   'Rosehill',\n",
       "   'Mays Hill',\n",
       "   'Bella Vista',\n",
       "   'Harrington Park',\n",
       "   'Wakeley',\n",
       "   'Hammondville',\n",
       "   'Parklea',\n",
       "   'Punchbowl',\n",
       "   'West Hoxton',\n",
       "   'Leumeah',\n",
       "   'Sydenham',\n",
       "   'Beverly Hills',\n",
       "   'Darlinghurst',\n",
       "   'Warwick Farm',\n",
       "   'Glenfield',\n",
       "   'Ellis Lane',\n",
       "   'East Sydney',\n",
       "   'Minto Heights'],\n",
       "  ['Freshwater',\n",
       "   'Sandringham',\n",
       "   'Arndell Park',\n",
       "   'Hoxton Park',\n",
       "   'Northmead',\n",
       "   'Garden Island',\n",
       "   'Penshurst',\n",
       "   'THE ROCKS',\n",
       "   'Glenwood',\n",
       "   'Frenchs Forest',\n",
       "   'Woodcroft',\n",
       "   'Carss Park',\n",
       "   'Burraneer',\n",
       "   'Picnic Point',\n",
       "   'North Turramurra',\n",
       "   'Miller',\n",
       "   'Belrose',\n",
       "   'Kogarah Bay',\n",
       "   'Potts Hill',\n",
       "   'Zetland',\n",
       "   'Blairmount',\n",
       "   'Wolli Creek',\n",
       "   'Kirrawee',\n",
       "   'Pleasure Point',\n",
       "   'Varroville',\n",
       "   'Berala',\n",
       "   'Sylvania Waters',\n",
       "   'Concord west',\n",
       "   'Como',\n",
       "   'North Parramatta',\n",
       "   'Grays Point',\n",
       "   'Ultimo',\n",
       "   'University Of Nsw',\n",
       "   'Cecil Hills',\n",
       "   'Chipping Norton',\n",
       "   'Oyster Bay',\n",
       "   'Gilead',\n",
       "   'Bonnyrigg',\n",
       "   'CHIPPENDALE',\n",
       "   'Curl Curl',\n",
       "   'Hazelbrook',\n",
       "   'Balgowlah Heights',\n",
       "   'Lawson',\n",
       "   'Rookwood',\n",
       "   'Mount Pritchard',\n",
       "   'Waterloo',\n",
       "   'Silverwater',\n",
       "   'Raby',\n",
       "   'Casula',\n",
       "   'Balgowlah',\n",
       "   'Peakhurst Heights',\n",
       "   'Carlingford',\n",
       "   'Wiley Park',\n",
       "   'Revesby Heights',\n",
       "   'Minto',\n",
       "   'Campbelltown',\n",
       "   'Woolooware',\n",
       "   'Wentworth Point',\n",
       "   'Eveleigh',\n",
       "   'Narraweena',\n",
       "   'Dural',\n",
       "   'Gymea Bay',\n",
       "   'Blakehurst',\n",
       "   'MENAI',\n",
       "   'PAGEWOOD',\n",
       "   'ROOTY HILL',\n",
       "   'PICNIC POINT',\n",
       "   'NORMANHURST',\n",
       "   'DUNDAS VALLEY',\n",
       "   'CARNES HILL',\n",
       "   'RAMSGATE',\n",
       "   'GREENHILLS BEACH',\n",
       "   'MIRANDA',\n",
       "   'ASQUITH',\n",
       "   'BLAKEHURST',\n",
       "   'KIRRAWEE',\n",
       "   'BLACKTOWN',\n",
       "   'KOGARAH',\n",
       "   'STANHOPE GARDENS',\n",
       "   'GYMEA',\n",
       "   'WARRAWEE',\n",
       "   'Couridjah',\n",
       "   'ASHCROFT',\n",
       "   'GLEDSWOOD HILLS',\n",
       "   'KELLYVILLE',\n",
       "   'GYMEA BAY',\n",
       "   'KAREELA',\n",
       "   'EAST RYDE',\n",
       "   'NORTHMEAD',\n",
       "   'Kings Langley',\n",
       "   'Rockdale',\n",
       "   'Peakhurst',\n",
       "   'Eschol Park',\n",
       "   'Bonnyrigg Heights',\n",
       "   'Sans Souci',\n",
       "   'Gymea',\n",
       "   'Kyeemagh',\n",
       "   'Rosemeadow',\n",
       "   'Oatley',\n",
       "   'Miranda',\n",
       "   'Hurstville',\n",
       "   'Auburn',\n",
       "   'Bullaburra',\n",
       "   'Bow Bowing',\n",
       "   'Ashcroft',\n",
       "   'Pennant Hills',\n",
       "   'North Rocks',\n",
       "   'Girraween',\n",
       "   'Loftus',\n",
       "   'Kyle Bay',\n",
       "   'Sylvania',\n",
       "   'Caringbah',\n",
       "   'Beacon Hill',\n",
       "   'Liverpool',\n",
       "   'CASTLE HILL',\n",
       "   'North Wahroonga',\n",
       "   'St Helens Park',\n",
       "   'Narwee',\n",
       "   'Horningsea Park',\n",
       "   'Turrella',\n",
       "   'Homebush West',\n",
       "   'Carramar',\n",
       "   'Acacia Gardens',\n",
       "   'Blair Athol'],\n",
       "  ['Queenscliff',\n",
       "   'Wattle Grove',\n",
       "   'Woolloomooloo',\n",
       "   'DEE WHY',\n",
       "   'Greenacre',\n",
       "   'Carlton',\n",
       "   'Potts Point',\n",
       "   'Dolls Point',\n",
       "   'Rushcutters Bay',\n",
       "   'Lugarno',\n",
       "   'Lakemba',\n",
       "   'Clontarf',\n",
       "   'Redfern',\n",
       "   'Lidcombe',\n",
       "   'Bradbury',\n",
       "   'Woodford',\n",
       "   'Condell Park',\n",
       "   'CURL CURL',\n",
       "   'OYSTER BAY',\n",
       "   'WOOLLOOMOOLOO',\n",
       "   'CRONULLA',\n",
       "   'Blue Mountains National Park',\n",
       "   'Bondi Junction',\n",
       "   'Allawah',\n",
       "   'Cherrybrook',\n",
       "   'Dundas Valley',\n",
       "   'Glen Alpine',\n",
       "   'Fairlight',\n",
       "   'KILLARNEY HEIGHTS',\n",
       "   'Belmore',\n",
       "   'Monterey',\n",
       "   'Melrose Park',\n",
       "   'North Ryde',\n",
       "   'Arncliffe',\n",
       "   'North Curl Curl',\n",
       "   'South Hurstville',\n",
       "   'Roselands',\n",
       "   'St Andrews',\n",
       "   'INGLEBURN',\n",
       "   'EASTWOOD',\n",
       "   'Prestons',\n",
       "   'Menangle',\n",
       "   'Bexley North',\n",
       "   'Clemton Park',\n",
       "   'Rhodes',\n",
       "   'Epping',\n",
       "   'Caringbah South',\n",
       "   'Padstow Heights',\n",
       "   'Dolans Bay',\n",
       "   'Flemington',\n",
       "   'Darlington',\n",
       "   'LAKEMBA',\n",
       "   'Diamond Bay',\n",
       "   'NORTH STRATHFIELD',\n",
       "   'SEAFORTH',\n",
       "   'Hartley Vale',\n",
       "   'HUNTLEYS POINT',\n",
       "   'Allambie Heights',\n",
       "   'Canterbury',\n",
       "   'BALGOWLAH',\n",
       "   'Taren Point',\n",
       "   'Forestville',\n",
       "   'Ruse',\n",
       "   'Gordon',\n",
       "   'NORTH MANLY',\n",
       "   'Banksia',\n",
       "   'Green Valley',\n",
       "   'Mount Victoria',\n",
       "   'Bondi Beach',\n",
       "   'Double Bay',\n",
       "   'Ramsgate Beach',\n",
       "   'Sandy Point',\n",
       "   'ULTIMO',\n",
       "   'HURLSTONE PARK',\n",
       "   'ROSELANDS',\n",
       "   'Ingleburn',\n",
       "   'Kingsgrove',\n",
       "   'Oatlands',\n",
       "   'Alexandria',\n",
       "   'Kogarah',\n",
       "   'BALGOWLAH HEIGHTS',\n",
       "   'Warrawee',\n",
       "   'Longueville',\n",
       "   'Heckenberg',\n",
       "   'Chullora',\n",
       "   'Cabramatta West',\n",
       "   'La Perouse',\n",
       "   'Glebe Point',\n",
       "   'Newtown',\n",
       "   'CONCORD WEST',\n",
       "   'Eastlakes',\n",
       "   'Bankstown Aerodrome',\n",
       "   'Long Point',\n",
       "   'Westleigh',\n",
       "   'Milsons Point',\n",
       "   'Phillip Bay',\n",
       "   'Woolwich',\n",
       "   'St Peters',\n",
       "   'Bexley',\n",
       "   'Beverley Park',\n",
       "   'MANLY',\n",
       "   'Cartwright',\n",
       "   'Sadleir',\n",
       "   'Macquarie Fields',\n",
       "   'Seaforth',\n",
       "   'Mortdale',\n",
       "   'Busby',\n",
       "   'Bardwell Valley',\n",
       "   'Mount Kuring-Gai'],\n",
       "  ['ENFIELD',\n",
       "   'NORTH ROCKS',\n",
       "   'NORTH WAHROONGA',\n",
       "   'SMITHFIELD',\n",
       "   'CAMPBELLTOWN',\n",
       "   'DACEYVILLE',\n",
       "   'BEXLEY',\n",
       "   'FORESTVILLE',\n",
       "   'MOORE PARK',\n",
       "   'MOUNT ANNAN',\n",
       "   'MOUNT COLAH',\n",
       "   'GREYSTANES',\n",
       "   'REVESBY',\n",
       "   'MOUNT PRITCHARD',\n",
       "   'ROSEVILLE CHASE',\n",
       "   'WESTLEIGH',\n",
       "   'OATLANDS',\n",
       "   'HINCHINBROOK',\n",
       "   'HOLSWORTHY',\n",
       "   'GLENMORE PARK',\n",
       "   'PEAKHURST',\n",
       "   'Cabarita',\n",
       "   'Camperdown',\n",
       "   'Yowie Bay',\n",
       "   'Burwood',\n",
       "   'Denistone West',\n",
       "   'Strathfield',\n",
       "   'Sydney University',\n",
       "   'West Pennant Hills',\n",
       "   'Dundas',\n",
       "   'Malabar',\n",
       "   'North Strathfield',\n",
       "   'Belfield',\n",
       "   'North Sydney',\n",
       "   'Eastwood',\n",
       "   'Edgecliff',\n",
       "   'Normanhurst',\n",
       "   'Lurnea',\n",
       "   'Rydalmere',\n",
       "   'Beecroft',\n",
       "   'Ermington',\n",
       "   'PYMBLE',\n",
       "   'Chatswood',\n",
       "   'Woodbine',\n",
       "   'West Ryde',\n",
       "   'Ryde',\n",
       "   'Strathfield South',\n",
       "   'Kingsford',\n",
       "   'Newington',\n",
       "   'Botany',\n",
       "   'Liberty Grove',\n",
       "   'MACQUARIE PARK',\n",
       "   'Hurlstone Park',\n",
       "   'Centennial Park',\n",
       "   'Meadowbank',\n",
       "   'Kensington',\n",
       "   'FRESHWATER',\n",
       "   'Moorebank',\n",
       "   'Tempe',\n",
       "   'Turramurra',\n",
       "   'Hillsdale',\n",
       "   'Pymble',\n",
       "   'NORTH CURL CURL',\n",
       "   'DAWES POINT',\n",
       "   'Macquarie University',\n",
       "   'LANE COVE WEST',\n",
       "   'Bondi',\n",
       "   'Hornsby Heights',\n",
       "   'Denistone East',\n",
       "   'Erskineville',\n",
       "   'Little Bay',\n",
       "   'Thornleigh',\n",
       "   'Earlwood',\n",
       "   'Cheltenham',\n",
       "   'HORNSBY HEIGHTS',\n",
       "   'FRENCHS FOREST',\n",
       "   'Hinchinbrook',\n",
       "   'Enfield',\n",
       "   'Wahroonga',\n",
       "   'East Ryde',\n",
       "   'Pagewood',\n",
       "   'Huntingwood',\n",
       "   'North Bondi',\n",
       "   'SOUTH COOGEE'],\n",
       "  ['BRADBURY',\n",
       "   'Camellia',\n",
       "   'Lindfield',\n",
       "   'Matraville',\n",
       "   'Castle Cove',\n",
       "   'NORTH BALGOWLAH',\n",
       "   'Waitara',\n",
       "   'Killara',\n",
       "   'Chifley',\n",
       "   'Concord West',\n",
       "   'Hurstville Grove',\n",
       "   'Rose Bay',\n",
       "   'St Leonards',\n",
       "   'Forest Lodge',\n",
       "   'North Epping',\n",
       "   'Vaucluse',\n",
       "   'Maroubra',\n",
       "   'Mortlake',\n",
       "   'TURRELLA',\n",
       "   'QUEENSCLIFF',\n",
       "   'COLLAROY PLATEAU',\n",
       "   'LINLEY POINT',\n",
       "   'EASTLAKES',\n",
       "   'REVESBY HEIGHTS',\n",
       "   'EPPING',\n",
       "   'WARWICK FARM',\n",
       "   'GLENWOOD',\n",
       "   'DENISTONE',\n",
       "   'CANLEY HEIGHTS',\n",
       "   'ST PETERS',\n",
       "   'Campsie',\n",
       "   'Blackheath',\n",
       "   'Medlow Bath',\n",
       "   'St Ives',\n",
       "   'ST IVES',\n",
       "   'ALEXANDRIA',\n",
       "   'Clifton Gardens',\n",
       "   'Northwood',\n",
       "   'Glebe',\n",
       "   'Marrickville',\n",
       "   'Lane Cove',\n",
       "   'Balmoral Beach',\n",
       "   'Petersham',\n",
       "   'Glendenning',\n",
       "   'Enmore',\n",
       "   'East Wahroonga',\n",
       "   'Elizabeth Bay',\n",
       "   'Putney',\n",
       "   'RIVERVIEW',\n",
       "   'Rosebery',\n",
       "   'Lane Cove West',\n",
       "   'Randwick',\n",
       "   'Riverview',\n",
       "   'Dover Heights',\n",
       "   'Concord',\n",
       "   'Mount Colah',\n",
       "   'STRATHFIELD',\n",
       "   'McMahons Point',\n",
       "   'Chatswood West',\n",
       "   'TAMARAMA',\n",
       "   'West Pymble',\n",
       "   'Waverley',\n",
       "   'Ashfield',\n",
       "   'Lewisham',\n",
       "   'Megalong',\n",
       "   'BEROWRA',\n",
       "   'Breakfast Point',\n",
       "   'East Killara',\n",
       "   'Leichhardt',\n",
       "   'South Coogee',\n",
       "   'PUTNEY',\n",
       "   'RUSHCUTTERS BAY',\n",
       "   'Bardwell Park',\n",
       "   'Coogee',\n",
       "   'Rozelle',\n",
       "   'NORTH RYDE',\n",
       "   'Summer Hill',\n",
       "   'Mosman',\n",
       "   'Paddington',\n",
       "   'CHISWICK',\n",
       "   'Dulwich Hill',\n",
       "   'RYDE',\n",
       "   'Roseville Chase',\n",
       "   'NEWINGTON',\n",
       "   'Marrickville South',\n",
       "   'CONNELLS POINT',\n",
       "   'Hornsby',\n",
       "   'Tamarama',\n",
       "   'Croydon Park',\n",
       "   'FOREST LODGE',\n",
       "   'Woollahra',\n",
       "   'Haberfield',\n",
       "   'Port Botany',\n",
       "   'Dangar Island',\n",
       "   'Stanmore',\n",
       "   'MATRAVILLE',\n",
       "   'Lane Cove North',\n",
       "   'Crows Nest',\n",
       "   'MIDDLE COVE',\n",
       "   'WATSONS BAY',\n",
       "   'THORNLEIGH',\n",
       "   'ARNCLIFFE',\n",
       "   'BONNYRIGG HEIGHTS',\n",
       "   'Englorie Park',\n",
       "   'TELOPEA',\n",
       "   'NARRABEEN',\n",
       "   'PADSTOW',\n",
       "   'WATTLE GROVE',\n",
       "   'DOVER HEIGHTS',\n",
       "   'BEACON HILL',\n",
       "   'SYDENHAM',\n",
       "   'SEVEN HILLS',\n",
       "   'Burwood Heights',\n",
       "   'Roseville',\n",
       "   'Ashbury',\n",
       "   'Balmain East',\n",
       "   'Macquarie Links',\n",
       "   'Five Dock'],\n",
       "  ['Beaconsfield',\n",
       "   'LINDFIELD',\n",
       "   'Croydon',\n",
       "   'CLOVELLY',\n",
       "   'Canada Bay',\n",
       "   'CLONTARF',\n",
       "   'Banksmeadow',\n",
       "   'Clovelly',\n",
       "   'RHODES',\n",
       "   'Neutral Bay',\n",
       "   'Port Hacking',\n",
       "   'Georges Heights',\n",
       "   'TEMPE',\n",
       "   'MILSONS POINT',\n",
       "   'Lilyfield',\n",
       "   'BEACONSFIELD',\n",
       "   'WINSTON HILLS',\n",
       "   'East Roseville',\n",
       "   'Greenwich',\n",
       "   'Bellevue Hill',\n",
       "   'Tennyson Point',\n",
       "   'North Willoughby',\n",
       "   'Artarmon',\n",
       "   'ABBOTSFORD',\n",
       "   'VAUCLUSE',\n",
       "   'CHIPPING NORTON',\n",
       "   'Denistone',\n",
       "   'Cremorne Point',\n",
       "   'Cremorne',\n",
       "   'TENNYSON POINT',\n",
       "   'SURRY HILLS',\n",
       "   'QUEENS PARK',\n",
       "   'Lavender Bay',\n",
       "   'Naremburn',\n",
       "   'Bronte',\n",
       "   'NORTHWOOD',\n",
       "   'KINGSGROVE',\n",
       "   'Daceyville',\n",
       "   'Abbotsford',\n",
       "   'ROSE BAY',\n",
       "   'NORTH BONDI',\n",
       "   'ROSEVILLE',\n",
       "   'Balmain',\n",
       "   'LUGARNO',\n",
       "   'BARDWELL VALLEY',\n",
       "   'BELFIELD',\n",
       "   'ASHBURY',\n",
       "   'ERMINGTON',\n",
       "   'STRATHFIELD SOUTH',\n",
       "   'ELANORA HEIGHTS',\n",
       "   'Northbridge',\n",
       "   'East Lindfield',\n",
       "   'Middle Cove',\n",
       "   'STANMORE',\n",
       "   'TURRAMURRA',\n",
       "   'CROYDON PARK',\n",
       "   'FAIRFIELD WEST',\n",
       "   'BRIGHTON-LE-SANDS',\n",
       "   'WAHROONGA',\n",
       "   'Chiswick',\n",
       "   'ERSKINEVILLE',\n",
       "   'Cammeray',\n",
       "   'Drummoyne',\n",
       "   'PYRMONT',\n",
       "   'Point Piper',\n",
       "   'MARSFIELD',\n",
       "   'Annandale',\n",
       "   'WAVERLEY',\n",
       "   'DARLINGTON',\n",
       "   'BONDI',\n",
       "   'NAREMBURN',\n",
       "   'BELLEVUE HILL',\n",
       "   'DARLINGHURST',\n",
       "   'Queens Park',\n",
       "   'NORTH WILLOUGHBY',\n",
       "   'ST LEONARDS',\n",
       "   'Gladesville',\n",
       "   'CAMMERAY',\n",
       "   'BREAKFAST POINT',\n",
       "   'Castlecrag',\n",
       "   'Huntleys Point',\n",
       "   'WATERLOO',\n",
       "   'REDFERN',\n",
       "   'BOTANY',\n",
       "   'MAROUBRA',\n",
       "   'CHATSWOOD WEST',\n",
       "   'HURSTVILLE',\n",
       "   'CASTLE COVE',\n",
       "   'MELROSE PARK',\n",
       "   'HUNTLEYS COVE',\n",
       "   'JANNALI',\n",
       "   'LIDCOMBE',\n",
       "   'BRONTE',\n",
       "   'WOLLSTONECRAFT',\n",
       "   'LITTLE BAY',\n",
       "   'Willoughby',\n",
       "   'KINGSFORD',\n",
       "   'ELIZABETH BAY',\n",
       "   'Willoughby East',\n",
       "   'Hunters Hill',\n",
       "   'CREMORNE POINT',\n",
       "   'NORTH SYDNEY',\n",
       "   'Smeaton Grange',\n",
       "   'Darling Point',\n",
       "   'ROSEBERY',\n",
       "   'Wollstonecraft',\n",
       "   'Wareemba',\n",
       "   'WAVERTON',\n",
       "   'Kurraba Point',\n",
       "   'Rodd Point',\n",
       "   'DULWICH HILL',\n",
       "   'LANE COVE',\n",
       "   'PADDINGTON',\n",
       "   'Birchgrove',\n",
       "   'MOSMAN',\n",
       "   'ENMORE',\n",
       "   'SUMMER HILL',\n",
       "   'NORTH NARRABEEN',\n",
       "   'Kangaroo Point',\n",
       "   'EARLWOOD',\n",
       "   'KENSINGTON',\n",
       "   'Russell Lea',\n",
       "   'MARRICKVILLE',\n",
       "   'Kirribilli',\n",
       "   'Asquith',\n",
       "   'Huntleys Cove',\n",
       "   'BIRCHGROVE',\n",
       "   'BONDI BEACH',\n",
       "   'LANE COVE NORTH',\n",
       "   'GREENWICH',\n",
       "   'Waverton',\n",
       "   'CANADA BAY',\n",
       "   'West Lindfield',\n",
       "   'BANKSIA',\n",
       "   'GLEBE',\n",
       "   'HOMEBUSH',\n",
       "   'WOOLLAHRA',\n",
       "   'CHATSWOOD',\n",
       "   'GLADESVILLE',\n",
       "   'EDGECLIFF',\n",
       "   'CROWS NEST',\n",
       "   'ROZELLE',\n",
       "   'WILLOUGHBY',\n",
       "   'Mcmahons Point',\n",
       "   'MORTDALE',\n",
       "   'LAVENDER BAY',\n",
       "   'CANTERBURY',\n",
       "   'BAULKHAM HILLS',\n",
       "   'ASHFIELD',\n",
       "   'CARLINGFORD',\n",
       "   'FAIRLIGHT',\n",
       "   'NORTHBRIDGE',\n",
       "   'POTTS POINT',\n",
       "   'DOUBLE BAY',\n",
       "   'GREENACRE',\n",
       "   'MACQUARIE FIELDS',\n",
       "   'RANDWICK',\n",
       "   'NEWTOWN',\n",
       "   'HUNTERS HILL',\n",
       "   'POINT PIPER',\n",
       "   'MALABAR',\n",
       "   'NEUTRAL BAY',\n",
       "   'FIVE DOCK',\n",
       "   'CHERRYBROOK',\n",
       "   'EAST KILLARA',\n",
       "   'LEICHHARDT',\n",
       "   'Henley',\n",
       "   'COOGEE',\n",
       "   'MORTLAKE',\n",
       "   'Round Corner',\n",
       "   'DENISTONE EAST',\n",
       "   'CREMORNE',\n",
       "   'KILLARA',\n",
       "   'BALMAIN',\n",
       "   'BALMAIN EAST',\n",
       "   'HORNSBY',\n",
       "   'BELMORE',\n",
       "   'CONCORD',\n",
       "   'CAMPERDOWN',\n",
       "   'LILYFIELD',\n",
       "   'CAMPSIE',\n",
       "   'LIVERPOOL',\n",
       "   'BEECROFT',\n",
       "   'LEWISHAM',\n",
       "   'PETERSHAM',\n",
       "   'BONDI JUNCTION',\n",
       "   'WILLOUGHBY EAST',\n",
       "   'ZETLAND',\n",
       "   'HABERFIELD',\n",
       "   'CASTLECRAG',\n",
       "   'DRUMMOYNE',\n",
       "   'Beauty Point',\n",
       "   'WAREEMBA',\n",
       "   'WAITARA',\n",
       "   'CENTENNIAL PARK',\n",
       "   'DARLING POINT',\n",
       "   'PHILLIP BAY',\n",
       "   'CABARITA',\n",
       "   'MOOREBANK',\n",
       "   'ARTARMON',\n",
       "   'CHIFLEY',\n",
       "   'CROYDON',\n",
       "   'Glebe Island',\n",
       "   'BURWOOD',\n",
       "   'West Killara',\n",
       "   'EAST LINDFIELD',\n",
       "   'PENNANT HILLS',\n",
       "   'PANANIA',\n",
       "   'BROOKVALE',\n",
       "   'WEST PYMBLE',\n",
       "   'ANNANDALE',\n",
       "   'CHELTENHAM',\n",
       "   'LA PEROUSE',\n",
       "   'ROCKDALE',\n",
       "   'KIRRIBILLI',\n",
       "   'ST IVES CHASE',\n",
       "   'WENTWORTH POINT',\n",
       "   'GORDON',\n",
       "   'RUSSELL LEA',\n",
       "   'BARDWELL PARK',\n",
       "   'ALLAMBIE HEIGHTS',\n",
       "   'WEST RYDE',\n",
       "   'WOOLWICH',\n",
       "   'RODD POINT',\n",
       "   'KURRABA POINT',\n",
       "   'WEST PENNANT HILLS',\n",
       "   'MCMAHONS POINT',\n",
       "   'SADLEIR']]}"
      ]
     },
     "execution_count": 21,
     "metadata": {},
     "output_type": "execute_result"
    }
   ],
   "source": [
    "c.export()\n",
    "#binning results"
   ]
  },
  {
   "cell_type": "code",
   "execution_count": 22,
   "metadata": {},
   "outputs": [],
   "source": [
    "def PuSuburbBins(data,data_test):\n",
    "    data = data.copy()\n",
    "    data_test = data_test.copy()\n",
    "    for target,val in zip(['target_2cls_Cancelled','target_2cls_Completed','target_2cls_ELSE','target_2cls_NoJob'],['Cancelled','Completed','ELSE','NoJob']):\n",
    "        c = toad.transform.Combiner()\n",
    "        col = 'PuSuburb'\n",
    "        c.fit(data[[col,target]], y = target, method = 'chi',min_samples = 0.05) \n",
    "        data['PuSuburbBins_'+val] = c.transform(data[['PuSuburb']], labels=False) # 纯分箱不做woe转化\n",
    "        data_test['PuSuburbBins_'+val] = c.transform(data_test[['PuSuburb']], labels=False)\n",
    "    return data, data_test\n",
    "\n",
    "data, validation = PuSuburbBins(data, validation)\n",
    "#apply binning for all four target variables on both training and validation set and create four new features based on binning"
   ]
  },
  {
   "cell_type": "code",
   "execution_count": 29,
   "metadata": {
    "scrolled": true
   },
   "outputs": [
    {
     "data": {
      "text/html": [
       "<div>\n",
       "<style scoped>\n",
       "    .dataframe tbody tr th:only-of-type {\n",
       "        vertical-align: middle;\n",
       "    }\n",
       "\n",
       "    .dataframe tbody tr th {\n",
       "        vertical-align: top;\n",
       "    }\n",
       "\n",
       "    .dataframe thead th {\n",
       "        text-align: right;\n",
       "    }\n",
       "</style>\n",
       "<table border=\"1\" class=\"dataframe\">\n",
       "  <thead>\n",
       "    <tr style=\"text-align: right;\">\n",
       "      <th></th>\n",
       "      <th>BookingID</th>\n",
       "      <th>PuSuburb</th>\n",
       "      <th>PuSuburbBins_Cancelled</th>\n",
       "      <th>PuSuburbBins_Completed</th>\n",
       "      <th>PuSuburbBins_ELSE</th>\n",
       "      <th>PuSuburbBins_NoJob</th>\n",
       "    </tr>\n",
       "  </thead>\n",
       "  <tbody>\n",
       "    <tr>\n",
       "      <th>0</th>\n",
       "      <td>171970588</td>\n",
       "      <td>Randwick</td>\n",
       "      <td>0</td>\n",
       "      <td>6</td>\n",
       "      <td>0</td>\n",
       "      <td>3</td>\n",
       "    </tr>\n",
       "    <tr>\n",
       "      <th>1</th>\n",
       "      <td>174526964</td>\n",
       "      <td>Narraweena</td>\n",
       "      <td>4</td>\n",
       "      <td>3</td>\n",
       "      <td>1</td>\n",
       "      <td>3</td>\n",
       "    </tr>\n",
       "    <tr>\n",
       "      <th>2</th>\n",
       "      <td>180286324</td>\n",
       "      <td>Bondi</td>\n",
       "      <td>2</td>\n",
       "      <td>5</td>\n",
       "      <td>0</td>\n",
       "      <td>2</td>\n",
       "    </tr>\n",
       "    <tr>\n",
       "      <th>3</th>\n",
       "      <td>177228281</td>\n",
       "      <td>Centennial Park</td>\n",
       "      <td>2</td>\n",
       "      <td>5</td>\n",
       "      <td>0</td>\n",
       "      <td>3</td>\n",
       "    </tr>\n",
       "    <tr>\n",
       "      <th>4</th>\n",
       "      <td>170046024</td>\n",
       "      <td>Sydney</td>\n",
       "      <td>6</td>\n",
       "      <td>0</td>\n",
       "      <td>1</td>\n",
       "      <td>6</td>\n",
       "    </tr>\n",
       "  </tbody>\n",
       "</table>\n",
       "</div>"
      ],
      "text/plain": [
       "   BookingID         PuSuburb  PuSuburbBins_Cancelled  PuSuburbBins_Completed  \\\n",
       "0  171970588         Randwick                       0                       6   \n",
       "1  174526964       Narraweena                       4                       3   \n",
       "2  180286324            Bondi                       2                       5   \n",
       "3  177228281  Centennial Park                       2                       5   \n",
       "4  170046024           Sydney                       6                       0   \n",
       "\n",
       "   PuSuburbBins_ELSE  PuSuburbBins_NoJob  \n",
       "0                  0                   3  \n",
       "1                  1                   3  \n",
       "2                  0                   2  \n",
       "3                  0                   3  \n",
       "4                  1                   6  "
      ]
     },
     "execution_count": 29,
     "metadata": {},
     "output_type": "execute_result"
    }
   ],
   "source": [
    "data[['BookingID','PuSuburb','PuSuburbBins_Cancelled','PuSuburbBins_Completed','PuSuburbBins_ELSE','PuSuburbBins_NoJob']].head()\n",
    "#binning result in dataset"
   ]
  },
  {
   "cell_type": "code",
   "execution_count": 24,
   "metadata": {},
   "outputs": [
    {
     "data": {
      "text/html": [
       "<div>\n",
       "<style scoped>\n",
       "    .dataframe tbody tr th:only-of-type {\n",
       "        vertical-align: middle;\n",
       "    }\n",
       "\n",
       "    .dataframe tbody tr th {\n",
       "        vertical-align: top;\n",
       "    }\n",
       "\n",
       "    .dataframe thead th {\n",
       "        text-align: right;\n",
       "    }\n",
       "</style>\n",
       "<table border=\"1\" class=\"dataframe\">\n",
       "  <thead>\n",
       "    <tr style=\"text-align: right;\">\n",
       "      <th></th>\n",
       "      <th>iv</th>\n",
       "      <th>gini</th>\n",
       "      <th>entropy</th>\n",
       "      <th>unique</th>\n",
       "    </tr>\n",
       "  </thead>\n",
       "  <tbody>\n",
       "    <tr>\n",
       "      <th>PuSuburbBins_Cancelled</th>\n",
       "      <td>0.249979</td>\n",
       "      <td>0.217016</td>\n",
       "      <td>0.369365</td>\n",
       "      <td>7.0</td>\n",
       "    </tr>\n",
       "  </tbody>\n",
       "</table>\n",
       "</div>"
      ],
      "text/plain": [
       "                              iv      gini   entropy  unique\n",
       "PuSuburbBins_Cancelled  0.249979  0.217016  0.369365     7.0"
      ]
     },
     "execution_count": 24,
     "metadata": {},
     "output_type": "execute_result"
    }
   ],
   "source": [
    "toad.quality(data[['PuSuburbBins_Cancelled','target_2cls_Cancelled']],target='target_2cls_Cancelled')\n",
    "#check iv value for cancelled"
   ]
  },
  {
   "cell_type": "code",
   "execution_count": 25,
   "metadata": {},
   "outputs": [
    {
     "data": {
      "text/html": [
       "<div>\n",
       "<style scoped>\n",
       "    .dataframe tbody tr th:only-of-type {\n",
       "        vertical-align: middle;\n",
       "    }\n",
       "\n",
       "    .dataframe tbody tr th {\n",
       "        vertical-align: top;\n",
       "    }\n",
       "\n",
       "    .dataframe thead th {\n",
       "        text-align: right;\n",
       "    }\n",
       "</style>\n",
       "<table border=\"1\" class=\"dataframe\">\n",
       "  <thead>\n",
       "    <tr style=\"text-align: right;\">\n",
       "      <th></th>\n",
       "      <th>iv</th>\n",
       "      <th>gini</th>\n",
       "      <th>entropy</th>\n",
       "      <th>unique</th>\n",
       "    </tr>\n",
       "  </thead>\n",
       "  <tbody>\n",
       "    <tr>\n",
       "      <th>PuSuburbBins_ELSE</th>\n",
       "      <td>0.216695</td>\n",
       "      <td>0.02451</td>\n",
       "      <td>0.065578</td>\n",
       "      <td>2.0</td>\n",
       "    </tr>\n",
       "  </tbody>\n",
       "</table>\n",
       "</div>"
      ],
      "text/plain": [
       "                         iv     gini   entropy  unique\n",
       "PuSuburbBins_ELSE  0.216695  0.02451  0.065578     2.0"
      ]
     },
     "execution_count": 25,
     "metadata": {},
     "output_type": "execute_result"
    }
   ],
   "source": [
    "toad.quality(data[['PuSuburbBins_ELSE','target_2cls_ELSE']],target='target_2cls_ELSE')\n",
    "#check iv value for else"
   ]
  },
  {
   "cell_type": "code",
   "execution_count": 26,
   "metadata": {
    "scrolled": true
   },
   "outputs": [
    {
     "data": {
      "text/html": [
       "<div>\n",
       "<style scoped>\n",
       "    .dataframe tbody tr th:only-of-type {\n",
       "        vertical-align: middle;\n",
       "    }\n",
       "\n",
       "    .dataframe tbody tr th {\n",
       "        vertical-align: top;\n",
       "    }\n",
       "\n",
       "    .dataframe thead th {\n",
       "        text-align: right;\n",
       "    }\n",
       "</style>\n",
       "<table border=\"1\" class=\"dataframe\">\n",
       "  <thead>\n",
       "    <tr style=\"text-align: right;\">\n",
       "      <th></th>\n",
       "      <th>iv</th>\n",
       "      <th>gini</th>\n",
       "      <th>entropy</th>\n",
       "      <th>unique</th>\n",
       "    </tr>\n",
       "  </thead>\n",
       "  <tbody>\n",
       "    <tr>\n",
       "      <th>PuSuburbBins_NoJob</th>\n",
       "      <td>0.227563</td>\n",
       "      <td>0.149151</td>\n",
       "      <td>0.276917</td>\n",
       "      <td>8.0</td>\n",
       "    </tr>\n",
       "  </tbody>\n",
       "</table>\n",
       "</div>"
      ],
      "text/plain": [
       "                          iv      gini   entropy  unique\n",
       "PuSuburbBins_NoJob  0.227563  0.149151  0.276917     8.0"
      ]
     },
     "execution_count": 26,
     "metadata": {},
     "output_type": "execute_result"
    }
   ],
   "source": [
    "toad.quality(data[['PuSuburbBins_NoJob','target_2cls_NoJob']],target='target_2cls_NoJob')\n",
    "#check iv value for nojob"
   ]
  },
  {
   "cell_type": "code",
   "execution_count": 27,
   "metadata": {},
   "outputs": [],
   "source": [
    "#the iv value for each group is high"
   ]
  },
  {
   "cell_type": "markdown",
   "metadata": {},
   "source": [
    "## 2.2 Pickup lattitude & longitude"
   ]
  },
  {
   "cell_type": "code",
   "execution_count": 30,
   "metadata": {},
   "outputs": [],
   "source": [
    "knn = KNeighborsClassifier(n_neighbors = 101)\n",
    "\n",
    "knn.fit(data[['PuLat','PuLong']],data['target_2cls_Completed'])\n",
    "\n",
    "data['KNN_temp'] = knn.predict_proba(data[['PuLat','PuLong']])[:,1]\n",
    "#use knn method to model lat and long with target complete and save the probability "
   ]
  },
  {
   "cell_type": "code",
   "execution_count": 31,
   "metadata": {},
   "outputs": [
    {
     "data": {
      "text/plain": [
       "<toad.transform.Combiner at 0x167002c70>"
      ]
     },
     "execution_count": 31,
     "metadata": {},
     "output_type": "execute_result"
    }
   ],
   "source": [
    "c = toad.transform.Combiner()\n",
    "col = 'KNN_temp'\n",
    "c.fit(data[[col,'target_2cls_Completed']], y = 'target_2cls_Completed', method = 'chi',min_samples = 0.05)\n",
    "#use toad package to binning the probabilty to check if it can be used to predict complete "
   ]
  },
  {
   "cell_type": "code",
   "execution_count": 33,
   "metadata": {},
   "outputs": [
    {
     "data": {
      "text/plain": [
       "Text(0, 0.5, 'Proportion')"
      ]
     },
     "execution_count": 33,
     "metadata": {},
     "output_type": "execute_result"
    },
    {
     "data": {
      "image/png": "[encoded data removed]",
      "text/plain": [
       "<Figure size 864x432 with 2 Axes>"
      ]
     },
     "metadata": {},
     "output_type": "display_data"
    }
   ],
   "source": [
    "ax=bin_plot(c.transform(data[[col,'target_2cls_Completed']], labels=False), x=col, target='target_2cls_Completed')\n",
    "ax.set_title(\"Plot of binned probability based on complete rate\",fontweight='bold',fontsize=20)\n",
    "ax.set_xlabel(\"Bins of probility\")\n",
    "ax.set_ylabel(\"Proportion\")\n",
    "#visualize the binning result to check the iv"
   ]
  },
  {
   "cell_type": "code",
   "execution_count": 36,
   "metadata": {},
   "outputs": [
    {
     "data": {
      "text/plain": [
       "Text(0, 0.5, 'Proportion')"
      ]
     },
     "execution_count": 36,
     "metadata": {},
     "output_type": "execute_result"
    },
    {
     "data": {
      "image/png": "[encoded data removed]",
      "text/plain": [
       "<Figure size 864x432 with 2 Axes>"
      ]
     },
     "metadata": {},
     "output_type": "display_data"
    }
   ],
   "source": [
    "validation['KNN_temp'] = knn.predict_proba(validation[['PuLat','PuLong']])[:,1]\n",
    "ax=bin_plot(c.transform(validation[[col,'target_2cls_Completed']], labels=False), x=col, target='target_2cls_Completed')\n",
    "ax.set_title(\"Plot of binned probability based on complete rate on validation set\",fontweight='bold',fontsize=20)\n",
    "ax.set_xlabel(\"Bins of probility\")\n",
    "ax.set_ylabel(\"Proportion\")\n",
    "#check on validation set also"
   ]
  },
  {
   "cell_type": "code",
   "execution_count": 39,
   "metadata": {},
   "outputs": [],
   "source": [
    "def PuLatLongKNN(data, test):\n",
    "    data = data.copy()\n",
    "    test = test.copy()\n",
    "    for target,val in zip(['target_2cls_Cancelled','target_2cls_Completed','target_2cls_ELSE','target_2cls_NoJob'],['Cancelled','Completed','ELSE','NoJob']):\n",
    "        knn = KNeighborsClassifier(n_neighbors = 101)\n",
    "        knn.fit(data[['PuLat','PuLong']],data[target])\n",
    "        data['PuLatLongKNN_'+val] = knn.predict_proba(data[['PuLat','PuLong']])[:,1]\n",
    "        test['PuLatLongKNN_'+val] = knn.predict_proba(test[['PuLat','PuLong']])[:,1]\n",
    "    return data, test \n",
    "\n",
    "data,validation = PuLatLongKNN(data,validation)\n",
    "#apply knn model to each target on both training and validation set and save probabilty, thus create four new features"
   ]
  },
  {
   "cell_type": "code",
   "execution_count": 46,
   "metadata": {},
   "outputs": [
    {
     "data": {
      "text/html": [
       "<div>\n",
       "<style scoped>\n",
       "    .dataframe tbody tr th:only-of-type {\n",
       "        vertical-align: middle;\n",
       "    }\n",
       "\n",
       "    .dataframe tbody tr th {\n",
       "        vertical-align: top;\n",
       "    }\n",
       "\n",
       "    .dataframe thead th {\n",
       "        text-align: right;\n",
       "    }\n",
       "</style>\n",
       "<table border=\"1\" class=\"dataframe\">\n",
       "  <thead>\n",
       "    <tr style=\"text-align: right;\">\n",
       "      <th></th>\n",
       "      <th>iv</th>\n",
       "      <th>gini</th>\n",
       "      <th>entropy</th>\n",
       "      <th>unique</th>\n",
       "    </tr>\n",
       "  </thead>\n",
       "  <tbody>\n",
       "    <tr>\n",
       "      <th>PuLatLongKNN_Cancelled</th>\n",
       "      <td>0.709143</td>\n",
       "      <td>0.212199</td>\n",
       "      <td>0.383407</td>\n",
       "      <td>91.0</td>\n",
       "    </tr>\n",
       "  </tbody>\n",
       "</table>\n",
       "</div>"
      ],
      "text/plain": [
       "                              iv      gini   entropy  unique\n",
       "PuLatLongKNN_Cancelled  0.709143  0.212199  0.383407    91.0"
      ]
     },
     "execution_count": 46,
     "metadata": {},
     "output_type": "execute_result"
    }
   ],
   "source": [
    "toad.quality(data[['PuLatLongKNN_Cancelled','target_2cls_Cancelled']],target='target_2cls_Cancelled')\n",
    "#check iv value for cancelled"
   ]
  },
  {
   "cell_type": "code",
   "execution_count": 42,
   "metadata": {},
   "outputs": [
    {
     "data": {
      "text/html": [
       "<div>\n",
       "<style scoped>\n",
       "    .dataframe tbody tr th:only-of-type {\n",
       "        vertical-align: middle;\n",
       "    }\n",
       "\n",
       "    .dataframe tbody tr th {\n",
       "        vertical-align: top;\n",
       "    }\n",
       "\n",
       "    .dataframe thead th {\n",
       "        text-align: right;\n",
       "    }\n",
       "</style>\n",
       "<table border=\"1\" class=\"dataframe\">\n",
       "  <thead>\n",
       "    <tr style=\"text-align: right;\">\n",
       "      <th></th>\n",
       "      <th>iv</th>\n",
       "      <th>gini</th>\n",
       "      <th>entropy</th>\n",
       "      <th>unique</th>\n",
       "    </tr>\n",
       "  </thead>\n",
       "  <tbody>\n",
       "    <tr>\n",
       "      <th>PuLatLongKNN_ELSE</th>\n",
       "      <td>1.826409</td>\n",
       "      <td>0.024466</td>\n",
       "      <td>0.066926</td>\n",
       "      <td>35.0</td>\n",
       "    </tr>\n",
       "  </tbody>\n",
       "</table>\n",
       "</div>"
      ],
      "text/plain": [
       "                         iv      gini   entropy  unique\n",
       "PuLatLongKNN_ELSE  1.826409  0.024466  0.066926    35.0"
      ]
     },
     "execution_count": 42,
     "metadata": {},
     "output_type": "execute_result"
    }
   ],
   "source": [
    "toad.quality(data[['PuLatLongKNN_ELSE','target_2cls_ELSE']],target='target_2cls_ELSE')\n",
    "#check iv value for else"
   ]
  },
  {
   "cell_type": "code",
   "execution_count": 43,
   "metadata": {},
   "outputs": [
    {
     "data": {
      "text/html": [
       "<div>\n",
       "<style scoped>\n",
       "    .dataframe tbody tr th:only-of-type {\n",
       "        vertical-align: middle;\n",
       "    }\n",
       "\n",
       "    .dataframe tbody tr th {\n",
       "        vertical-align: top;\n",
       "    }\n",
       "\n",
       "    .dataframe thead th {\n",
       "        text-align: right;\n",
       "    }\n",
       "</style>\n",
       "<table border=\"1\" class=\"dataframe\">\n",
       "  <thead>\n",
       "    <tr style=\"text-align: right;\">\n",
       "      <th></th>\n",
       "      <th>iv</th>\n",
       "      <th>gini</th>\n",
       "      <th>entropy</th>\n",
       "      <th>unique</th>\n",
       "    </tr>\n",
       "  </thead>\n",
       "  <tbody>\n",
       "    <tr>\n",
       "      <th>PuLatLongKNN_NoJob</th>\n",
       "      <td>0.761531</td>\n",
       "      <td>0.145988</td>\n",
       "      <td>0.285154</td>\n",
       "      <td>58.0</td>\n",
       "    </tr>\n",
       "  </tbody>\n",
       "</table>\n",
       "</div>"
      ],
      "text/plain": [
       "                          iv      gini   entropy  unique\n",
       "PuLatLongKNN_NoJob  0.761531  0.145988  0.285154    58.0"
      ]
     },
     "execution_count": 43,
     "metadata": {},
     "output_type": "execute_result"
    }
   ],
   "source": [
    "toad.quality(data[['PuLatLongKNN_NoJob','target_2cls_NoJob']],target='target_2cls_NoJob')\n",
    "#check iv value for no job"
   ]
  },
  {
   "cell_type": "code",
   "execution_count": 44,
   "metadata": {},
   "outputs": [],
   "source": [
    "#they all have high iv, which means probabilty can be used to predict complete, cancelled, else and no job, it's a usefuk feature"
   ]
  },
  {
   "cell_type": "code",
   "execution_count": 47,
   "metadata": {},
   "outputs": [
    {
     "data": {
      "text/html": [
       "<div>\n",
       "<style scoped>\n",
       "    .dataframe tbody tr th:only-of-type {\n",
       "        vertical-align: middle;\n",
       "    }\n",
       "\n",
       "    .dataframe tbody tr th {\n",
       "        vertical-align: top;\n",
       "    }\n",
       "\n",
       "    .dataframe thead th {\n",
       "        text-align: right;\n",
       "    }\n",
       "</style>\n",
       "<table border=\"1\" class=\"dataframe\">\n",
       "  <thead>\n",
       "    <tr style=\"text-align: right;\">\n",
       "      <th></th>\n",
       "      <th>BookingID</th>\n",
       "      <th>PuLat</th>\n",
       "      <th>PuLong</th>\n",
       "      <th>PuLatLongKNN_Cancelled</th>\n",
       "      <th>PuLatLongKNN_Completed</th>\n",
       "      <th>PuLatLongKNN_ELSE</th>\n",
       "      <th>PuLatLongKNN_NoJob</th>\n",
       "    </tr>\n",
       "  </thead>\n",
       "  <tbody>\n",
       "    <tr>\n",
       "      <th>0</th>\n",
       "      <td>171970588</td>\n",
       "      <td>-33.921022</td>\n",
       "      <td>151.244202</td>\n",
       "      <td>0.049505</td>\n",
       "      <td>0.930693</td>\n",
       "      <td>0.009901</td>\n",
       "      <td>0.009901</td>\n",
       "    </tr>\n",
       "    <tr>\n",
       "      <th>1</th>\n",
       "      <td>174526964</td>\n",
       "      <td>-33.755931</td>\n",
       "      <td>151.273028</td>\n",
       "      <td>0.108911</td>\n",
       "      <td>0.801980</td>\n",
       "      <td>0.009901</td>\n",
       "      <td>0.079208</td>\n",
       "    </tr>\n",
       "    <tr>\n",
       "      <th>2</th>\n",
       "      <td>180286324</td>\n",
       "      <td>-33.897201</td>\n",
       "      <td>151.261205</td>\n",
       "      <td>0.089109</td>\n",
       "      <td>0.851485</td>\n",
       "      <td>0.000000</td>\n",
       "      <td>0.059406</td>\n",
       "    </tr>\n",
       "    <tr>\n",
       "      <th>3</th>\n",
       "      <td>177228281</td>\n",
       "      <td>-33.895716</td>\n",
       "      <td>151.228609</td>\n",
       "      <td>0.029703</td>\n",
       "      <td>0.930693</td>\n",
       "      <td>0.000000</td>\n",
       "      <td>0.039604</td>\n",
       "    </tr>\n",
       "    <tr>\n",
       "      <th>4</th>\n",
       "      <td>170046024</td>\n",
       "      <td>-33.859737</td>\n",
       "      <td>151.213307</td>\n",
       "      <td>0.366337</td>\n",
       "      <td>0.445545</td>\n",
       "      <td>0.029703</td>\n",
       "      <td>0.158416</td>\n",
       "    </tr>\n",
       "  </tbody>\n",
       "</table>\n",
       "</div>"
      ],
      "text/plain": [
       "   BookingID      PuLat      PuLong  PuLatLongKNN_Cancelled  \\\n",
       "0  171970588 -33.921022  151.244202                0.049505   \n",
       "1  174526964 -33.755931  151.273028                0.108911   \n",
       "2  180286324 -33.897201  151.261205                0.089109   \n",
       "3  177228281 -33.895716  151.228609                0.029703   \n",
       "4  170046024 -33.859737  151.213307                0.366337   \n",
       "\n",
       "   PuLatLongKNN_Completed  PuLatLongKNN_ELSE  PuLatLongKNN_NoJob  \n",
       "0                0.930693           0.009901            0.009901  \n",
       "1                0.801980           0.009901            0.079208  \n",
       "2                0.851485           0.000000            0.059406  \n",
       "3                0.930693           0.000000            0.039604  \n",
       "4                0.445545           0.029703            0.158416  "
      ]
     },
     "execution_count": 47,
     "metadata": {},
     "output_type": "execute_result"
    }
   ],
   "source": [
    "data[['BookingID','PuLat','PuLong','PuLatLongKNN_Cancelled','PuLatLongKNN_Completed','PuLatLongKNN_ELSE','PuLatLongKNN_NoJob']].head()\n",
    "#new features in training dataset"
   ]
  },
  {
   "cell_type": "markdown",
   "metadata": {},
   "source": [
    "## 2.3 Time"
   ]
  },
  {
   "cell_type": "code",
   "execution_count": 48,
   "metadata": {},
   "outputs": [],
   "source": [
    "def OrderHour(data):\n",
    "    data = data.copy()\n",
    "    data['OrderHour'] = data['RequestedDate'].apply(lambda x: x.hour).astype(int)\n",
    "    return data \n",
    "data = OrderHour(data)\n",
    "validation= OrderHour(validation)\n",
    "#transform hour to numerical data"
   ]
  },
  {
   "cell_type": "code",
   "execution_count": 49,
   "metadata": {},
   "outputs": [
    {
     "data": {
      "text/plain": [
       "<toad.transform.Combiner at 0x134086a00>"
      ]
     },
     "execution_count": 49,
     "metadata": {},
     "output_type": "execute_result"
    }
   ],
   "source": [
    "c = toad.transform.Combiner()\n",
    "col = 'OrderHour'\n",
    "c.fit(data[[col,'target_2cls_Completed']], y = 'target_2cls_Completed', method = 'chi',min_samples = 0.05)\n",
    "#use toad to binning hour based on complete rate"
   ]
  },
  {
   "cell_type": "code",
   "execution_count": 50,
   "metadata": {},
   "outputs": [
    {
     "data": {
      "text/plain": [
       "Text(0, 0.5, 'Proportion')"
      ]
     },
     "execution_count": 50,
     "metadata": {},
     "output_type": "execute_result"
    },
    {
     "data": {
      "image/png": "[encoded data removed]",
      "text/plain": [
       "<Figure size 864x432 with 2 Axes>"
      ]
     },
     "metadata": {},
     "output_type": "display_data"
    }
   ],
   "source": [
    "ax=bin_plot(c.transform(data[[col,'target_2cls_Completed']], labels=False), x=col, target='target_2cls_Completed')\n",
    "ax.set_title(\"Plot of binned hours based on complete rate\",fontweight='bold',fontsize=20)\n",
    "ax.set_xlabel(\"Bins of hours\")\n",
    "ax.set_ylabel(\"Proportion\")\n",
    "#visualize the binning result"
   ]
  },
  {
   "cell_type": "code",
   "execution_count": 52,
   "metadata": {},
   "outputs": [],
   "source": [
    "def DayOfWeek(data):\n",
    "    data = data.copy()\n",
    "    data['DayOfWeek'] = data['RequestedDate'].apply(lambda x: x.weekday()+1)\n",
    "    return data\n",
    "data = DayOfWeek(data)\n",
    "validation = DayOfWeek(validation)\n",
    "#transform day of week to numerical data"
   ]
  },
  {
   "cell_type": "code",
   "execution_count": 53,
   "metadata": {},
   "outputs": [
    {
     "data": {
      "text/plain": [
       "<toad.transform.Combiner at 0x167a55d30>"
      ]
     },
     "execution_count": 53,
     "metadata": {},
     "output_type": "execute_result"
    }
   ],
   "source": [
    "c = toad.transform.Combiner()\n",
    "col = 'DayOfWeek'\n",
    "c.fit(data[[col,'target_2cls_Completed']], y = 'target_2cls_Completed', method = 'chi',min_samples = 0.05)\n",
    "#use toad to binning day of week"
   ]
  },
  {
   "cell_type": "code",
   "execution_count": 55,
   "metadata": {},
   "outputs": [
    {
     "data": {
      "text/plain": [
       "Text(0, 0.5, 'Proportion')"
      ]
     },
     "execution_count": 55,
     "metadata": {},
     "output_type": "execute_result"
    },
    {
     "data": {
      "image/png": "[encoded data removed]",
      "text/plain": [
       "<Figure size 864x432 with 2 Axes>"
      ]
     },
     "metadata": {},
     "output_type": "display_data"
    }
   ],
   "source": [
    "ax=bin_plot(c.transform(data[[col,'target_2cls_Completed']], labels=False), x=col, target='target_2cls_Completed')\n",
    "ax.set_title(\"Plot of binned day of week based on complete rate\",fontweight='bold',fontsize=20)\n",
    "ax.set_xlabel(\"Bins of day of week\")\n",
    "ax.set_ylabel(\"Proportion\")\n",
    "#visualize the binning result, the iv is quite low"
   ]
  },
  {
   "cell_type": "code",
   "execution_count": 57,
   "metadata": {},
   "outputs": [],
   "source": [
    "dt = DecisionTreeClassifier(max_depth = 4,min_samples_leaf=0.05)\n",
    "dt.fit(data[['DayOfWeek','OrderHour']] , data['target_2cls_Completed'])\n",
    "\n",
    "def OrderTimeDT(data):\n",
    "    data = data.copy()\n",
    "    data['OrderTimeDT'] = dt.predict_proba(data[['DayOfWeek','OrderHour']])[:,1]\n",
    "    return data \n",
    "#use decision tree classifier to model combined hour and day of week with complete rate and save the probability"
   ]
  },
  {
   "cell_type": "code",
   "execution_count": 58,
   "metadata": {},
   "outputs": [],
   "source": [
    "data = OrderTimeDT(data)\n",
    "validation = OrderTimeDT(validation)"
   ]
  },
  {
   "cell_type": "code",
   "execution_count": 59,
   "metadata": {},
   "outputs": [
    {
     "data": {
      "text/plain": [
       "<toad.transform.Combiner at 0x146d45040>"
      ]
     },
     "execution_count": 59,
     "metadata": {},
     "output_type": "execute_result"
    }
   ],
   "source": [
    "c = toad.transform.Combiner()\n",
    "col = 'OrderTimeDT'\n",
    "c.fit(data[[col,'target_2cls_Completed']], y = 'target_2cls_Completed', method = 'chi',min_samples = 0.05)\n",
    "#use binning to to check whether ordertime dt is a good feature to predict target complete"
   ]
  },
  {
   "cell_type": "code",
   "execution_count": 60,
   "metadata": {},
   "outputs": [
    {
     "data": {
      "text/plain": [
       "Text(0, 0.5, 'Proportion')"
      ]
     },
     "execution_count": 60,
     "metadata": {},
     "output_type": "execute_result"
    },
    {
     "data": {
      "image/png": "[encoded data removed]",
      "text/plain": [
       "<Figure size 864x432 with 2 Axes>"
      ]
     },
     "metadata": {},
     "output_type": "display_data"
    }
   ],
   "source": [
    "ax=bin_plot(c.transform(data[[col,'target_2cls_Completed']], labels=False), x=col, target='target_2cls_Completed')\n",
    "ax.set_title(\"Plot of binned day+hour based on complete rate\",fontweight='bold',fontsize=20)\n",
    "ax.set_xlabel(\"Bins of day+hour\")\n",
    "ax.set_ylabel(\"Proportion\")\n",
    "#visualize the binning result, the iv is okay, so the probability is a reasonably good feature to predict complete"
   ]
  },
  {
   "cell_type": "code",
   "execution_count": 65,
   "metadata": {},
   "outputs": [],
   "source": [
    "def OrderTimeDT(data, test):\n",
    "    data = data.copy()\n",
    "    test = test.copy()\n",
    "    for target,val in zip(['target_2cls_Cancelled','target_2cls_Completed','target_2cls_ELSE','target_2cls_NoJob'],['Cancelled','Completed','ELSE','NoJob']):\n",
    "        dt = DecisionTreeClassifier(max_depth = 4,min_samples_leaf=0.05)\n",
    "        dt.fit(data[['DayOfWeek','OrderHour']] , data[target])\n",
    "        data['OrderTimeDT_'+val] = dt.predict_proba(data[['DayOfWeek','OrderHour']])[:,1]\n",
    "        test['OrderTimeDT_'+val] = dt.predict_proba(test[['DayOfWeek','OrderHour']])[:,1]\n",
    "    return data, test \n",
    "data,validation = OrderTimeDT(data,validation)"
   ]
  },
  {
   "cell_type": "code",
   "execution_count": 66,
   "metadata": {},
   "outputs": [
    {
     "data": {
      "text/html": [
       "<div>\n",
       "<style scoped>\n",
       "    .dataframe tbody tr th:only-of-type {\n",
       "        vertical-align: middle;\n",
       "    }\n",
       "\n",
       "    .dataframe tbody tr th {\n",
       "        vertical-align: top;\n",
       "    }\n",
       "\n",
       "    .dataframe thead th {\n",
       "        text-align: right;\n",
       "    }\n",
       "</style>\n",
       "<table border=\"1\" class=\"dataframe\">\n",
       "  <thead>\n",
       "    <tr style=\"text-align: right;\">\n",
       "      <th></th>\n",
       "      <th>iv</th>\n",
       "      <th>gini</th>\n",
       "      <th>entropy</th>\n",
       "      <th>unique</th>\n",
       "    </tr>\n",
       "  </thead>\n",
       "  <tbody>\n",
       "    <tr>\n",
       "      <th>OrderTimeDT_Cancelled</th>\n",
       "      <td>0.039493</td>\n",
       "      <td>0.223038</td>\n",
       "      <td>0.381403</td>\n",
       "      <td>8.0</td>\n",
       "    </tr>\n",
       "  </tbody>\n",
       "</table>\n",
       "</div>"
      ],
      "text/plain": [
       "                             iv      gini   entropy  unique\n",
       "OrderTimeDT_Cancelled  0.039493  0.223038  0.381403     8.0"
      ]
     },
     "execution_count": 66,
     "metadata": {},
     "output_type": "execute_result"
    }
   ],
   "source": [
    "toad.quality(data[['OrderTimeDT_Cancelled','target_2cls_Cancelled']],target='target_2cls_Cancelled')"
   ]
  },
  {
   "cell_type": "code",
   "execution_count": 67,
   "metadata": {},
   "outputs": [
    {
     "data": {
      "text/html": [
       "<div>\n",
       "<style scoped>\n",
       "    .dataframe tbody tr th:only-of-type {\n",
       "        vertical-align: middle;\n",
       "    }\n",
       "\n",
       "    .dataframe tbody tr th {\n",
       "        vertical-align: top;\n",
       "    }\n",
       "\n",
       "    .dataframe thead th {\n",
       "        text-align: right;\n",
       "    }\n",
       "</style>\n",
       "<table border=\"1\" class=\"dataframe\">\n",
       "  <thead>\n",
       "    <tr style=\"text-align: right;\">\n",
       "      <th></th>\n",
       "      <th>iv</th>\n",
       "      <th>gini</th>\n",
       "      <th>entropy</th>\n",
       "      <th>unique</th>\n",
       "    </tr>\n",
       "  </thead>\n",
       "  <tbody>\n",
       "    <tr>\n",
       "      <th>OrderTimeDT_ELSE</th>\n",
       "      <td>0.020355</td>\n",
       "      <td>0.024582</td>\n",
       "      <td>0.06685</td>\n",
       "      <td>9.0</td>\n",
       "    </tr>\n",
       "  </tbody>\n",
       "</table>\n",
       "</div>"
      ],
      "text/plain": [
       "                        iv      gini  entropy  unique\n",
       "OrderTimeDT_ELSE  0.020355  0.024582  0.06685     9.0"
      ]
     },
     "execution_count": 67,
     "metadata": {},
     "output_type": "execute_result"
    }
   ],
   "source": [
    "toad.quality(data[['OrderTimeDT_ELSE','target_2cls_ELSE']],target='target_2cls_ELSE')"
   ]
  },
  {
   "cell_type": "code",
   "execution_count": 68,
   "metadata": {},
   "outputs": [
    {
     "data": {
      "text/html": [
       "<div>\n",
       "<style scoped>\n",
       "    .dataframe tbody tr th:only-of-type {\n",
       "        vertical-align: middle;\n",
       "    }\n",
       "\n",
       "    .dataframe tbody tr th {\n",
       "        vertical-align: top;\n",
       "    }\n",
       "\n",
       "    .dataframe thead th {\n",
       "        text-align: right;\n",
       "    }\n",
       "</style>\n",
       "<table border=\"1\" class=\"dataframe\">\n",
       "  <thead>\n",
       "    <tr style=\"text-align: right;\">\n",
       "      <th></th>\n",
       "      <th>iv</th>\n",
       "      <th>gini</th>\n",
       "      <th>entropy</th>\n",
       "      <th>unique</th>\n",
       "    </tr>\n",
       "  </thead>\n",
       "  <tbody>\n",
       "    <tr>\n",
       "      <th>OrderTimeDT_NoJob</th>\n",
       "      <td>0.100457</td>\n",
       "      <td>0.150465</td>\n",
       "      <td>0.281428</td>\n",
       "      <td>7.0</td>\n",
       "    </tr>\n",
       "  </tbody>\n",
       "</table>\n",
       "</div>"
      ],
      "text/plain": [
       "                         iv      gini   entropy  unique\n",
       "OrderTimeDT_NoJob  0.100457  0.150465  0.281428     7.0"
      ]
     },
     "execution_count": 68,
     "metadata": {},
     "output_type": "execute_result"
    }
   ],
   "source": [
    "toad.quality(data[['OrderTimeDT_NoJob','target_2cls_NoJob']],target='target_2cls_NoJob')"
   ]
  },
  {
   "cell_type": "code",
   "execution_count": null,
   "metadata": {},
   "outputs": [],
   "source": [
    "#check iv for rest of the target"
   ]
  },
  {
   "cell_type": "code",
   "execution_count": 70,
   "metadata": {},
   "outputs": [
    {
     "data": {
      "text/html": [
       "<div>\n",
       "<style scoped>\n",
       "    .dataframe tbody tr th:only-of-type {\n",
       "        vertical-align: middle;\n",
       "    }\n",
       "\n",
       "    .dataframe tbody tr th {\n",
       "        vertical-align: top;\n",
       "    }\n",
       "\n",
       "    .dataframe thead th {\n",
       "        text-align: right;\n",
       "    }\n",
       "</style>\n",
       "<table border=\"1\" class=\"dataframe\">\n",
       "  <thead>\n",
       "    <tr style=\"text-align: right;\">\n",
       "      <th></th>\n",
       "      <th>BookingID</th>\n",
       "      <th>OrderHour</th>\n",
       "      <th>DayOfWeek</th>\n",
       "      <th>OrderTimeDT_Cancelled</th>\n",
       "      <th>OrderTimeDT_Completed</th>\n",
       "      <th>OrderTimeDT_ELSE</th>\n",
       "      <th>OrderTimeDT_NoJob</th>\n",
       "    </tr>\n",
       "  </thead>\n",
       "  <tbody>\n",
       "    <tr>\n",
       "      <th>0</th>\n",
       "      <td>171970588</td>\n",
       "      <td>11</td>\n",
       "      <td>4</td>\n",
       "      <td>0.103625</td>\n",
       "      <td>0.814538</td>\n",
       "      <td>0.013291</td>\n",
       "      <td>0.069492</td>\n",
       "    </tr>\n",
       "    <tr>\n",
       "      <th>1</th>\n",
       "      <td>174526964</td>\n",
       "      <td>9</td>\n",
       "      <td>7</td>\n",
       "      <td>0.103625</td>\n",
       "      <td>0.786954</td>\n",
       "      <td>0.012206</td>\n",
       "      <td>0.069492</td>\n",
       "    </tr>\n",
       "    <tr>\n",
       "      <th>2</th>\n",
       "      <td>180286324</td>\n",
       "      <td>0</td>\n",
       "      <td>7</td>\n",
       "      <td>0.157953</td>\n",
       "      <td>0.677855</td>\n",
       "      <td>0.017008</td>\n",
       "      <td>0.140237</td>\n",
       "    </tr>\n",
       "    <tr>\n",
       "      <th>3</th>\n",
       "      <td>177228281</td>\n",
       "      <td>9</td>\n",
       "      <td>4</td>\n",
       "      <td>0.103625</td>\n",
       "      <td>0.814538</td>\n",
       "      <td>0.012206</td>\n",
       "      <td>0.069492</td>\n",
       "    </tr>\n",
       "    <tr>\n",
       "      <th>4</th>\n",
       "      <td>170046024</td>\n",
       "      <td>21</td>\n",
       "      <td>4</td>\n",
       "      <td>0.177400</td>\n",
       "      <td>0.674436</td>\n",
       "      <td>0.013037</td>\n",
       "      <td>0.134820</td>\n",
       "    </tr>\n",
       "  </tbody>\n",
       "</table>\n",
       "</div>"
      ],
      "text/plain": [
       "   BookingID  OrderHour  DayOfWeek  OrderTimeDT_Cancelled  \\\n",
       "0  171970588         11          4               0.103625   \n",
       "1  174526964          9          7               0.103625   \n",
       "2  180286324          0          7               0.157953   \n",
       "3  177228281          9          4               0.103625   \n",
       "4  170046024         21          4               0.177400   \n",
       "\n",
       "   OrderTimeDT_Completed  OrderTimeDT_ELSE  OrderTimeDT_NoJob  \n",
       "0               0.814538          0.013291           0.069492  \n",
       "1               0.786954          0.012206           0.069492  \n",
       "2               0.677855          0.017008           0.140237  \n",
       "3               0.814538          0.012206           0.069492  \n",
       "4               0.674436          0.013037           0.134820  "
      ]
     },
     "execution_count": 70,
     "metadata": {},
     "output_type": "execute_result"
    }
   ],
   "source": [
    "data[['BookingID','OrderHour','DayOfWeek','OrderTimeDT_Cancelled','OrderTimeDT_Completed','OrderTimeDT_ELSE','OrderTimeDT_NoJob']].head()"
   ]
  },
  {
   "cell_type": "markdown",
   "metadata": {},
   "source": [
    "## 2.4 Conditions"
   ]
  },
  {
   "cell_type": "code",
   "execution_count": 71,
   "metadata": {
    "scrolled": true
   },
   "outputs": [
    {
     "data": {
      "text/plain": [
       "<toad.transform.Combiner at 0x12a6d7fa0>"
      ]
     },
     "execution_count": 71,
     "metadata": {},
     "output_type": "execute_result"
    }
   ],
   "source": [
    "data['Conditions'] = data['Conditions'].astype(str)\n",
    "validation['Conditions'] = validation['Conditions'].astype(str)\n",
    "c = toad.transform.Combiner()\n",
    "col = 'Conditions'\n",
    "c.fit(data[[col,'target_2cls_Completed']], y = 'target_2cls_Completed', method = 'chi',min_samples = 0.05)\n",
    "#use toad to bin the conditions based on complete rate"
   ]
  },
  {
   "cell_type": "code",
   "execution_count": 72,
   "metadata": {},
   "outputs": [
    {
     "data": {
      "text/plain": [
       "{'Conditions': [['4299161600',\n",
       "   '138412032',\n",
       "   '272629760',\n",
       "   '137439215616',\n",
       "   '274877916238',\n",
       "   '4294983680',\n",
       "   '554054975488',\n",
       "   '275951648800',\n",
       "   '274877906946',\n",
       "   '274894684160',\n",
       "   '275414777856',\n",
       "   '17213423616',\n",
       "   '554050781186',\n",
       "   '17448304640',\n",
       "   '17314086912',\n",
       "   '17179869184',\n",
       "   '12',\n",
       "   '4299161604',\n",
       "   '10',\n",
       "   '549827117056',\n",
       "   '68157440',\n",
       "   '1048640',\n",
       "   '16777248',\n",
       "   '274877906948',\n",
       "   '4456448',\n",
       "   '4194306',\n",
       "   '134234112',\n",
       "   '138412036',\n",
       "   '4194312',\n",
       "   '103079215104',\n",
       "   '274877908040',\n",
       "   '279172874240',\n",
       "   '134218752',\n",
       "   '550028443648',\n",
       "   '17183014912',\n",
       "   '134217734',\n",
       "   '32768',\n",
       "   '549894225920',\n",
       "   '274878955520',\n",
       "   '536887296',\n",
       "   '268435520',\n",
       "   '824633720834',\n",
       "   '4195330',\n",
       "   '824633720832',\n",
       "   '1572864',\n",
       "   '554050781184',\n",
       "   '549793562624',\n",
       "   '34359738368',\n",
       "   '275012124672',\n",
       "   '134217792',\n",
       "   '34359738432',\n",
       "   '32',\n",
       "   '274877906976',\n",
       "   '20971520',\n",
       "   '549890031616',\n",
       "   '16386',\n",
       "   '67108872',\n",
       "   '268435456',\n",
       "   '37748736',\n",
       "   '68719738880',\n",
       "   '268451840',\n",
       "   '4194308',\n",
       "   '550292684800',\n",
       "   '550024249344',\n",
       "   '262208',\n",
       "   '8',\n",
       "   '71303168',\n",
       "   '4295098368',\n",
       "   '33562624',\n",
       "   '549890031620',\n",
       "   '2359296',\n",
       "   '549776785408',\n",
       "   '6',\n",
       "   '275415826432',\n",
       "   '274878046208',\n",
       "   '67174400',\n",
       "   '274878046272',\n",
       "   '67108876',\n",
       "   '274894684162',\n",
       "   '274894684164',\n",
       "   '318767106',\n",
       "   '3162112',\n",
       "   '275146342400',\n",
       "   '309237645312',\n",
       "   '285212674',\n",
       "   '278592',\n",
       "   '274878038080',\n",
       "   '275066807374',\n",
       "   '275163119616',\n",
       "   '274911462472',\n",
       "   '67248128',\n",
       "   '274945015808',\n",
       "   '655360',\n",
       "   '274945015812',\n",
       "   '274945016832',\n",
       "   '274978570242',\n",
       "   '275414778880',\n",
       "   '33554438',\n",
       "   '943182',\n",
       "   '33554504',\n",
       "   '4815217672',\n",
       "   '486539266',\n",
       "   '5100273664',\n",
       "   '549890039808',\n",
       "   '536870920',\n",
       "   '549890031618',\n",
       "   '537001984',\n",
       "   '537018368',\n",
       "   '537133056',\n",
       "   '541065218',\n",
       "   '481036337216',\n",
       "   '549755813890',\n",
       "   '549755814912',\n",
       "   '549755814914',\n",
       "   '549755822148',\n",
       "   '549755830276',\n",
       "   '549755831296',\n",
       "   '549755944960',\n",
       "   '549760008192',\n",
       "   '549760024576',\n",
       "   '549776785412',\n",
       "   '549822922754',\n",
       "   '549755813892',\n",
       "   '33554498',\n",
       "   '4563402752',\n",
       "   '4332716036',\n",
       "   '33555456',\n",
       "   '33685504',\n",
       "   '33816576',\n",
       "   '604012544',\n",
       "   '34393292800',\n",
       "   '34426847232',\n",
       "   '38654836738',\n",
       "   '5661760',\n",
       "   '402653186',\n",
       "   '409600',\n",
       "   '4362076160',\n",
       "   '554050781248',\n",
       "   '4195336',\n",
       "   '4195392',\n",
       "   '4202500',\n",
       "   '550292684804',\n",
       "   '4210692',\n",
       "   '4294975488',\n",
       "   '4296015936',\n",
       "   '4297064512',\n",
       "   '4311744512',\n",
       "   '550024249346',\n",
       "   '4194310',\n",
       "   '274877907972',\n",
       "   '274877915200',\n",
       "   '16777226',\n",
       "   '17180262400',\n",
       "   '68720525312',\n",
       "   '17180917762',\n",
       "   '17180917764',\n",
       "   '17196908544',\n",
       "   '131076',\n",
       "   '17246978048',\n",
       "   '131074',\n",
       "   '137439084544',\n",
       "   '824633720836',\n",
       "   '117702656',\n",
       "   '117440514',\n",
       "   '1092',\n",
       "   '17563648',\n",
       "   '17825792',\n",
       "   '17180147712',\n",
       "   '17180139520',\n",
       "   '17180131330',\n",
       "   '171798691840',\n",
       "   '794624',\n",
       "   '138412034',\n",
       "   '8194',\n",
       "   '139328',\n",
       "   '1467464',\n",
       "   '72',\n",
       "   '134742016',\n",
       "   '18240765966',\n",
       "   '71319552',\n",
       "   '134348800',\n",
       "   '134225920',\n",
       "   '16777222',\n",
       "   '16777228',\n",
       "   '71303170',\n",
       "   '16785410',\n",
       "   '68786585600',\n",
       "   '71311360',\n",
       "   '1835010',\n",
       "   '137438969856',\n",
       "   '1070505026638',\n",
       "   '21478121550',\n",
       "   '68719484928',\n",
       "   '21127168',\n",
       "   '20979712',\n",
       "   '251659336',\n",
       "   '25600',\n",
       "   '1030',\n",
       "   '83886080',\n",
       "   '262152',\n",
       "   '824767938560',\n",
       "   '83886084',\n",
       "   '206158692352',\n",
       "   '824667275264',\n",
       "   '206158430212',\n",
       "   '824637915136',\n",
       "   '824633861120',\n",
       "   '1056964608',\n",
       "   '201326592',\n",
       "   '268435464',\n",
       "   '18874368',\n",
       "   '268436480',\n",
       "   '100663300',\n",
       "   '21474836480',\n",
       "   '21474836482',\n",
       "   '541065216',\n",
       "   '536870912',\n",
       "   '4294967298',\n",
       "   '1310720',\n",
       "   '274877907968',\n",
       "   '4294967296',\n",
       "   '17196646400',\n",
       "   '1088',\n",
       "   '4194368',\n",
       "   '4195332',\n",
       "   '134217728',\n",
       "   '274911461376',\n",
       "   '17246978050',\n",
       "   '67108928',\n",
       "   '20971524',\n",
       "   '17180393472',\n",
       "   '20971522',\n",
       "   '549772591106',\n",
       "   '9216',\n",
       "   '536870914',\n",
       "   '343597383744',\n",
       "   '134217736',\n",
       "   '71303172',\n",
       "   '68719477760',\n",
       "   '549789368320',\n",
       "   '16388',\n",
       "   '67117056',\n",
       "   '17180131328',\n",
       "   '549772591108',\n",
       "   '2',\n",
       "   '16778240',\n",
       "   '2097152',\n",
       "   '134217730',\n",
       "   '37748740',\n",
       "   '8196',\n",
       "   '4195328',\n",
       "   '549755813888',\n",
       "   '262146',\n",
       "   '549822922752',\n",
       "   '549772591104',\n",
       "   '134217732',\n",
       "   '16785408',\n",
       "   '268435458',\n",
       "   '2621440',\n",
       "   '268435460',\n",
       "   '274878038016',\n",
       "   '537395200',\n",
       "   '537919488',\n",
       "   '137438969920',\n",
       "   '548864',\n",
       "   '3145732',\n",
       "   '286720',\n",
       "   '137438954496',\n",
       "   '17301504',\n",
       "   '549755822080',\n",
       "   '206158430210',\n",
       "   '206158431232',\n",
       "   '206159478784',\n",
       "   '66',\n",
       "   '17248026624',\n",
       "   '67371008',\n",
       "   '536879104',\n",
       "   '17197694976',\n",
       "   '137440002048',\n",
       "   '137438953480',\n",
       "   '33570816',\n",
       "   '139264',\n",
       "   '136052736',\n",
       "   '524296',\n",
       "   '147520',\n",
       "   '33554432',\n",
       "   '16777216',\n",
       "   '4294967300',\n",
       "   '16777224',\n",
       "   '67108864',\n",
       "   '262148',\n",
       "   '17408',\n",
       "   '33554496',\n",
       "   '33554440',\n",
       "   '4',\n",
       "   '3145728',\n",
       "   '8256',\n",
       "   '549789368322',\n",
       "   '16777218',\n",
       "   '1024',\n",
       "   '549822922756',\n",
       "   '132096',\n",
       "   '270336',\n",
       "   '33554434',\n",
       "   '1064960',\n",
       "   '274877923328',\n",
       "   '536870916',\n",
       "   '17039360',\n",
       "   '2883584',\n",
       "   '536870976',\n",
       "   '1056768',\n",
       "   '137438953474',\n",
       "   '147456',\n",
       "   '274877923392',\n",
       "   '786432',\n",
       "   '1026',\n",
       "   '1032',\n",
       "   '33554436',\n",
       "   '1028',\n",
       "   '206158430208',\n",
       "   '67108866',\n",
       "   '16777220',\n",
       "   '67108868'],\n",
       "  ['0',\n",
       "   '274877906944',\n",
       "   '274882101312',\n",
       "   '549755830336',\n",
       "   '1048576',\n",
       "   '1048580',\n",
       "   '16384',\n",
       "   '24576',\n",
       "   '549755830272',\n",
       "   '1048578',\n",
       "   '549789368324',\n",
       "   '67239936',\n",
       "   '67125248',\n",
       "   '4218880',\n",
       "   '37748738',\n",
       "   '274882109440',\n",
       "   '4210688',\n",
       "   '8192'],\n",
       "  ['16793600',\n",
       "   '343597383680',\n",
       "   '524288',\n",
       "   '4194304',\n",
       "   '4202496',\n",
       "   '481036337152',\n",
       "   '17180917760',\n",
       "   '274877907008',\n",
       "   '68719476736',\n",
       "   '137438953476',\n",
       "   '4294967360',\n",
       "   '68719476738',\n",
       "   '68719493120',\n",
       "   '262144',\n",
       "   '540672',\n",
       "   '278528',\n",
       "   '274877915136',\n",
       "   '131072',\n",
       "   '16448',\n",
       "   '274882101248',\n",
       "   '1179648',\n",
       "   '412316860480',\n",
       "   '16777280',\n",
       "   '532480',\n",
       "   '137438953472',\n",
       "   '412316860416',\n",
       "   '137438953536',\n",
       "   '8589934592',\n",
       "   '16908288',\n",
       "   '274882117632',\n",
       "   '68719476740',\n",
       "   '393216',\n",
       "   '275418972160',\n",
       "   '524292',\n",
       "   '64',\n",
       "   '68719476800',\n",
       "   '68',\n",
       "   '4325376',\n",
       "   '131136']]}"
      ]
     },
     "execution_count": 72,
     "metadata": {},
     "output_type": "execute_result"
    }
   ],
   "source": [
    "c.export()\n",
    "#binning result"
   ]
  },
  {
   "cell_type": "code",
   "execution_count": 73,
   "metadata": {},
   "outputs": [
    {
     "data": {
      "text/plain": [
       "Text(0, 0.5, 'Proportion')"
      ]
     },
     "execution_count": 73,
     "metadata": {},
     "output_type": "execute_result"
    },
    {
     "data": {
      "image/png": "[encoded data removed]",
      "text/plain": [
       "<Figure size 864x432 with 2 Axes>"
      ]
     },
     "metadata": {},
     "output_type": "display_data"
    }
   ],
   "source": [
    "ax=bin_plot(c.transform(data[[col,'target_2cls_Completed']], labels=False), x=col, target='target_2cls_Completed')\n",
    "ax.set_title(\"Plot of binned conditions based on complete rate\",fontweight='bold',fontsize=20)\n",
    "ax.set_xlabel(\"Bins of conditions\")\n",
    "ax.set_ylabel(\"Proportion\")\n",
    "#visualize binning result and check iv"
   ]
  },
  {
   "cell_type": "code",
   "execution_count": 74,
   "metadata": {},
   "outputs": [
    {
     "data": {
      "text/plain": [
       "Text(0, 0.5, 'Proportion')"
      ]
     },
     "execution_count": 74,
     "metadata": {},
     "output_type": "execute_result"
    },
    {
     "data": {
      "image/png": "[encoded data removed]",
      "text/plain": [
       "<Figure size 864x432 with 2 Axes>"
      ]
     },
     "metadata": {},
     "output_type": "display_data"
    }
   ],
   "source": [
    "ax=bin_plot(c.transform(validation[[col,'target_2cls_Completed']], labels=False), x=col, target='target_2cls_Completed')\n",
    "ax.set_title(\"Plot of binned conditions based on complete rate on validation set\",fontweight='bold',fontsize=20)\n",
    "ax.set_xlabel(\"Bins of conditions\")\n",
    "ax.set_ylabel(\"Proportion\")\n",
    "#visualize binning result on validation set and check iv"
   ]
  },
  {
   "cell_type": "code",
   "execution_count": 75,
   "metadata": {},
   "outputs": [],
   "source": [
    "def ConditionsBins(data, test):\n",
    "    data = data.copy()\n",
    "    test = test.copy()\n",
    "    data['Conditions'] = data['Conditions'].astype(str)\n",
    "    for target,val in zip(['target_2cls_Cancelled','target_2cls_Completed','target_2cls_ELSE','target_2cls_NoJob'],['Cancelled','Completed','ELSE','NoJob']):\n",
    "        c = toad.transform.Combiner()\n",
    "        col = 'Conditions'\n",
    "        c.fit(data[[col,target]], y = target, method = 'chi',min_samples = 0.05)\n",
    "        data['ConditionsBins_'+val] = c.transform(data[['Conditions']], labels=False)\n",
    "        test['ConditionsBins_'+val] = c.transform(test[['Conditions']], labels=False)\n",
    "    return data, test\n",
    "\n",
    "data, validation = ConditionsBins(data, validation)\n",
    "#apply binning to all four target variables "
   ]
  },
  {
   "cell_type": "code",
   "execution_count": 78,
   "metadata": {},
   "outputs": [
    {
     "data": {
      "text/html": [
       "<div>\n",
       "<style scoped>\n",
       "    .dataframe tbody tr th:only-of-type {\n",
       "        vertical-align: middle;\n",
       "    }\n",
       "\n",
       "    .dataframe tbody tr th {\n",
       "        vertical-align: top;\n",
       "    }\n",
       "\n",
       "    .dataframe thead th {\n",
       "        text-align: right;\n",
       "    }\n",
       "</style>\n",
       "<table border=\"1\" class=\"dataframe\">\n",
       "  <thead>\n",
       "    <tr style=\"text-align: right;\">\n",
       "      <th></th>\n",
       "      <th>BookingID</th>\n",
       "      <th>Conditions</th>\n",
       "      <th>ConditionsBins_Cancelled</th>\n",
       "      <th>ConditionsBins_Completed</th>\n",
       "      <th>ConditionsBins_ELSE</th>\n",
       "      <th>ConditionsBins_NoJob</th>\n",
       "    </tr>\n",
       "  </thead>\n",
       "  <tbody>\n",
       "    <tr>\n",
       "      <th>0</th>\n",
       "      <td>171970588</td>\n",
       "      <td>0</td>\n",
       "      <td>0</td>\n",
       "      <td>1</td>\n",
       "      <td>0</td>\n",
       "      <td>3</td>\n",
       "    </tr>\n",
       "    <tr>\n",
       "      <th>1</th>\n",
       "      <td>174526964</td>\n",
       "      <td>0</td>\n",
       "      <td>0</td>\n",
       "      <td>1</td>\n",
       "      <td>0</td>\n",
       "      <td>3</td>\n",
       "    </tr>\n",
       "    <tr>\n",
       "      <th>2</th>\n",
       "      <td>180286324</td>\n",
       "      <td>0</td>\n",
       "      <td>0</td>\n",
       "      <td>1</td>\n",
       "      <td>0</td>\n",
       "      <td>3</td>\n",
       "    </tr>\n",
       "    <tr>\n",
       "      <th>3</th>\n",
       "      <td>177228281</td>\n",
       "      <td>0</td>\n",
       "      <td>0</td>\n",
       "      <td>1</td>\n",
       "      <td>0</td>\n",
       "      <td>3</td>\n",
       "    </tr>\n",
       "    <tr>\n",
       "      <th>4</th>\n",
       "      <td>170046024</td>\n",
       "      <td>0</td>\n",
       "      <td>0</td>\n",
       "      <td>1</td>\n",
       "      <td>0</td>\n",
       "      <td>3</td>\n",
       "    </tr>\n",
       "    <tr>\n",
       "      <th>5</th>\n",
       "      <td>174863088</td>\n",
       "      <td>0</td>\n",
       "      <td>0</td>\n",
       "      <td>1</td>\n",
       "      <td>0</td>\n",
       "      <td>3</td>\n",
       "    </tr>\n",
       "    <tr>\n",
       "      <th>6</th>\n",
       "      <td>169960932</td>\n",
       "      <td>0</td>\n",
       "      <td>0</td>\n",
       "      <td>1</td>\n",
       "      <td>0</td>\n",
       "      <td>3</td>\n",
       "    </tr>\n",
       "    <tr>\n",
       "      <th>7</th>\n",
       "      <td>171324643</td>\n",
       "      <td>0</td>\n",
       "      <td>0</td>\n",
       "      <td>1</td>\n",
       "      <td>0</td>\n",
       "      <td>3</td>\n",
       "    </tr>\n",
       "    <tr>\n",
       "      <th>8</th>\n",
       "      <td>174080542</td>\n",
       "      <td>524288</td>\n",
       "      <td>0</td>\n",
       "      <td>2</td>\n",
       "      <td>1</td>\n",
       "      <td>0</td>\n",
       "    </tr>\n",
       "    <tr>\n",
       "      <th>9</th>\n",
       "      <td>170182731</td>\n",
       "      <td>0</td>\n",
       "      <td>0</td>\n",
       "      <td>1</td>\n",
       "      <td>0</td>\n",
       "      <td>3</td>\n",
       "    </tr>\n",
       "    <tr>\n",
       "      <th>10</th>\n",
       "      <td>173532631</td>\n",
       "      <td>274877906944</td>\n",
       "      <td>0</td>\n",
       "      <td>1</td>\n",
       "      <td>1</td>\n",
       "      <td>2</td>\n",
       "    </tr>\n",
       "    <tr>\n",
       "      <th>11</th>\n",
       "      <td>179408504</td>\n",
       "      <td>0</td>\n",
       "      <td>0</td>\n",
       "      <td>1</td>\n",
       "      <td>0</td>\n",
       "      <td>3</td>\n",
       "    </tr>\n",
       "    <tr>\n",
       "      <th>12</th>\n",
       "      <td>172338120</td>\n",
       "      <td>0</td>\n",
       "      <td>0</td>\n",
       "      <td>1</td>\n",
       "      <td>0</td>\n",
       "      <td>3</td>\n",
       "    </tr>\n",
       "    <tr>\n",
       "      <th>13</th>\n",
       "      <td>178161204</td>\n",
       "      <td>0</td>\n",
       "      <td>0</td>\n",
       "      <td>1</td>\n",
       "      <td>0</td>\n",
       "      <td>3</td>\n",
       "    </tr>\n",
       "    <tr>\n",
       "      <th>14</th>\n",
       "      <td>168372383</td>\n",
       "      <td>262144</td>\n",
       "      <td>0</td>\n",
       "      <td>2</td>\n",
       "      <td>1</td>\n",
       "      <td>0</td>\n",
       "    </tr>\n",
       "    <tr>\n",
       "      <th>15</th>\n",
       "      <td>168909282</td>\n",
       "      <td>64</td>\n",
       "      <td>0</td>\n",
       "      <td>2</td>\n",
       "      <td>1</td>\n",
       "      <td>0</td>\n",
       "    </tr>\n",
       "    <tr>\n",
       "      <th>16</th>\n",
       "      <td>178361686</td>\n",
       "      <td>0</td>\n",
       "      <td>0</td>\n",
       "      <td>1</td>\n",
       "      <td>0</td>\n",
       "      <td>3</td>\n",
       "    </tr>\n",
       "    <tr>\n",
       "      <th>17</th>\n",
       "      <td>178904126</td>\n",
       "      <td>0</td>\n",
       "      <td>0</td>\n",
       "      <td>1</td>\n",
       "      <td>0</td>\n",
       "      <td>3</td>\n",
       "    </tr>\n",
       "    <tr>\n",
       "      <th>18</th>\n",
       "      <td>175336754</td>\n",
       "      <td>0</td>\n",
       "      <td>0</td>\n",
       "      <td>1</td>\n",
       "      <td>0</td>\n",
       "      <td>3</td>\n",
       "    </tr>\n",
       "    <tr>\n",
       "      <th>19</th>\n",
       "      <td>174737322</td>\n",
       "      <td>0</td>\n",
       "      <td>0</td>\n",
       "      <td>1</td>\n",
       "      <td>0</td>\n",
       "      <td>3</td>\n",
       "    </tr>\n",
       "  </tbody>\n",
       "</table>\n",
       "</div>"
      ],
      "text/plain": [
       "    BookingID    Conditions  ConditionsBins_Cancelled  \\\n",
       "0   171970588             0                         0   \n",
       "1   174526964             0                         0   \n",
       "2   180286324             0                         0   \n",
       "3   177228281             0                         0   \n",
       "4   170046024             0                         0   \n",
       "5   174863088             0                         0   \n",
       "6   169960932             0                         0   \n",
       "7   171324643             0                         0   \n",
       "8   174080542        524288                         0   \n",
       "9   170182731             0                         0   \n",
       "10  173532631  274877906944                         0   \n",
       "11  179408504             0                         0   \n",
       "12  172338120             0                         0   \n",
       "13  178161204             0                         0   \n",
       "14  168372383        262144                         0   \n",
       "15  168909282            64                         0   \n",
       "16  178361686             0                         0   \n",
       "17  178904126             0                         0   \n",
       "18  175336754             0                         0   \n",
       "19  174737322             0                         0   \n",
       "\n",
       "    ConditionsBins_Completed  ConditionsBins_ELSE  ConditionsBins_NoJob  \n",
       "0                          1                    0                     3  \n",
       "1                          1                    0                     3  \n",
       "2                          1                    0                     3  \n",
       "3                          1                    0                     3  \n",
       "4                          1                    0                     3  \n",
       "5                          1                    0                     3  \n",
       "6                          1                    0                     3  \n",
       "7                          1                    0                     3  \n",
       "8                          2                    1                     0  \n",
       "9                          1                    0                     3  \n",
       "10                         1                    1                     2  \n",
       "11                         1                    0                     3  \n",
       "12                         1                    0                     3  \n",
       "13                         1                    0                     3  \n",
       "14                         2                    1                     0  \n",
       "15                         2                    1                     0  \n",
       "16                         1                    0                     3  \n",
       "17                         1                    0                     3  \n",
       "18                         1                    0                     3  \n",
       "19                         1                    0                     3  "
      ]
     },
     "execution_count": 78,
     "metadata": {},
     "output_type": "execute_result"
    }
   ],
   "source": [
    "data[['BookingID','Conditions','ConditionsBins_Cancelled','ConditionsBins_Completed','ConditionsBins_ELSE','ConditionsBins_NoJob']].head(20)"
   ]
  },
  {
   "cell_type": "code",
   "execution_count": 79,
   "metadata": {},
   "outputs": [
    {
     "data": {
      "text/html": [
       "<div>\n",
       "<style scoped>\n",
       "    .dataframe tbody tr th:only-of-type {\n",
       "        vertical-align: middle;\n",
       "    }\n",
       "\n",
       "    .dataframe tbody tr th {\n",
       "        vertical-align: top;\n",
       "    }\n",
       "\n",
       "    .dataframe thead th {\n",
       "        text-align: right;\n",
       "    }\n",
       "</style>\n",
       "<table border=\"1\" class=\"dataframe\">\n",
       "  <thead>\n",
       "    <tr style=\"text-align: right;\">\n",
       "      <th></th>\n",
       "      <th>iv</th>\n",
       "      <th>gini</th>\n",
       "      <th>entropy</th>\n",
       "      <th>unique</th>\n",
       "    </tr>\n",
       "  </thead>\n",
       "  <tbody>\n",
       "    <tr>\n",
       "      <th>ConditionsBins_Cancelled</th>\n",
       "      <td>0.041767</td>\n",
       "      <td>0.222731</td>\n",
       "      <td>0.381125</td>\n",
       "      <td>2.0</td>\n",
       "    </tr>\n",
       "  </tbody>\n",
       "</table>\n",
       "</div>"
      ],
      "text/plain": [
       "                                iv      gini   entropy  unique\n",
       "ConditionsBins_Cancelled  0.041767  0.222731  0.381125     2.0"
      ]
     },
     "execution_count": 79,
     "metadata": {},
     "output_type": "execute_result"
    }
   ],
   "source": [
    "toad.quality(data[['ConditionsBins_Cancelled','target_2cls_Cancelled']],target='target_2cls_Cancelled')\n",
    "#check iv for cancelled"
   ]
  },
  {
   "cell_type": "code",
   "execution_count": 80,
   "metadata": {},
   "outputs": [
    {
     "data": {
      "text/html": [
       "<div>\n",
       "<style scoped>\n",
       "    .dataframe tbody tr th:only-of-type {\n",
       "        vertical-align: middle;\n",
       "    }\n",
       "\n",
       "    .dataframe tbody tr th {\n",
       "        vertical-align: top;\n",
       "    }\n",
       "\n",
       "    .dataframe thead th {\n",
       "        text-align: right;\n",
       "    }\n",
       "</style>\n",
       "<table border=\"1\" class=\"dataframe\">\n",
       "  <thead>\n",
       "    <tr style=\"text-align: right;\">\n",
       "      <th></th>\n",
       "      <th>iv</th>\n",
       "      <th>gini</th>\n",
       "      <th>entropy</th>\n",
       "      <th>unique</th>\n",
       "    </tr>\n",
       "  </thead>\n",
       "  <tbody>\n",
       "    <tr>\n",
       "      <th>ConditionsBins_ELSE</th>\n",
       "      <td>0.346219</td>\n",
       "      <td>0.024435</td>\n",
       "      <td>0.064631</td>\n",
       "      <td>2.0</td>\n",
       "    </tr>\n",
       "  </tbody>\n",
       "</table>\n",
       "</div>"
      ],
      "text/plain": [
       "                           iv      gini   entropy  unique\n",
       "ConditionsBins_ELSE  0.346219  0.024435  0.064631     2.0"
      ]
     },
     "execution_count": 80,
     "metadata": {},
     "output_type": "execute_result"
    }
   ],
   "source": [
    "toad.quality(data[['ConditionsBins_ELSE','target_2cls_ELSE']],target='target_2cls_ELSE')\n",
    "#check iv for else"
   ]
  },
  {
   "cell_type": "code",
   "execution_count": 81,
   "metadata": {},
   "outputs": [
    {
     "data": {
      "text/html": [
       "<div>\n",
       "<style scoped>\n",
       "    .dataframe tbody tr th:only-of-type {\n",
       "        vertical-align: middle;\n",
       "    }\n",
       "\n",
       "    .dataframe tbody tr th {\n",
       "        vertical-align: top;\n",
       "    }\n",
       "\n",
       "    .dataframe thead th {\n",
       "        text-align: right;\n",
       "    }\n",
       "</style>\n",
       "<table border=\"1\" class=\"dataframe\">\n",
       "  <thead>\n",
       "    <tr style=\"text-align: right;\">\n",
       "      <th></th>\n",
       "      <th>iv</th>\n",
       "      <th>gini</th>\n",
       "      <th>entropy</th>\n",
       "      <th>unique</th>\n",
       "    </tr>\n",
       "  </thead>\n",
       "  <tbody>\n",
       "    <tr>\n",
       "      <th>ConditionsBins_NoJob</th>\n",
       "      <td>0.23399</td>\n",
       "      <td>0.150224</td>\n",
       "      <td>0.278627</td>\n",
       "      <td>4.0</td>\n",
       "    </tr>\n",
       "  </tbody>\n",
       "</table>\n",
       "</div>"
      ],
      "text/plain": [
       "                           iv      gini   entropy  unique\n",
       "ConditionsBins_NoJob  0.23399  0.150224  0.278627     4.0"
      ]
     },
     "execution_count": 81,
     "metadata": {},
     "output_type": "execute_result"
    }
   ],
   "source": [
    "toad.quality(data[['ConditionsBins_NoJob','target_2cls_NoJob']],target='target_2cls_NoJob')\n",
    "#check iv for nojob"
   ]
  },
  {
   "cell_type": "markdown",
   "metadata": {},
   "source": [
    "## 2.5 Booking Fleet = Dispatch Fleet"
   ]
  },
  {
   "cell_type": "code",
   "execution_count": 82,
   "metadata": {},
   "outputs": [],
   "source": [
    "equal = list()\n",
    "for i in range(data.shape[0]):\n",
    "    if data['BookingFleet'][i] == data['DispatchFleet'][i]:\n",
    "        equal.append('True')\n",
    "    else:\n",
    "        equal.append('False')\n",
    "#check whether booking fleet is the same as dispatch feet and create a new variable"
   ]
  },
  {
   "cell_type": "code",
   "execution_count": 83,
   "metadata": {},
   "outputs": [],
   "source": [
    "equal2 = list()\n",
    "for i in range(validation.shape[0]):\n",
    "    if validation['BookingFleet'][i] == validation['DispatchFleet'][i]:\n",
    "        equal2.append('True')\n",
    "    else:\n",
    "        equal2.append('False')\n",
    "#same for validation set"
   ]
  },
  {
   "cell_type": "code",
   "execution_count": 84,
   "metadata": {},
   "outputs": [],
   "source": [
    "data['BookingisDispatch'] = equal\n",
    "validation['BookingisDispatch'] = equal2\n",
    "#create new boolean variable "
   ]
  },
  {
   "cell_type": "markdown",
   "metadata": {},
   "source": [
    "## 2.6 Dispatch Fleet"
   ]
  },
  {
   "cell_type": "code",
   "execution_count": 86,
   "metadata": {},
   "outputs": [
    {
     "data": {
      "text/plain": [
       "<toad.transform.Combiner at 0x11e9b5b80>"
      ]
     },
     "execution_count": 86,
     "metadata": {},
     "output_type": "execute_result"
    }
   ],
   "source": [
    "c = toad.transform.Combiner()\n",
    "col = 'DispatchFleet'\n",
    "c.fit(data[[col,'target_2cls_Completed']], y = 'target_2cls_Completed', method = 'chi',min_samples = 0.01)\n",
    "#use toad to bin dispatch fleet based on complete rate"
   ]
  },
  {
   "cell_type": "code",
   "execution_count": 87,
   "metadata": {},
   "outputs": [
    {
     "data": {
      "text/plain": [
       "{'DispatchFleet': [['Training Sydney',\n",
       "   'South Western Cabs',\n",
       "   'iHail',\n",
       "   'Sydney Tiger Team',\n",
       "   '13cabs Wollongong',\n",
       "   'WATs Sydney',\n",
       "   'Blue Mountains 13cabs'],\n",
       "  ['13cabs Sydney', 'Test Sydney'],\n",
       "  ['Silver Service Sydney']]}"
      ]
     },
     "execution_count": 87,
     "metadata": {},
     "output_type": "execute_result"
    }
   ],
   "source": [
    "c.export()"
   ]
  },
  {
   "cell_type": "code",
   "execution_count": 88,
   "metadata": {},
   "outputs": [
    {
     "data": {
      "text/plain": [
       "Text(0, 0.5, 'Proportion')"
      ]
     },
     "execution_count": 88,
     "metadata": {},
     "output_type": "execute_result"
    },
    {
     "data": {
      "image/png": "[encoded data removed]",
      "text/plain": [
       "<Figure size 864x432 with 2 Axes>"
      ]
     },
     "metadata": {},
     "output_type": "display_data"
    }
   ],
   "source": [
    "ax=bin_plot(c.transform(data[[col,'target_2cls_Completed']], labels=False), x=col, target='target_2cls_Completed')\n",
    "ax.set_title(\"Plot of binned dispatch fleet based on complete rate\",fontweight='bold',fontsize=20)\n",
    "ax.set_xlabel(\"Bins of conditions\")\n",
    "ax.set_ylabel(\"Proportion\")\n",
    "#visualize the binning result and check for iv"
   ]
  },
  {
   "cell_type": "code",
   "execution_count": 89,
   "metadata": {},
   "outputs": [
    {
     "data": {
      "text/plain": [
       "Text(0, 0.5, 'Proportion')"
      ]
     },
     "execution_count": 89,
     "metadata": {},
     "output_type": "execute_result"
    },
    {
     "data": {
      "image/png": "[encoded data removed]",
      "text/plain": [
       "<Figure size 864x432 with 2 Axes>"
      ]
     },
     "metadata": {},
     "output_type": "display_data"
    }
   ],
   "source": [
    "ax=bin_plot(c.transform(validation[[col,'target_2cls_Completed']], labels=False), x=col, target='target_2cls_Completed')\n",
    "ax.set_title(\"Plot of binned dispatch fleet based on complete rate on validation set\",fontweight='bold',fontsize=20)\n",
    "ax.set_xlabel(\"Bins of conditions\")\n",
    "ax.set_ylabel(\"Proportion\")\n",
    "#visualize on validation set also"
   ]
  },
  {
   "cell_type": "code",
   "execution_count": 90,
   "metadata": {},
   "outputs": [],
   "source": [
    "def DispatchFleetBins(data,data_test):\n",
    "    data = data.copy()\n",
    "    data_test = data_test.copy()\n",
    "    for target,val in zip(['target_2cls_Cancelled','target_2cls_Completed','target_2cls_ELSE','target_2cls_NoJob'],['Cancelled','Completed','ELSE','NoJob']):\n",
    "        c = toad.transform.Combiner()\n",
    "        col = 'DispatchFleet'\n",
    "        c.fit(data[[col,target]], y = target, method = 'chi',min_samples = 0.01) \n",
    "        data['DispatchFleetBins_'+val] = c.transform(data[['DispatchFleet']], labels=False) \n",
    "        data_test['DispatchFleetBins_'+val] = c.transform(data_test[['DispatchFleet']], labels=False)\n",
    "    return data, data_test\n",
    "\n",
    "data,validation = DispatchFleetBins(data,validation)\n",
    "#apply binning to all four target variables"
   ]
  },
  {
   "cell_type": "code",
   "execution_count": 93,
   "metadata": {},
   "outputs": [
    {
     "data": {
      "text/html": [
       "<div>\n",
       "<style scoped>\n",
       "    .dataframe tbody tr th:only-of-type {\n",
       "        vertical-align: middle;\n",
       "    }\n",
       "\n",
       "    .dataframe tbody tr th {\n",
       "        vertical-align: top;\n",
       "    }\n",
       "\n",
       "    .dataframe thead th {\n",
       "        text-align: right;\n",
       "    }\n",
       "</style>\n",
       "<table border=\"1\" class=\"dataframe\">\n",
       "  <thead>\n",
       "    <tr style=\"text-align: right;\">\n",
       "      <th></th>\n",
       "      <th>BookingID</th>\n",
       "      <th>DispatchFleet</th>\n",
       "      <th>DispatchFleetBins_Cancelled</th>\n",
       "      <th>DispatchFleetBins_Completed</th>\n",
       "      <th>DispatchFleetBins_ELSE</th>\n",
       "      <th>DispatchFleetBins_NoJob</th>\n",
       "    </tr>\n",
       "  </thead>\n",
       "  <tbody>\n",
       "    <tr>\n",
       "      <th>0</th>\n",
       "      <td>171970588</td>\n",
       "      <td>13cabs Sydney</td>\n",
       "      <td>1</td>\n",
       "      <td>1</td>\n",
       "      <td>1</td>\n",
       "      <td>2</td>\n",
       "    </tr>\n",
       "    <tr>\n",
       "      <th>1</th>\n",
       "      <td>174526964</td>\n",
       "      <td>13cabs Sydney</td>\n",
       "      <td>1</td>\n",
       "      <td>1</td>\n",
       "      <td>1</td>\n",
       "      <td>2</td>\n",
       "    </tr>\n",
       "    <tr>\n",
       "      <th>2</th>\n",
       "      <td>180286324</td>\n",
       "      <td>13cabs Sydney</td>\n",
       "      <td>1</td>\n",
       "      <td>1</td>\n",
       "      <td>1</td>\n",
       "      <td>2</td>\n",
       "    </tr>\n",
       "    <tr>\n",
       "      <th>3</th>\n",
       "      <td>177228281</td>\n",
       "      <td>13cabs Sydney</td>\n",
       "      <td>1</td>\n",
       "      <td>1</td>\n",
       "      <td>1</td>\n",
       "      <td>2</td>\n",
       "    </tr>\n",
       "    <tr>\n",
       "      <th>4</th>\n",
       "      <td>170046024</td>\n",
       "      <td>13cabs Sydney</td>\n",
       "      <td>1</td>\n",
       "      <td>1</td>\n",
       "      <td>1</td>\n",
       "      <td>2</td>\n",
       "    </tr>\n",
       "    <tr>\n",
       "      <th>5</th>\n",
       "      <td>174863088</td>\n",
       "      <td>13cabs Sydney</td>\n",
       "      <td>1</td>\n",
       "      <td>1</td>\n",
       "      <td>1</td>\n",
       "      <td>2</td>\n",
       "    </tr>\n",
       "    <tr>\n",
       "      <th>6</th>\n",
       "      <td>169960932</td>\n",
       "      <td>Silver Service Sydney</td>\n",
       "      <td>0</td>\n",
       "      <td>2</td>\n",
       "      <td>0</td>\n",
       "      <td>0</td>\n",
       "    </tr>\n",
       "    <tr>\n",
       "      <th>7</th>\n",
       "      <td>171324643</td>\n",
       "      <td>Silver Service Sydney</td>\n",
       "      <td>0</td>\n",
       "      <td>2</td>\n",
       "      <td>0</td>\n",
       "      <td>0</td>\n",
       "    </tr>\n",
       "    <tr>\n",
       "      <th>8</th>\n",
       "      <td>174080542</td>\n",
       "      <td>13cabs Sydney</td>\n",
       "      <td>1</td>\n",
       "      <td>1</td>\n",
       "      <td>1</td>\n",
       "      <td>2</td>\n",
       "    </tr>\n",
       "    <tr>\n",
       "      <th>9</th>\n",
       "      <td>170182731</td>\n",
       "      <td>Silver Service Sydney</td>\n",
       "      <td>0</td>\n",
       "      <td>2</td>\n",
       "      <td>0</td>\n",
       "      <td>0</td>\n",
       "    </tr>\n",
       "  </tbody>\n",
       "</table>\n",
       "</div>"
      ],
      "text/plain": [
       "   BookingID          DispatchFleet  DispatchFleetBins_Cancelled  \\\n",
       "0  171970588          13cabs Sydney                            1   \n",
       "1  174526964          13cabs Sydney                            1   \n",
       "2  180286324          13cabs Sydney                            1   \n",
       "3  177228281          13cabs Sydney                            1   \n",
       "4  170046024          13cabs Sydney                            1   \n",
       "5  174863088          13cabs Sydney                            1   \n",
       "6  169960932  Silver Service Sydney                            0   \n",
       "7  171324643  Silver Service Sydney                            0   \n",
       "8  174080542          13cabs Sydney                            1   \n",
       "9  170182731  Silver Service Sydney                            0   \n",
       "\n",
       "   DispatchFleetBins_Completed  DispatchFleetBins_ELSE  \\\n",
       "0                            1                       1   \n",
       "1                            1                       1   \n",
       "2                            1                       1   \n",
       "3                            1                       1   \n",
       "4                            1                       1   \n",
       "5                            1                       1   \n",
       "6                            2                       0   \n",
       "7                            2                       0   \n",
       "8                            1                       1   \n",
       "9                            2                       0   \n",
       "\n",
       "   DispatchFleetBins_NoJob  \n",
       "0                        2  \n",
       "1                        2  \n",
       "2                        2  \n",
       "3                        2  \n",
       "4                        2  \n",
       "5                        2  \n",
       "6                        0  \n",
       "7                        0  \n",
       "8                        2  \n",
       "9                        0  "
      ]
     },
     "execution_count": 93,
     "metadata": {},
     "output_type": "execute_result"
    }
   ],
   "source": [
    "data[['BookingID','DispatchFleet','DispatchFleetBins_Cancelled','DispatchFleetBins_Completed','DispatchFleetBins_ELSE','DispatchFleetBins_NoJob']].head(10)"
   ]
  },
  {
   "cell_type": "code",
   "execution_count": 94,
   "metadata": {},
   "outputs": [
    {
     "data": {
      "text/html": [
       "<div>\n",
       "<style scoped>\n",
       "    .dataframe tbody tr th:only-of-type {\n",
       "        vertical-align: middle;\n",
       "    }\n",
       "\n",
       "    .dataframe tbody tr th {\n",
       "        vertical-align: top;\n",
       "    }\n",
       "\n",
       "    .dataframe thead th {\n",
       "        text-align: right;\n",
       "    }\n",
       "</style>\n",
       "<table border=\"1\" class=\"dataframe\">\n",
       "  <thead>\n",
       "    <tr style=\"text-align: right;\">\n",
       "      <th></th>\n",
       "      <th>iv</th>\n",
       "      <th>gini</th>\n",
       "      <th>entropy</th>\n",
       "      <th>unique</th>\n",
       "    </tr>\n",
       "  </thead>\n",
       "  <tbody>\n",
       "    <tr>\n",
       "      <th>DispatchFleetBins_Cancelled</th>\n",
       "      <td>1.411809</td>\n",
       "      <td>0.208251</td>\n",
       "      <td>0.334045</td>\n",
       "      <td>3.0</td>\n",
       "    </tr>\n",
       "  </tbody>\n",
       "</table>\n",
       "</div>"
      ],
      "text/plain": [
       "                                   iv      gini   entropy  unique\n",
       "DispatchFleetBins_Cancelled  1.411809  0.208251  0.334045     3.0"
      ]
     },
     "execution_count": 94,
     "metadata": {},
     "output_type": "execute_result"
    }
   ],
   "source": [
    "toad.quality(data[['DispatchFleetBins_Cancelled','target_2cls_Cancelled']],target='target_2cls_Cancelled')\n",
    "#check iv for cancelled"
   ]
  },
  {
   "cell_type": "code",
   "execution_count": 95,
   "metadata": {},
   "outputs": [
    {
     "data": {
      "text/html": [
       "<div>\n",
       "<style scoped>\n",
       "    .dataframe tbody tr th:only-of-type {\n",
       "        vertical-align: middle;\n",
       "    }\n",
       "\n",
       "    .dataframe tbody tr th {\n",
       "        vertical-align: top;\n",
       "    }\n",
       "\n",
       "    .dataframe thead th {\n",
       "        text-align: right;\n",
       "    }\n",
       "</style>\n",
       "<table border=\"1\" class=\"dataframe\">\n",
       "  <thead>\n",
       "    <tr style=\"text-align: right;\">\n",
       "      <th></th>\n",
       "      <th>iv</th>\n",
       "      <th>gini</th>\n",
       "      <th>entropy</th>\n",
       "      <th>unique</th>\n",
       "    </tr>\n",
       "  </thead>\n",
       "  <tbody>\n",
       "    <tr>\n",
       "      <th>DispatchFleetBins_ELSE</th>\n",
       "      <td>1.077869</td>\n",
       "      <td>0.024048</td>\n",
       "      <td>0.060731</td>\n",
       "      <td>3.0</td>\n",
       "    </tr>\n",
       "  </tbody>\n",
       "</table>\n",
       "</div>"
      ],
      "text/plain": [
       "                              iv      gini   entropy  unique\n",
       "DispatchFleetBins_ELSE  1.077869  0.024048  0.060731     3.0"
      ]
     },
     "execution_count": 95,
     "metadata": {},
     "output_type": "execute_result"
    }
   ],
   "source": [
    "toad.quality(data[['DispatchFleetBins_ELSE','target_2cls_ELSE']],target='target_2cls_ELSE')\n",
    "#check iv for else"
   ]
  },
  {
   "cell_type": "code",
   "execution_count": 96,
   "metadata": {},
   "outputs": [
    {
     "data": {
      "text/html": [
       "<div>\n",
       "<style scoped>\n",
       "    .dataframe tbody tr th:only-of-type {\n",
       "        vertical-align: middle;\n",
       "    }\n",
       "\n",
       "    .dataframe tbody tr th {\n",
       "        vertical-align: top;\n",
       "    }\n",
       "\n",
       "    .dataframe thead th {\n",
       "        text-align: right;\n",
       "    }\n",
       "</style>\n",
       "<table border=\"1\" class=\"dataframe\">\n",
       "  <thead>\n",
       "    <tr style=\"text-align: right;\">\n",
       "      <th></th>\n",
       "      <th>iv</th>\n",
       "      <th>gini</th>\n",
       "      <th>entropy</th>\n",
       "      <th>unique</th>\n",
       "    </tr>\n",
       "  </thead>\n",
       "  <tbody>\n",
       "    <tr>\n",
       "      <th>DispatchFleetBins_NoJob</th>\n",
       "      <td>0.957894</td>\n",
       "      <td>0.145694</td>\n",
       "      <td>0.258893</td>\n",
       "      <td>3.0</td>\n",
       "    </tr>\n",
       "  </tbody>\n",
       "</table>\n",
       "</div>"
      ],
      "text/plain": [
       "                               iv      gini   entropy  unique\n",
       "DispatchFleetBins_NoJob  0.957894  0.145694  0.258893     3.0"
      ]
     },
     "execution_count": 96,
     "metadata": {},
     "output_type": "execute_result"
    }
   ],
   "source": [
    "toad.quality(data[['DispatchFleetBins_NoJob','target_2cls_NoJob']],target='target_2cls_NoJob')\n",
    "#check iv for nojob"
   ]
  },
  {
   "cell_type": "markdown",
   "metadata": {},
   "source": [
    "## 2.7 Booking Fleet"
   ]
  },
  {
   "cell_type": "code",
   "execution_count": 58,
   "metadata": {},
   "outputs": [],
   "source": [
    "#before_booking=data.to_csv('mid.csv')"
   ]
  },
  {
   "cell_type": "code",
   "execution_count": 68,
   "metadata": {},
   "outputs": [],
   "source": [
    "#before_booking_val=validation.to_csv('midval.csv')"
   ]
  },
  {
   "cell_type": "code",
   "execution_count": 2,
   "metadata": {},
   "outputs": [],
   "source": [
    "#data=pd.read_csv('mid.csv')"
   ]
  },
  {
   "cell_type": "code",
   "execution_count": 3,
   "metadata": {},
   "outputs": [],
   "source": [
    "#validation=pd.read_csv('midval.csv')"
   ]
  },
  {
   "cell_type": "code",
   "execution_count": 4,
   "metadata": {},
   "outputs": [],
   "source": [
    "#data = data.iloc[:,1:]"
   ]
  },
  {
   "cell_type": "code",
   "execution_count": 5,
   "metadata": {},
   "outputs": [],
   "source": [
    "#validation = validation.iloc[:,1:]"
   ]
  },
  {
   "cell_type": "code",
   "execution_count": 97,
   "metadata": {},
   "outputs": [
    {
     "data": {
      "text/html": [
       "<div>\n",
       "<style scoped>\n",
       "    .dataframe tbody tr th:only-of-type {\n",
       "        vertical-align: middle;\n",
       "    }\n",
       "\n",
       "    .dataframe tbody tr th {\n",
       "        vertical-align: top;\n",
       "    }\n",
       "\n",
       "    .dataframe thead tr th {\n",
       "        text-align: left;\n",
       "    }\n",
       "\n",
       "    .dataframe thead tr:last-of-type th {\n",
       "        text-align: right;\n",
       "    }\n",
       "</style>\n",
       "<table border=\"1\" class=\"dataframe\">\n",
       "  <thead>\n",
       "    <tr>\n",
       "      <th></th>\n",
       "      <th colspan=\"2\" halign=\"left\">target_2cls_Completed</th>\n",
       "    </tr>\n",
       "    <tr>\n",
       "      <th></th>\n",
       "      <th>mean</th>\n",
       "      <th>count</th>\n",
       "    </tr>\n",
       "    <tr>\n",
       "      <th>BookingFleet</th>\n",
       "      <th></th>\n",
       "      <th></th>\n",
       "    </tr>\n",
       "  </thead>\n",
       "  <tbody>\n",
       "    <tr>\n",
       "      <th>Training Sydney</th>\n",
       "      <td>0.002483</td>\n",
       "      <td>2416</td>\n",
       "    </tr>\n",
       "    <tr>\n",
       "      <th>iHail</th>\n",
       "      <td>0.394737</td>\n",
       "      <td>304</td>\n",
       "    </tr>\n",
       "    <tr>\n",
       "      <th>Sydney Tiger Team</th>\n",
       "      <td>0.466667</td>\n",
       "      <td>15</td>\n",
       "    </tr>\n",
       "    <tr>\n",
       "      <th>Blue Mountains 13cabs</th>\n",
       "      <td>0.654786</td>\n",
       "      <td>21352</td>\n",
       "    </tr>\n",
       "    <tr>\n",
       "      <th>Test Sydney</th>\n",
       "      <td>0.708333</td>\n",
       "      <td>96</td>\n",
       "    </tr>\n",
       "    <tr>\n",
       "      <th>South Western Cabs</th>\n",
       "      <td>0.719902</td>\n",
       "      <td>814</td>\n",
       "    </tr>\n",
       "    <tr>\n",
       "      <th>13cabs Sydney</th>\n",
       "      <td>0.772805</td>\n",
       "      <td>2766068</td>\n",
       "    </tr>\n",
       "    <tr>\n",
       "      <th>WATs Sydney</th>\n",
       "      <td>0.832917</td>\n",
       "      <td>118037</td>\n",
       "    </tr>\n",
       "    <tr>\n",
       "      <th>Silver Service Sydney</th>\n",
       "      <td>0.860334</td>\n",
       "      <td>90881</td>\n",
       "    </tr>\n",
       "    <tr>\n",
       "      <th>13cabs Wollongong</th>\n",
       "      <td>0.941176</td>\n",
       "      <td>17</td>\n",
       "    </tr>\n",
       "  </tbody>\n",
       "</table>\n",
       "</div>"
      ],
      "text/plain": [
       "                      target_2cls_Completed         \n",
       "                                       mean    count\n",
       "BookingFleet                                        \n",
       "Training Sydney                    0.002483     2416\n",
       "iHail                              0.394737      304\n",
       "Sydney Tiger Team                  0.466667       15\n",
       "Blue Mountains 13cabs              0.654786    21352\n",
       "Test Sydney                        0.708333       96\n",
       "South Western Cabs                 0.719902      814\n",
       "13cabs Sydney                      0.772805  2766068\n",
       "WATs Sydney                        0.832917   118037\n",
       "Silver Service Sydney              0.860334    90881\n",
       "13cabs Wollongong                  0.941176       17"
      ]
     },
     "execution_count": 97,
     "metadata": {},
     "output_type": "execute_result"
    }
   ],
   "source": [
    "data[['BookingFleet','target_2cls_Completed']].groupby('BookingFleet').agg(['mean','count']).\\\n",
    "sort_values(by=('target_2cls_Completed','mean'),ascending=True)"
   ]
  },
  {
   "cell_type": "code",
   "execution_count": 98,
   "metadata": {
    "scrolled": true
   },
   "outputs": [
    {
     "data": {
      "text/plain": [
       "<toad.transform.Combiner at 0x11e9acee0>"
      ]
     },
     "execution_count": 98,
     "metadata": {},
     "output_type": "execute_result"
    }
   ],
   "source": [
    "c = toad.transform.Combiner()\n",
    "col = 'BookingFleet'\n",
    "c.fit(data[[col,'target_2cls_Completed']], y = 'target_2cls_Completed', method = 'chi',min_samples = 0.001)\n",
    "#use toad to bin booking fleet based on complete rate"
   ]
  },
  {
   "cell_type": "code",
   "execution_count": 99,
   "metadata": {},
   "outputs": [
    {
     "data": {
      "text/plain": [
       "{'BookingFleet': [['Training Sydney',\n",
       "   'iHail',\n",
       "   'Sydney Tiger Team',\n",
       "   'Blue Mountains 13cabs',\n",
       "   'Test Sydney',\n",
       "   'South Western Cabs'],\n",
       "  ['13cabs Sydney'],\n",
       "  ['WATs Sydney', 'Silver Service Sydney', '13cabs Wollongong']]}"
      ]
     },
     "execution_count": 99,
     "metadata": {},
     "output_type": "execute_result"
    }
   ],
   "source": [
    "c.export()#binning result"
   ]
  },
  {
   "cell_type": "code",
   "execution_count": 100,
   "metadata": {},
   "outputs": [
    {
     "data": {
      "text/plain": [
       "Text(0, 0.5, 'Proportion')"
      ]
     },
     "execution_count": 100,
     "metadata": {},
     "output_type": "execute_result"
    },
    {
     "data": {
      "image/png": "[encoded data removed]",
      "text/plain": [
       "<Figure size 864x432 with 2 Axes>"
      ]
     },
     "metadata": {},
     "output_type": "display_data"
    }
   ],
   "source": [
    "ax=bin_plot(c.transform(data[[col,'target_2cls_Completed']], labels=False), x=col, target='target_2cls_Completed')\n",
    "ax.set_title(\"Plot of binned booking fleet based on complete rate\",fontweight='bold',fontsize=20)\n",
    "ax.set_xlabel(\"Bins of conditions\")\n",
    "ax.set_ylabel(\"Proportion\")\n",
    "#visualize the binning result and check for iv"
   ]
  },
  {
   "cell_type": "code",
   "execution_count": 101,
   "metadata": {},
   "outputs": [
    {
     "data": {
      "text/plain": [
       "Text(0, 0.5, 'Proportion')"
      ]
     },
     "execution_count": 101,
     "metadata": {},
     "output_type": "execute_result"
    },
    {
     "data": {
      "image/png": "[encoded data removed]",
      "text/plain": [
       "<Figure size 864x432 with 2 Axes>"
      ]
     },
     "metadata": {},
     "output_type": "display_data"
    }
   ],
   "source": [
    "ax=bin_plot(c.transform(validation[[col,'target_2cls_Completed']], labels=False), x=col, target='target_2cls_Completed')\n",
    "ax.set_title(\"Plot of binned dispatch fleet based on complete rate on validation set\",fontweight='bold',fontsize=20)\n",
    "ax.set_xlabel(\"Bins of conditions\")\n",
    "ax.set_ylabel(\"Proportion\")\n",
    "#visualize the binning result on validation set and check for iv"
   ]
  },
  {
   "cell_type": "code",
   "execution_count": null,
   "metadata": {},
   "outputs": [],
   "source": [
    "#the iv is quite low which means booking fleet is not a good feature for predicting complete"
   ]
  },
  {
   "cell_type": "code",
   "execution_count": 102,
   "metadata": {},
   "outputs": [],
   "source": [
    "def BookingFleetBins(data,data_test):\n",
    "    data = data.copy()\n",
    "    data_test = data_test.copy()\n",
    "    for target,val in zip(['target_2cls_Cancelled','target_2cls_Completed','target_2cls_ELSE','target_2cls_NoJob'],['Cancelled','Completed','ELSE','NoJob']):\n",
    "        c = toad.transform.Combiner()\n",
    "        col = 'BookingFleet'\n",
    "        c.fit(data[[col,target]], y = target, method = 'chi',min_samples = 0.001) \n",
    "        data['BookingFleetBins_'+val] = c.transform(data[['BookingFleet']], labels=False) \n",
    "        data_test['BookingFleetBins_'+val] = c.transform(data_test[['BookingFleet']], labels=False)\n",
    "    return data, data_test\n",
    "\n",
    "data,validation = BookingFleetBins(data,validation)\n",
    "#apply binning to all four target variables"
   ]
  },
  {
   "cell_type": "code",
   "execution_count": 103,
   "metadata": {},
   "outputs": [
    {
     "data": {
      "text/html": [
       "<div>\n",
       "<style scoped>\n",
       "    .dataframe tbody tr th:only-of-type {\n",
       "        vertical-align: middle;\n",
       "    }\n",
       "\n",
       "    .dataframe tbody tr th {\n",
       "        vertical-align: top;\n",
       "    }\n",
       "\n",
       "    .dataframe thead th {\n",
       "        text-align: right;\n",
       "    }\n",
       "</style>\n",
       "<table border=\"1\" class=\"dataframe\">\n",
       "  <thead>\n",
       "    <tr style=\"text-align: right;\">\n",
       "      <th></th>\n",
       "      <th>iv</th>\n",
       "      <th>gini</th>\n",
       "      <th>entropy</th>\n",
       "      <th>unique</th>\n",
       "    </tr>\n",
       "  </thead>\n",
       "  <tbody>\n",
       "    <tr>\n",
       "      <th>BookingFleetBins_Cancelled</th>\n",
       "      <td>0.033075</td>\n",
       "      <td>0.223436</td>\n",
       "      <td>0.382003</td>\n",
       "      <td>4.0</td>\n",
       "    </tr>\n",
       "  </tbody>\n",
       "</table>\n",
       "</div>"
      ],
      "text/plain": [
       "                                  iv      gini   entropy  unique\n",
       "BookingFleetBins_Cancelled  0.033075  0.223436  0.382003     4.0"
      ]
     },
     "execution_count": 103,
     "metadata": {},
     "output_type": "execute_result"
    }
   ],
   "source": [
    "toad.quality(data[['BookingFleetBins_Cancelled','target_2cls_Cancelled']],target='target_2cls_Cancelled')"
   ]
  },
  {
   "cell_type": "code",
   "execution_count": 104,
   "metadata": {},
   "outputs": [
    {
     "data": {
      "text/html": [
       "<div>\n",
       "<style scoped>\n",
       "    .dataframe tbody tr th:only-of-type {\n",
       "        vertical-align: middle;\n",
       "    }\n",
       "\n",
       "    .dataframe tbody tr th {\n",
       "        vertical-align: top;\n",
       "    }\n",
       "\n",
       "    .dataframe thead th {\n",
       "        text-align: right;\n",
       "    }\n",
       "</style>\n",
       "<table border=\"1\" class=\"dataframe\">\n",
       "  <thead>\n",
       "    <tr style=\"text-align: right;\">\n",
       "      <th></th>\n",
       "      <th>iv</th>\n",
       "      <th>gini</th>\n",
       "      <th>entropy</th>\n",
       "      <th>unique</th>\n",
       "    </tr>\n",
       "  </thead>\n",
       "  <tbody>\n",
       "    <tr>\n",
       "      <th>BookingFleetBins_ELSE</th>\n",
       "      <td>0.254508</td>\n",
       "      <td>0.024455</td>\n",
       "      <td>0.065169</td>\n",
       "      <td>2.0</td>\n",
       "    </tr>\n",
       "  </tbody>\n",
       "</table>\n",
       "</div>"
      ],
      "text/plain": [
       "                             iv      gini   entropy  unique\n",
       "BookingFleetBins_ELSE  0.254508  0.024455  0.065169     2.0"
      ]
     },
     "execution_count": 104,
     "metadata": {},
     "output_type": "execute_result"
    }
   ],
   "source": [
    "toad.quality(data[['BookingFleetBins_ELSE','target_2cls_ELSE']],target='target_2cls_ELSE')"
   ]
  },
  {
   "cell_type": "code",
   "execution_count": 105,
   "metadata": {},
   "outputs": [
    {
     "data": {
      "text/html": [
       "<div>\n",
       "<style scoped>\n",
       "    .dataframe tbody tr th:only-of-type {\n",
       "        vertical-align: middle;\n",
       "    }\n",
       "\n",
       "    .dataframe tbody tr th {\n",
       "        vertical-align: top;\n",
       "    }\n",
       "\n",
       "    .dataframe thead th {\n",
       "        text-align: right;\n",
       "    }\n",
       "</style>\n",
       "<table border=\"1\" class=\"dataframe\">\n",
       "  <thead>\n",
       "    <tr style=\"text-align: right;\">\n",
       "      <th></th>\n",
       "      <th>iv</th>\n",
       "      <th>gini</th>\n",
       "      <th>entropy</th>\n",
       "      <th>unique</th>\n",
       "    </tr>\n",
       "  </thead>\n",
       "  <tbody>\n",
       "    <tr>\n",
       "      <th>DispatchFleetBins_NoJob</th>\n",
       "      <td>0.957894</td>\n",
       "      <td>0.145694</td>\n",
       "      <td>0.258893</td>\n",
       "      <td>3.0</td>\n",
       "    </tr>\n",
       "  </tbody>\n",
       "</table>\n",
       "</div>"
      ],
      "text/plain": [
       "                               iv      gini   entropy  unique\n",
       "DispatchFleetBins_NoJob  0.957894  0.145694  0.258893     3.0"
      ]
     },
     "execution_count": 105,
     "metadata": {},
     "output_type": "execute_result"
    }
   ],
   "source": [
    "toad.quality(data[['DispatchFleetBins_NoJob','target_2cls_NoJob']],target='target_2cls_NoJob')"
   ]
  },
  {
   "cell_type": "code",
   "execution_count": 106,
   "metadata": {},
   "outputs": [],
   "source": [
    "#however, the iv for else and nojob is high, we can still use this feature "
   ]
  },
  {
   "cell_type": "code",
   "execution_count": 107,
   "metadata": {},
   "outputs": [
    {
     "data": {
      "text/html": [
       "<div>\n",
       "<style scoped>\n",
       "    .dataframe tbody tr th:only-of-type {\n",
       "        vertical-align: middle;\n",
       "    }\n",
       "\n",
       "    .dataframe tbody tr th {\n",
       "        vertical-align: top;\n",
       "    }\n",
       "\n",
       "    .dataframe thead th {\n",
       "        text-align: right;\n",
       "    }\n",
       "</style>\n",
       "<table border=\"1\" class=\"dataframe\">\n",
       "  <thead>\n",
       "    <tr style=\"text-align: right;\">\n",
       "      <th></th>\n",
       "      <th>BookingID</th>\n",
       "      <th>BookingFleet</th>\n",
       "      <th>BookingFleetBins_Cancelled</th>\n",
       "      <th>BookingFleetBins_Completed</th>\n",
       "      <th>BookingFleetBins_ELSE</th>\n",
       "      <th>BookingFleetBins_NoJob</th>\n",
       "    </tr>\n",
       "  </thead>\n",
       "  <tbody>\n",
       "    <tr>\n",
       "      <th>0</th>\n",
       "      <td>171970588</td>\n",
       "      <td>13cabs Sydney</td>\n",
       "      <td>2</td>\n",
       "      <td>1</td>\n",
       "      <td>0</td>\n",
       "      <td>2</td>\n",
       "    </tr>\n",
       "    <tr>\n",
       "      <th>1</th>\n",
       "      <td>174526964</td>\n",
       "      <td>13cabs Sydney</td>\n",
       "      <td>2</td>\n",
       "      <td>1</td>\n",
       "      <td>0</td>\n",
       "      <td>2</td>\n",
       "    </tr>\n",
       "    <tr>\n",
       "      <th>2</th>\n",
       "      <td>180286324</td>\n",
       "      <td>13cabs Sydney</td>\n",
       "      <td>2</td>\n",
       "      <td>1</td>\n",
       "      <td>0</td>\n",
       "      <td>2</td>\n",
       "    </tr>\n",
       "    <tr>\n",
       "      <th>3</th>\n",
       "      <td>177228281</td>\n",
       "      <td>13cabs Sydney</td>\n",
       "      <td>2</td>\n",
       "      <td>1</td>\n",
       "      <td>0</td>\n",
       "      <td>2</td>\n",
       "    </tr>\n",
       "    <tr>\n",
       "      <th>4</th>\n",
       "      <td>170046024</td>\n",
       "      <td>13cabs Sydney</td>\n",
       "      <td>2</td>\n",
       "      <td>1</td>\n",
       "      <td>0</td>\n",
       "      <td>2</td>\n",
       "    </tr>\n",
       "    <tr>\n",
       "      <th>5</th>\n",
       "      <td>174863088</td>\n",
       "      <td>13cabs Sydney</td>\n",
       "      <td>2</td>\n",
       "      <td>1</td>\n",
       "      <td>0</td>\n",
       "      <td>2</td>\n",
       "    </tr>\n",
       "    <tr>\n",
       "      <th>6</th>\n",
       "      <td>169960932</td>\n",
       "      <td>13cabs Sydney</td>\n",
       "      <td>2</td>\n",
       "      <td>1</td>\n",
       "      <td>0</td>\n",
       "      <td>2</td>\n",
       "    </tr>\n",
       "    <tr>\n",
       "      <th>7</th>\n",
       "      <td>171324643</td>\n",
       "      <td>Silver Service Sydney</td>\n",
       "      <td>0</td>\n",
       "      <td>2</td>\n",
       "      <td>1</td>\n",
       "      <td>1</td>\n",
       "    </tr>\n",
       "    <tr>\n",
       "      <th>8</th>\n",
       "      <td>174080542</td>\n",
       "      <td>WATs Sydney</td>\n",
       "      <td>1</td>\n",
       "      <td>2</td>\n",
       "      <td>1</td>\n",
       "      <td>0</td>\n",
       "    </tr>\n",
       "    <tr>\n",
       "      <th>9</th>\n",
       "      <td>170182731</td>\n",
       "      <td>13cabs Sydney</td>\n",
       "      <td>2</td>\n",
       "      <td>1</td>\n",
       "      <td>0</td>\n",
       "      <td>2</td>\n",
       "    </tr>\n",
       "  </tbody>\n",
       "</table>\n",
       "</div>"
      ],
      "text/plain": [
       "   BookingID           BookingFleet  BookingFleetBins_Cancelled  \\\n",
       "0  171970588          13cabs Sydney                           2   \n",
       "1  174526964          13cabs Sydney                           2   \n",
       "2  180286324          13cabs Sydney                           2   \n",
       "3  177228281          13cabs Sydney                           2   \n",
       "4  170046024          13cabs Sydney                           2   \n",
       "5  174863088          13cabs Sydney                           2   \n",
       "6  169960932          13cabs Sydney                           2   \n",
       "7  171324643  Silver Service Sydney                           0   \n",
       "8  174080542            WATs Sydney                           1   \n",
       "9  170182731          13cabs Sydney                           2   \n",
       "\n",
       "   BookingFleetBins_Completed  BookingFleetBins_ELSE  BookingFleetBins_NoJob  \n",
       "0                           1                      0                       2  \n",
       "1                           1                      0                       2  \n",
       "2                           1                      0                       2  \n",
       "3                           1                      0                       2  \n",
       "4                           1                      0                       2  \n",
       "5                           1                      0                       2  \n",
       "6                           1                      0                       2  \n",
       "7                           2                      1                       1  \n",
       "8                           2                      1                       0  \n",
       "9                           1                      0                       2  "
      ]
     },
     "execution_count": 107,
     "metadata": {},
     "output_type": "execute_result"
    }
   ],
   "source": [
    "data[['BookingID','BookingFleet','BookingFleetBins_Cancelled','BookingFleetBins_Completed','BookingFleetBins_ELSE','BookingFleetBins_NoJob']].head(10)"
   ]
  },
  {
   "cell_type": "markdown",
   "metadata": {},
   "source": [
    "## 2.6 Booking Source"
   ]
  },
  {
   "cell_type": "code",
   "execution_count": 108,
   "metadata": {},
   "outputs": [
    {
     "data": {
      "text/plain": [
       "<toad.transform.Combiner at 0x11eb7d0d0>"
      ]
     },
     "execution_count": 108,
     "metadata": {},
     "output_type": "execute_result"
    }
   ],
   "source": [
    "c = toad.transform.Combiner()\n",
    "col = 'BookingSource'\n",
    "c.fit(data[[col,'target_2cls_Completed']], y = 'target_2cls_Completed', method = 'chi',min_samples = 0.05)\n",
    "#use toad to bin booking source based on complete rate"
   ]
  },
  {
   "cell_type": "code",
   "execution_count": 109,
   "metadata": {},
   "outputs": [
    {
     "data": {
      "text/plain": [
       "{'BookingSource': [['Permanent', 'Internet'], ['TelOp'], ['StratumIVR']]}"
      ]
     },
     "execution_count": 109,
     "metadata": {},
     "output_type": "execute_result"
    }
   ],
   "source": [
    "c.export()"
   ]
  },
  {
   "cell_type": "code",
   "execution_count": 110,
   "metadata": {},
   "outputs": [
    {
     "data": {
      "text/plain": [
       "Text(0, 0.5, 'Proportion')"
      ]
     },
     "execution_count": 110,
     "metadata": {},
     "output_type": "execute_result"
    },
    {
     "data": {
      "image/png": "[encoded data removed]",
      "text/plain": [
       "<Figure size 864x432 with 2 Axes>"
      ]
     },
     "metadata": {},
     "output_type": "display_data"
    }
   ],
   "source": [
    "ax=bin_plot(c.transform(data[[col,'target_2cls_Completed']], labels=False), x=col, target='target_2cls_Completed')\n",
    "ax.set_title(\"Plot of binned booking source based on complete rate\",fontweight='bold',fontsize=20)\n",
    "ax.set_xlabel(\"Bins of conditions\")\n",
    "ax.set_ylabel(\"Proportion\")\n",
    "#visualize the binning result and check for iv"
   ]
  },
  {
   "cell_type": "code",
   "execution_count": 111,
   "metadata": {},
   "outputs": [
    {
     "data": {
      "text/plain": [
       "Text(17.200000000000003, 0.5, 'Proportion')"
      ]
     },
     "execution_count": 111,
     "metadata": {},
     "output_type": "execute_result"
    },
    {
     "data": {
      "image/png": "[encoded data removed]",
      "text/plain": [
       "<Figure size 864x432 with 2 Axes>"
      ]
     },
     "metadata": {},
     "output_type": "display_data"
    }
   ],
   "source": [
    "bin_plot(c.transform(validation[[col,'target_2cls_Completed']], labels=False), x=col, target='target_2cls_Completed') \n",
    "ax.set_title(\"Plot of binned booking source based on complete rate on validation set\",fontweight='bold',fontsize=20)\n",
    "ax.set_xlabel(\"Bins of conditions\")\n",
    "ax.set_ylabel(\"Proportion\")\n",
    "#visualize the binning result on validation set and check for iv"
   ]
  },
  {
   "cell_type": "code",
   "execution_count": 112,
   "metadata": {},
   "outputs": [],
   "source": [
    "def BookingSourceBins(data,data_test):\n",
    "    data = data.copy()\n",
    "    data_test = data_test.copy()\n",
    "    for target,val in zip(['target_2cls_Cancelled','target_2cls_Completed','target_2cls_ELSE','target_2cls_NoJob'],['Cancelled','Completed','ELSE','NoJob']):\n",
    "        c = toad.transform.Combiner()\n",
    "        col = 'BookingSource'\n",
    "        c.fit(data[[col,target]], y = target, method = 'chi',min_samples = 0.05) \n",
    "        data['BookingSourceBins_'+val] = c.transform(data[['BookingSource']], labels=False) \n",
    "        data_test['BookingSourceBins_'+val] = c.transform(data_test[['BookingSource']], labels=False)\n",
    "    return data, data_test\n",
    "\n",
    "data,validation = BookingSourceBins(data,validation)\n",
    "#apply binning to all four target variables"
   ]
  },
  {
   "cell_type": "code",
   "execution_count": 113,
   "metadata": {},
   "outputs": [
    {
     "data": {
      "text/html": [
       "<div>\n",
       "<style scoped>\n",
       "    .dataframe tbody tr th:only-of-type {\n",
       "        vertical-align: middle;\n",
       "    }\n",
       "\n",
       "    .dataframe tbody tr th {\n",
       "        vertical-align: top;\n",
       "    }\n",
       "\n",
       "    .dataframe thead th {\n",
       "        text-align: right;\n",
       "    }\n",
       "</style>\n",
       "<table border=\"1\" class=\"dataframe\">\n",
       "  <thead>\n",
       "    <tr style=\"text-align: right;\">\n",
       "      <th></th>\n",
       "      <th>iv</th>\n",
       "      <th>gini</th>\n",
       "      <th>entropy</th>\n",
       "      <th>unique</th>\n",
       "    </tr>\n",
       "  </thead>\n",
       "  <tbody>\n",
       "    <tr>\n",
       "      <th>BookingSourceBins_Cancelled</th>\n",
       "      <td>0.460776</td>\n",
       "      <td>0.213501</td>\n",
       "      <td>0.359142</td>\n",
       "      <td>3.0</td>\n",
       "    </tr>\n",
       "  </tbody>\n",
       "</table>\n",
       "</div>"
      ],
      "text/plain": [
       "                                   iv      gini   entropy  unique\n",
       "BookingSourceBins_Cancelled  0.460776  0.213501  0.359142     3.0"
      ]
     },
     "execution_count": 113,
     "metadata": {},
     "output_type": "execute_result"
    }
   ],
   "source": [
    "toad.quality(data[['BookingSourceBins_Cancelled','target_2cls_Cancelled']],target='target_2cls_Cancelled')"
   ]
  },
  {
   "cell_type": "code",
   "execution_count": 114,
   "metadata": {},
   "outputs": [
    {
     "data": {
      "text/html": [
       "<div>\n",
       "<style scoped>\n",
       "    .dataframe tbody tr th:only-of-type {\n",
       "        vertical-align: middle;\n",
       "    }\n",
       "\n",
       "    .dataframe tbody tr th {\n",
       "        vertical-align: top;\n",
       "    }\n",
       "\n",
       "    .dataframe thead th {\n",
       "        text-align: right;\n",
       "    }\n",
       "</style>\n",
       "<table border=\"1\" class=\"dataframe\">\n",
       "  <thead>\n",
       "    <tr style=\"text-align: right;\">\n",
       "      <th></th>\n",
       "      <th>iv</th>\n",
       "      <th>gini</th>\n",
       "      <th>entropy</th>\n",
       "      <th>unique</th>\n",
       "    </tr>\n",
       "  </thead>\n",
       "  <tbody>\n",
       "    <tr>\n",
       "      <th>BookingSourceBins_ELSE</th>\n",
       "      <td>0.765604</td>\n",
       "      <td>0.024374</td>\n",
       "      <td>0.062619</td>\n",
       "      <td>3.0</td>\n",
       "    </tr>\n",
       "  </tbody>\n",
       "</table>\n",
       "</div>"
      ],
      "text/plain": [
       "                              iv      gini   entropy  unique\n",
       "BookingSourceBins_ELSE  0.765604  0.024374  0.062619     3.0"
      ]
     },
     "execution_count": 114,
     "metadata": {},
     "output_type": "execute_result"
    }
   ],
   "source": [
    "toad.quality(data[['BookingSourceBins_ELSE','target_2cls_ELSE']],target='target_2cls_ELSE')"
   ]
  },
  {
   "cell_type": "code",
   "execution_count": 115,
   "metadata": {},
   "outputs": [
    {
     "data": {
      "text/html": [
       "<div>\n",
       "<style scoped>\n",
       "    .dataframe tbody tr th:only-of-type {\n",
       "        vertical-align: middle;\n",
       "    }\n",
       "\n",
       "    .dataframe tbody tr th {\n",
       "        vertical-align: top;\n",
       "    }\n",
       "\n",
       "    .dataframe thead th {\n",
       "        text-align: right;\n",
       "    }\n",
       "</style>\n",
       "<table border=\"1\" class=\"dataframe\">\n",
       "  <thead>\n",
       "    <tr style=\"text-align: right;\">\n",
       "      <th></th>\n",
       "      <th>iv</th>\n",
       "      <th>gini</th>\n",
       "      <th>entropy</th>\n",
       "      <th>unique</th>\n",
       "    </tr>\n",
       "  </thead>\n",
       "  <tbody>\n",
       "    <tr>\n",
       "      <th>BookingSourceBins_NoJob</th>\n",
       "      <td>0.009098</td>\n",
       "      <td>0.1516</td>\n",
       "      <td>0.284946</td>\n",
       "      <td>3.0</td>\n",
       "    </tr>\n",
       "  </tbody>\n",
       "</table>\n",
       "</div>"
      ],
      "text/plain": [
       "                               iv    gini   entropy  unique\n",
       "BookingSourceBins_NoJob  0.009098  0.1516  0.284946     3.0"
      ]
     },
     "execution_count": 115,
     "metadata": {},
     "output_type": "execute_result"
    }
   ],
   "source": [
    "toad.quality(data[['BookingSourceBins_NoJob','target_2cls_NoJob']],target='target_2cls_NoJob')"
   ]
  },
  {
   "cell_type": "code",
   "execution_count": 116,
   "metadata": {},
   "outputs": [],
   "source": [
    "#the iv for most of them are high, it is a good feature"
   ]
  },
  {
   "cell_type": "code",
   "execution_count": 117,
   "metadata": {},
   "outputs": [
    {
     "data": {
      "text/html": [
       "<div>\n",
       "<style scoped>\n",
       "    .dataframe tbody tr th:only-of-type {\n",
       "        vertical-align: middle;\n",
       "    }\n",
       "\n",
       "    .dataframe tbody tr th {\n",
       "        vertical-align: top;\n",
       "    }\n",
       "\n",
       "    .dataframe thead th {\n",
       "        text-align: right;\n",
       "    }\n",
       "</style>\n",
       "<table border=\"1\" class=\"dataframe\">\n",
       "  <thead>\n",
       "    <tr style=\"text-align: right;\">\n",
       "      <th></th>\n",
       "      <th>BookingID</th>\n",
       "      <th>BookingSource</th>\n",
       "      <th>BookingSourceBins_Cancelled</th>\n",
       "      <th>BookingSourceBins_Completed</th>\n",
       "      <th>BookingSourceBins_ELSE</th>\n",
       "      <th>BookingSourceBins_NoJob</th>\n",
       "    </tr>\n",
       "  </thead>\n",
       "  <tbody>\n",
       "    <tr>\n",
       "      <th>0</th>\n",
       "      <td>171970588</td>\n",
       "      <td>TelOp</td>\n",
       "      <td>1</td>\n",
       "      <td>1</td>\n",
       "      <td>2</td>\n",
       "      <td>1</td>\n",
       "    </tr>\n",
       "    <tr>\n",
       "      <th>1</th>\n",
       "      <td>174526964</td>\n",
       "      <td>TelOp</td>\n",
       "      <td>1</td>\n",
       "      <td>1</td>\n",
       "      <td>2</td>\n",
       "      <td>1</td>\n",
       "    </tr>\n",
       "    <tr>\n",
       "      <th>2</th>\n",
       "      <td>180286324</td>\n",
       "      <td>Internet</td>\n",
       "      <td>2</td>\n",
       "      <td>0</td>\n",
       "      <td>1</td>\n",
       "      <td>0</td>\n",
       "    </tr>\n",
       "    <tr>\n",
       "      <th>3</th>\n",
       "      <td>177228281</td>\n",
       "      <td>StratumIVR</td>\n",
       "      <td>0</td>\n",
       "      <td>2</td>\n",
       "      <td>0</td>\n",
       "      <td>2</td>\n",
       "    </tr>\n",
       "    <tr>\n",
       "      <th>4</th>\n",
       "      <td>170046024</td>\n",
       "      <td>Internet</td>\n",
       "      <td>2</td>\n",
       "      <td>0</td>\n",
       "      <td>1</td>\n",
       "      <td>0</td>\n",
       "    </tr>\n",
       "  </tbody>\n",
       "</table>\n",
       "</div>"
      ],
      "text/plain": [
       "   BookingID BookingSource  BookingSourceBins_Cancelled  \\\n",
       "0  171970588         TelOp                            1   \n",
       "1  174526964         TelOp                            1   \n",
       "2  180286324      Internet                            2   \n",
       "3  177228281    StratumIVR                            0   \n",
       "4  170046024      Internet                            2   \n",
       "\n",
       "   BookingSourceBins_Completed  BookingSourceBins_ELSE  \\\n",
       "0                            1                       2   \n",
       "1                            1                       2   \n",
       "2                            0                       1   \n",
       "3                            2                       0   \n",
       "4                            0                       1   \n",
       "\n",
       "   BookingSourceBins_NoJob  \n",
       "0                        1  \n",
       "1                        1  \n",
       "2                        0  \n",
       "3                        2  \n",
       "4                        0  "
      ]
     },
     "execution_count": 117,
     "metadata": {},
     "output_type": "execute_result"
    }
   ],
   "source": [
    "data[['BookingID','BookingSource','BookingSourceBins_Cancelled','BookingSourceBins_Completed','BookingSourceBins_ELSE','BookingSourceBins_NoJob']].head()"
   ]
  },
  {
   "cell_type": "markdown",
   "metadata": {},
   "source": [
    "## 2.7 Create dummy variables"
   ]
  },
  {
   "cell_type": "code",
   "execution_count": 118,
   "metadata": {},
   "outputs": [
    {
     "name": "stdout",
     "output_type": "stream",
     "text": [
      "<class 'pandas.core.frame.DataFrame'>\n",
      "RangeIndex: 3000000 entries, 0 to 2999999\n",
      "Data columns (total 54 columns):\n",
      " #   Column                       Dtype         \n",
      "---  ------                       -----         \n",
      " 0   BookingID                    int64         \n",
      " 1   BookingSource                object        \n",
      " 2   Conditions                   object        \n",
      " 3   HasCondition                 object        \n",
      " 4   IsAccountBooking             object        \n",
      " 5   CreatedDate                  datetime64[ns]\n",
      " 6   RequestedDate                datetime64[ns]\n",
      " 7   BookingFleet                 object        \n",
      " 8   DispatchFleet                object        \n",
      " 9   AreaNumber                   int64         \n",
      " 10  PuPlace                      object        \n",
      " 11  PuAddress                    object        \n",
      " 12  PuSuburb                     object        \n",
      " 13  PuLat                        float64       \n",
      " 14  PuLong                       float64       \n",
      " 15  TargetVariable               object        \n",
      " 16  target_2cls_Cancelled        int64         \n",
      " 17  target_2cls_Completed        int64         \n",
      " 18  target_2cls_ELSE             int64         \n",
      " 19  target_2cls_NoJob            int64         \n",
      " 20  target_4cls                  int64         \n",
      " 21  PuSuburbBins_Cancelled       int64         \n",
      " 22  PuSuburbBins_Completed       int64         \n",
      " 23  PuSuburbBins_ELSE            int64         \n",
      " 24  PuSuburbBins_NoJob           int64         \n",
      " 25  KNN_temp                     float64       \n",
      " 26  PuLatLongKNN_Cancelled       float64       \n",
      " 27  PuLatLongKNN_Completed       float64       \n",
      " 28  PuLatLongKNN_ELSE            float64       \n",
      " 29  PuLatLongKNN_NoJob           float64       \n",
      " 30  OrderHour                    int64         \n",
      " 31  DayOfWeek                    int64         \n",
      " 32  OrderTimeDT                  float64       \n",
      " 33  OrderTimeDT_Cancelled        float64       \n",
      " 34  OrderTimeDT_Completed        float64       \n",
      " 35  OrderTimeDT_ELSE             float64       \n",
      " 36  OrderTimeDT_NoJob            float64       \n",
      " 37  ConditionsBins_Cancelled     int64         \n",
      " 38  ConditionsBins_Completed     int64         \n",
      " 39  ConditionsBins_ELSE          int64         \n",
      " 40  ConditionsBins_NoJob         int64         \n",
      " 41  BookingisDispatch            object        \n",
      " 42  DispatchFleetBins_Cancelled  int64         \n",
      " 43  DispatchFleetBins_Completed  int64         \n",
      " 44  DispatchFleetBins_ELSE       int64         \n",
      " 45  DispatchFleetBins_NoJob      int64         \n",
      " 46  BookingFleetBins_Cancelled   int64         \n",
      " 47  BookingFleetBins_Completed   int64         \n",
      " 48  BookingFleetBins_ELSE        int64         \n",
      " 49  BookingFleetBins_NoJob       int64         \n",
      " 50  BookingSourceBins_Cancelled  int64         \n",
      " 51  BookingSourceBins_Completed  int64         \n",
      " 52  BookingSourceBins_ELSE       int64         \n",
      " 53  BookingSourceBins_NoJob      int64         \n",
      "dtypes: datetime64[ns](2), float64(12), int64(29), object(11)\n",
      "memory usage: 1.2+ GB\n"
     ]
    }
   ],
   "source": [
    "data.info()"
   ]
  },
  {
   "cell_type": "code",
   "execution_count": 119,
   "metadata": {},
   "outputs": [],
   "source": [
    "data['HasCondition']=np.where(data['HasCondition'] == 'Yes',1,0)"
   ]
  },
  {
   "cell_type": "code",
   "execution_count": 120,
   "metadata": {},
   "outputs": [],
   "source": [
    "validation['HasCondition']=np.where(validation['HasCondition'] == 'Yes',1,0)"
   ]
  },
  {
   "cell_type": "code",
   "execution_count": 121,
   "metadata": {},
   "outputs": [],
   "source": [
    "data['IsAccountBooking']=np.where(data['IsAccountBooking'] == 'Yes',1,0)\n",
    "validation['IsAccountBooking']=np.where(validation['IsAccountBooking'] == 'Yes',1,0)"
   ]
  },
  {
   "cell_type": "code",
   "execution_count": 122,
   "metadata": {},
   "outputs": [],
   "source": [
    "data['BookingisDispatch']=np.where(data['BookingisDispatch'] == True,1,0)\n",
    "validation['BookingisDispatch']=np.where(validation['BookingisDispatch'] == True,1,0)"
   ]
  },
  {
   "cell_type": "code",
   "execution_count": 126,
   "metadata": {},
   "outputs": [],
   "source": [
    "#create dummy variables for rest of the categorical variables"
   ]
  },
  {
   "cell_type": "code",
   "execution_count": 127,
   "metadata": {},
   "outputs": [],
   "source": [
    "final=data.to_csv('final.csv')"
   ]
  },
  {
   "cell_type": "code",
   "execution_count": 128,
   "metadata": {},
   "outputs": [],
   "source": [
    "final_val=validation.to_csv('final_val.csv')"
   ]
  },
  {
   "cell_type": "code",
   "execution_count": 129,
   "metadata": {},
   "outputs": [],
   "source": [
    "#save processed features"
   ]
  },
  {
   "cell_type": "markdown",
   "metadata": {},
   "source": [
    "# 3. Model"
   ]
  },
  {
   "cell_type": "code",
   "execution_count": 131,
   "metadata": {},
   "outputs": [],
   "source": [
    "train = pd.read_csv('final.csv')"
   ]
  },
  {
   "cell_type": "code",
   "execution_count": 132,
   "metadata": {},
   "outputs": [],
   "source": [
    "validation = pd.read_csv('final_val.csv')"
   ]
  },
  {
   "cell_type": "code",
   "execution_count": 133,
   "metadata": {},
   "outputs": [],
   "source": [
    "train = train.iloc[:,1:]"
   ]
  },
  {
   "cell_type": "code",
   "execution_count": 134,
   "metadata": {},
   "outputs": [],
   "source": [
    "validation = validation.iloc[:,1:]"
   ]
  },
  {
   "cell_type": "code",
   "execution_count": 135,
   "metadata": {},
   "outputs": [
    {
     "data": {
      "text/plain": [
       "Index(['BookingID', 'BookingSource', 'Conditions', 'HasCondition',\n",
       "       'IsAccountBooking', 'CreatedDate', 'RequestedDate', 'BookingFleet',\n",
       "       'DispatchFleet', 'AreaNumber', 'PuPlace', 'PuAddress', 'PuSuburb',\n",
       "       'PuLat', 'PuLong', 'TargetVariable', 'target_2cls_Cancelled',\n",
       "       'target_2cls_Completed', 'target_2cls_ELSE', 'target_2cls_NoJob',\n",
       "       'target_4cls', 'PuSuburbBins_Cancelled', 'PuSuburbBins_Completed',\n",
       "       'PuSuburbBins_ELSE', 'PuSuburbBins_NoJob', 'KNN_temp',\n",
       "       'PuLatLongKNN_Cancelled', 'PuLatLongKNN_Completed', 'PuLatLongKNN_ELSE',\n",
       "       'PuLatLongKNN_NoJob', 'OrderHour', 'DayOfWeek', 'OrderTimeDT',\n",
       "       'OrderTimeDT_Cancelled', 'OrderTimeDT_Completed', 'OrderTimeDT_ELSE',\n",
       "       'OrderTimeDT_NoJob', 'ConditionsBins_Cancelled',\n",
       "       'ConditionsBins_Completed', 'ConditionsBins_ELSE',\n",
       "       'ConditionsBins_NoJob', 'BookingisDispatch',\n",
       "       'DispatchFleetBins_Cancelled', 'DispatchFleetBins_Completed',\n",
       "       'DispatchFleetBins_ELSE', 'DispatchFleetBins_NoJob',\n",
       "       'BookingFleetBins_Cancelled', 'BookingFleetBins_Completed',\n",
       "       'BookingFleetBins_ELSE', 'BookingFleetBins_NoJob',\n",
       "       'BookingSourceBins_Cancelled', 'BookingSourceBins_Completed',\n",
       "       'BookingSourceBins_ELSE', 'BookingSourceBins_NoJob'],\n",
       "      dtype='object')"
      ]
     },
     "execution_count": 135,
     "metadata": {},
     "output_type": "execute_result"
    }
   ],
   "source": [
    "train.columns"
   ]
  },
  {
   "cell_type": "code",
   "execution_count": 136,
   "metadata": {},
   "outputs": [],
   "source": [
    "mdl_cols = ['HasCondition','IsAccountBooking',  'PuSuburbBins_Cancelled', 'PuSuburbBins_Completed',\n",
    "       'PuSuburbBins_ELSE', 'PuSuburbBins_NoJob','PuLatLongKNN_Cancelled', 'PuLatLongKNN_Completed', 'PuLatLongKNN_ELSE',\n",
    "       'PuLatLongKNN_NoJob', 'OrderHour', 'DayOfWeek', \n",
    "       'OrderTimeDT_Cancelled', 'OrderTimeDT_Completed', 'OrderTimeDT_ELSE',\n",
    "       'OrderTimeDT_NoJob', 'ConditionsBins_Cancelled',\n",
    "       'ConditionsBins_Completed', 'ConditionsBins_ELSE',\n",
    "       'ConditionsBins_NoJob', 'BookingisDispatch',\n",
    "       'DispatchFleetBins_Cancelled', 'DispatchFleetBins_Completed',\n",
    "       'DispatchFleetBins_ELSE', 'DispatchFleetBins_NoJob',\n",
    "       'BookingFleetBins_Cancelled', 'BookingFleetBins_Completed',\n",
    "       'BookingFleetBins_ELSE', 'BookingFleetBins_NoJob',\n",
    "       'BookingSourceBins_Cancelled', 'BookingSourceBins_Completed',\n",
    "       'BookingSourceBins_ELSE', 'BookingSourceBins_NoJob']"
   ]
  },
  {
   "cell_type": "markdown",
   "metadata": {},
   "source": [
    "## 3.1 Logistic Regression-multinomial"
   ]
  },
  {
   "cell_type": "code",
   "execution_count": 55,
   "metadata": {},
   "outputs": [
    {
     "data": {
      "text/plain": [
       "LogisticRegression(max_iter=10000, multi_class='multinomial')"
      ]
     },
     "execution_count": 55,
     "metadata": {},
     "output_type": "execute_result"
    }
   ],
   "source": [
    "#use multinomial to build the model\n",
    "logit = LogisticRegression(multi_class = 'multinomial',solver = 'lbfgs',max_iter=10000)\n",
    "logit.fit(train[mdl_cols],train['target_4cls'])\n"
   ]
  },
  {
   "cell_type": "code",
   "execution_count": 56,
   "metadata": {},
   "outputs": [
    {
     "data": {
      "text/plain": [
       "array([[5.28482996e-02, 7.94263367e-01, 1.50833827e-01, 2.05450674e-03],\n",
       "       [1.79960483e-01, 7.62046921e-01, 5.42583690e-02, 3.73422712e-03],\n",
       "       [8.29085807e-05, 9.99717246e-01, 1.94459488e-04, 5.38635234e-06],\n",
       "       ...,\n",
       "       [6.60516910e-02, 8.62477132e-01, 6.75843423e-02, 3.88683524e-03],\n",
       "       [5.34502885e-05, 9.99761188e-01, 1.80767377e-04, 4.59415042e-06],\n",
       "       [4.25016624e-01, 3.89610332e-01, 8.95877115e-02, 9.57853324e-02]])"
      ]
     },
     "execution_count": 56,
     "metadata": {},
     "output_type": "execute_result"
    }
   ],
   "source": [
    "logit.predict_proba(validation[mdl_cols])"
   ]
  },
  {
   "cell_type": "code",
   "execution_count": 57,
   "metadata": {},
   "outputs": [
    {
     "name": "stdout",
     "output_type": "stream",
     "text": [
      "Training accuracy:  0.796623\n",
      "validation accuracy:  0.7964966666666666\n",
      "Training f1_score:  0.3780155240372233\n",
      "validation f1_score:  0.37169026265638155\n"
     ]
    }
   ],
   "source": [
    "print('Training accuracy: ', accuracy_score(logit.predict(train[mdl_cols]), train['target_4cls']))\n",
    "print('validation accuracy: ', accuracy_score(logit.predict(validation[mdl_cols]), validation['target_4cls']))\n",
    "print('Training f1_score: ', f1_score(logit.predict(train[mdl_cols]), train['target_4cls'], average = 'macro'))\n",
    "print('validation f1_score: ', f1_score(logit.predict(validation[mdl_cols]), validation['target_4cls'], average = 'macro'))"
   ]
  },
  {
   "cell_type": "code",
   "execution_count": 58,
   "metadata": {},
   "outputs": [
    {
     "name": "stdout",
     "output_type": "stream",
     "text": [
      "Training accuracy of cancelled:  0.11667933333333333\n",
      "Training accuracy of completed:  0.7991076666666667\n",
      "Training accuracy of ELSE:  0.06815833333333333\n",
      "Training accuracy of No Job:  0.12262\n"
     ]
    }
   ],
   "source": [
    "#对于complete的准确率较高，其他很低\n",
    "print('Training accuracy of cancelled: ', accuracy_score(logit.predict(train[mdl_cols]), train['target_2cls_Cancelled']))\n",
    "print('Training accuracy of completed: ', accuracy_score(logit.predict(train[mdl_cols]), train['target_2cls_Completed']))\n",
    "print('Training accuracy of ELSE: ', accuracy_score(logit.predict(train[mdl_cols]), train['target_2cls_ELSE']))\n",
    "print('Training accuracy of No Job: ', accuracy_score(logit.predict(train[mdl_cols]), train['target_2cls_NoJob']))"
   ]
  },
  {
   "cell_type": "code",
   "execution_count": 59,
   "metadata": {},
   "outputs": [
    {
     "data": {
      "text/html": [
       "<div>\n",
       "<style scoped>\n",
       "    .dataframe tbody tr th:only-of-type {\n",
       "        vertical-align: middle;\n",
       "    }\n",
       "\n",
       "    .dataframe tbody tr th {\n",
       "        vertical-align: top;\n",
       "    }\n",
       "\n",
       "    .dataframe thead th {\n",
       "        text-align: right;\n",
       "    }\n",
       "</style>\n",
       "<table border=\"1\" class=\"dataframe\">\n",
       "  <thead>\n",
       "    <tr style=\"text-align: right;\">\n",
       "      <th></th>\n",
       "      <th>Cancelled</th>\n",
       "      <th>Completed</th>\n",
       "      <th>ELSE</th>\n",
       "      <th>NoJob</th>\n",
       "    </tr>\n",
       "  </thead>\n",
       "  <tbody>\n",
       "    <tr>\n",
       "      <th>Cancelled</th>\n",
       "      <td>1.000000</td>\n",
       "      <td>-0.891778</td>\n",
       "      <td>0.293560</td>\n",
       "      <td>0.152185</td>\n",
       "    </tr>\n",
       "    <tr>\n",
       "      <th>Completed</th>\n",
       "      <td>-0.891778</td>\n",
       "      <td>1.000000</td>\n",
       "      <td>-0.665105</td>\n",
       "      <td>-0.321358</td>\n",
       "    </tr>\n",
       "    <tr>\n",
       "      <th>ELSE</th>\n",
       "      <td>0.293560</td>\n",
       "      <td>-0.665105</td>\n",
       "      <td>1.000000</td>\n",
       "      <td>0.099803</td>\n",
       "    </tr>\n",
       "    <tr>\n",
       "      <th>NoJob</th>\n",
       "      <td>0.152185</td>\n",
       "      <td>-0.321358</td>\n",
       "      <td>0.099803</td>\n",
       "      <td>1.000000</td>\n",
       "    </tr>\n",
       "  </tbody>\n",
       "</table>\n",
       "</div>"
      ],
      "text/plain": [
       "           Cancelled  Completed      ELSE     NoJob\n",
       "Cancelled   1.000000  -0.891778  0.293560  0.152185\n",
       "Completed  -0.891778   1.000000 -0.665105 -0.321358\n",
       "ELSE        0.293560  -0.665105  1.000000  0.099803\n",
       "NoJob       0.152185  -0.321358  0.099803  1.000000"
      ]
     },
     "execution_count": 59,
     "metadata": {},
     "output_type": "execute_result"
    }
   ],
   "source": [
    "logit_proba = pd.DataFrame(data = logit.predict_proba(validation[mdl_cols]), columns = ['Cancelled','Completed','ELSE','NoJob'])\n",
    "logit_proba.corr()\n",
    "\n",
    "# 输入4个预测概率之间的 Pearson correlation，看之间的概率是否有相关性；\n",
    "# completed和cancelled有明显的负相关，和else也是，Nojob较低"
   ]
  },
  {
   "cell_type": "markdown",
   "metadata": {},
   "source": [
    "# 3.2 Logistic regression-ovr"
   ]
  },
  {
   "cell_type": "code",
   "execution_count": null,
   "metadata": {},
   "outputs": [],
   "source": [
    "#use ovr extention to build the model\n",
    "logit_ovr = LogisticRegression(multi_class = 'ovr',max_iter=10000) # 'one_vs_rest'\n",
    "logit_ovr.fit(train[mdl_cols],train['target_4cls'])"
   ]
  },
  {
   "cell_type": "code",
   "execution_count": null,
   "metadata": {},
   "outputs": [],
   "source": [
    "print('Training accuracy: ', accuracy_score(logit.predict(train[mdl_cols]), train['target_4cls']))\n",
    "print('Test accuracy: ', accuracy_score(logit.predict(validation[mdl_cols]), validation['target_4cls']))\n",
    "print('Training f1_score: ', f1_score(logit.predict(train[mdl_cols]), train['target_4cls'], average = 'macro'))\n",
    "print('Test f1_score: ', f1_score(logit.predict(validation[mdl_cols]), validation['target_4cls'], average = 'macro'))\n"
   ]
  },
  {
   "cell_type": "markdown",
   "metadata": {},
   "source": [
    "## 3.2 Random Forest"
   ]
  },
  {
   "cell_type": "code",
   "execution_count": 60,
   "metadata": {},
   "outputs": [],
   "source": [
    "from sklearn.ensemble import RandomForestClassifier"
   ]
  },
  {
   "cell_type": "code",
   "execution_count": null,
   "metadata": {},
   "outputs": [],
   "source": [
    "#跑不出来，可以试着跑下\n",
    "rf = RandomForestClassifier()\n",
    "cls = GridSearchCV(rf, {'n_estimators' : [50,200,500], 'max_depth' : [2,3]},cv=3) # min_samples_weight =0.05"
   ]
  },
  {
   "cell_type": "code",
   "execution_count": null,
   "metadata": {},
   "outputs": [],
   "source": [
    "#同上\n",
    "n = np.argmax(cls.cv_results_['mean_test_score'])\n",
    "print(cls.cv_results_['params'][n])\n",
    "\n",
    "rf = cls.best_estimator_ #保存最优的模型"
   ]
  },
  {
   "cell_type": "code",
   "execution_count": null,
   "metadata": {},
   "outputs": [],
   "source": []
  },
  {
   "cell_type": "code",
   "execution_count": 61,
   "metadata": {},
   "outputs": [
    {
     "data": {
      "text/plain": [
       "RandomForestClassifier(max_depth=2, n_estimators=500)"
      ]
     },
     "execution_count": 61,
     "metadata": {},
     "output_type": "execute_result"
    }
   ],
   "source": [
    "rf = RandomForestClassifier(n_estimators=500, max_depth=2) # min_samples_split\n",
    "\n",
    "rf.fit(train[mdl_cols],train['target_4cls'])"
   ]
  },
  {
   "cell_type": "code",
   "execution_count": 62,
   "metadata": {},
   "outputs": [
    {
     "name": "stdout",
     "output_type": "stream",
     "text": [
      "Training accuracy:  0.7763063333333333\n",
      "validation accuracy:  0.7755833333333333\n",
      "Training f1_score:  0.21851702005603763\n",
      "validation f1_score:  0.21840240296616134\n"
     ]
    }
   ],
   "source": [
    "print('Training accuracy: ', accuracy_score(rf.predict(train[mdl_cols]), train['target_4cls']))\n",
    "print('validation accuracy: ', accuracy_score(rf.predict(validation[mdl_cols]), validation['target_4cls']))\n",
    "\n",
    "print('Training f1_score: ', f1_score(rf.predict(train[mdl_cols]), train['target_4cls'], average = 'macro'))\n",
    "print('validation f1_score: ', f1_score(rf.predict(validation[mdl_cols]), validation['target_4cls'], average = 'macro'))"
   ]
  },
  {
   "cell_type": "markdown",
   "metadata": {},
   "source": [
    "## 3.3 XGBoost"
   ]
  },
  {
   "cell_type": "code",
   "execution_count": 63,
   "metadata": {},
   "outputs": [
    {
     "name": "stderr",
     "output_type": "stream",
     "text": [
      "/Users/Crystal/opt/anaconda3/lib/python3.8/site-packages/xgboost/sklearn.py:888: UserWarning: The use of label encoder in XGBClassifier is deprecated and will be removed in a future release. To remove this warning, do the following: 1) Pass option use_label_encoder=False when constructing XGBClassifier object; and 2) Encode your labels (y) as integers starting with 0, i.e. 0, 1, 2, ..., [num_class - 1].\n",
      "  warnings.warn(label_encoder_deprecation_msg, UserWarning)\n"
     ]
    },
    {
     "name": "stdout",
     "output_type": "stream",
     "text": [
      "[22:07:42] WARNING: /opt/concourse/worker/volumes/live/7a2b9f41-3287-451b-6691-43e9a6c0910f/volume/xgboost-split_1619728204606/work/src/learner.cc:541: \n",
      "Parameters: { min_samples_weight } might not be used.\n",
      "\n",
      "  This may not be accurate due to some parameters are only used in language bindings but\n",
      "  passed down to XGBoost core.  Or some parameters are not used but slip through this\n",
      "  verification. Please open an issue if you find above cases.\n",
      "\n",
      "\n",
      "[22:07:50] WARNING: /opt/concourse/worker/volumes/live/7a2b9f41-3287-451b-6691-43e9a6c0910f/volume/xgboost-split_1619728204606/work/src/learner.cc:1061: Starting in XGBoost 1.3.0, the default evaluation metric used with the objective 'multi:softprob' was changed from 'merror' to 'mlogloss'. Explicitly set eval_metric if you'd like to restore the old behavior.\n"
     ]
    },
    {
     "data": {
      "text/plain": [
       "XGBClassifier(base_score=0.5, booster='gbtree', colsample_bylevel=1,\n",
       "              colsample_bynode=1, colsample_bytree=1, gamma=0, gpu_id=-1,\n",
       "              importance_type='gain', interaction_constraints='',\n",
       "              learning_rate=0.300000012, max_delta_step=0, max_depth=2,\n",
       "              min_child_weight=1, min_samples_weight=0.05, missing=nan,\n",
       "              monotone_constraints='()', n_estimators=500, n_jobs=4,\n",
       "              num_parallel_tree=1, objective='multi:softprob', random_state=0,\n",
       "              reg_alpha=0, reg_lambda=1, scale_pos_weight=None, subsample=1,\n",
       "              tree_method='exact', validate_parameters=1, verbosity=None)"
      ]
     },
     "execution_count": 63,
     "metadata": {},
     "output_type": "execute_result"
    }
   ],
   "source": [
    "xgb = xgboost.XGBClassifier(n_estimators = 500, max_depth = 2, min_samples_weight = 0.05)\n",
    "xgb.fit(train[mdl_cols],train['target_4cls']) "
   ]
  },
  {
   "cell_type": "code",
   "execution_count": 64,
   "metadata": {},
   "outputs": [
    {
     "name": "stdout",
     "output_type": "stream",
     "text": [
      "Training accuracy:  0.8010453333333334\n",
      "Test accuracy:  0.8000166666666667\n",
      "Training f1_score:  0.38269267605660573\n",
      "Test f1_score:  0.37475828694234703\n"
     ]
    }
   ],
   "source": [
    "print('Training accuracy: ', accuracy_score(xgb.predict(train[mdl_cols]), train['target_4cls']))\n",
    "print('Test accuracy: ', accuracy_score(xgb.predict(validation[mdl_cols]), validation['target_4cls']))\n",
    "print('Training f1_score: ', f1_score(xgb.predict(train[mdl_cols]), train['target_4cls'], average = 'macro'))\n",
    "print('Test f1_score: ', f1_score(xgb.predict(validation[mdl_cols]), validation['target_4cls'], average = 'macro'))"
   ]
  },
  {
   "cell_type": "markdown",
   "metadata": {},
   "source": [
    "## 3.4 Naive Bayes"
   ]
  },
  {
   "cell_type": "code",
   "execution_count": 65,
   "metadata": {},
   "outputs": [
    {
     "data": {
      "text/plain": [
       "GaussianNB()"
      ]
     },
     "execution_count": 65,
     "metadata": {},
     "output_type": "execute_result"
    }
   ],
   "source": [
    "gnb = GaussianNB()\n",
    "gnb.fit(train[mdl_cols], train['target_4cls'])"
   ]
  },
  {
   "cell_type": "code",
   "execution_count": 66,
   "metadata": {},
   "outputs": [
    {
     "name": "stdout",
     "output_type": "stream",
     "text": [
      "Training accuracy:  0.46772633333333336\n",
      "Test accuracy:  0.46317\n",
      "Training f1_score:  0.3387349518060806\n",
      "Test f1_score:  0.3353384243400674\n"
     ]
    }
   ],
   "source": [
    "print('Training accuracy: ', accuracy_score(gnb.predict(train[mdl_cols]), train['target_4cls']))\n",
    "print('Test accuracy: ', accuracy_score(gnb.predict(validation[mdl_cols]), validation['target_4cls']))\n",
    "\n",
    "print('Training f1_score: ', f1_score(gnb.predict(train[mdl_cols]), train['target_4cls'], average = 'macro'))\n",
    "print('Test f1_score: ', f1_score(gnb.predict(validation[mdl_cols]), validation['target_4cls'], average = 'macro'))"
   ]
  },
  {
   "cell_type": "code",
   "execution_count": null,
   "metadata": {},
   "outputs": [],
   "source": [
    "#xgboost的accuracy最高 f1和logistic差不多"
   ]
  }
 ],
 "metadata": {
  "kernelspec": {
   "display_name": "Python 3",
   "language": "python",
   "name": "python3"
  },
  "language_info": {
   "codemirror_mode": {
    "name": "ipython",
    "version": 3
   },
   "file_extension": ".py",
   "mimetype": "text/x-python",
   "name": "python",
   "nbconvert_exporter": "python",
   "pygments_lexer": "ipython3",
   "version": "3.8.5"
  }
 },
 "nbformat": 4,
 "nbformat_minor": 4
}