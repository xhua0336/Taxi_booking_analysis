{
 "cells": [
  {
   "cell_type": "code",
   "execution_count": 1,
   "metadata": {},
   "outputs": [],
   "source": [
    "import numpy as np\n",
    "import pandas as pd\n",
    "import toad\n",
    "import matplotlib.pyplot as plt\n",
    "import seaborn as sns\n",
    "import datetime\n",
    "from toad.plot import bin_plot\n",
    "from sklearn.model_selection import train_test_split, GridSearchCV\n",
    "from sklearn.neighbors import KNeighborsClassifier\n",
    "from sklearn.tree import DecisionTreeClassifier\n",
    "from sklearn.naive_bayes import GaussianNB\n",
    "import xgboost\n",
    "from sklearn.multiclass import OneVsOneClassifier\n",
    "from sklearn.linear_model import LogisticRegression \n",
    "\n",
    "from sklearn.metrics import accuracy_score, f1_score,precision_score, recall_score"
   ]
  },
  {
   "cell_type": "code",
   "execution_count": 2,
   "metadata": {},
   "outputs": [],
   "source": [
    "parse_dates = ['CreatedDate', 'RequestedDate', 'AccTime', 'PupTime', 'DelTime']\n",
    "data = pd.read_csv('Booking_Dispatch_training_set.csv', parse_dates = parse_dates, \\\n",
    "                   date_parser = lambda x: pd.to_datetime(x).strftime(\"%Y-%m-%d %H:%M:%S\"))"
   ]
  },
  {
   "cell_type": "code",
   "execution_count": 3,
   "metadata": {},
   "outputs": [],
   "source": [
    "parse_dates2 = ['CreatedDate', 'RequestedDate']\n",
    "\n",
    "validation = pd.read_csv('Booking_Dispatch_validation_set.csv', parse_dates = parse_dates2, \\\n",
    "                   date_parser = lambda x: pd.to_datetime(x).strftime(\"%Y-%m-%d %H:%M:%S\"))"
   ]
  },
  {
   "cell_type": "code",
   "execution_count": 4,
   "metadata": {},
   "outputs": [
    {
     "data": {
      "text/plain": [
       "(3000000, 37)"
      ]
     },
     "execution_count": 4,
     "metadata": {},
     "output_type": "execute_result"
    }
   ],
   "source": [
    "data.shape\n",
    "# (3000000, 37)"
   ]
  },
  {
   "cell_type": "code",
   "execution_count": 5,
   "metadata": {},
   "outputs": [
    {
     "data": {
      "text/plain": [
       "(300000, 17)"
      ]
     },
     "execution_count": 5,
     "metadata": {},
     "output_type": "execute_result"
    }
   ],
   "source": [
    "validation.shape"
   ]
  },
  {
   "cell_type": "code",
   "execution_count": 6,
   "metadata": {},
   "outputs": [
    {
     "data": {
      "text/plain": [
       "Completed    0.776306\n",
       "Cancelled    0.128554\n",
       "No Job       0.082690\n",
       "ELSE         0.012449\n",
       "Name: TargetVariable, dtype: float64"
      ]
     },
     "execution_count": 6,
     "metadata": {},
     "output_type": "execute_result"
    }
   ],
   "source": [
    "data['TargetVariable'].value_counts()/len(data)"
   ]
  },
  {
   "cell_type": "code",
   "execution_count": 7,
   "metadata": {},
   "outputs": [],
   "source": [
    "# binary target: 'Cancelled'\n",
    "target_dict = {'Cancelled':1,'Completed':0,'ELSE':0,'No Job':0,}\n",
    "data['target_2cls_Cancelled'] = data['TargetVariable'].replace(target_dict)\n",
    "validation['target_2cls_Cancelled'] = validation['TargetVariable'].replace(target_dict)\n",
    "\n",
    "# binary target: 'Completed'\n",
    "target_dict = {'Cancelled':0,'Completed':1,'ELSE':0,'No Job':0,}\n",
    "data['target_2cls_Completed'] = data['TargetVariable'].replace(target_dict)\n",
    "validation['target_2cls_Completed'] = validation['TargetVariable'].replace(target_dict)\n",
    "\n",
    "# binary target: 'ELSE'\n",
    "target_dict = {'Cancelled':0,'Completed':0,'ELSE':1,'No Job':0,}\n",
    "data['target_2cls_ELSE'] = data['TargetVariable'].replace(target_dict)\n",
    "validation['target_2cls_ELSE'] = validation['TargetVariable'].replace(target_dict)\n",
    "\n",
    "# binary target: 'No Job'\n",
    "target_dict = {'Cancelled':0,'Completed':0,'ELSE':0,'No Job':1,}\n",
    "data['target_2cls_NoJob'] = data['TargetVariable'].replace(target_dict)\n",
    "validation['target_2cls_NoJob'] = validation['TargetVariable'].replace(target_dict)"
   ]
  },
  {
   "cell_type": "code",
   "execution_count": 8,
   "metadata": {},
   "outputs": [],
   "source": [
    "# 4分类target\n",
    "target_dict2 = {\n",
    "    'Cancelled':0,\n",
    "    'Completed':1,\n",
    "    'No Job':2,\n",
    "    'ELSE':3,\n",
    "}\n",
    "\n",
    "data['target_4cls'] = data['TargetVariable'].replace(target_dict2)\n",
    "validation['target_4cls'] = validation['TargetVariable'].replace(target_dict2)"
   ]
  },
  {
   "cell_type": "code",
   "execution_count": 9,
   "metadata": {},
   "outputs": [
    {
     "data": {
      "text/plain": [
       "Index(['BookingID', 'BookingSource', 'Conditions', 'HasCondition',\n",
       "       'IsAccountBooking', 'CreatedDate', 'RequestedDate', 'BookingFleet',\n",
       "       'DispatchFleet', 'AreaNumber', 'PuPlace', 'PuAddress', 'PuSuburb',\n",
       "       'PuLat', 'PuLong', 'FinalDispatchStatus', 'TargetVariable',\n",
       "       'target_2cls_Cancelled', 'target_2cls_Completed', 'target_2cls_ELSE',\n",
       "       'target_2cls_NoJob', 'target_4cls'],\n",
       "      dtype='object')"
      ]
     },
     "execution_count": 9,
     "metadata": {},
     "output_type": "execute_result"
    }
   ],
   "source": [
    "validation.columns"
   ]
  },
  {
   "cell_type": "code",
   "execution_count": 10,
   "metadata": {},
   "outputs": [],
   "source": [
    "# 可以入模的 features + target ; 即排除\n",
    "cols = ['BookingID', 'BookingSource', 'Conditions', 'HasCondition', 'IsAccountBooking', 'CreatedDate', 'RequestedDate', 'BookingFleet'\n",
    "        , 'DispatchFleet', 'AreaNumber', 'PuPlace', 'PuAddress', 'PuSuburb', 'PuLat', 'PuLong', 'TargetVariable','target_2cls_Cancelled','target_2cls_Completed','target_2cls_ELSE','target_2cls_NoJob','target_4cls']\n",
    "data = data[cols]\n",
    "validation=validation[cols]"
   ]
  },
  {
   "cell_type": "code",
   "execution_count": null,
   "metadata": {},
   "outputs": [],
   "source": []
  },
  {
   "cell_type": "markdown",
   "metadata": {},
   "source": [
    "# 2. Feature Engineering"
   ]
  },
  {
   "cell_type": "markdown",
   "metadata": {},
   "source": [
    "## 2.1 Suburb"
   ]
  },
  {
   "cell_type": "code",
   "execution_count": 11,
   "metadata": {},
   "outputs": [
    {
     "data": {
      "text/plain": [
       "<AxesSubplot:xlabel='PuSuburb', ylabel='prop'>"
      ]
     },
     "execution_count": 11,
     "metadata": {},
     "output_type": "execute_result"
    },
    {
     "data": {
      "image/png": "[encoded data removed]",
      "text/plain": [
       "<Figure size 864x432 with 2 Axes>"
      ]
     },
     "metadata": {},
     "output_type": "display_data"
    }
   ],
   "source": [
    "c = toad.transform.Combiner()\n",
    "col = 'PuSuburb'\n",
    "c.fit(data[[col,'target_2cls_Completed']], y = 'target_2cls_Completed', method = 'chi',min_samples = 0.05) # DT, Kmeans, Quantile, Step \n",
    "bin_plot(c.transform(data[[col,'target_2cls_Completed']], labels=False), x=col, target='target_2cls_Completed')"
   ]
  },
  {
   "cell_type": "code",
   "execution_count": 12,
   "metadata": {},
   "outputs": [
    {
     "data": {
      "text/plain": [
       "<AxesSubplot:xlabel='PuSuburb', ylabel='prop'>"
      ]
     },
     "execution_count": 12,
     "metadata": {},
     "output_type": "execute_result"
    },
    {
     "data": {
      "image/png": "[encoded data removed]",
      "text/plain": [
       "<Figure size 864x432 with 2 Axes>"
      ]
     },
     "metadata": {},
     "output_type": "display_data"
    }
   ],
   "source": [
    "# 在validation上测试\n",
    "bin_plot(c.transform(validation[[col,'target_2cls_Completed']], labels=False), x=col, target='target_2cls_Completed') \n",
    "\n",
    "# 由于-1的关系，有一个位移，忽视掉\n",
    "#结论：train的IV0.2495，test时0.2444，稳定性非常好且iv很高；分箱的梯度非常明显"
   ]
  },
  {
   "cell_type": "code",
   "execution_count": 13,
   "metadata": {},
   "outputs": [
    {
     "data": {
      "text/plain": [
       "{'PuSuburb': [['Bathurst',\n",
       "   'Lithgow',\n",
       "   'Brownlow Hill',\n",
       "   'South Maroota',\n",
       "   'Pitt Town',\n",
       "   'Clarendon',\n",
       "   'Lansdowne',\n",
       "   'Windsor',\n",
       "   'Hobartville',\n",
       "   'Wollongong',\n",
       "   'Bowenfels',\n",
       "   'Glenmore',\n",
       "   'South Windsor',\n",
       "   'Audley',\n",
       "   'Douglas Park',\n",
       "   'Warrimoo',\n",
       "   'Balmoral (South)',\n",
       "   'Gosford',\n",
       "   'Scotland Island',\n",
       "   'Ku-Ring-Gai Chase',\n",
       "   'Ebenezer',\n",
       "   'Londonderry',\n",
       "   'Cottage Point',\n",
       "   'Wilton',\n",
       "   'Oakdale',\n",
       "   'Berkshire Park',\n",
       "   'Cattai',\n",
       "   'Palm Beach',\n",
       "   'Whale Beach',\n",
       "   'Springwood',\n",
       "   'Oakville',\n",
       "   'Mulgrave',\n",
       "   'Mcgraths Hill',\n",
       "   'Shanes Park',\n",
       "   'The Oaks',\n",
       "   'Port Kembla',\n",
       "   'REGENTS PARK',\n",
       "   'Sun Valley',\n",
       "   'Werombi',\n",
       "   'Lakesland',\n",
       "   'Kelso',\n",
       "   'Hill Top (North)',\n",
       "   'HAYMARKET',\n",
       "   'Belimbla Park',\n",
       "   'Kurmond',\n",
       "   'Vineyard',\n",
       "   'Bligh Park',\n",
       "   'Mount Vernon',\n",
       "   'Agnes Banks',\n",
       "   'Winmalee',\n",
       "   'Windsor Downs',\n",
       "   'Castlereagh',\n",
       "   'Shalvey',\n",
       "   'Bringelly',\n",
       "   'WEST HOXTON',\n",
       "   'Bilgola Beach',\n",
       "   'Thirroul',\n",
       "   'Wallerawang',\n",
       "   'Maroota',\n",
       "   'Bellambi',\n",
       "   'Badgerys Creek',\n",
       "   'Balgownie',\n",
       "   'Balmoral',\n",
       "   'Middle Harbour',\n",
       "   'Maraylya',\n",
       "   'Berkeley',\n",
       "   'Warilla',\n",
       "   'Rydal',\n",
       "   'Tarrawanna',\n",
       "   'BAYVIEW',\n",
       "   'LILLI PILLI',\n",
       "   'Careel Bay',\n",
       "   'South Bathurst',\n",
       "   'Clareville',\n",
       "   'Willmot',\n",
       "   'Royal National Park',\n",
       "   'Cecil Park',\n",
       "   'Avalon Beach',\n",
       "   'Berrilee',\n",
       "   'Mulgoa',\n",
       "   'Mount Riverview',\n",
       "   'Bidwill',\n",
       "   'Tregear',\n",
       "   'Rossmore',\n",
       "   'Emerton',\n",
       "   'Faulconbridge',\n",
       "   'Picton',\n",
       "   'Werrington',\n",
       "   'WOLLI CREEK',\n",
       "   'BANKSTOWN',\n",
       "   'Kemps Creek',\n",
       "   'Lethbridge Park',\n",
       "   'Riverstone',\n",
       "   'Lapstone',\n",
       "   'Blackett',\n",
       "   'Ropes Crossing',\n",
       "   'Glenorie',\n",
       "   'Wallacia',\n",
       "   'Kingswood Park',\n",
       "   'St Marys',\n",
       "   'Cambridge Gardens',\n",
       "   'Luddenham',\n",
       "   'Duffys Forest',\n",
       "   'Berowra Waters',\n",
       "   'Cowan',\n",
       "   'Avalon',\n",
       "   'Annangrove',\n",
       "   'Horsley Park',\n",
       "   'Hebersham',\n",
       "   'Bilgola Plateau',\n",
       "   'Richmond',\n",
       "   'Cranebrook',\n",
       "   'Kentlyn',\n",
       "   'Colyton',\n",
       "   'Newport',\n",
       "   'Whalan',\n",
       "   'St Clair',\n",
       "   'Camden Park',\n",
       "   'North St Marys',\n",
       "   'Barangaroo',\n",
       "   'Cawdor',\n",
       "   'Razorback',\n",
       "   'Dharruk',\n",
       "   'Little Hartley',\n",
       "   'MERRYLANDS',\n",
       "   'QUAKERS HILL',\n",
       "   'KANGAROO POINT',\n",
       "   'MONTEREY',\n",
       "   'KEARNS',\n",
       "   'Mount Warrigal',\n",
       "   'MOUNT VICTORIA',\n",
       "   'CARLTON',\n",
       "   'LIBERTY GROVE',\n",
       "   'TERREY HILLS',\n",
       "   'DOONSIDE',\n",
       "   'LOFTUS',\n",
       "   'LURNEA',\n",
       "   'MILLER',\n",
       "   'KELLYVILLE RIDGE',\n",
       "   'Mckellars Park',\n",
       "   'Cringila',\n",
       "   'Morts Estate',\n",
       "   'COLEBEE',\n",
       "   'Kingswood (North)',\n",
       "   'KYEEMAGH',\n",
       "   'Mount Pleasant',\n",
       "   'MERRYLANDS WEST',\n",
       "   'HURSTVILLE GROVE',\n",
       "   'DENHAM COURT',\n",
       "   'Lemongrove',\n",
       "   'Hurstville South',\n",
       "   'West Bathurst',\n",
       "   'Mount Ousley',\n",
       "   'Maldon',\n",
       "   'Mittagong',\n",
       "   'darling harbour',\n",
       "   'Bobbin Head',\n",
       "   'ROUSE HILL',\n",
       "   'BANGOR',\n",
       "   'WALSH BAY',\n",
       "   'BARANGAROO',\n",
       "   'WOOLOOWARE',\n",
       "   'REGENTVILLE',\n",
       "   'GLENFIELD',\n",
       "   'VINEYARD',\n",
       "   'GRAYS POINT',\n",
       "   'Pitt Town Bottoms',\n",
       "   'GREEN VALLEY',\n",
       "   'BEXLEY NORTH',\n",
       "   'GREENFIELD PARK',\n",
       "   'EAST HILLS',\n",
       "   'Glenbrook',\n",
       "   'Woonona',\n",
       "   'BONNET BAY',\n",
       "   'Randwick NSW',\n",
       "   'GEORGES HALL',\n",
       "   'AIRDS',\n",
       "   'Eglinton',\n",
       "   'AMBARVALE',\n",
       "   'ST ANDREWS',\n",
       "   'SPRING FARM',\n",
       "   'Yellow Rock',\n",
       "   'SCHOFIELDS',\n",
       "   'YARRAWARRAH',\n",
       "   'SYLVANIA WATERS',\n",
       "   'Akuna Bay',\n",
       "   'Albion Park Rail',\n",
       "   'GALSTON',\n",
       "   'East Gordon',\n",
       "   'East Corrimal',\n",
       "   'Richmond RAAF',\n",
       "   'GLENDENNING',\n",
       "   'EAGLE VALE',\n",
       "   'BARDEN RIDGE',\n",
       "   'DURAL',\n",
       "   'HARRIS PARK',\n",
       "   'ORAN PARK',\n",
       "   'HAMMONDVILLE',\n",
       "   'Windradyne',\n",
       "   'OLD TOONGABBIE',\n",
       "   'OATLEY',\n",
       "   'OAKHURST',\n",
       "   'Grenfell',\n",
       "   'HECKENBERG',\n",
       "   'North Cronulla',\n",
       "   'Oberon',\n",
       "   'Nattai',\n",
       "   'DUNDAS',\n",
       "   'Dobroyd Point',\n",
       "   'WESTMEAD',\n",
       "   'Gormans Hill',\n",
       "   'BUSBY',\n",
       "   'WOODCROFT',\n",
       "   'NORTH PARRAMATTA',\n",
       "   'White Bay',\n",
       "   'BURRANEER',\n",
       "   'HENLEY',\n",
       "   'Glenmore Park',\n",
       "   'Claremont Meadows',\n",
       "   'Darling Harbour',\n",
       "   'Orchard Hills',\n",
       "   'Kurnell',\n",
       "   'Claymore',\n",
       "   'Austral',\n",
       "   'Villawood',\n",
       "   'Bargo',\n",
       "   'Regentville',\n",
       "   'Llandilo',\n",
       "   'Catherine Field',\n",
       "   'Emu Heights',\n",
       "   'Buxton',\n",
       "   'Dawes Point',\n",
       "   'Linden',\n",
       "   'Erskine Park',\n",
       "   'SYDNEY',\n",
       "   'Brooklyn',\n",
       "   'Greenhills Beach',\n",
       "   'Rouse Hill',\n",
       "   'Cambridge Park',\n",
       "   'Emu Plains',\n",
       "   'GLENHAVEN',\n",
       "   'Walsh Bay',\n",
       "   'Bilgola',\n",
       "   'Chester Hill',\n",
       "   'Schofields',\n",
       "   'Oxley Park',\n",
       "   'Appin',\n",
       "   'Penrith',\n",
       "   'Lucas Heights',\n",
       "   'Box Hill',\n",
       "   'Millers Point',\n",
       "   'Camden South',\n",
       "   'Kingswood',\n",
       "   'Mount Druitt',\n",
       "   'Engadine',\n",
       "   'Jordan Springs',\n",
       "   'Tahmoor',\n",
       "   'Len Waters Estate',\n",
       "   'Bass Hill',\n",
       "   'Yarrawarrah',\n",
       "   'Kellyville Ridge',\n",
       "   'Elderslie',\n",
       "   'JORDAN SPRINGS',\n",
       "   'Woronora',\n",
       "   'Plumpton',\n",
       "   'Caddens',\n",
       "   'Camden',\n",
       "   'Menangle Park',\n",
       "   'Oran Park',\n",
       "   'Regents Park',\n",
       "   'Hassall Grove',\n",
       "   'Orangeville',\n",
       "   'East Botany',\n",
       "   'Church Point',\n",
       "   'Narellan',\n",
       "   'Thirlmere',\n",
       "   'Maianbar',\n",
       "   'The Spit',\n",
       "   'Sydney',\n",
       "   'Old Guildford',\n",
       "   'Mona Vale',\n",
       "   'Heathcote',\n",
       "   'Grasmere',\n",
       "   'Gledswood Hills',\n",
       "   'Illawong',\n",
       "   'Abbotsbury',\n",
       "   'Wentworth Falls',\n",
       "   'Greenfield Park',\n",
       "   'Colebee',\n",
       "   'South Penrith',\n",
       "   'Harbord',\n",
       "   'BONNYRIGG',\n",
       "   'PEMULWUY',\n",
       "   'LEUMEAH',\n",
       "   'CARRAMAR',\n",
       "   'SOUTH HURSTVILLE',\n",
       "   'WILEY PARK',\n",
       "   'Fiddletown',\n",
       "   'Pheasants Nest',\n",
       "   'BEVERLEY PARK',\n",
       "   'BERALA',\n",
       "   'Wedderburn',\n",
       "   'MINTO',\n",
       "   'Bayview',\n",
       "   'Sydney Airport',\n",
       "   'Wetherill Park',\n",
       "   'Dean Park',\n",
       "   'Minchinbury',\n",
       "   'Spring Farm',\n",
       "   'Werrington County',\n",
       "   'AUBURN',\n",
       "   'Kenthurst'],\n",
       "  ['Menai',\n",
       "   'Mount Hunter',\n",
       "   'GUILDFORD',\n",
       "   'Nelson',\n",
       "   'Greendale',\n",
       "   'The Rocks',\n",
       "   'Guildford West',\n",
       "   'Ingleside',\n",
       "   'Haymarket',\n",
       "   'Edensor Park',\n",
       "   'Smithfield',\n",
       "   'Sefton',\n",
       "   'North Narrabeen',\n",
       "   'Leonay',\n",
       "   'MILLERS POINT',\n",
       "   'Waterfall',\n",
       "   'Oakhurst',\n",
       "   'Fairfield',\n",
       "   'Birrong',\n",
       "   'Leppington',\n",
       "   'Alfords Point',\n",
       "   'Guildford',\n",
       "   'Eagle Vale',\n",
       "   'COLLAROY',\n",
       "   'PRESTONS',\n",
       "   'Old Toongabbie',\n",
       "   'PARRAMATTA',\n",
       "   'Yagoona',\n",
       "   'Carnes Hill',\n",
       "   'Kings Cross',\n",
       "   'Bungarribee',\n",
       "   'Edmondson Park',\n",
       "   'MANLY VALE',\n",
       "   'NARRAWEENA',\n",
       "   'Strathfield West',\n",
       "   'Quakers Hill',\n",
       "   'Eastern Creek',\n",
       "   'Narellan Vale',\n",
       "   'Merrylands',\n",
       "   'Berowra',\n",
       "   'Georges Hall',\n",
       "   'Woronora Heights',\n",
       "   'Kirkham',\n",
       "   'ILLAWONG',\n",
       "   'Telopea',\n",
       "   'Rooty Hill',\n",
       "   'Lalor Park',\n",
       "   'CROMER',\n",
       "   'Warriewood',\n",
       "   'Gregory Hills',\n",
       "   'Galston',\n",
       "   'Greystanes',\n",
       "   'Wheeler Heights',\n",
       "   'MASCOT',\n",
       "   'Terrey Hills',\n",
       "   'Bossley Park',\n",
       "   'Leura',\n",
       "   'Fairfield East',\n",
       "   'Toongabbie',\n",
       "   'Pemulwuy',\n",
       "   'Collaroy',\n",
       "   'Parramatta',\n",
       "   'Mount Annan',\n",
       "   'Pendle Hill',\n",
       "   'The Ponds',\n",
       "   'Bundeena',\n",
       "   'Doonside',\n",
       "   'Mascot',\n",
       "   'Katoomba',\n",
       "   'South Turramurra',\n",
       "   'ST MARYS'],\n",
       "  ['SOUTH TURRAMURRA',\n",
       "   'SILVERWATER',\n",
       "   'SYDNEY OLYMPIC PARK',\n",
       "   'THE PONDS',\n",
       "   'GREGORY HILLS',\n",
       "   'MACQUARIE LINKS',\n",
       "   'MEADOWBANK',\n",
       "   'KINGS LANGLEY',\n",
       "   'Megalong Valley',\n",
       "   'Theresa Park',\n",
       "   'Hartley',\n",
       "   'Rose Bay North',\n",
       "   'NEWPORT',\n",
       "   'NORTH EPPING',\n",
       "   'TOONGABBIE',\n",
       "   'North St Ives',\n",
       "   'PENDLE HILL',\n",
       "   'PENSHURST',\n",
       "   'PUNCHBOWL',\n",
       "   'HOMEBUSH WEST',\n",
       "   'MONA VALE',\n",
       "   'HARRINGTON PARK',\n",
       "   'SUTHERLAND',\n",
       "   'DAVIDSON',\n",
       "   'WORONORA',\n",
       "   'CONDELL PARK',\n",
       "   'COMO',\n",
       "   'CHESTER HILL',\n",
       "   'CARINGBAH SOUTH',\n",
       "   'CARINGBAH',\n",
       "   'CANLEY VALE',\n",
       "   'WENTWORTHVILLE',\n",
       "   'CABRAMATTA WEST',\n",
       "   'WARRIEWOOD',\n",
       "   'BILGOLA PLATEAU',\n",
       "   'BELLA VISTA',\n",
       "   'BANKSMEADOW',\n",
       "   'CABRAMATTA',\n",
       "   'AVALON BEACH',\n",
       "   'ALLAWAH',\n",
       "   'ARCADIA',\n",
       "   'Collaroy Plateau',\n",
       "   'Berowra Heights',\n",
       "   'Bardia',\n",
       "   'Arcadia',\n",
       "   'Homebush Bay',\n",
       "   'Prospect',\n",
       "   'Fairfield Heights',\n",
       "   'Elanora Heights',\n",
       "   'St. Ives',\n",
       "   'Lilli Pilli',\n",
       "   'Glenhaven',\n",
       "   'Narrabeen',\n",
       "   'Beaumont Hills',\n",
       "   'Eastgardens',\n",
       "   'Jamisontown',\n",
       "   'Brookvale',\n",
       "   'Prairiewood',\n",
       "   'Granville',\n",
       "   'Voyager Point',\n",
       "   'LONGUEVILLE',\n",
       "   'Bangor',\n",
       "   'Mount Lewis',\n",
       "   'Cromer',\n",
       "   'HILLSDALE',\n",
       "   'Stanhope Gardens',\n",
       "   'Canley Heights',\n",
       "   'Seven Hills',\n",
       "   'Denham Court',\n",
       "   'BELROSE',\n",
       "   'Cobbitty',\n",
       "   'Macquarie Park',\n",
       "   'Sutherland',\n",
       "   'East Hills',\n",
       "   'Holroyd',\n",
       "   'Sydney Olympic Park',\n",
       "   'Fairfield West',\n",
       "   'Brighton-Le-Sands',\n",
       "   'Winston Hills',\n",
       "   'Merrylands West',\n",
       "   'Valley Heights',\n",
       "   'Oxford Falls',\n",
       "   'Cronulla',\n",
       "   'Kearns',\n",
       "   'Dee Why',\n",
       "   'Kellyville',\n",
       "   'Woodpark',\n",
       "   'Riverwood',\n",
       "   'Westmead',\n",
       "   'Ambarvale',\n",
       "   'Davidson',\n",
       "   'Clyde',\n",
       "   'St Ives Chase',\n",
       "   'Constitution Hill',\n",
       "   'Moore Park',\n",
       "   'Airds',\n",
       "   'SANS SOUCI',\n",
       "   'CASULA',\n",
       "   'South Granville',\n",
       "   'Wentworthville',\n",
       "   'Harris Park',\n",
       "   'Canley Vale',\n",
       "   'North Balgowlah',\n",
       "   'Pyrmont',\n",
       "   'EVELEIGH',\n",
       "   'Ramsgate',\n",
       "   'Circular Quay',\n",
       "   'St Johns Park',\n",
       "   'Manly',\n",
       "   'Currans Hill',\n",
       "   'Marsfield',\n",
       "   'Yennora',\n",
       "   'Kings Park',\n",
       "   'Bonnet Bay',\n",
       "   'Holsworthy',\n",
       "   'Bankstown',\n",
       "   'Lansvale',\n",
       "   'Panania',\n",
       "   'Marayong',\n",
       "   'Middleton Grange',\n",
       "   'Homebush',\n",
       "   'Revesby',\n",
       "   'Chippendale',\n",
       "   'Werrington Downs',\n",
       "   'Milperra',\n",
       "   'Cabramatta',\n",
       "   'Barden Ridge',\n",
       "   'Killarney Heights',\n",
       "   'Linley Point',\n",
       "   'RYDALMERE',\n",
       "   'BEVERLY HILLS',\n",
       "   'MOUNT KURING-GAI',\n",
       "   'Boronia Park',\n",
       "   'NORTH TURRAMURRA',\n",
       "   'Watsons Bay',\n",
       "   'Manly Vale',\n",
       "   'Castle Hill',\n",
       "   'Jannali',\n",
       "   'South Wentworthville',\n",
       "   'Marsden Park',\n",
       "   'Baulkham Hills',\n",
       "   'Padstow',\n",
       "   'North Manly',\n",
       "   'Blacktown',\n",
       "   'Connells Point',\n",
       "   'Surry Hills',\n",
       "   'Kareela',\n",
       "   'Middle Dural',\n",
       "   'Elizabeth Hills',\n",
       "   'Rosehill',\n",
       "   'Mays Hill',\n",
       "   'Bella Vista',\n",
       "   'Harrington Park',\n",
       "   'Wakeley',\n",
       "   'Hammondville',\n",
       "   'Parklea',\n",
       "   'Punchbowl',\n",
       "   'West Hoxton',\n",
       "   'Leumeah',\n",
       "   'Sydenham',\n",
       "   'Beverly Hills',\n",
       "   'Darlinghurst',\n",
       "   'Warwick Farm',\n",
       "   'Glenfield',\n",
       "   'Ellis Lane',\n",
       "   'East Sydney',\n",
       "   'Minto Heights'],\n",
       "  ['Freshwater',\n",
       "   'Sandringham',\n",
       "   'Arndell Park',\n",
       "   'Hoxton Park',\n",
       "   'Northmead',\n",
       "   'Garden Island',\n",
       "   'Penshurst',\n",
       "   'THE ROCKS',\n",
       "   'Glenwood',\n",
       "   'Frenchs Forest',\n",
       "   'Woodcroft',\n",
       "   'Carss Park',\n",
       "   'Burraneer',\n",
       "   'Picnic Point',\n",
       "   'North Turramurra',\n",
       "   'Miller',\n",
       "   'Belrose',\n",
       "   'Kogarah Bay',\n",
       "   'Potts Hill',\n",
       "   'Zetland',\n",
       "   'Blairmount',\n",
       "   'Wolli Creek',\n",
       "   'Kirrawee',\n",
       "   'Pleasure Point',\n",
       "   'Varroville',\n",
       "   'Berala',\n",
       "   'Sylvania Waters',\n",
       "   'Concord west',\n",
       "   'Como',\n",
       "   'North Parramatta',\n",
       "   'Grays Point',\n",
       "   'Ultimo',\n",
       "   'University Of Nsw',\n",
       "   'Cecil Hills',\n",
       "   'Chipping Norton',\n",
       "   'Oyster Bay',\n",
       "   'Gilead',\n",
       "   'Bonnyrigg',\n",
       "   'CHIPPENDALE',\n",
       "   'Curl Curl',\n",
       "   'Hazelbrook',\n",
       "   'Balgowlah Heights',\n",
       "   'Lawson',\n",
       "   'Rookwood',\n",
       "   'Mount Pritchard',\n",
       "   'Waterloo',\n",
       "   'Silverwater',\n",
       "   'Raby',\n",
       "   'Casula',\n",
       "   'Balgowlah',\n",
       "   'Peakhurst Heights',\n",
       "   'Carlingford',\n",
       "   'Wiley Park',\n",
       "   'Revesby Heights',\n",
       "   'Minto',\n",
       "   'Campbelltown',\n",
       "   'Woolooware',\n",
       "   'Wentworth Point',\n",
       "   'Eveleigh',\n",
       "   'Narraweena',\n",
       "   'Dural',\n",
       "   'Gymea Bay',\n",
       "   'Blakehurst',\n",
       "   'MENAI',\n",
       "   'PAGEWOOD',\n",
       "   'ROOTY HILL',\n",
       "   'PICNIC POINT',\n",
       "   'NORMANHURST',\n",
       "   'DUNDAS VALLEY',\n",
       "   'CARNES HILL',\n",
       "   'RAMSGATE',\n",
       "   'GREENHILLS BEACH',\n",
       "   'MIRANDA',\n",
       "   'ASQUITH',\n",
       "   'BLAKEHURST',\n",
       "   'KIRRAWEE',\n",
       "   'BLACKTOWN',\n",
       "   'KOGARAH',\n",
       "   'STANHOPE GARDENS',\n",
       "   'GYMEA',\n",
       "   'WARRAWEE',\n",
       "   'Couridjah',\n",
       "   'ASHCROFT',\n",
       "   'GLEDSWOOD HILLS',\n",
       "   'KELLYVILLE',\n",
       "   'GYMEA BAY',\n",
       "   'KAREELA',\n",
       "   'EAST RYDE',\n",
       "   'NORTHMEAD',\n",
       "   'Kings Langley',\n",
       "   'Rockdale',\n",
       "   'Peakhurst',\n",
       "   'Eschol Park',\n",
       "   'Bonnyrigg Heights',\n",
       "   'Sans Souci',\n",
       "   'Gymea',\n",
       "   'Kyeemagh',\n",
       "   'Rosemeadow',\n",
       "   'Oatley',\n",
       "   'Miranda',\n",
       "   'Hurstville',\n",
       "   'Auburn',\n",
       "   'Bullaburra',\n",
       "   'Bow Bowing',\n",
       "   'Ashcroft',\n",
       "   'Pennant Hills',\n",
       "   'North Rocks',\n",
       "   'Girraween',\n",
       "   'Loftus',\n",
       "   'Kyle Bay',\n",
       "   'Sylvania',\n",
       "   'Caringbah',\n",
       "   'Beacon Hill',\n",
       "   'Liverpool',\n",
       "   'CASTLE HILL',\n",
       "   'North Wahroonga',\n",
       "   'St Helens Park',\n",
       "   'Narwee',\n",
       "   'Horningsea Park',\n",
       "   'Turrella',\n",
       "   'Homebush West',\n",
       "   'Carramar',\n",
       "   'Acacia Gardens',\n",
       "   'Blair Athol'],\n",
       "  ['Queenscliff',\n",
       "   'Wattle Grove',\n",
       "   'Woolloomooloo',\n",
       "   'DEE WHY',\n",
       "   'Greenacre',\n",
       "   'Carlton',\n",
       "   'Potts Point',\n",
       "   'Dolls Point',\n",
       "   'Rushcutters Bay',\n",
       "   'Lugarno',\n",
       "   'Lakemba',\n",
       "   'Clontarf',\n",
       "   'Redfern',\n",
       "   'Lidcombe',\n",
       "   'Bradbury',\n",
       "   'Woodford',\n",
       "   'Condell Park',\n",
       "   'CURL CURL',\n",
       "   'OYSTER BAY',\n",
       "   'WOOLLOOMOOLOO',\n",
       "   'CRONULLA',\n",
       "   'Blue Mountains National Park',\n",
       "   'Bondi Junction',\n",
       "   'Allawah',\n",
       "   'Cherrybrook',\n",
       "   'Dundas Valley',\n",
       "   'Glen Alpine',\n",
       "   'Fairlight',\n",
       "   'KILLARNEY HEIGHTS',\n",
       "   'Belmore',\n",
       "   'Monterey',\n",
       "   'Melrose Park',\n",
       "   'North Ryde',\n",
       "   'Arncliffe',\n",
       "   'North Curl Curl',\n",
       "   'South Hurstville',\n",
       "   'Roselands',\n",
       "   'St Andrews',\n",
       "   'INGLEBURN',\n",
       "   'EASTWOOD',\n",
       "   'Prestons',\n",
       "   'Menangle',\n",
       "   'Bexley North',\n",
       "   'Clemton Park',\n",
       "   'Rhodes',\n",
       "   'Epping',\n",
       "   'Caringbah South',\n",
       "   'Padstow Heights',\n",
       "   'Dolans Bay',\n",
       "   'Flemington',\n",
       "   'Darlington',\n",
       "   'LAKEMBA',\n",
       "   'Diamond Bay',\n",
       "   'NORTH STRATHFIELD',\n",
       "   'SEAFORTH',\n",
       "   'Hartley Vale',\n",
       "   'HUNTLEYS POINT',\n",
       "   'Allambie Heights',\n",
       "   'Canterbury',\n",
       "   'BALGOWLAH',\n",
       "   'Taren Point',\n",
       "   'Forestville',\n",
       "   'Ruse',\n",
       "   'Gordon',\n",
       "   'NORTH MANLY',\n",
       "   'Banksia',\n",
       "   'Green Valley',\n",
       "   'Mount Victoria',\n",
       "   'Bondi Beach',\n",
       "   'Double Bay',\n",
       "   'Ramsgate Beach',\n",
       "   'Sandy Point',\n",
       "   'ULTIMO',\n",
       "   'HURLSTONE PARK',\n",
       "   'ROSELANDS',\n",
       "   'Ingleburn',\n",
       "   'Kingsgrove',\n",
       "   'Oatlands',\n",
       "   'Alexandria',\n",
       "   'Kogarah',\n",
       "   'BALGOWLAH HEIGHTS',\n",
       "   'Warrawee',\n",
       "   'Longueville',\n",
       "   'Heckenberg',\n",
       "   'Chullora',\n",
       "   'Cabramatta West',\n",
       "   'La Perouse',\n",
       "   'Glebe Point',\n",
       "   'Newtown',\n",
       "   'CONCORD WEST',\n",
       "   'Eastlakes',\n",
       "   'Bankstown Aerodrome',\n",
       "   'Long Point',\n",
       "   'Westleigh',\n",
       "   'Milsons Point',\n",
       "   'Phillip Bay',\n",
       "   'Woolwich',\n",
       "   'St Peters',\n",
       "   'Bexley',\n",
       "   'Beverley Park',\n",
       "   'MANLY',\n",
       "   'Cartwright',\n",
       "   'Sadleir',\n",
       "   'Macquarie Fields',\n",
       "   'Seaforth',\n",
       "   'Mortdale',\n",
       "   'Busby',\n",
       "   'Bardwell Valley',\n",
       "   'Mount Kuring-Gai'],\n",
       "  ['ENFIELD',\n",
       "   'NORTH ROCKS',\n",
       "   'NORTH WAHROONGA',\n",
       "   'SMITHFIELD',\n",
       "   'CAMPBELLTOWN',\n",
       "   'DACEYVILLE',\n",
       "   'BEXLEY',\n",
       "   'FORESTVILLE',\n",
       "   'MOORE PARK',\n",
       "   'MOUNT ANNAN',\n",
       "   'MOUNT COLAH',\n",
       "   'GREYSTANES',\n",
       "   'REVESBY',\n",
       "   'MOUNT PRITCHARD',\n",
       "   'ROSEVILLE CHASE',\n",
       "   'WESTLEIGH',\n",
       "   'OATLANDS',\n",
       "   'HINCHINBROOK',\n",
       "   'HOLSWORTHY',\n",
       "   'GLENMORE PARK',\n",
       "   'PEAKHURST',\n",
       "   'Cabarita',\n",
       "   'Camperdown',\n",
       "   'Yowie Bay',\n",
       "   'Burwood',\n",
       "   'Denistone West',\n",
       "   'Strathfield',\n",
       "   'Sydney University',\n",
       "   'West Pennant Hills',\n",
       "   'Dundas',\n",
       "   'Malabar',\n",
       "   'North Strathfield',\n",
       "   'Belfield',\n",
       "   'North Sydney',\n",
       "   'Eastwood',\n",
       "   'Edgecliff',\n",
       "   'Normanhurst',\n",
       "   'Lurnea',\n",
       "   'Rydalmere',\n",
       "   'Beecroft',\n",
       "   'Ermington',\n",
       "   'PYMBLE',\n",
       "   'Chatswood',\n",
       "   'Woodbine',\n",
       "   'West Ryde',\n",
       "   'Ryde',\n",
       "   'Strathfield South',\n",
       "   'Kingsford',\n",
       "   'Newington',\n",
       "   'Botany',\n",
       "   'Liberty Grove',\n",
       "   'MACQUARIE PARK',\n",
       "   'Hurlstone Park',\n",
       "   'Centennial Park',\n",
       "   'Meadowbank',\n",
       "   'Kensington',\n",
       "   'FRESHWATER',\n",
       "   'Moorebank',\n",
       "   'Tempe',\n",
       "   'Turramurra',\n",
       "   'Hillsdale',\n",
       "   'Pymble',\n",
       "   'NORTH CURL CURL',\n",
       "   'DAWES POINT',\n",
       "   'Macquarie University',\n",
       "   'LANE COVE WEST',\n",
       "   'Bondi',\n",
       "   'Hornsby Heights',\n",
       "   'Denistone East',\n",
       "   'Erskineville',\n",
       "   'Little Bay',\n",
       "   'Thornleigh',\n",
       "   'Earlwood',\n",
       "   'Cheltenham',\n",
       "   'HORNSBY HEIGHTS',\n",
       "   'FRENCHS FOREST',\n",
       "   'Hinchinbrook',\n",
       "   'Enfield',\n",
       "   'Wahroonga',\n",
       "   'East Ryde',\n",
       "   'Pagewood',\n",
       "   'Huntingwood',\n",
       "   'North Bondi',\n",
       "   'SOUTH COOGEE'],\n",
       "  ['BRADBURY',\n",
       "   'Camellia',\n",
       "   'Lindfield',\n",
       "   'Matraville',\n",
       "   'Castle Cove',\n",
       "   'NORTH BALGOWLAH',\n",
       "   'Waitara',\n",
       "   'Killara',\n",
       "   'Chifley',\n",
       "   'Concord West',\n",
       "   'Hurstville Grove',\n",
       "   'Rose Bay',\n",
       "   'St Leonards',\n",
       "   'Forest Lodge',\n",
       "   'North Epping',\n",
       "   'Vaucluse',\n",
       "   'Maroubra',\n",
       "   'Mortlake',\n",
       "   'TURRELLA',\n",
       "   'QUEENSCLIFF',\n",
       "   'COLLAROY PLATEAU',\n",
       "   'LINLEY POINT',\n",
       "   'EASTLAKES',\n",
       "   'REVESBY HEIGHTS',\n",
       "   'EPPING',\n",
       "   'WARWICK FARM',\n",
       "   'GLENWOOD',\n",
       "   'DENISTONE',\n",
       "   'CANLEY HEIGHTS',\n",
       "   'ST PETERS',\n",
       "   'Campsie',\n",
       "   'Blackheath',\n",
       "   'Medlow Bath',\n",
       "   'St Ives',\n",
       "   'ST IVES',\n",
       "   'ALEXANDRIA',\n",
       "   'Clifton Gardens',\n",
       "   'Northwood',\n",
       "   'Glebe',\n",
       "   'Marrickville',\n",
       "   'Lane Cove',\n",
       "   'Balmoral Beach',\n",
       "   'Petersham',\n",
       "   'Glendenning',\n",
       "   'Enmore',\n",
       "   'East Wahroonga',\n",
       "   'Elizabeth Bay',\n",
       "   'Putney',\n",
       "   'RIVERVIEW',\n",
       "   'Rosebery',\n",
       "   'Lane Cove West',\n",
       "   'Randwick',\n",
       "   'Riverview',\n",
       "   'Dover Heights',\n",
       "   'Concord',\n",
       "   'Mount Colah',\n",
       "   'STRATHFIELD',\n",
       "   'McMahons Point',\n",
       "   'Chatswood West',\n",
       "   'TAMARAMA',\n",
       "   'West Pymble',\n",
       "   'Waverley',\n",
       "   'Ashfield',\n",
       "   'Lewisham',\n",
       "   'Megalong',\n",
       "   'BEROWRA',\n",
       "   'Breakfast Point',\n",
       "   'East Killara',\n",
       "   'Leichhardt',\n",
       "   'South Coogee',\n",
       "   'PUTNEY',\n",
       "   'RUSHCUTTERS BAY',\n",
       "   'Bardwell Park',\n",
       "   'Coogee',\n",
       "   'Rozelle',\n",
       "   'NORTH RYDE',\n",
       "   'Summer Hill',\n",
       "   'Mosman',\n",
       "   'Paddington',\n",
       "   'CHISWICK',\n",
       "   'Dulwich Hill',\n",
       "   'RYDE',\n",
       "   'Roseville Chase',\n",
       "   'NEWINGTON',\n",
       "   'Marrickville South',\n",
       "   'CONNELLS POINT',\n",
       "   'Hornsby',\n",
       "   'Tamarama',\n",
       "   'Croydon Park',\n",
       "   'FOREST LODGE',\n",
       "   'Woollahra',\n",
       "   'Haberfield',\n",
       "   'Port Botany',\n",
       "   'Dangar Island',\n",
       "   'Stanmore',\n",
       "   'MATRAVILLE',\n",
       "   'Lane Cove North',\n",
       "   'Crows Nest',\n",
       "   'MIDDLE COVE',\n",
       "   'WATSONS BAY',\n",
       "   'THORNLEIGH',\n",
       "   'ARNCLIFFE',\n",
       "   'BONNYRIGG HEIGHTS',\n",
       "   'Englorie Park',\n",
       "   'TELOPEA',\n",
       "   'NARRABEEN',\n",
       "   'PADSTOW',\n",
       "   'WATTLE GROVE',\n",
       "   'DOVER HEIGHTS',\n",
       "   'BEACON HILL',\n",
       "   'SYDENHAM',\n",
       "   'SEVEN HILLS',\n",
       "   'Burwood Heights',\n",
       "   'Roseville',\n",
       "   'Ashbury',\n",
       "   'Balmain East',\n",
       "   'Macquarie Links',\n",
       "   'Five Dock'],\n",
       "  ['Beaconsfield',\n",
       "   'LINDFIELD',\n",
       "   'Croydon',\n",
       "   'CLOVELLY',\n",
       "   'Canada Bay',\n",
       "   'CLONTARF',\n",
       "   'Banksmeadow',\n",
       "   'Clovelly',\n",
       "   'RHODES',\n",
       "   'Neutral Bay',\n",
       "   'Port Hacking',\n",
       "   'Georges Heights',\n",
       "   'TEMPE',\n",
       "   'MILSONS POINT',\n",
       "   'Lilyfield',\n",
       "   'BEACONSFIELD',\n",
       "   'WINSTON HILLS',\n",
       "   'East Roseville',\n",
       "   'Greenwich',\n",
       "   'Bellevue Hill',\n",
       "   'Tennyson Point',\n",
       "   'North Willoughby',\n",
       "   'Artarmon',\n",
       "   'ABBOTSFORD',\n",
       "   'VAUCLUSE',\n",
       "   'CHIPPING NORTON',\n",
       "   'Denistone',\n",
       "   'Cremorne Point',\n",
       "   'Cremorne',\n",
       "   'TENNYSON POINT',\n",
       "   'SURRY HILLS',\n",
       "   'QUEENS PARK',\n",
       "   'Lavender Bay',\n",
       "   'Naremburn',\n",
       "   'Bronte',\n",
       "   'NORTHWOOD',\n",
       "   'KINGSGROVE',\n",
       "   'Daceyville',\n",
       "   'Abbotsford',\n",
       "   'ROSE BAY',\n",
       "   'NORTH BONDI',\n",
       "   'ROSEVILLE',\n",
       "   'Balmain',\n",
       "   'LUGARNO',\n",
       "   'BARDWELL VALLEY',\n",
       "   'BELFIELD',\n",
       "   'ASHBURY',\n",
       "   'ERMINGTON',\n",
       "   'STRATHFIELD SOUTH',\n",
       "   'ELANORA HEIGHTS',\n",
       "   'Northbridge',\n",
       "   'East Lindfield',\n",
       "   'Middle Cove',\n",
       "   'STANMORE',\n",
       "   'TURRAMURRA',\n",
       "   'CROYDON PARK',\n",
       "   'FAIRFIELD WEST',\n",
       "   'BRIGHTON-LE-SANDS',\n",
       "   'WAHROONGA',\n",
       "   'Chiswick',\n",
       "   'ERSKINEVILLE',\n",
       "   'Cammeray',\n",
       "   'Drummoyne',\n",
       "   'PYRMONT',\n",
       "   'Point Piper',\n",
       "   'MARSFIELD',\n",
       "   'Annandale',\n",
       "   'WAVERLEY',\n",
       "   'DARLINGTON',\n",
       "   'BONDI',\n",
       "   'NAREMBURN',\n",
       "   'BELLEVUE HILL',\n",
       "   'DARLINGHURST',\n",
       "   'Queens Park',\n",
       "   'NORTH WILLOUGHBY',\n",
       "   'ST LEONARDS',\n",
       "   'Gladesville',\n",
       "   'CAMMERAY',\n",
       "   'BREAKFAST POINT',\n",
       "   'Castlecrag',\n",
       "   'Huntleys Point',\n",
       "   'WATERLOO',\n",
       "   'REDFERN',\n",
       "   'BOTANY',\n",
       "   'MAROUBRA',\n",
       "   'CHATSWOOD WEST',\n",
       "   'HURSTVILLE',\n",
       "   'CASTLE COVE',\n",
       "   'MELROSE PARK',\n",
       "   'HUNTLEYS COVE',\n",
       "   'JANNALI',\n",
       "   'LIDCOMBE',\n",
       "   'BRONTE',\n",
       "   'WOLLSTONECRAFT',\n",
       "   'LITTLE BAY',\n",
       "   'Willoughby',\n",
       "   'KINGSFORD',\n",
       "   'ELIZABETH BAY',\n",
       "   'Willoughby East',\n",
       "   'Hunters Hill',\n",
       "   'CREMORNE POINT',\n",
       "   'NORTH SYDNEY',\n",
       "   'Smeaton Grange',\n",
       "   'Darling Point',\n",
       "   'ROSEBERY',\n",
       "   'Wollstonecraft',\n",
       "   'Wareemba',\n",
       "   'WAVERTON',\n",
       "   'Kurraba Point',\n",
       "   'Rodd Point',\n",
       "   'DULWICH HILL',\n",
       "   'LANE COVE',\n",
       "   'PADDINGTON',\n",
       "   'Birchgrove',\n",
       "   'MOSMAN',\n",
       "   'ENMORE',\n",
       "   'SUMMER HILL',\n",
       "   'NORTH NARRABEEN',\n",
       "   'Kangaroo Point',\n",
       "   'EARLWOOD',\n",
       "   'KENSINGTON',\n",
       "   'Russell Lea',\n",
       "   'MARRICKVILLE',\n",
       "   'Kirribilli',\n",
       "   'Asquith',\n",
       "   'Huntleys Cove',\n",
       "   'BIRCHGROVE',\n",
       "   'BONDI BEACH',\n",
       "   'LANE COVE NORTH',\n",
       "   'GREENWICH',\n",
       "   'Waverton',\n",
       "   'CANADA BAY',\n",
       "   'West Lindfield',\n",
       "   'BANKSIA',\n",
       "   'GLEBE',\n",
       "   'HOMEBUSH',\n",
       "   'WOOLLAHRA',\n",
       "   'CHATSWOOD',\n",
       "   'GLADESVILLE',\n",
       "   'EDGECLIFF',\n",
       "   'CROWS NEST',\n",
       "   'ROZELLE',\n",
       "   'WILLOUGHBY',\n",
       "   'Mcmahons Point',\n",
       "   'MORTDALE',\n",
       "   'LAVENDER BAY',\n",
       "   'CANTERBURY',\n",
       "   'BAULKHAM HILLS',\n",
       "   'ASHFIELD',\n",
       "   'CARLINGFORD',\n",
       "   'FAIRLIGHT',\n",
       "   'NORTHBRIDGE',\n",
       "   'POTTS POINT',\n",
       "   'DOUBLE BAY',\n",
       "   'GREENACRE',\n",
       "   'MACQUARIE FIELDS',\n",
       "   'RANDWICK',\n",
       "   'NEWTOWN',\n",
       "   'HUNTERS HILL',\n",
       "   'POINT PIPER',\n",
       "   'MALABAR',\n",
       "   'NEUTRAL BAY',\n",
       "   'FIVE DOCK',\n",
       "   'CHERRYBROOK',\n",
       "   'EAST KILLARA',\n",
       "   'LEICHHARDT',\n",
       "   'Henley',\n",
       "   'COOGEE',\n",
       "   'MORTLAKE',\n",
       "   'Round Corner',\n",
       "   'DENISTONE EAST',\n",
       "   'CREMORNE',\n",
       "   'KILLARA',\n",
       "   'BALMAIN',\n",
       "   'BALMAIN EAST',\n",
       "   'HORNSBY',\n",
       "   'BELMORE',\n",
       "   'CONCORD',\n",
       "   'CAMPERDOWN',\n",
       "   'LILYFIELD',\n",
       "   'CAMPSIE',\n",
       "   'LIVERPOOL',\n",
       "   'BEECROFT',\n",
       "   'LEWISHAM',\n",
       "   'PETERSHAM',\n",
       "   'BONDI JUNCTION',\n",
       "   'WILLOUGHBY EAST',\n",
       "   'ZETLAND',\n",
       "   'HABERFIELD',\n",
       "   'CASTLECRAG',\n",
       "   'DRUMMOYNE',\n",
       "   'Beauty Point',\n",
       "   'WAREEMBA',\n",
       "   'WAITARA',\n",
       "   'CENTENNIAL PARK',\n",
       "   'DARLING POINT',\n",
       "   'PHILLIP BAY',\n",
       "   'CABARITA',\n",
       "   'MOOREBANK',\n",
       "   'ARTARMON',\n",
       "   'CHIFLEY',\n",
       "   'CROYDON',\n",
       "   'Glebe Island',\n",
       "   'BURWOOD',\n",
       "   'West Killara',\n",
       "   'EAST LINDFIELD',\n",
       "   'PENNANT HILLS',\n",
       "   'PANANIA',\n",
       "   'BROOKVALE',\n",
       "   'WEST PYMBLE',\n",
       "   'ANNANDALE',\n",
       "   'CHELTENHAM',\n",
       "   'LA PEROUSE',\n",
       "   'ROCKDALE',\n",
       "   'KIRRIBILLI',\n",
       "   'ST IVES CHASE',\n",
       "   'WENTWORTH POINT',\n",
       "   'GORDON',\n",
       "   'RUSSELL LEA',\n",
       "   'BARDWELL PARK',\n",
       "   'ALLAMBIE HEIGHTS',\n",
       "   'WEST RYDE',\n",
       "   'WOOLWICH',\n",
       "   'RODD POINT',\n",
       "   'KURRABA POINT',\n",
       "   'WEST PENNANT HILLS',\n",
       "   'MCMAHONS POINT',\n",
       "   'SADLEIR']]}"
      ]
     },
     "execution_count": 13,
     "metadata": {},
     "output_type": "execute_result"
    }
   ],
   "source": [
    "c.export()"
   ]
  },
  {
   "cell_type": "code",
   "execution_count": 14,
   "metadata": {},
   "outputs": [],
   "source": [
    "def PuSuburbBins(data,data_test):\n",
    "    data = data.copy()\n",
    "    data_test = data_test.copy()\n",
    "    for target,val in zip(['target_2cls_Cancelled','target_2cls_Completed','target_2cls_ELSE','target_2cls_NoJob'],['Cancelled','Completed','ELSE','NoJob']):\n",
    "        c = toad.transform.Combiner()\n",
    "        col = 'PuSuburb'\n",
    "        c.fit(data[[col,target]], y = target, method = 'chi',min_samples = 0.05) \n",
    "        data['PuSuburbBins_'+val] = c.transform(data[['PuSuburb']], labels=False) # 纯分箱不做woe转化\n",
    "        data_test['PuSuburbBins_'+val] = c.transform(data_test[['PuSuburb']], labels=False)\n",
    "    return data, data_test\n",
    "\n",
    "data, validation = PuSuburbBins(data, validation)\n"
   ]
  },
  {
   "cell_type": "code",
   "execution_count": 15,
   "metadata": {},
   "outputs": [
    {
     "data": {
      "text/html": [
       "<div>\n",
       "<style scoped>\n",
       "    .dataframe tbody tr th:only-of-type {\n",
       "        vertical-align: middle;\n",
       "    }\n",
       "\n",
       "    .dataframe tbody tr th {\n",
       "        vertical-align: top;\n",
       "    }\n",
       "\n",
       "    .dataframe thead th {\n",
       "        text-align: right;\n",
       "    }\n",
       "</style>\n",
       "<table border=\"1\" class=\"dataframe\">\n",
       "  <thead>\n",
       "    <tr style=\"text-align: right;\">\n",
       "      <th></th>\n",
       "      <th>PuSuburbBins_Cancelled</th>\n",
       "      <th>PuSuburbBins_Completed</th>\n",
       "      <th>PuSuburbBins_ELSE</th>\n",
       "      <th>PuSuburbBins_NoJob</th>\n",
       "    </tr>\n",
       "  </thead>\n",
       "  <tbody>\n",
       "    <tr>\n",
       "      <th>0</th>\n",
       "      <td>0</td>\n",
       "      <td>6</td>\n",
       "      <td>0</td>\n",
       "      <td>3</td>\n",
       "    </tr>\n",
       "    <tr>\n",
       "      <th>1</th>\n",
       "      <td>4</td>\n",
       "      <td>3</td>\n",
       "      <td>1</td>\n",
       "      <td>3</td>\n",
       "    </tr>\n",
       "    <tr>\n",
       "      <th>2</th>\n",
       "      <td>2</td>\n",
       "      <td>5</td>\n",
       "      <td>0</td>\n",
       "      <td>2</td>\n",
       "    </tr>\n",
       "    <tr>\n",
       "      <th>3</th>\n",
       "      <td>2</td>\n",
       "      <td>5</td>\n",
       "      <td>0</td>\n",
       "      <td>3</td>\n",
       "    </tr>\n",
       "    <tr>\n",
       "      <th>4</th>\n",
       "      <td>6</td>\n",
       "      <td>0</td>\n",
       "      <td>1</td>\n",
       "      <td>6</td>\n",
       "    </tr>\n",
       "  </tbody>\n",
       "</table>\n",
       "</div>"
      ],
      "text/plain": [
       "   PuSuburbBins_Cancelled  PuSuburbBins_Completed  PuSuburbBins_ELSE  \\\n",
       "0                       0                       6                  0   \n",
       "1                       4                       3                  1   \n",
       "2                       2                       5                  0   \n",
       "3                       2                       5                  0   \n",
       "4                       6                       0                  1   \n",
       "\n",
       "   PuSuburbBins_NoJob  \n",
       "0                   3  \n",
       "1                   3  \n",
       "2                   2  \n",
       "3                   3  \n",
       "4                   6  "
      ]
     },
     "execution_count": 15,
     "metadata": {},
     "output_type": "execute_result"
    }
   ],
   "source": [
    "data[['PuSuburbBins_Cancelled','PuSuburbBins_Completed','PuSuburbBins_ELSE','PuSuburbBins_NoJob']].head()"
   ]
  },
  {
   "cell_type": "code",
   "execution_count": 16,
   "metadata": {},
   "outputs": [
    {
     "data": {
      "text/html": [
       "<div>\n",
       "<style scoped>\n",
       "    .dataframe tbody tr th:only-of-type {\n",
       "        vertical-align: middle;\n",
       "    }\n",
       "\n",
       "    .dataframe tbody tr th {\n",
       "        vertical-align: top;\n",
       "    }\n",
       "\n",
       "    .dataframe thead th {\n",
       "        text-align: right;\n",
       "    }\n",
       "</style>\n",
       "<table border=\"1\" class=\"dataframe\">\n",
       "  <thead>\n",
       "    <tr style=\"text-align: right;\">\n",
       "      <th></th>\n",
       "      <th>iv</th>\n",
       "      <th>gini</th>\n",
       "      <th>entropy</th>\n",
       "      <th>unique</th>\n",
       "    </tr>\n",
       "  </thead>\n",
       "  <tbody>\n",
       "    <tr>\n",
       "      <th>PuSuburbBins_Cancelled</th>\n",
       "      <td>0.249979</td>\n",
       "      <td>0.217016</td>\n",
       "      <td>0.369365</td>\n",
       "      <td>7.0</td>\n",
       "    </tr>\n",
       "  </tbody>\n",
       "</table>\n",
       "</div>"
      ],
      "text/plain": [
       "                              iv      gini   entropy  unique\n",
       "PuSuburbBins_Cancelled  0.249979  0.217016  0.369365     7.0"
      ]
     },
     "execution_count": 16,
     "metadata": {},
     "output_type": "execute_result"
    }
   ],
   "source": [
    "toad.quality(data[['PuSuburbBins_Cancelled','target_2cls_Cancelled']],target='target_2cls_Cancelled')"
   ]
  },
  {
   "cell_type": "code",
   "execution_count": 17,
   "metadata": {},
   "outputs": [
    {
     "data": {
      "text/html": [
       "<div>\n",
       "<style scoped>\n",
       "    .dataframe tbody tr th:only-of-type {\n",
       "        vertical-align: middle;\n",
       "    }\n",
       "\n",
       "    .dataframe tbody tr th {\n",
       "        vertical-align: top;\n",
       "    }\n",
       "\n",
       "    .dataframe thead th {\n",
       "        text-align: right;\n",
       "    }\n",
       "</style>\n",
       "<table border=\"1\" class=\"dataframe\">\n",
       "  <thead>\n",
       "    <tr style=\"text-align: right;\">\n",
       "      <th></th>\n",
       "      <th>iv</th>\n",
       "      <th>gini</th>\n",
       "      <th>entropy</th>\n",
       "      <th>unique</th>\n",
       "    </tr>\n",
       "  </thead>\n",
       "  <tbody>\n",
       "    <tr>\n",
       "      <th>PuSuburbBins_Completed</th>\n",
       "      <td>0.249585</td>\n",
       "      <td>0.331691</td>\n",
       "      <td>0.509915</td>\n",
       "      <td>8.0</td>\n",
       "    </tr>\n",
       "  </tbody>\n",
       "</table>\n",
       "</div>"
      ],
      "text/plain": [
       "                              iv      gini   entropy  unique\n",
       "PuSuburbBins_Completed  0.249585  0.331691  0.509915     8.0"
      ]
     },
     "execution_count": 17,
     "metadata": {},
     "output_type": "execute_result"
    }
   ],
   "source": [
    "toad.quality(data[['PuSuburbBins_Completed','target_2cls_Completed']],target='target_2cls_Completed')"
   ]
  },
  {
   "cell_type": "code",
   "execution_count": 18,
   "metadata": {},
   "outputs": [
    {
     "data": {
      "text/html": [
       "<div>\n",
       "<style scoped>\n",
       "    .dataframe tbody tr th:only-of-type {\n",
       "        vertical-align: middle;\n",
       "    }\n",
       "\n",
       "    .dataframe tbody tr th {\n",
       "        vertical-align: top;\n",
       "    }\n",
       "\n",
       "    .dataframe thead th {\n",
       "        text-align: right;\n",
       "    }\n",
       "</style>\n",
       "<table border=\"1\" class=\"dataframe\">\n",
       "  <thead>\n",
       "    <tr style=\"text-align: right;\">\n",
       "      <th></th>\n",
       "      <th>iv</th>\n",
       "      <th>gini</th>\n",
       "      <th>entropy</th>\n",
       "      <th>unique</th>\n",
       "    </tr>\n",
       "  </thead>\n",
       "  <tbody>\n",
       "    <tr>\n",
       "      <th>PuSuburbBins_ELSE</th>\n",
       "      <td>0.216695</td>\n",
       "      <td>0.02451</td>\n",
       "      <td>0.065578</td>\n",
       "      <td>2.0</td>\n",
       "    </tr>\n",
       "  </tbody>\n",
       "</table>\n",
       "</div>"
      ],
      "text/plain": [
       "                         iv     gini   entropy  unique\n",
       "PuSuburbBins_ELSE  0.216695  0.02451  0.065578     2.0"
      ]
     },
     "execution_count": 18,
     "metadata": {},
     "output_type": "execute_result"
    }
   ],
   "source": [
    "toad.quality(data[['PuSuburbBins_ELSE','target_2cls_ELSE']],target='target_2cls_ELSE')"
   ]
  },
  {
   "cell_type": "code",
   "execution_count": 19,
   "metadata": {},
   "outputs": [
    {
     "data": {
      "text/html": [
       "<div>\n",
       "<style scoped>\n",
       "    .dataframe tbody tr th:only-of-type {\n",
       "        vertical-align: middle;\n",
       "    }\n",
       "\n",
       "    .dataframe tbody tr th {\n",
       "        vertical-align: top;\n",
       "    }\n",
       "\n",
       "    .dataframe thead th {\n",
       "        text-align: right;\n",
       "    }\n",
       "</style>\n",
       "<table border=\"1\" class=\"dataframe\">\n",
       "  <thead>\n",
       "    <tr style=\"text-align: right;\">\n",
       "      <th></th>\n",
       "      <th>iv</th>\n",
       "      <th>gini</th>\n",
       "      <th>entropy</th>\n",
       "      <th>unique</th>\n",
       "    </tr>\n",
       "  </thead>\n",
       "  <tbody>\n",
       "    <tr>\n",
       "      <th>PuSuburbBins_NoJob</th>\n",
       "      <td>0.227563</td>\n",
       "      <td>0.149151</td>\n",
       "      <td>0.276917</td>\n",
       "      <td>8.0</td>\n",
       "    </tr>\n",
       "  </tbody>\n",
       "</table>\n",
       "</div>"
      ],
      "text/plain": [
       "                          iv      gini   entropy  unique\n",
       "PuSuburbBins_NoJob  0.227563  0.149151  0.276917     8.0"
      ]
     },
     "execution_count": 19,
     "metadata": {},
     "output_type": "execute_result"
    }
   ],
   "source": [
    "toad.quality(data[['PuSuburbBins_NoJob','target_2cls_NoJob']],target='target_2cls_NoJob')"
   ]
  },
  {
   "cell_type": "code",
   "execution_count": 20,
   "metadata": {},
   "outputs": [],
   "source": [
    "#每个target的IV都很高，因此每个衍生变量都有效"
   ]
  },
  {
   "cell_type": "markdown",
   "metadata": {},
   "source": [
    "## 2.2 Pickup lattitude & longitude"
   ]
  },
  {
   "cell_type": "code",
   "execution_count": 21,
   "metadata": {},
   "outputs": [],
   "source": [
    "knn = KNeighborsClassifier(n_neighbors = 101)\n",
    "\n",
    "knn.fit(data[['PuLat','PuLong']],data['target_2cls_Completed'])\n",
    "\n",
    "data['KNN_temp'] = knn.predict_proba(data[['PuLat','PuLong']])[:,1]"
   ]
  },
  {
   "cell_type": "code",
   "execution_count": 22,
   "metadata": {},
   "outputs": [
    {
     "data": {
      "text/plain": [
       "<AxesSubplot:xlabel='KNN_temp', ylabel='prop'>"
      ]
     },
     "execution_count": 22,
     "metadata": {},
     "output_type": "execute_result"
    },
    {
     "data": {
      "image/png": "[encoded data removed]",
      "text/plain": [
       "<Figure size 864x432 with 2 Axes>"
      ]
     },
     "metadata": {},
     "output_type": "display_data"
    }
   ],
   "source": [
    "c = toad.transform.Combiner()\n",
    "col = 'KNN_temp'\n",
    "c.fit(data[[col,'target_2cls_Completed']], y = 'target_2cls_Completed', method = 'chi',min_samples = 0.05)\n",
    "bin_plot(c.transform(data[[col,'target_2cls_Completed']], labels=False), x=col, target='target_2cls_Completed')\n"
   ]
  },
  {
   "cell_type": "code",
   "execution_count": 23,
   "metadata": {},
   "outputs": [
    {
     "data": {
      "text/plain": [
       "<AxesSubplot:xlabel='KNN_temp', ylabel='prop'>"
      ]
     },
     "execution_count": 23,
     "metadata": {},
     "output_type": "execute_result"
    },
    {
     "data": {
      "image/png": "[encoded data removed]",
      "text/plain": [
       "<Figure size 864x432 with 2 Axes>"
      ]
     },
     "metadata": {},
     "output_type": "display_data"
    }
   ],
   "source": [
    "validation['KNN_temp'] = knn.predict_proba(validation[['PuLat','PuLong']])[:,1]\n",
    "bin_plot(c.transform(validation[[col,'target_2cls_Completed']], labels=False), x=col, target='target_2cls_Completed')\n"
   ]
  },
  {
   "cell_type": "code",
   "execution_count": 24,
   "metadata": {},
   "outputs": [
    {
     "data": {
      "text/plain": [
       "{'KNN_temp': [0.5346534653465347,\n",
       "  0.6534653465346535,\n",
       "  0.7227722772277227,\n",
       "  0.801980198019802,\n",
       "  0.8415841584158416,\n",
       "  0.8811881188118812,\n",
       "  0.9207920792079208]}"
      ]
     },
     "execution_count": 24,
     "metadata": {},
     "output_type": "execute_result"
    }
   ],
   "source": [
    "c.export()"
   ]
  },
  {
   "cell_type": "code",
   "execution_count": 25,
   "metadata": {},
   "outputs": [],
   "source": [
    "def PuLatLongKNN(data, test):\n",
    "    data = data.copy()\n",
    "    test = test.copy()\n",
    "    for target,val in zip(['target_2cls_Cancelled','target_2cls_Completed','target_2cls_ELSE','target_2cls_NoJob'],['Cancelled','Completed','ELSE','NoJob']):\n",
    "        knn = KNeighborsClassifier(n_neighbors = 101)\n",
    "        knn.fit(data[['PuLat','PuLong']],data[target])\n",
    "        data['PuLatLongKNN_'+val] = knn.predict_proba(data[['PuLat','PuLong']])[:,1]\n",
    "        test['PuLatLongKNN_'+val] = knn.predict_proba(test[['PuLat','PuLong']])[:,1]\n",
    "    return data, test \n",
    "\n",
    "data,validation = PuLatLongKNN(data,validation)"
   ]
  },
  {
   "cell_type": "code",
   "execution_count": 26,
   "metadata": {},
   "outputs": [
    {
     "data": {
      "text/html": [
       "<div>\n",
       "<style scoped>\n",
       "    .dataframe tbody tr th:only-of-type {\n",
       "        vertical-align: middle;\n",
       "    }\n",
       "\n",
       "    .dataframe tbody tr th {\n",
       "        vertical-align: top;\n",
       "    }\n",
       "\n",
       "    .dataframe thead th {\n",
       "        text-align: right;\n",
       "    }\n",
       "</style>\n",
       "<table border=\"1\" class=\"dataframe\">\n",
       "  <thead>\n",
       "    <tr style=\"text-align: right;\">\n",
       "      <th></th>\n",
       "      <th>iv</th>\n",
       "      <th>gini</th>\n",
       "      <th>entropy</th>\n",
       "      <th>unique</th>\n",
       "    </tr>\n",
       "  </thead>\n",
       "  <tbody>\n",
       "    <tr>\n",
       "      <th>PuLatLongKNN_Cancelled</th>\n",
       "      <td>0.709143</td>\n",
       "      <td>0.212199</td>\n",
       "      <td>0.383407</td>\n",
       "      <td>91.0</td>\n",
       "    </tr>\n",
       "  </tbody>\n",
       "</table>\n",
       "</div>"
      ],
      "text/plain": [
       "                              iv      gini   entropy  unique\n",
       "PuLatLongKNN_Cancelled  0.709143  0.212199  0.383407    91.0"
      ]
     },
     "execution_count": 26,
     "metadata": {},
     "output_type": "execute_result"
    }
   ],
   "source": [
    "toad.quality(data[['PuLatLongKNN_Cancelled','target_2cls_Cancelled']],target='target_2cls_Cancelled')"
   ]
  },
  {
   "cell_type": "code",
   "execution_count": 27,
   "metadata": {},
   "outputs": [
    {
     "data": {
      "text/html": [
       "<div>\n",
       "<style scoped>\n",
       "    .dataframe tbody tr th:only-of-type {\n",
       "        vertical-align: middle;\n",
       "    }\n",
       "\n",
       "    .dataframe tbody tr th {\n",
       "        vertical-align: top;\n",
       "    }\n",
       "\n",
       "    .dataframe thead th {\n",
       "        text-align: right;\n",
       "    }\n",
       "</style>\n",
       "<table border=\"1\" class=\"dataframe\">\n",
       "  <thead>\n",
       "    <tr style=\"text-align: right;\">\n",
       "      <th></th>\n",
       "      <th>iv</th>\n",
       "      <th>gini</th>\n",
       "      <th>entropy</th>\n",
       "      <th>unique</th>\n",
       "    </tr>\n",
       "  </thead>\n",
       "  <tbody>\n",
       "    <tr>\n",
       "      <th>PuLatLongKNN_Completed</th>\n",
       "      <td>0.590384</td>\n",
       "      <td>0.324179</td>\n",
       "      <td>0.531429</td>\n",
       "      <td>99.0</td>\n",
       "    </tr>\n",
       "  </tbody>\n",
       "</table>\n",
       "</div>"
      ],
      "text/plain": [
       "                              iv      gini   entropy  unique\n",
       "PuLatLongKNN_Completed  0.590384  0.324179  0.531429    99.0"
      ]
     },
     "execution_count": 27,
     "metadata": {},
     "output_type": "execute_result"
    }
   ],
   "source": [
    "toad.quality(data[['PuLatLongKNN_Completed','target_2cls_Completed']],target='target_2cls_Completed')"
   ]
  },
  {
   "cell_type": "code",
   "execution_count": 28,
   "metadata": {},
   "outputs": [
    {
     "data": {
      "text/html": [
       "<div>\n",
       "<style scoped>\n",
       "    .dataframe tbody tr th:only-of-type {\n",
       "        vertical-align: middle;\n",
       "    }\n",
       "\n",
       "    .dataframe tbody tr th {\n",
       "        vertical-align: top;\n",
       "    }\n",
       "\n",
       "    .dataframe thead th {\n",
       "        text-align: right;\n",
       "    }\n",
       "</style>\n",
       "<table border=\"1\" class=\"dataframe\">\n",
       "  <thead>\n",
       "    <tr style=\"text-align: right;\">\n",
       "      <th></th>\n",
       "      <th>iv</th>\n",
       "      <th>gini</th>\n",
       "      <th>entropy</th>\n",
       "      <th>unique</th>\n",
       "    </tr>\n",
       "  </thead>\n",
       "  <tbody>\n",
       "    <tr>\n",
       "      <th>PuLatLongKNN_ELSE</th>\n",
       "      <td>1.826409</td>\n",
       "      <td>0.024466</td>\n",
       "      <td>0.066926</td>\n",
       "      <td>35.0</td>\n",
       "    </tr>\n",
       "  </tbody>\n",
       "</table>\n",
       "</div>"
      ],
      "text/plain": [
       "                         iv      gini   entropy  unique\n",
       "PuLatLongKNN_ELSE  1.826409  0.024466  0.066926    35.0"
      ]
     },
     "execution_count": 28,
     "metadata": {},
     "output_type": "execute_result"
    }
   ],
   "source": [
    "toad.quality(data[['PuLatLongKNN_ELSE','target_2cls_ELSE']],target='target_2cls_ELSE')"
   ]
  },
  {
   "cell_type": "code",
   "execution_count": 29,
   "metadata": {},
   "outputs": [
    {
     "data": {
      "text/html": [
       "<div>\n",
       "<style scoped>\n",
       "    .dataframe tbody tr th:only-of-type {\n",
       "        vertical-align: middle;\n",
       "    }\n",
       "\n",
       "    .dataframe tbody tr th {\n",
       "        vertical-align: top;\n",
       "    }\n",
       "\n",
       "    .dataframe thead th {\n",
       "        text-align: right;\n",
       "    }\n",
       "</style>\n",
       "<table border=\"1\" class=\"dataframe\">\n",
       "  <thead>\n",
       "    <tr style=\"text-align: right;\">\n",
       "      <th></th>\n",
       "      <th>iv</th>\n",
       "      <th>gini</th>\n",
       "      <th>entropy</th>\n",
       "      <th>unique</th>\n",
       "    </tr>\n",
       "  </thead>\n",
       "  <tbody>\n",
       "    <tr>\n",
       "      <th>PuLatLongKNN_NoJob</th>\n",
       "      <td>0.761531</td>\n",
       "      <td>0.145988</td>\n",
       "      <td>0.285154</td>\n",
       "      <td>58.0</td>\n",
       "    </tr>\n",
       "  </tbody>\n",
       "</table>\n",
       "</div>"
      ],
      "text/plain": [
       "                          iv      gini   entropy  unique\n",
       "PuLatLongKNN_NoJob  0.761531  0.145988  0.285154    58.0"
      ]
     },
     "execution_count": 29,
     "metadata": {},
     "output_type": "execute_result"
    }
   ],
   "source": [
    "toad.quality(data[['PuLatLongKNN_NoJob','target_2cls_NoJob']],target='target_2cls_NoJob')"
   ]
  },
  {
   "cell_type": "markdown",
   "metadata": {},
   "source": [
    "## 2.3 Time"
   ]
  },
  {
   "cell_type": "code",
   "execution_count": 30,
   "metadata": {},
   "outputs": [],
   "source": [
    "def OrderHour(data):\n",
    "    data = data.copy()\n",
    "    data['OrderHour'] = data['RequestedDate'].apply(lambda x: x.hour).astype(int)\n",
    "    return data \n",
    "data = OrderHour(data)\n",
    "validation= OrderHour(validation)"
   ]
  },
  {
   "cell_type": "code",
   "execution_count": 31,
   "metadata": {},
   "outputs": [
    {
     "data": {
      "text/plain": [
       "<AxesSubplot:xlabel='OrderHour', ylabel='prop'>"
      ]
     },
     "execution_count": 31,
     "metadata": {},
     "output_type": "execute_result"
    },
    {
     "data": {
      "image/png": "[encoded data removed]",
      "text/plain": [
       "<Figure size 864x432 with 2 Axes>"
      ]
     },
     "metadata": {},
     "output_type": "display_data"
    }
   ],
   "source": [
    "c = toad.transform.Combiner()\n",
    "col = 'OrderHour'\n",
    "c.fit(data[[col,'target_2cls_Completed']], y = 'target_2cls_Completed', method = 'chi',min_samples = 0.05)\n",
    "bin_plot(c.transform(data[[col,'target_2cls_Completed']], labels=False), x=col, target='target_2cls_Completed')\n"
   ]
  },
  {
   "cell_type": "code",
   "execution_count": 32,
   "metadata": {},
   "outputs": [],
   "source": [
    "def DayOfWeek(data):\n",
    "    data = data.copy()\n",
    "    data['DayOfWeek'] = data['RequestedDate'].apply(lambda x: x.weekday()+1)\n",
    "    return data\n",
    "data = DayOfWeek(data)\n",
    "validation = DayOfWeek(validation)"
   ]
  },
  {
   "cell_type": "code",
   "execution_count": 33,
   "metadata": {},
   "outputs": [
    {
     "data": {
      "text/plain": [
       "<AxesSubplot:xlabel='DayOfWeek', ylabel='prop'>"
      ]
     },
     "execution_count": 33,
     "metadata": {},
     "output_type": "execute_result"
    },
    {
     "data": {
      "image/png": "[encoded data removed]",
      "text/plain": [
       "<Figure size 864x432 with 2 Axes>"
      ]
     },
     "metadata": {},
     "output_type": "display_data"
    }
   ],
   "source": [
    "c = toad.transform.Combiner()\n",
    "col = 'DayOfWeek'\n",
    "c.fit(data[[col,'target_2cls_Completed']], y = 'target_2cls_Completed', method = 'chi',min_samples = 0.05)\n",
    "bin_plot(c.transform(data[[col,'target_2cls_Completed']], labels=False), x=col, target='target_2cls_Completed')\n"
   ]
  },
  {
   "cell_type": "code",
   "execution_count": 34,
   "metadata": {},
   "outputs": [],
   "source": [
    "dt = DecisionTreeClassifier(max_depth = 4,min_samples_leaf=0.05)\n",
    "dt.fit(data[['DayOfWeek','OrderHour']] , data['target_2cls_Completed'])\n",
    "\n",
    "def OrderTimeDT(data):\n",
    "    data = data.copy()\n",
    "    data['OrderTimeDT'] = dt.predict_proba(data[['DayOfWeek','OrderHour']])[:,1]\n",
    "    return data "
   ]
  },
  {
   "cell_type": "code",
   "execution_count": 35,
   "metadata": {},
   "outputs": [],
   "source": [
    "data = OrderTimeDT(data)\n",
    "validation = OrderTimeDT(validation)"
   ]
  },
  {
   "cell_type": "code",
   "execution_count": 36,
   "metadata": {},
   "outputs": [
    {
     "data": {
      "text/plain": [
       "<AxesSubplot:xlabel='OrderTimeDT', ylabel='prop'>"
      ]
     },
     "execution_count": 36,
     "metadata": {},
     "output_type": "execute_result"
    },
    {
     "data": {
      "image/png": "[encoded data removed]",
      "text/plain": [
       "<Figure size 864x432 with 2 Axes>"
      ]
     },
     "metadata": {},
     "output_type": "display_data"
    }
   ],
   "source": [
    "c = toad.transform.Combiner()\n",
    "col = 'OrderTimeDT'\n",
    "c.fit(data[[col,'target_2cls_Completed']], y = 'target_2cls_Completed', method = 'chi',min_samples = 0.05)\n",
    "bin_plot(c.transform(data[[col,'target_2cls_Completed']], labels=False), x=col, target='target_2cls_Completed')\n"
   ]
  },
  {
   "cell_type": "code",
   "execution_count": 37,
   "metadata": {},
   "outputs": [],
   "source": [
    "def OrderTimeDT(data, test):\n",
    "    data = data.copy()\n",
    "    test = test.copy()\n",
    "    for target,val in zip(['target_2cls_Cancelled','target_2cls_Completed','target_2cls_ELSE','target_2cls_NoJob'],['Cancelled','Completed','ELSE','NoJob']):\n",
    "        dt = DecisionTreeClassifier(max_depth = 4,min_samples_leaf=0.05)\n",
    "        dt.fit(data[['DayOfWeek','OrderHour']] , data[target])\n",
    "        data['OrderTimeDT_'+val] = dt.predict_proba(data[['DayOfWeek','OrderHour']])[:,1]\n",
    "        test['OrderTimeDT_'+val] = dt.predict_proba(test[['DayOfWeek','OrderHour']])[:,1]\n",
    "    return data, test \n",
    "\n",
    "data,validation = OrderTimeDT(data,validation)"
   ]
  },
  {
   "cell_type": "code",
   "execution_count": 38,
   "metadata": {},
   "outputs": [
    {
     "data": {
      "text/html": [
       "<div>\n",
       "<style scoped>\n",
       "    .dataframe tbody tr th:only-of-type {\n",
       "        vertical-align: middle;\n",
       "    }\n",
       "\n",
       "    .dataframe tbody tr th {\n",
       "        vertical-align: top;\n",
       "    }\n",
       "\n",
       "    .dataframe thead th {\n",
       "        text-align: right;\n",
       "    }\n",
       "</style>\n",
       "<table border=\"1\" class=\"dataframe\">\n",
       "  <thead>\n",
       "    <tr style=\"text-align: right;\">\n",
       "      <th></th>\n",
       "      <th>iv</th>\n",
       "      <th>gini</th>\n",
       "      <th>entropy</th>\n",
       "      <th>unique</th>\n",
       "    </tr>\n",
       "  </thead>\n",
       "  <tbody>\n",
       "    <tr>\n",
       "      <th>OrderTimeDT_Completed</th>\n",
       "      <td>0.067079</td>\n",
       "      <td>0.343049</td>\n",
       "      <td>0.52564</td>\n",
       "      <td>8.0</td>\n",
       "    </tr>\n",
       "  </tbody>\n",
       "</table>\n",
       "</div>"
      ],
      "text/plain": [
       "                             iv      gini  entropy  unique\n",
       "OrderTimeDT_Completed  0.067079  0.343049  0.52564     8.0"
      ]
     },
     "execution_count": 38,
     "metadata": {},
     "output_type": "execute_result"
    }
   ],
   "source": [
    "toad.quality(data[['OrderTimeDT_Completed','target_2cls_Completed']],target='target_2cls_Completed')"
   ]
  },
  {
   "cell_type": "code",
   "execution_count": 39,
   "metadata": {},
   "outputs": [
    {
     "data": {
      "text/html": [
       "<div>\n",
       "<style scoped>\n",
       "    .dataframe tbody tr th:only-of-type {\n",
       "        vertical-align: middle;\n",
       "    }\n",
       "\n",
       "    .dataframe tbody tr th {\n",
       "        vertical-align: top;\n",
       "    }\n",
       "\n",
       "    .dataframe thead th {\n",
       "        text-align: right;\n",
       "    }\n",
       "</style>\n",
       "<table border=\"1\" class=\"dataframe\">\n",
       "  <thead>\n",
       "    <tr style=\"text-align: right;\">\n",
       "      <th></th>\n",
       "      <th>iv</th>\n",
       "      <th>gini</th>\n",
       "      <th>entropy</th>\n",
       "      <th>unique</th>\n",
       "    </tr>\n",
       "  </thead>\n",
       "  <tbody>\n",
       "    <tr>\n",
       "      <th>OrderTimeDT_Cancelled</th>\n",
       "      <td>0.039493</td>\n",
       "      <td>0.223038</td>\n",
       "      <td>0.381403</td>\n",
       "      <td>8.0</td>\n",
       "    </tr>\n",
       "  </tbody>\n",
       "</table>\n",
       "</div>"
      ],
      "text/plain": [
       "                             iv      gini   entropy  unique\n",
       "OrderTimeDT_Cancelled  0.039493  0.223038  0.381403     8.0"
      ]
     },
     "execution_count": 39,
     "metadata": {},
     "output_type": "execute_result"
    }
   ],
   "source": [
    "toad.quality(data[['OrderTimeDT_Cancelled','target_2cls_Cancelled']],target='target_2cls_Cancelled')"
   ]
  },
  {
   "cell_type": "code",
   "execution_count": 40,
   "metadata": {},
   "outputs": [
    {
     "data": {
      "text/html": [
       "<div>\n",
       "<style scoped>\n",
       "    .dataframe tbody tr th:only-of-type {\n",
       "        vertical-align: middle;\n",
       "    }\n",
       "\n",
       "    .dataframe tbody tr th {\n",
       "        vertical-align: top;\n",
       "    }\n",
       "\n",
       "    .dataframe thead th {\n",
       "        text-align: right;\n",
       "    }\n",
       "</style>\n",
       "<table border=\"1\" class=\"dataframe\">\n",
       "  <thead>\n",
       "    <tr style=\"text-align: right;\">\n",
       "      <th></th>\n",
       "      <th>iv</th>\n",
       "      <th>gini</th>\n",
       "      <th>entropy</th>\n",
       "      <th>unique</th>\n",
       "    </tr>\n",
       "  </thead>\n",
       "  <tbody>\n",
       "    <tr>\n",
       "      <th>OrderTimeDT_ELSE</th>\n",
       "      <td>0.020355</td>\n",
       "      <td>0.024582</td>\n",
       "      <td>0.06685</td>\n",
       "      <td>9.0</td>\n",
       "    </tr>\n",
       "  </tbody>\n",
       "</table>\n",
       "</div>"
      ],
      "text/plain": [
       "                        iv      gini  entropy  unique\n",
       "OrderTimeDT_ELSE  0.020355  0.024582  0.06685     9.0"
      ]
     },
     "execution_count": 40,
     "metadata": {},
     "output_type": "execute_result"
    }
   ],
   "source": [
    "toad.quality(data[['OrderTimeDT_ELSE','target_2cls_ELSE']],target='target_2cls_ELSE')"
   ]
  },
  {
   "cell_type": "code",
   "execution_count": 41,
   "metadata": {},
   "outputs": [
    {
     "data": {
      "text/html": [
       "<div>\n",
       "<style scoped>\n",
       "    .dataframe tbody tr th:only-of-type {\n",
       "        vertical-align: middle;\n",
       "    }\n",
       "\n",
       "    .dataframe tbody tr th {\n",
       "        vertical-align: top;\n",
       "    }\n",
       "\n",
       "    .dataframe thead th {\n",
       "        text-align: right;\n",
       "    }\n",
       "</style>\n",
       "<table border=\"1\" class=\"dataframe\">\n",
       "  <thead>\n",
       "    <tr style=\"text-align: right;\">\n",
       "      <th></th>\n",
       "      <th>iv</th>\n",
       "      <th>gini</th>\n",
       "      <th>entropy</th>\n",
       "      <th>unique</th>\n",
       "    </tr>\n",
       "  </thead>\n",
       "  <tbody>\n",
       "    <tr>\n",
       "      <th>OrderTimeDT_NoJob</th>\n",
       "      <td>0.100457</td>\n",
       "      <td>0.150465</td>\n",
       "      <td>0.281428</td>\n",
       "      <td>7.0</td>\n",
       "    </tr>\n",
       "  </tbody>\n",
       "</table>\n",
       "</div>"
      ],
      "text/plain": [
       "                         iv      gini   entropy  unique\n",
       "OrderTimeDT_NoJob  0.100457  0.150465  0.281428     7.0"
      ]
     },
     "execution_count": 41,
     "metadata": {},
     "output_type": "execute_result"
    }
   ],
   "source": [
    "toad.quality(data[['OrderTimeDT_NoJob','target_2cls_NoJob']],target='target_2cls_NoJob')"
   ]
  },
  {
   "cell_type": "markdown",
   "metadata": {},
   "source": [
    "## 2.4 Conditions"
   ]
  },
  {
   "cell_type": "code",
   "execution_count": 42,
   "metadata": {},
   "outputs": [
    {
     "data": {
      "text/plain": [
       "<AxesSubplot:xlabel='Conditions', ylabel='prop'>"
      ]
     },
     "execution_count": 42,
     "metadata": {},
     "output_type": "execute_result"
    },
    {
     "data": {
      "image/png": "[encoded data removed]",
      "text/plain": [
       "<Figure size 864x432 with 2 Axes>"
      ]
     },
     "metadata": {},
     "output_type": "display_data"
    }
   ],
   "source": [
    "data['Conditions'] = data['Conditions'].astype(str) # condition 属于 cateogorical fearture, 本身是numerical所以会被认为是continous feature\n",
    "validation['Conditions'] = validation['Conditions'].astype(str)\n",
    "c = toad.transform.Combiner()\n",
    "col = 'Conditions'\n",
    "c.fit(data[[col,'target_2cls_Completed']], y = 'target_2cls_Completed', method = 'chi',min_samples = 0.05)\n",
    "bin_plot(c.transform(data[[col,'target_2cls_Completed']], labels=False), x=col, target='target_2cls_Completed')"
   ]
  },
  {
   "cell_type": "code",
   "execution_count": 43,
   "metadata": {},
   "outputs": [],
   "source": [
    "def ConditionsBins(data, test):\n",
    "    data = data.copy()\n",
    "    test = test.copy()\n",
    "    data['Conditions'] = data['Conditions'].astype(str)\n",
    "    for target,val in zip(['target_2cls_Cancelled','target_2cls_Completed','target_2cls_ELSE','target_2cls_NoJob'],['Cancelled','Completed','ELSE','NoJob']):\n",
    "        c = toad.transform.Combiner()\n",
    "        col = 'Conditions'\n",
    "        c.fit(data[[col,target]], y = target, method = 'chi',min_samples = 0.05)\n",
    "        data['ConditionsBins_'+val] = c.transform(data[['Conditions']], labels=False)\n",
    "        test['ConditionsBins_'+val] = c.transform(test[['Conditions']], labels=False)\n",
    "    return data, test\n",
    "\n",
    "data, validation = ConditionsBins(data, validation)"
   ]
  },
  {
   "cell_type": "code",
   "execution_count": 44,
   "metadata": {},
   "outputs": [
    {
     "data": {
      "text/html": [
       "<div>\n",
       "<style scoped>\n",
       "    .dataframe tbody tr th:only-of-type {\n",
       "        vertical-align: middle;\n",
       "    }\n",
       "\n",
       "    .dataframe tbody tr th {\n",
       "        vertical-align: top;\n",
       "    }\n",
       "\n",
       "    .dataframe thead th {\n",
       "        text-align: right;\n",
       "    }\n",
       "</style>\n",
       "<table border=\"1\" class=\"dataframe\">\n",
       "  <thead>\n",
       "    <tr style=\"text-align: right;\">\n",
       "      <th></th>\n",
       "      <th>iv</th>\n",
       "      <th>gini</th>\n",
       "      <th>entropy</th>\n",
       "      <th>unique</th>\n",
       "    </tr>\n",
       "  </thead>\n",
       "  <tbody>\n",
       "    <tr>\n",
       "      <th>ConditionsBins_Completed</th>\n",
       "      <td>0.061174</td>\n",
       "      <td>0.343603</td>\n",
       "      <td>0.526263</td>\n",
       "      <td>3.0</td>\n",
       "    </tr>\n",
       "  </tbody>\n",
       "</table>\n",
       "</div>"
      ],
      "text/plain": [
       "                                iv      gini   entropy  unique\n",
       "ConditionsBins_Completed  0.061174  0.343603  0.526263     3.0"
      ]
     },
     "execution_count": 44,
     "metadata": {},
     "output_type": "execute_result"
    }
   ],
   "source": [
    "toad.quality(data[['ConditionsBins_Completed','target_2cls_Completed']],target='target_2cls_Completed')"
   ]
  },
  {
   "cell_type": "code",
   "execution_count": 45,
   "metadata": {},
   "outputs": [
    {
     "data": {
      "text/html": [
       "<div>\n",
       "<style scoped>\n",
       "    .dataframe tbody tr th:only-of-type {\n",
       "        vertical-align: middle;\n",
       "    }\n",
       "\n",
       "    .dataframe tbody tr th {\n",
       "        vertical-align: top;\n",
       "    }\n",
       "\n",
       "    .dataframe thead th {\n",
       "        text-align: right;\n",
       "    }\n",
       "</style>\n",
       "<table border=\"1\" class=\"dataframe\">\n",
       "  <thead>\n",
       "    <tr style=\"text-align: right;\">\n",
       "      <th></th>\n",
       "      <th>iv</th>\n",
       "      <th>gini</th>\n",
       "      <th>entropy</th>\n",
       "      <th>unique</th>\n",
       "    </tr>\n",
       "  </thead>\n",
       "  <tbody>\n",
       "    <tr>\n",
       "      <th>ConditionsBins_Cancelled</th>\n",
       "      <td>0.041767</td>\n",
       "      <td>0.222731</td>\n",
       "      <td>0.381125</td>\n",
       "      <td>2.0</td>\n",
       "    </tr>\n",
       "  </tbody>\n",
       "</table>\n",
       "</div>"
      ],
      "text/plain": [
       "                                iv      gini   entropy  unique\n",
       "ConditionsBins_Cancelled  0.041767  0.222731  0.381125     2.0"
      ]
     },
     "execution_count": 45,
     "metadata": {},
     "output_type": "execute_result"
    }
   ],
   "source": [
    "toad.quality(data[['ConditionsBins_Cancelled','target_2cls_Cancelled']],target='target_2cls_Cancelled')"
   ]
  },
  {
   "cell_type": "code",
   "execution_count": 46,
   "metadata": {},
   "outputs": [
    {
     "data": {
      "text/html": [
       "<div>\n",
       "<style scoped>\n",
       "    .dataframe tbody tr th:only-of-type {\n",
       "        vertical-align: middle;\n",
       "    }\n",
       "\n",
       "    .dataframe tbody tr th {\n",
       "        vertical-align: top;\n",
       "    }\n",
       "\n",
       "    .dataframe thead th {\n",
       "        text-align: right;\n",
       "    }\n",
       "</style>\n",
       "<table border=\"1\" class=\"dataframe\">\n",
       "  <thead>\n",
       "    <tr style=\"text-align: right;\">\n",
       "      <th></th>\n",
       "      <th>iv</th>\n",
       "      <th>gini</th>\n",
       "      <th>entropy</th>\n",
       "      <th>unique</th>\n",
       "    </tr>\n",
       "  </thead>\n",
       "  <tbody>\n",
       "    <tr>\n",
       "      <th>ConditionsBins_ELSE</th>\n",
       "      <td>0.346219</td>\n",
       "      <td>0.024435</td>\n",
       "      <td>0.064631</td>\n",
       "      <td>2.0</td>\n",
       "    </tr>\n",
       "  </tbody>\n",
       "</table>\n",
       "</div>"
      ],
      "text/plain": [
       "                           iv      gini   entropy  unique\n",
       "ConditionsBins_ELSE  0.346219  0.024435  0.064631     2.0"
      ]
     },
     "execution_count": 46,
     "metadata": {},
     "output_type": "execute_result"
    }
   ],
   "source": [
    "toad.quality(data[['ConditionsBins_ELSE','target_2cls_ELSE']],target='target_2cls_ELSE')"
   ]
  },
  {
   "cell_type": "code",
   "execution_count": 47,
   "metadata": {},
   "outputs": [
    {
     "data": {
      "text/html": [
       "<div>\n",
       "<style scoped>\n",
       "    .dataframe tbody tr th:only-of-type {\n",
       "        vertical-align: middle;\n",
       "    }\n",
       "\n",
       "    .dataframe tbody tr th {\n",
       "        vertical-align: top;\n",
       "    }\n",
       "\n",
       "    .dataframe thead th {\n",
       "        text-align: right;\n",
       "    }\n",
       "</style>\n",
       "<table border=\"1\" class=\"dataframe\">\n",
       "  <thead>\n",
       "    <tr style=\"text-align: right;\">\n",
       "      <th></th>\n",
       "      <th>iv</th>\n",
       "      <th>gini</th>\n",
       "      <th>entropy</th>\n",
       "      <th>unique</th>\n",
       "    </tr>\n",
       "  </thead>\n",
       "  <tbody>\n",
       "    <tr>\n",
       "      <th>ConditionsBins_NoJob</th>\n",
       "      <td>0.23399</td>\n",
       "      <td>0.150224</td>\n",
       "      <td>0.278627</td>\n",
       "      <td>4.0</td>\n",
       "    </tr>\n",
       "  </tbody>\n",
       "</table>\n",
       "</div>"
      ],
      "text/plain": [
       "                           iv      gini   entropy  unique\n",
       "ConditionsBins_NoJob  0.23399  0.150224  0.278627     4.0"
      ]
     },
     "execution_count": 47,
     "metadata": {},
     "output_type": "execute_result"
    }
   ],
   "source": [
    "toad.quality(data[['ConditionsBins_NoJob','target_2cls_NoJob']],target='target_2cls_NoJob')"
   ]
  },
  {
   "cell_type": "markdown",
   "metadata": {},
   "source": [
    "## 2.5 Booking Fleet = Dispatch Fleet"
   ]
  },
  {
   "cell_type": "code",
   "execution_count": 48,
   "metadata": {},
   "outputs": [],
   "source": [
    "equal = list()\n",
    "for i in range(data.shape[0]):\n",
    "    if data['BookingFleet'][i] == data['DispatchFleet'][i]:\n",
    "        equal.append('True')\n",
    "    else:\n",
    "        equal.append('False')\n",
    "#check whether booking fleet is the same as dispatch feet and create a new variable"
   ]
  },
  {
   "cell_type": "code",
   "execution_count": 49,
   "metadata": {},
   "outputs": [],
   "source": [
    "equal2 = list()\n",
    "for i in range(validation.shape[0]):\n",
    "    if validation['BookingFleet'][i] == validation['DispatchFleet'][i]:\n",
    "        equal2.append('True')\n",
    "    else:\n",
    "        equal2.append('False')"
   ]
  },
  {
   "cell_type": "code",
   "execution_count": 50,
   "metadata": {},
   "outputs": [],
   "source": [
    "data['BookingisDispatch'] = equal\n",
    "validation['BookingisDispatch'] = equal2"
   ]
  },
  {
   "cell_type": "markdown",
   "metadata": {},
   "source": [
    "## 2.6 Dispatch Fleet"
   ]
  },
  {
   "cell_type": "code",
   "execution_count": 51,
   "metadata": {},
   "outputs": [
    {
     "data": {
      "text/plain": [
       "<AxesSubplot:xlabel='DispatchFleet', ylabel='prop'>"
      ]
     },
     "execution_count": 51,
     "metadata": {},
     "output_type": "execute_result"
    },
    {
     "data": {
      "image/png": "[encoded data removed]",
      "text/plain": [
       "<Figure size 864x432 with 2 Axes>"
      ]
     },
     "metadata": {},
     "output_type": "display_data"
    }
   ],
   "source": [
    "c = toad.transform.Combiner()\n",
    "col = 'DispatchFleet'\n",
    "c.fit(data[[col,'target_2cls_Completed']], y = 'target_2cls_Completed', method = 'chi',min_samples = 0.01)\n",
    "bin_plot(c.transform(data[[col,'target_2cls_Completed']], labels=False), x=col, target='target_2cls_Completed')\n"
   ]
  },
  {
   "cell_type": "code",
   "execution_count": 52,
   "metadata": {},
   "outputs": [
    {
     "data": {
      "text/plain": [
       "<AxesSubplot:xlabel='DispatchFleet', ylabel='prop'>"
      ]
     },
     "execution_count": 52,
     "metadata": {},
     "output_type": "execute_result"
    },
    {
     "data": {
      "image/png": "[encoded data removed]",
      "text/plain": [
       "<Figure size 864x432 with 2 Axes>"
      ]
     },
     "metadata": {},
     "output_type": "display_data"
    }
   ],
   "source": [
    "bin_plot(c.transform(validation[[col,'target_2cls_Completed']], labels=False), x=col, target='target_2cls_Completed')"
   ]
  },
  {
   "cell_type": "code",
   "execution_count": 53,
   "metadata": {},
   "outputs": [
    {
     "data": {
      "text/plain": [
       "{'DispatchFleet': [['Training Sydney',\n",
       "   'South Western Cabs',\n",
       "   'iHail',\n",
       "   'Sydney Tiger Team',\n",
       "   '13cabs Wollongong',\n",
       "   'WATs Sydney',\n",
       "   'Blue Mountains 13cabs'],\n",
       "  ['13cabs Sydney', 'Test Sydney'],\n",
       "  ['Silver Service Sydney']]}"
      ]
     },
     "execution_count": 53,
     "metadata": {},
     "output_type": "execute_result"
    }
   ],
   "source": [
    "c.export()"
   ]
  },
  {
   "cell_type": "code",
   "execution_count": 54,
   "metadata": {},
   "outputs": [],
   "source": [
    "def DispatchFleetBins(data,data_test):\n",
    "    data = data.copy()\n",
    "    data_test = data_test.copy()\n",
    "    for target,val in zip(['target_2cls_Cancelled','target_2cls_Completed','target_2cls_ELSE','target_2cls_NoJob'],['Cancelled','Completed','ELSE','NoJob']):\n",
    "        c = toad.transform.Combiner()\n",
    "        col = 'DispatchFleet'\n",
    "        c.fit(data[[col,target]], y = target, method = 'chi',min_samples = 0.01) \n",
    "        data['DispatchFleetBins_'+val] = c.transform(data[['DispatchFleet']], labels=False) \n",
    "        data_test['DispatchFleetBins_'+val] = c.transform(data_test[['DispatchFleet']], labels=False)\n",
    "    return data, data_test\n",
    "\n",
    "data,validation = DispatchFleetBins(data,validation)\n"
   ]
  },
  {
   "cell_type": "code",
   "execution_count": 55,
   "metadata": {},
   "outputs": [
    {
     "data": {
      "text/html": [
       "<div>\n",
       "<style scoped>\n",
       "    .dataframe tbody tr th:only-of-type {\n",
       "        vertical-align: middle;\n",
       "    }\n",
       "\n",
       "    .dataframe tbody tr th {\n",
       "        vertical-align: top;\n",
       "    }\n",
       "\n",
       "    .dataframe thead th {\n",
       "        text-align: right;\n",
       "    }\n",
       "</style>\n",
       "<table border=\"1\" class=\"dataframe\">\n",
       "  <thead>\n",
       "    <tr style=\"text-align: right;\">\n",
       "      <th></th>\n",
       "      <th>iv</th>\n",
       "      <th>gini</th>\n",
       "      <th>entropy</th>\n",
       "      <th>unique</th>\n",
       "    </tr>\n",
       "  </thead>\n",
       "  <tbody>\n",
       "    <tr>\n",
       "      <th>DispatchFleetBins_Cancelled</th>\n",
       "      <td>1.411809</td>\n",
       "      <td>0.208251</td>\n",
       "      <td>0.334045</td>\n",
       "      <td>3.0</td>\n",
       "    </tr>\n",
       "  </tbody>\n",
       "</table>\n",
       "</div>"
      ],
      "text/plain": [
       "                                   iv      gini   entropy  unique\n",
       "DispatchFleetBins_Cancelled  1.411809  0.208251  0.334045     3.0"
      ]
     },
     "execution_count": 55,
     "metadata": {},
     "output_type": "execute_result"
    }
   ],
   "source": [
    "toad.quality(data[['DispatchFleetBins_Cancelled','target_2cls_Cancelled']],target='target_2cls_Cancelled')"
   ]
  },
  {
   "cell_type": "code",
   "execution_count": 56,
   "metadata": {},
   "outputs": [
    {
     "data": {
      "text/html": [
       "<div>\n",
       "<style scoped>\n",
       "    .dataframe tbody tr th:only-of-type {\n",
       "        vertical-align: middle;\n",
       "    }\n",
       "\n",
       "    .dataframe tbody tr th {\n",
       "        vertical-align: top;\n",
       "    }\n",
       "\n",
       "    .dataframe thead th {\n",
       "        text-align: right;\n",
       "    }\n",
       "</style>\n",
       "<table border=\"1\" class=\"dataframe\">\n",
       "  <thead>\n",
       "    <tr style=\"text-align: right;\">\n",
       "      <th></th>\n",
       "      <th>iv</th>\n",
       "      <th>gini</th>\n",
       "      <th>entropy</th>\n",
       "      <th>unique</th>\n",
       "    </tr>\n",
       "  </thead>\n",
       "  <tbody>\n",
       "    <tr>\n",
       "      <th>DispatchFleetBins_ELSE</th>\n",
       "      <td>1.077869</td>\n",
       "      <td>0.024048</td>\n",
       "      <td>0.060731</td>\n",
       "      <td>3.0</td>\n",
       "    </tr>\n",
       "  </tbody>\n",
       "</table>\n",
       "</div>"
      ],
      "text/plain": [
       "                              iv      gini   entropy  unique\n",
       "DispatchFleetBins_ELSE  1.077869  0.024048  0.060731     3.0"
      ]
     },
     "execution_count": 56,
     "metadata": {},
     "output_type": "execute_result"
    }
   ],
   "source": [
    "toad.quality(data[['DispatchFleetBins_ELSE','target_2cls_ELSE']],target='target_2cls_ELSE')"
   ]
  },
  {
   "cell_type": "code",
   "execution_count": 57,
   "metadata": {},
   "outputs": [
    {
     "data": {
      "text/html": [
       "<div>\n",
       "<style scoped>\n",
       "    .dataframe tbody tr th:only-of-type {\n",
       "        vertical-align: middle;\n",
       "    }\n",
       "\n",
       "    .dataframe tbody tr th {\n",
       "        vertical-align: top;\n",
       "    }\n",
       "\n",
       "    .dataframe thead th {\n",
       "        text-align: right;\n",
       "    }\n",
       "</style>\n",
       "<table border=\"1\" class=\"dataframe\">\n",
       "  <thead>\n",
       "    <tr style=\"text-align: right;\">\n",
       "      <th></th>\n",
       "      <th>iv</th>\n",
       "      <th>gini</th>\n",
       "      <th>entropy</th>\n",
       "      <th>unique</th>\n",
       "    </tr>\n",
       "  </thead>\n",
       "  <tbody>\n",
       "    <tr>\n",
       "      <th>DispatchFleetBins_NoJob</th>\n",
       "      <td>0.957894</td>\n",
       "      <td>0.145694</td>\n",
       "      <td>0.258893</td>\n",
       "      <td>3.0</td>\n",
       "    </tr>\n",
       "  </tbody>\n",
       "</table>\n",
       "</div>"
      ],
      "text/plain": [
       "                               iv      gini   entropy  unique\n",
       "DispatchFleetBins_NoJob  0.957894  0.145694  0.258893     3.0"
      ]
     },
     "execution_count": 57,
     "metadata": {},
     "output_type": "execute_result"
    }
   ],
   "source": [
    "toad.quality(data[['DispatchFleetBins_NoJob','target_2cls_NoJob']],target='target_2cls_NoJob')"
   ]
  },
  {
   "cell_type": "markdown",
   "metadata": {},
   "source": [
    "## 2.7 Booking Fleet"
   ]
  },
  {
   "cell_type": "code",
   "execution_count": 58,
   "metadata": {},
   "outputs": [],
   "source": [
    "#booking fleet 还需要讨论\n",
    "#before_booking=data.to_csv('mid.csv')"
   ]
  },
  {
   "cell_type": "code",
   "execution_count": 68,
   "metadata": {},
   "outputs": [],
   "source": [
    "#before_booking_val=validation.to_csv('midval.csv')"
   ]
  },
  {
   "cell_type": "code",
   "execution_count": 2,
   "metadata": {},
   "outputs": [],
   "source": [
    "data=pd.read_csv('mid.csv')"
   ]
  },
  {
   "cell_type": "code",
   "execution_count": 3,
   "metadata": {},
   "outputs": [],
   "source": [
    "validation=pd.read_csv('midval.csv')"
   ]
  },
  {
   "cell_type": "code",
   "execution_count": 4,
   "metadata": {},
   "outputs": [],
   "source": [
    "data = data.iloc[:,1:]"
   ]
  },
  {
   "cell_type": "code",
   "execution_count": 5,
   "metadata": {},
   "outputs": [],
   "source": [
    "validation = validation.iloc[:,1:]"
   ]
  },
  {
   "cell_type": "code",
   "execution_count": 8,
   "metadata": {},
   "outputs": [
    {
     "data": {
      "text/html": [
       "<div>\n",
       "<style scoped>\n",
       "    .dataframe tbody tr th:only-of-type {\n",
       "        vertical-align: middle;\n",
       "    }\n",
       "\n",
       "    .dataframe tbody tr th {\n",
       "        vertical-align: top;\n",
       "    }\n",
       "\n",
       "    .dataframe thead tr th {\n",
       "        text-align: left;\n",
       "    }\n",
       "\n",
       "    .dataframe thead tr:last-of-type th {\n",
       "        text-align: right;\n",
       "    }\n",
       "</style>\n",
       "<table border=\"1\" class=\"dataframe\">\n",
       "  <thead>\n",
       "    <tr>\n",
       "      <th></th>\n",
       "      <th colspan=\"2\" halign=\"left\">target_2cls_Completed</th>\n",
       "    </tr>\n",
       "    <tr>\n",
       "      <th></th>\n",
       "      <th>mean</th>\n",
       "      <th>count</th>\n",
       "    </tr>\n",
       "    <tr>\n",
       "      <th>BookingFleet</th>\n",
       "      <th></th>\n",
       "      <th></th>\n",
       "    </tr>\n",
       "  </thead>\n",
       "  <tbody>\n",
       "    <tr>\n",
       "      <th>Training Sydney</th>\n",
       "      <td>0.002483</td>\n",
       "      <td>2416</td>\n",
       "    </tr>\n",
       "    <tr>\n",
       "      <th>iHail</th>\n",
       "      <td>0.394737</td>\n",
       "      <td>304</td>\n",
       "    </tr>\n",
       "    <tr>\n",
       "      <th>Sydney Tiger Team</th>\n",
       "      <td>0.466667</td>\n",
       "      <td>15</td>\n",
       "    </tr>\n",
       "    <tr>\n",
       "      <th>Blue Mountains 13cabs</th>\n",
       "      <td>0.654786</td>\n",
       "      <td>21352</td>\n",
       "    </tr>\n",
       "    <tr>\n",
       "      <th>Test Sydney</th>\n",
       "      <td>0.708333</td>\n",
       "      <td>96</td>\n",
       "    </tr>\n",
       "    <tr>\n",
       "      <th>South Western Cabs</th>\n",
       "      <td>0.719902</td>\n",
       "      <td>814</td>\n",
       "    </tr>\n",
       "    <tr>\n",
       "      <th>13cabs Sydney</th>\n",
       "      <td>0.772805</td>\n",
       "      <td>2766068</td>\n",
       "    </tr>\n",
       "    <tr>\n",
       "      <th>WATs Sydney</th>\n",
       "      <td>0.832917</td>\n",
       "      <td>118037</td>\n",
       "    </tr>\n",
       "    <tr>\n",
       "      <th>Silver Service Sydney</th>\n",
       "      <td>0.860334</td>\n",
       "      <td>90881</td>\n",
       "    </tr>\n",
       "    <tr>\n",
       "      <th>13cabs Wollongong</th>\n",
       "      <td>0.941176</td>\n",
       "      <td>17</td>\n",
       "    </tr>\n",
       "  </tbody>\n",
       "</table>\n",
       "</div>"
      ],
      "text/plain": [
       "                      target_2cls_Completed         \n",
       "                                       mean    count\n",
       "BookingFleet                                        \n",
       "Training Sydney                    0.002483     2416\n",
       "iHail                              0.394737      304\n",
       "Sydney Tiger Team                  0.466667       15\n",
       "Blue Mountains 13cabs              0.654786    21352\n",
       "Test Sydney                        0.708333       96\n",
       "South Western Cabs                 0.719902      814\n",
       "13cabs Sydney                      0.772805  2766068\n",
       "WATs Sydney                        0.832917   118037\n",
       "Silver Service Sydney              0.860334    90881\n",
       "13cabs Wollongong                  0.941176       17"
      ]
     },
     "execution_count": 8,
     "metadata": {},
     "output_type": "execute_result"
    }
   ],
   "source": [
    "data[['BookingFleet','target_2cls_Completed']].groupby('BookingFleet').agg(['mean','count']).\\\n",
    "sort_values(by=('target_2cls_Completed','mean'),ascending=True)"
   ]
  },
  {
   "cell_type": "code",
   "execution_count": 9,
   "metadata": {},
   "outputs": [
    {
     "data": {
      "text/plain": [
       "<AxesSubplot:xlabel='BookingFleet', ylabel='prop'>"
      ]
     },
     "execution_count": 9,
     "metadata": {},
     "output_type": "execute_result"
    },
    {
     "data": {
      "image/png": "[encoded data removed]",
      "text/plain": [
       "<Figure size 864x432 with 2 Axes>"
      ]
     },
     "metadata": {},
     "output_type": "display_data"
    }
   ],
   "source": [
    "c = toad.transform.Combiner()\n",
    "col = 'BookingFleet'\n",
    "c.fit(data[[col,'target_2cls_Completed']], y = 'target_2cls_Completed', method = 'chi',min_samples = 0.001)\n",
    "bin_plot(c.transform(data[[col,'target_2cls_Completed']], labels=False), x=col, target='target_2cls_Completed')\n"
   ]
  },
  {
   "cell_type": "code",
   "execution_count": 10,
   "metadata": {},
   "outputs": [
    {
     "data": {
      "text/plain": [
       "<AxesSubplot:xlabel='BookingFleet', ylabel='prop'>"
      ]
     },
     "execution_count": 10,
     "metadata": {},
     "output_type": "execute_result"
    },
    {
     "data": {
      "image/png": "[encoded data removed]",
      "text/plain": [
       "<Figure size 864x432 with 2 Axes>"
      ]
     },
     "metadata": {},
     "output_type": "display_data"
    }
   ],
   "source": [
    "bin_plot(c.transform(validation[[col,'target_2cls_Completed']], labels=False), x=col, target='target_2cls_Completed')"
   ]
  },
  {
   "cell_type": "code",
   "execution_count": 11,
   "metadata": {},
   "outputs": [],
   "source": [
    "def BookingFleetBins(data,data_test):\n",
    "    data = data.copy()\n",
    "    data_test = data_test.copy()\n",
    "    for target,val in zip(['target_2cls_Cancelled','target_2cls_Completed','target_2cls_ELSE','target_2cls_NoJob'],['Cancelled','Completed','ELSE','NoJob']):\n",
    "        c = toad.transform.Combiner()\n",
    "        col = 'BookingFleet'\n",
    "        c.fit(data[[col,target]], y = target, method = 'chi',min_samples = 0.001) \n",
    "        data['BookingFleetBins_'+val] = c.transform(data[['BookingFleet']], labels=False) \n",
    "        data_test['BookingFleetBins_'+val] = c.transform(data_test[['BookingFleet']], labels=False)\n",
    "    return data, data_test\n",
    "\n",
    "data,validation = BookingFleetBins(data,validation)\n"
   ]
  },
  {
   "cell_type": "code",
   "execution_count": 12,
   "metadata": {},
   "outputs": [
    {
     "data": {
      "text/html": [
       "<div>\n",
       "<style scoped>\n",
       "    .dataframe tbody tr th:only-of-type {\n",
       "        vertical-align: middle;\n",
       "    }\n",
       "\n",
       "    .dataframe tbody tr th {\n",
       "        vertical-align: top;\n",
       "    }\n",
       "\n",
       "    .dataframe thead th {\n",
       "        text-align: right;\n",
       "    }\n",
       "</style>\n",
       "<table border=\"1\" class=\"dataframe\">\n",
       "  <thead>\n",
       "    <tr style=\"text-align: right;\">\n",
       "      <th></th>\n",
       "      <th>iv</th>\n",
       "      <th>gini</th>\n",
       "      <th>entropy</th>\n",
       "      <th>unique</th>\n",
       "    </tr>\n",
       "  </thead>\n",
       "  <tbody>\n",
       "    <tr>\n",
       "      <th>BookingFleetBins_Cancelled</th>\n",
       "      <td>0.033075</td>\n",
       "      <td>0.223436</td>\n",
       "      <td>0.382003</td>\n",
       "      <td>4.0</td>\n",
       "    </tr>\n",
       "  </tbody>\n",
       "</table>\n",
       "</div>"
      ],
      "text/plain": [
       "                                  iv      gini   entropy  unique\n",
       "BookingFleetBins_Cancelled  0.033075  0.223436  0.382003     4.0"
      ]
     },
     "execution_count": 12,
     "metadata": {},
     "output_type": "execute_result"
    }
   ],
   "source": [
    "toad.quality(data[['BookingFleetBins_Cancelled','target_2cls_Cancelled']],target='target_2cls_Cancelled')"
   ]
  },
  {
   "cell_type": "code",
   "execution_count": 13,
   "metadata": {},
   "outputs": [
    {
     "data": {
      "text/html": [
       "<div>\n",
       "<style scoped>\n",
       "    .dataframe tbody tr th:only-of-type {\n",
       "        vertical-align: middle;\n",
       "    }\n",
       "\n",
       "    .dataframe tbody tr th {\n",
       "        vertical-align: top;\n",
       "    }\n",
       "\n",
       "    .dataframe thead th {\n",
       "        text-align: right;\n",
       "    }\n",
       "</style>\n",
       "<table border=\"1\" class=\"dataframe\">\n",
       "  <thead>\n",
       "    <tr style=\"text-align: right;\">\n",
       "      <th></th>\n",
       "      <th>iv</th>\n",
       "      <th>gini</th>\n",
       "      <th>entropy</th>\n",
       "      <th>unique</th>\n",
       "    </tr>\n",
       "  </thead>\n",
       "  <tbody>\n",
       "    <tr>\n",
       "      <th>BookingFleetBins_ELSE</th>\n",
       "      <td>0.254508</td>\n",
       "      <td>0.024455</td>\n",
       "      <td>0.065169</td>\n",
       "      <td>2.0</td>\n",
       "    </tr>\n",
       "  </tbody>\n",
       "</table>\n",
       "</div>"
      ],
      "text/plain": [
       "                             iv      gini   entropy  unique\n",
       "BookingFleetBins_ELSE  0.254508  0.024455  0.065169     2.0"
      ]
     },
     "execution_count": 13,
     "metadata": {},
     "output_type": "execute_result"
    }
   ],
   "source": [
    "toad.quality(data[['BookingFleetBins_ELSE','target_2cls_ELSE']],target='target_2cls_ELSE')"
   ]
  },
  {
   "cell_type": "code",
   "execution_count": 14,
   "metadata": {},
   "outputs": [
    {
     "data": {
      "text/html": [
       "<div>\n",
       "<style scoped>\n",
       "    .dataframe tbody tr th:only-of-type {\n",
       "        vertical-align: middle;\n",
       "    }\n",
       "\n",
       "    .dataframe tbody tr th {\n",
       "        vertical-align: top;\n",
       "    }\n",
       "\n",
       "    .dataframe thead th {\n",
       "        text-align: right;\n",
       "    }\n",
       "</style>\n",
       "<table border=\"1\" class=\"dataframe\">\n",
       "  <thead>\n",
       "    <tr style=\"text-align: right;\">\n",
       "      <th></th>\n",
       "      <th>iv</th>\n",
       "      <th>gini</th>\n",
       "      <th>entropy</th>\n",
       "      <th>unique</th>\n",
       "    </tr>\n",
       "  </thead>\n",
       "  <tbody>\n",
       "    <tr>\n",
       "      <th>DispatchFleetBins_NoJob</th>\n",
       "      <td>0.957894</td>\n",
       "      <td>0.145694</td>\n",
       "      <td>0.258893</td>\n",
       "      <td>3.0</td>\n",
       "    </tr>\n",
       "  </tbody>\n",
       "</table>\n",
       "</div>"
      ],
      "text/plain": [
       "                               iv      gini   entropy  unique\n",
       "DispatchFleetBins_NoJob  0.957894  0.145694  0.258893     3.0"
      ]
     },
     "execution_count": 14,
     "metadata": {},
     "output_type": "execute_result"
    }
   ],
   "source": [
    "toad.quality(data[['DispatchFleetBins_NoJob','target_2cls_NoJob']],target='target_2cls_NoJob')"
   ]
  },
  {
   "cell_type": "code",
   "execution_count": null,
   "metadata": {},
   "outputs": [],
   "source": [
    "#data = data.drop(columns=['BookingID', 'Conditions','CreatedDate', 'RequestedDate',\n",
    "#                         'AreaNumber', 'PuPlace', 'PuAddress', 'PuSuburb','PuLat', \n",
    "#                          'PuLong', 'TargetVariable','KNN_temp','OrderTimeDT',]"
   ]
  },
  {
   "cell_type": "code",
   "execution_count": null,
   "metadata": {},
   "outputs": [],
   "source": [
    "#validation = validation.drop(columns=['BookingID', 'Conditions','CreatedDate', 'RequestedDate',\n",
    "#                         'AreaNumber', 'PuPlace', 'PuAddress', 'PuSuburb','PuLat', \n",
    "#                          'PuLong', 'TargetVariable','KNN_temp','OrderTimeDT',]"
   ]
  },
  {
   "cell_type": "markdown",
   "metadata": {},
   "source": [
    "## 2.6 Booking Source"
   ]
  },
  {
   "cell_type": "code",
   "execution_count": 15,
   "metadata": {},
   "outputs": [
    {
     "data": {
      "text/plain": [
       "<AxesSubplot:xlabel='BookingSource', ylabel='prop'>"
      ]
     },
     "execution_count": 15,
     "metadata": {},
     "output_type": "execute_result"
    },
    {
     "data": {
      "image/png": "[encoded data removed]",
      "text/plain": [
       "<Figure size 864x432 with 2 Axes>"
      ]
     },
     "metadata": {},
     "output_type": "display_data"
    }
   ],
   "source": [
    "c = toad.transform.Combiner()\n",
    "col = 'BookingSource'\n",
    "c.fit(data[[col,'target_2cls_Completed']], y = 'target_2cls_Completed', method = 'chi',min_samples = 0.05)\n",
    "bin_plot(c.transform(data[[col,'target_2cls_Completed']], labels=False), x=col, target='target_2cls_Completed')\n"
   ]
  },
  {
   "cell_type": "code",
   "execution_count": 16,
   "metadata": {},
   "outputs": [
    {
     "data": {
      "text/plain": [
       "<AxesSubplot:xlabel='BookingSource', ylabel='prop'>"
      ]
     },
     "execution_count": 16,
     "metadata": {},
     "output_type": "execute_result"
    },
    {
     "data": {
      "image/png": "[encoded data removed]",
      "text/plain": [
       "<Figure size 864x432 with 2 Axes>"
      ]
     },
     "metadata": {},
     "output_type": "display_data"
    }
   ],
   "source": [
    "bin_plot(c.transform(validation[[col,'target_2cls_Completed']], labels=False), x=col, target='target_2cls_Completed') \n"
   ]
  },
  {
   "cell_type": "code",
   "execution_count": 17,
   "metadata": {},
   "outputs": [],
   "source": [
    "def BookingSourceBins(data,data_test):\n",
    "    data = data.copy()\n",
    "    data_test = data_test.copy()\n",
    "    for target,val in zip(['target_2cls_Cancelled','target_2cls_Completed','target_2cls_ELSE','target_2cls_NoJob'],['Cancelled','Completed','ELSE','NoJob']):\n",
    "        c = toad.transform.Combiner()\n",
    "        col = 'BookingSource'\n",
    "        c.fit(data[[col,target]], y = target, method = 'chi',min_samples = 0.05) \n",
    "        data['BookingSourceBins_'+val] = c.transform(data[['BookingSource']], labels=False) \n",
    "        data_test['BookingSourceBins_'+val] = c.transform(data_test[['BookingSource']], labels=False)\n",
    "    return data, data_test\n",
    "\n",
    "data,validation = BookingSourceBins(data,validation)\n"
   ]
  },
  {
   "cell_type": "code",
   "execution_count": 18,
   "metadata": {},
   "outputs": [
    {
     "data": {
      "text/html": [
       "<div>\n",
       "<style scoped>\n",
       "    .dataframe tbody tr th:only-of-type {\n",
       "        vertical-align: middle;\n",
       "    }\n",
       "\n",
       "    .dataframe tbody tr th {\n",
       "        vertical-align: top;\n",
       "    }\n",
       "\n",
       "    .dataframe thead th {\n",
       "        text-align: right;\n",
       "    }\n",
       "</style>\n",
       "<table border=\"1\" class=\"dataframe\">\n",
       "  <thead>\n",
       "    <tr style=\"text-align: right;\">\n",
       "      <th></th>\n",
       "      <th>BookingSourceBins_Cancelled</th>\n",
       "      <th>BookingSourceBins_Completed</th>\n",
       "      <th>BookingSourceBins_ELSE</th>\n",
       "      <th>BookingSourceBins_NoJob</th>\n",
       "    </tr>\n",
       "  </thead>\n",
       "  <tbody>\n",
       "    <tr>\n",
       "      <th>0</th>\n",
       "      <td>1</td>\n",
       "      <td>1</td>\n",
       "      <td>2</td>\n",
       "      <td>1</td>\n",
       "    </tr>\n",
       "    <tr>\n",
       "      <th>1</th>\n",
       "      <td>1</td>\n",
       "      <td>1</td>\n",
       "      <td>2</td>\n",
       "      <td>1</td>\n",
       "    </tr>\n",
       "    <tr>\n",
       "      <th>2</th>\n",
       "      <td>2</td>\n",
       "      <td>0</td>\n",
       "      <td>1</td>\n",
       "      <td>0</td>\n",
       "    </tr>\n",
       "    <tr>\n",
       "      <th>3</th>\n",
       "      <td>0</td>\n",
       "      <td>2</td>\n",
       "      <td>0</td>\n",
       "      <td>2</td>\n",
       "    </tr>\n",
       "    <tr>\n",
       "      <th>4</th>\n",
       "      <td>2</td>\n",
       "      <td>0</td>\n",
       "      <td>1</td>\n",
       "      <td>0</td>\n",
       "    </tr>\n",
       "  </tbody>\n",
       "</table>\n",
       "</div>"
      ],
      "text/plain": [
       "   BookingSourceBins_Cancelled  BookingSourceBins_Completed  \\\n",
       "0                            1                            1   \n",
       "1                            1                            1   \n",
       "2                            2                            0   \n",
       "3                            0                            2   \n",
       "4                            2                            0   \n",
       "\n",
       "   BookingSourceBins_ELSE  BookingSourceBins_NoJob  \n",
       "0                       2                        1  \n",
       "1                       2                        1  \n",
       "2                       1                        0  \n",
       "3                       0                        2  \n",
       "4                       1                        0  "
      ]
     },
     "execution_count": 18,
     "metadata": {},
     "output_type": "execute_result"
    }
   ],
   "source": [
    "data[['BookingSourceBins_Cancelled','BookingSourceBins_Completed','BookingSourceBins_ELSE','BookingSourceBins_NoJob']].head()"
   ]
  },
  {
   "cell_type": "code",
   "execution_count": 19,
   "metadata": {},
   "outputs": [
    {
     "data": {
      "text/html": [
       "<div>\n",
       "<style scoped>\n",
       "    .dataframe tbody tr th:only-of-type {\n",
       "        vertical-align: middle;\n",
       "    }\n",
       "\n",
       "    .dataframe tbody tr th {\n",
       "        vertical-align: top;\n",
       "    }\n",
       "\n",
       "    .dataframe thead th {\n",
       "        text-align: right;\n",
       "    }\n",
       "</style>\n",
       "<table border=\"1\" class=\"dataframe\">\n",
       "  <thead>\n",
       "    <tr style=\"text-align: right;\">\n",
       "      <th></th>\n",
       "      <th>iv</th>\n",
       "      <th>gini</th>\n",
       "      <th>entropy</th>\n",
       "      <th>unique</th>\n",
       "    </tr>\n",
       "  </thead>\n",
       "  <tbody>\n",
       "    <tr>\n",
       "      <th>BookingSourceBins_Cancelled</th>\n",
       "      <td>0.460776</td>\n",
       "      <td>0.213501</td>\n",
       "      <td>0.359142</td>\n",
       "      <td>3.0</td>\n",
       "    </tr>\n",
       "  </tbody>\n",
       "</table>\n",
       "</div>"
      ],
      "text/plain": [
       "                                   iv      gini   entropy  unique\n",
       "BookingSourceBins_Cancelled  0.460776  0.213501  0.359142     3.0"
      ]
     },
     "execution_count": 19,
     "metadata": {},
     "output_type": "execute_result"
    }
   ],
   "source": [
    "toad.quality(data[['BookingSourceBins_Cancelled','target_2cls_Cancelled']],target='target_2cls_Cancelled')"
   ]
  },
  {
   "cell_type": "code",
   "execution_count": 20,
   "metadata": {},
   "outputs": [
    {
     "data": {
      "text/html": [
       "<div>\n",
       "<style scoped>\n",
       "    .dataframe tbody tr th:only-of-type {\n",
       "        vertical-align: middle;\n",
       "    }\n",
       "\n",
       "    .dataframe tbody tr th {\n",
       "        vertical-align: top;\n",
       "    }\n",
       "\n",
       "    .dataframe thead th {\n",
       "        text-align: right;\n",
       "    }\n",
       "</style>\n",
       "<table border=\"1\" class=\"dataframe\">\n",
       "  <thead>\n",
       "    <tr style=\"text-align: right;\">\n",
       "      <th></th>\n",
       "      <th>iv</th>\n",
       "      <th>gini</th>\n",
       "      <th>entropy</th>\n",
       "      <th>unique</th>\n",
       "    </tr>\n",
       "  </thead>\n",
       "  <tbody>\n",
       "    <tr>\n",
       "      <th>BookingSourceBins_ELSE</th>\n",
       "      <td>0.765604</td>\n",
       "      <td>0.024374</td>\n",
       "      <td>0.062619</td>\n",
       "      <td>3.0</td>\n",
       "    </tr>\n",
       "  </tbody>\n",
       "</table>\n",
       "</div>"
      ],
      "text/plain": [
       "                              iv      gini   entropy  unique\n",
       "BookingSourceBins_ELSE  0.765604  0.024374  0.062619     3.0"
      ]
     },
     "execution_count": 20,
     "metadata": {},
     "output_type": "execute_result"
    }
   ],
   "source": [
    "toad.quality(data[['BookingSourceBins_ELSE','target_2cls_ELSE']],target='target_2cls_ELSE')"
   ]
  },
  {
   "cell_type": "code",
   "execution_count": 21,
   "metadata": {},
   "outputs": [
    {
     "data": {
      "text/html": [
       "<div>\n",
       "<style scoped>\n",
       "    .dataframe tbody tr th:only-of-type {\n",
       "        vertical-align: middle;\n",
       "    }\n",
       "\n",
       "    .dataframe tbody tr th {\n",
       "        vertical-align: top;\n",
       "    }\n",
       "\n",
       "    .dataframe thead th {\n",
       "        text-align: right;\n",
       "    }\n",
       "</style>\n",
       "<table border=\"1\" class=\"dataframe\">\n",
       "  <thead>\n",
       "    <tr style=\"text-align: right;\">\n",
       "      <th></th>\n",
       "      <th>iv</th>\n",
       "      <th>gini</th>\n",
       "      <th>entropy</th>\n",
       "      <th>unique</th>\n",
       "    </tr>\n",
       "  </thead>\n",
       "  <tbody>\n",
       "    <tr>\n",
       "      <th>BookingSourceBins_Completed</th>\n",
       "      <td>0.122085</td>\n",
       "      <td>0.340135</td>\n",
       "      <td>0.521081</td>\n",
       "      <td>3.0</td>\n",
       "    </tr>\n",
       "  </tbody>\n",
       "</table>\n",
       "</div>"
      ],
      "text/plain": [
       "                                   iv      gini   entropy  unique\n",
       "BookingSourceBins_Completed  0.122085  0.340135  0.521081     3.0"
      ]
     },
     "execution_count": 21,
     "metadata": {},
     "output_type": "execute_result"
    }
   ],
   "source": [
    "toad.quality(data[['BookingSourceBins_Completed','target_2cls_Completed']],target='target_2cls_Completed')"
   ]
  },
  {
   "cell_type": "code",
   "execution_count": 22,
   "metadata": {},
   "outputs": [
    {
     "data": {
      "text/html": [
       "<div>\n",
       "<style scoped>\n",
       "    .dataframe tbody tr th:only-of-type {\n",
       "        vertical-align: middle;\n",
       "    }\n",
       "\n",
       "    .dataframe tbody tr th {\n",
       "        vertical-align: top;\n",
       "    }\n",
       "\n",
       "    .dataframe thead th {\n",
       "        text-align: right;\n",
       "    }\n",
       "</style>\n",
       "<table border=\"1\" class=\"dataframe\">\n",
       "  <thead>\n",
       "    <tr style=\"text-align: right;\">\n",
       "      <th></th>\n",
       "      <th>iv</th>\n",
       "      <th>gini</th>\n",
       "      <th>entropy</th>\n",
       "      <th>unique</th>\n",
       "    </tr>\n",
       "  </thead>\n",
       "  <tbody>\n",
       "    <tr>\n",
       "      <th>BookingSourceBins_NoJob</th>\n",
       "      <td>0.009098</td>\n",
       "      <td>0.1516</td>\n",
       "      <td>0.284946</td>\n",
       "      <td>3.0</td>\n",
       "    </tr>\n",
       "  </tbody>\n",
       "</table>\n",
       "</div>"
      ],
      "text/plain": [
       "                               iv    gini   entropy  unique\n",
       "BookingSourceBins_NoJob  0.009098  0.1516  0.284946     3.0"
      ]
     },
     "execution_count": 22,
     "metadata": {},
     "output_type": "execute_result"
    }
   ],
   "source": [
    "toad.quality(data[['BookingSourceBins_NoJob','target_2cls_NoJob']],target='target_2cls_NoJob')"
   ]
  },
  {
   "cell_type": "markdown",
   "metadata": {},
   "source": [
    "## 2.7 Create dummy variables"
   ]
  },
  {
   "cell_type": "code",
   "execution_count": 40,
   "metadata": {},
   "outputs": [
    {
     "name": "stdout",
     "output_type": "stream",
     "text": [
      "<class 'pandas.core.frame.DataFrame'>\n",
      "RangeIndex: 3000000 entries, 0 to 2999999\n",
      "Data columns (total 54 columns):\n",
      " #   Column                       Dtype  \n",
      "---  ------                       -----  \n",
      " 0   BookingID                    int64  \n",
      " 1   BookingSource                object \n",
      " 2   Conditions                   int64  \n",
      " 3   HasCondition                 int64  \n",
      " 4   IsAccountBooking             int64  \n",
      " 5   CreatedDate                  object \n",
      " 6   RequestedDate                object \n",
      " 7   BookingFleet                 object \n",
      " 8   DispatchFleet                object \n",
      " 9   AreaNumber                   int64  \n",
      " 10  PuPlace                      object \n",
      " 11  PuAddress                    object \n",
      " 12  PuSuburb                     object \n",
      " 13  PuLat                        float64\n",
      " 14  PuLong                       float64\n",
      " 15  TargetVariable               object \n",
      " 16  target_2cls_Cancelled        int64  \n",
      " 17  target_2cls_Completed        int64  \n",
      " 18  target_2cls_ELSE             int64  \n",
      " 19  target_2cls_NoJob            int64  \n",
      " 20  target_4cls                  int64  \n",
      " 21  PuSuburbBins_Cancelled       int64  \n",
      " 22  PuSuburbBins_Completed       int64  \n",
      " 23  PuSuburbBins_ELSE            int64  \n",
      " 24  PuSuburbBins_NoJob           int64  \n",
      " 25  KNN_temp                     float64\n",
      " 26  PuLatLongKNN_Cancelled       float64\n",
      " 27  PuLatLongKNN_Completed       float64\n",
      " 28  PuLatLongKNN_ELSE            float64\n",
      " 29  PuLatLongKNN_NoJob           float64\n",
      " 30  OrderHour                    int64  \n",
      " 31  DayOfWeek                    int64  \n",
      " 32  OrderTimeDT                  float64\n",
      " 33  OrderTimeDT_Cancelled        float64\n",
      " 34  OrderTimeDT_Completed        float64\n",
      " 35  OrderTimeDT_ELSE             float64\n",
      " 36  OrderTimeDT_NoJob            float64\n",
      " 37  ConditionsBins_Cancelled     int64  \n",
      " 38  ConditionsBins_Completed     int64  \n",
      " 39  ConditionsBins_ELSE          int64  \n",
      " 40  ConditionsBins_NoJob         int64  \n",
      " 41  BookingisDispatch            int64  \n",
      " 42  DispatchFleetBins_Cancelled  int64  \n",
      " 43  DispatchFleetBins_Completed  int64  \n",
      " 44  DispatchFleetBins_ELSE       int64  \n",
      " 45  DispatchFleetBins_NoJob      int64  \n",
      " 46  BookingFleetBins_Cancelled   int64  \n",
      " 47  BookingFleetBins_Completed   int64  \n",
      " 48  BookingFleetBins_ELSE        int64  \n",
      " 49  BookingFleetBins_NoJob       int64  \n",
      " 50  BookingSourceBins_Cancelled  int64  \n",
      " 51  BookingSourceBins_Completed  int64  \n",
      " 52  BookingSourceBins_ELSE       int64  \n",
      " 53  BookingSourceBins_NoJob      int64  \n",
      "dtypes: float64(12), int64(33), object(9)\n",
      "memory usage: 1.2+ GB\n"
     ]
    }
   ],
   "source": [
    "data.info()"
   ]
  },
  {
   "cell_type": "code",
   "execution_count": 27,
   "metadata": {},
   "outputs": [],
   "source": [
    "data['HasCondition']=np.where(data['HasCondition'] == 'Yes',1,0)"
   ]
  },
  {
   "cell_type": "code",
   "execution_count": 30,
   "metadata": {},
   "outputs": [],
   "source": [
    "validation['HasCondition']=np.where(validation['HasCondition'] == 'Yes',1,0)"
   ]
  },
  {
   "cell_type": "code",
   "execution_count": 34,
   "metadata": {},
   "outputs": [],
   "source": [
    "data['IsAccountBooking']=np.where(data['IsAccountBooking'] == 'Yes',1,0)\n",
    "validation['IsAccountBooking']=np.where(validation['IsAccountBooking'] == 'Yes',1,0)"
   ]
  },
  {
   "cell_type": "code",
   "execution_count": 38,
   "metadata": {},
   "outputs": [],
   "source": [
    "data['BookingisDispatch']=np.where(data['BookingisDispatch'] == True,1,0)\n",
    "validation['BookingisDispatch']=np.where(validation['BookingisDispatch'] == True,1,0)"
   ]
  },
  {
   "cell_type": "code",
   "execution_count": 41,
   "metadata": {},
   "outputs": [],
   "source": [
    "final=data.to_csv('final.csv')"
   ]
  },
  {
   "cell_type": "code",
   "execution_count": 42,
   "metadata": {},
   "outputs": [],
   "source": [
    "final_val=validation.to_csv('final_val.csv')"
   ]
  },
  {
   "cell_type": "markdown",
   "metadata": {},
   "source": [
    "# 3. Model"
   ]
  },
  {
   "cell_type": "code",
   "execution_count": 43,
   "metadata": {},
   "outputs": [],
   "source": [
    "train = pd.read_csv('final.csv')"
   ]
  },
  {
   "cell_type": "code",
   "execution_count": 44,
   "metadata": {},
   "outputs": [],
   "source": [
    "validation = pd.read_csv('final_val.csv')"
   ]
  },
  {
   "cell_type": "code",
   "execution_count": 45,
   "metadata": {},
   "outputs": [],
   "source": [
    "train = train.iloc[:,1:]"
   ]
  },
  {
   "cell_type": "code",
   "execution_count": 46,
   "metadata": {},
   "outputs": [],
   "source": [
    "validation = validation.iloc[:,1:]"
   ]
  },
  {
   "cell_type": "code",
   "execution_count": 49,
   "metadata": {},
   "outputs": [
    {
     "data": {
      "text/plain": [
       "Index(['BookingID', 'BookingSource', 'Conditions', 'HasCondition',\n",
       "       'IsAccountBooking', 'CreatedDate', 'RequestedDate', 'BookingFleet',\n",
       "       'DispatchFleet', 'AreaNumber', 'PuPlace', 'PuAddress', 'PuSuburb',\n",
       "       'PuLat', 'PuLong', 'TargetVariable', 'target_2cls_Cancelled',\n",
       "       'target_2cls_Completed', 'target_2cls_ELSE', 'target_2cls_NoJob',\n",
       "       'target_4cls', 'PuSuburbBins_Cancelled', 'PuSuburbBins_Completed',\n",
       "       'PuSuburbBins_ELSE', 'PuSuburbBins_NoJob', 'KNN_temp',\n",
       "       'PuLatLongKNN_Cancelled', 'PuLatLongKNN_Completed', 'PuLatLongKNN_ELSE',\n",
       "       'PuLatLongKNN_NoJob', 'OrderHour', 'DayOfWeek', 'OrderTimeDT',\n",
       "       'OrderTimeDT_Cancelled', 'OrderTimeDT_Completed', 'OrderTimeDT_ELSE',\n",
       "       'OrderTimeDT_NoJob', 'ConditionsBins_Cancelled',\n",
       "       'ConditionsBins_Completed', 'ConditionsBins_ELSE',\n",
       "       'ConditionsBins_NoJob', 'BookingisDispatch',\n",
       "       'DispatchFleetBins_Cancelled', 'DispatchFleetBins_Completed',\n",
       "       'DispatchFleetBins_ELSE', 'DispatchFleetBins_NoJob',\n",
       "       'BookingFleetBins_Cancelled', 'BookingFleetBins_Completed',\n",
       "       'BookingFleetBins_ELSE', 'BookingFleetBins_NoJob',\n",
       "       'BookingSourceBins_Cancelled', 'BookingSourceBins_Completed',\n",
       "       'BookingSourceBins_ELSE', 'BookingSourceBins_NoJob'],\n",
       "      dtype='object')"
      ]
     },
     "execution_count": 49,
     "metadata": {},
     "output_type": "execute_result"
    }
   ],
   "source": [
    "train.columns"
   ]
  },
  {
   "cell_type": "code",
   "execution_count": 50,
   "metadata": {},
   "outputs": [],
   "source": [
    "mdl_cols = ['HasCondition','IsAccountBooking',  'PuSuburbBins_Cancelled', 'PuSuburbBins_Completed',\n",
    "       'PuSuburbBins_ELSE', 'PuSuburbBins_NoJob','PuLatLongKNN_Cancelled', 'PuLatLongKNN_Completed', 'PuLatLongKNN_ELSE',\n",
    "       'PuLatLongKNN_NoJob', 'OrderHour', 'DayOfWeek', \n",
    "       'OrderTimeDT_Cancelled', 'OrderTimeDT_Completed', 'OrderTimeDT_ELSE',\n",
    "       'OrderTimeDT_NoJob', 'ConditionsBins_Cancelled',\n",
    "       'ConditionsBins_Completed', 'ConditionsBins_ELSE',\n",
    "       'ConditionsBins_NoJob', 'BookingisDispatch',\n",
    "       'DispatchFleetBins_Cancelled', 'DispatchFleetBins_Completed',\n",
    "       'DispatchFleetBins_ELSE', 'DispatchFleetBins_NoJob',\n",
    "       'BookingFleetBins_Cancelled', 'BookingFleetBins_Completed',\n",
    "       'BookingFleetBins_ELSE', 'BookingFleetBins_NoJob',\n",
    "       'BookingSourceBins_Cancelled', 'BookingSourceBins_Completed',\n",
    "       'BookingSourceBins_ELSE', 'BookingSourceBins_NoJob']"
   ]
  },
  {
   "cell_type": "markdown",
   "metadata": {},
   "source": [
    "## 3.1 Logistic Regression"
   ]
  },
  {
   "cell_type": "code",
   "execution_count": 55,
   "metadata": {},
   "outputs": [
    {
     "data": {
      "text/plain": [
       "LogisticRegression(max_iter=10000, multi_class='multinomial')"
      ]
     },
     "execution_count": 55,
     "metadata": {},
     "output_type": "execute_result"
    }
   ],
   "source": [
    "#iteration少了会跑不出来\n",
    "logit = LogisticRegression(multi_class = 'multinomial',solver = 'lbfgs',max_iter=10000)\n",
    "logit.fit(train[mdl_cols],train['target_4cls'])\n"
   ]
  },
  {
   "cell_type": "code",
   "execution_count": 56,
   "metadata": {},
   "outputs": [
    {
     "data": {
      "text/plain": [
       "array([[5.28482996e-02, 7.94263367e-01, 1.50833827e-01, 2.05450674e-03],\n",
       "       [1.79960483e-01, 7.62046921e-01, 5.42583690e-02, 3.73422712e-03],\n",
       "       [8.29085807e-05, 9.99717246e-01, 1.94459488e-04, 5.38635234e-06],\n",
       "       ...,\n",
       "       [6.60516910e-02, 8.62477132e-01, 6.75843423e-02, 3.88683524e-03],\n",
       "       [5.34502885e-05, 9.99761188e-01, 1.80767377e-04, 4.59415042e-06],\n",
       "       [4.25016624e-01, 3.89610332e-01, 8.95877115e-02, 9.57853324e-02]])"
      ]
     },
     "execution_count": 56,
     "metadata": {},
     "output_type": "execute_result"
    }
   ],
   "source": [
    "logit.predict_proba(validation[mdl_cols])"
   ]
  },
  {
   "cell_type": "code",
   "execution_count": 57,
   "metadata": {},
   "outputs": [
    {
     "name": "stdout",
     "output_type": "stream",
     "text": [
      "Training accuracy:  0.796623\n",
      "validation accuracy:  0.7964966666666666\n",
      "Training f1_score:  0.3780155240372233\n",
      "validation f1_score:  0.37169026265638155\n"
     ]
    }
   ],
   "source": [
    "print('Training accuracy: ', accuracy_score(logit.predict(train[mdl_cols]), train['target_4cls']))\n",
    "print('validation accuracy: ', accuracy_score(logit.predict(validation[mdl_cols]), validation['target_4cls']))\n",
    "\n",
    "print('Training f1_score: ', f1_score(logit.predict(train[mdl_cols]), train['target_4cls'], average = 'macro'))\n",
    "print('validation f1_score: ', f1_score(logit.predict(validation[mdl_cols]), validation['target_4cls'], average = 'macro'))"
   ]
  },
  {
   "cell_type": "code",
   "execution_count": 58,
   "metadata": {},
   "outputs": [
    {
     "name": "stdout",
     "output_type": "stream",
     "text": [
      "Training accuracy of cancelled:  0.11667933333333333\n",
      "Training accuracy of completed:  0.7991076666666667\n",
      "Training accuracy of ELSE:  0.06815833333333333\n",
      "Training accuracy of No Job:  0.12262\n"
     ]
    }
   ],
   "source": [
    "#对于complete的准确率较高，其他很低\n",
    "print('Training accuracy of cancelled: ', accuracy_score(logit.predict(train[mdl_cols]), train['target_2cls_Cancelled']))\n",
    "print('Training accuracy of completed: ', accuracy_score(logit.predict(train[mdl_cols]), train['target_2cls_Completed']))\n",
    "print('Training accuracy of ELSE: ', accuracy_score(logit.predict(train[mdl_cols]), train['target_2cls_ELSE']))\n",
    "print('Training accuracy of No Job: ', accuracy_score(logit.predict(train[mdl_cols]), train['target_2cls_NoJob']))"
   ]
  },
  {
   "cell_type": "code",
   "execution_count": 59,
   "metadata": {},
   "outputs": [
    {
     "data": {
      "text/html": [
       "<div>\n",
       "<style scoped>\n",
       "    .dataframe tbody tr th:only-of-type {\n",
       "        vertical-align: middle;\n",
       "    }\n",
       "\n",
       "    .dataframe tbody tr th {\n",
       "        vertical-align: top;\n",
       "    }\n",
       "\n",
       "    .dataframe thead th {\n",
       "        text-align: right;\n",
       "    }\n",
       "</style>\n",
       "<table border=\"1\" class=\"dataframe\">\n",
       "  <thead>\n",
       "    <tr style=\"text-align: right;\">\n",
       "      <th></th>\n",
       "      <th>Cancelled</th>\n",
       "      <th>Completed</th>\n",
       "      <th>ELSE</th>\n",
       "      <th>NoJob</th>\n",
       "    </tr>\n",
       "  </thead>\n",
       "  <tbody>\n",
       "    <tr>\n",
       "      <th>Cancelled</th>\n",
       "      <td>1.000000</td>\n",
       "      <td>-0.891778</td>\n",
       "      <td>0.293560</td>\n",
       "      <td>0.152185</td>\n",
       "    </tr>\n",
       "    <tr>\n",
       "      <th>Completed</th>\n",
       "      <td>-0.891778</td>\n",
       "      <td>1.000000</td>\n",
       "      <td>-0.665105</td>\n",
       "      <td>-0.321358</td>\n",
       "    </tr>\n",
       "    <tr>\n",
       "      <th>ELSE</th>\n",
       "      <td>0.293560</td>\n",
       "      <td>-0.665105</td>\n",
       "      <td>1.000000</td>\n",
       "      <td>0.099803</td>\n",
       "    </tr>\n",
       "    <tr>\n",
       "      <th>NoJob</th>\n",
       "      <td>0.152185</td>\n",
       "      <td>-0.321358</td>\n",
       "      <td>0.099803</td>\n",
       "      <td>1.000000</td>\n",
       "    </tr>\n",
       "  </tbody>\n",
       "</table>\n",
       "</div>"
      ],
      "text/plain": [
       "           Cancelled  Completed      ELSE     NoJob\n",
       "Cancelled   1.000000  -0.891778  0.293560  0.152185\n",
       "Completed  -0.891778   1.000000 -0.665105 -0.321358\n",
       "ELSE        0.293560  -0.665105  1.000000  0.099803\n",
       "NoJob       0.152185  -0.321358  0.099803  1.000000"
      ]
     },
     "execution_count": 59,
     "metadata": {},
     "output_type": "execute_result"
    }
   ],
   "source": [
    "logit_proba = pd.DataFrame(data = logit.predict_proba(validation[mdl_cols]), columns = ['Cancelled','Completed','ELSE','NoJob'])\n",
    "logit_proba.corr()\n",
    "\n",
    "# 输入4个预测概率之间的 Pearson correlation，看之间的概率是否有相关性；\n",
    "# completed和cancelled有明显的负相关，和else也是，Nojob较低"
   ]
  },
  {
   "cell_type": "code",
   "execution_count": null,
   "metadata": {},
   "outputs": [],
   "source": [
    "#可以不用跑\n",
    "logit = LogisticRegression(multi_class = 'ovr') # 'one_vs_rest'\n",
    "logit.fit(train[mdl_cols],train['target_4cls'])"
   ]
  },
  {
   "cell_type": "code",
   "execution_count": null,
   "metadata": {},
   "outputs": [],
   "source": [
    "print('Training accuracy: ', accuracy_score(logit.predict(train[mdl_cols]), train['target_4cls']))\n",
    "print('Test accuracy: ', accuracy_score(logit.predict(validation[mdl_cols]), validation['target_4cls']))\n",
    "\n",
    "print('Training f1_score: ', f1_score(logit.predict(train[mdl_cols]), train['target_4cls'], average = 'macro'))\n",
    "print('Test f1_score: ', f1_score(logit.predict(validation[mdl_cols]), validation['target_4cls'], average = 'macro'))\n"
   ]
  },
  {
   "cell_type": "markdown",
   "metadata": {},
   "source": [
    "## 3.2 Random Forest"
   ]
  },
  {
   "cell_type": "code",
   "execution_count": 60,
   "metadata": {},
   "outputs": [],
   "source": [
    "from sklearn.ensemble import RandomForestClassifier"
   ]
  },
  {
   "cell_type": "code",
   "execution_count": null,
   "metadata": {},
   "outputs": [],
   "source": [
    "#跑不出来，可以试着跑下\n",
    "rf = RandomForestClassifier()\n",
    "cls = GridSearchCV(rf, {'n_estimators' : [50,200,500], 'max_depth' : [2,3]},cv=3) # min_samples_weight =0.05"
   ]
  },
  {
   "cell_type": "code",
   "execution_count": null,
   "metadata": {},
   "outputs": [],
   "source": [
    "#同上\n",
    "n = np.argmax(cls.cv_results_['mean_test_score'])\n",
    "print(cls.cv_results_['params'][n])\n",
    "\n",
    "rf = cls.best_estimator_ #保存最优的模型"
   ]
  },
  {
   "cell_type": "code",
   "execution_count": null,
   "metadata": {},
   "outputs": [],
   "source": []
  },
  {
   "cell_type": "code",
   "execution_count": 61,
   "metadata": {},
   "outputs": [
    {
     "data": {
      "text/plain": [
       "RandomForestClassifier(max_depth=2, n_estimators=500)"
      ]
     },
     "execution_count": 61,
     "metadata": {},
     "output_type": "execute_result"
    }
   ],
   "source": [
    "rf = RandomForestClassifier(n_estimators=500, max_depth=2) # min_samples_split\n",
    "\n",
    "rf.fit(train[mdl_cols],train['target_4cls'])"
   ]
  },
  {
   "cell_type": "code",
   "execution_count": 62,
   "metadata": {},
   "outputs": [
    {
     "name": "stdout",
     "output_type": "stream",
     "text": [
      "Training accuracy:  0.7763063333333333\n",
      "validation accuracy:  0.7755833333333333\n",
      "Training f1_score:  0.21851702005603763\n",
      "validation f1_score:  0.21840240296616134\n"
     ]
    }
   ],
   "source": [
    "print('Training accuracy: ', accuracy_score(rf.predict(train[mdl_cols]), train['target_4cls']))\n",
    "print('validation accuracy: ', accuracy_score(rf.predict(validation[mdl_cols]), validation['target_4cls']))\n",
    "\n",
    "print('Training f1_score: ', f1_score(rf.predict(train[mdl_cols]), train['target_4cls'], average = 'macro'))\n",
    "print('validation f1_score: ', f1_score(rf.predict(validation[mdl_cols]), validation['target_4cls'], average = 'macro'))"
   ]
  },
  {
   "cell_type": "markdown",
   "metadata": {},
   "source": [
    "## 3.3 XGBoost"
   ]
  },
  {
   "cell_type": "code",
   "execution_count": 63,
   "metadata": {},
   "outputs": [
    {
     "name": "stderr",
     "output_type": "stream",
     "text": [
      "/Users/Crystal/opt/anaconda3/lib/python3.8/site-packages/xgboost/sklearn.py:888: UserWarning: The use of label encoder in XGBClassifier is deprecated and will be removed in a future release. To remove this warning, do the following: 1) Pass option use_label_encoder=False when constructing XGBClassifier object; and 2) Encode your labels (y) as integers starting with 0, i.e. 0, 1, 2, ..., [num_class - 1].\n",
      "  warnings.warn(label_encoder_deprecation_msg, UserWarning)\n"
     ]
    },
    {
     "name": "stdout",
     "output_type": "stream",
     "text": [
      "[22:07:42] WARNING: /opt/concourse/worker/volumes/live/7a2b9f41-3287-451b-6691-43e9a6c0910f/volume/xgboost-split_1619728204606/work/src/learner.cc:541: \n",
      "Parameters: { min_samples_weight } might not be used.\n",
      "\n",
      "  This may not be accurate due to some parameters are only used in language bindings but\n",
      "  passed down to XGBoost core.  Or some parameters are not used but slip through this\n",
      "  verification. Please open an issue if you find above cases.\n",
      "\n",
      "\n",
      "[22:07:50] WARNING: /opt/concourse/worker/volumes/live/7a2b9f41-3287-451b-6691-43e9a6c0910f/volume/xgboost-split_1619728204606/work/src/learner.cc:1061: Starting in XGBoost 1.3.0, the default evaluation metric used with the objective 'multi:softprob' was changed from 'merror' to 'mlogloss'. Explicitly set eval_metric if you'd like to restore the old behavior.\n"
     ]
    },
    {
     "data": {
      "text/plain": [
       "XGBClassifier(base_score=0.5, booster='gbtree', colsample_bylevel=1,\n",
       "              colsample_bynode=1, colsample_bytree=1, gamma=0, gpu_id=-1,\n",
       "              importance_type='gain', interaction_constraints='',\n",
       "              learning_rate=0.300000012, max_delta_step=0, max_depth=2,\n",
       "              min_child_weight=1, min_samples_weight=0.05, missing=nan,\n",
       "              monotone_constraints='()', n_estimators=500, n_jobs=4,\n",
       "              num_parallel_tree=1, objective='multi:softprob', random_state=0,\n",
       "              reg_alpha=0, reg_lambda=1, scale_pos_weight=None, subsample=1,\n",
       "              tree_method='exact', validate_parameters=1, verbosity=None)"
      ]
     },
     "execution_count": 63,
     "metadata": {},
     "output_type": "execute_result"
    }
   ],
   "source": [
    "xgb = xgboost.XGBClassifier(n_estimators = 500, max_depth = 2, min_samples_weight = 0.05)\n",
    "xgb.fit(train[mdl_cols],train['target_4cls']) "
   ]
  },
  {
   "cell_type": "code",
   "execution_count": 64,
   "metadata": {},
   "outputs": [
    {
     "name": "stdout",
     "output_type": "stream",
     "text": [
      "Training accuracy:  0.8010453333333334\n",
      "Test accuracy:  0.8000166666666667\n",
      "Training f1_score:  0.38269267605660573\n",
      "Test f1_score:  0.37475828694234703\n"
     ]
    }
   ],
   "source": [
    "print('Training accuracy: ', accuracy_score(xgb.predict(train[mdl_cols]), train['target_4cls']))\n",
    "print('Test accuracy: ', accuracy_score(xgb.predict(validation[mdl_cols]), validation['target_4cls']))\n",
    "\n",
    "print('Training f1_score: ', f1_score(xgb.predict(train[mdl_cols]), train['target_4cls'], average = 'macro'))\n",
    "print('Test f1_score: ', f1_score(xgb.predict(validation[mdl_cols]), validation['target_4cls'], average = 'macro'))"
   ]
  },
  {
   "cell_type": "markdown",
   "metadata": {},
   "source": [
    "## 3.4 Naive Bayes"
   ]
  },
  {
   "cell_type": "code",
   "execution_count": 65,
   "metadata": {},
   "outputs": [
    {
     "data": {
      "text/plain": [
       "GaussianNB()"
      ]
     },
     "execution_count": 65,
     "metadata": {},
     "output_type": "execute_result"
    }
   ],
   "source": [
    "gnb = GaussianNB()\n",
    "gnb.fit(train[mdl_cols], train['target_4cls'])"
   ]
  },
  {
   "cell_type": "code",
   "execution_count": 66,
   "metadata": {},
   "outputs": [
    {
     "name": "stdout",
     "output_type": "stream",
     "text": [
      "Training accuracy:  0.46772633333333336\n",
      "Test accuracy:  0.46317\n",
      "Training f1_score:  0.3387349518060806\n",
      "Test f1_score:  0.3353384243400674\n"
     ]
    }
   ],
   "source": [
    "print('Training accuracy: ', accuracy_score(gnb.predict(train[mdl_cols]), train['target_4cls']))\n",
    "print('Test accuracy: ', accuracy_score(gnb.predict(validation[mdl_cols]), validation['target_4cls']))\n",
    "\n",
    "print('Training f1_score: ', f1_score(gnb.predict(train[mdl_cols]), train['target_4cls'], average = 'macro'))\n",
    "print('Test f1_score: ', f1_score(gnb.predict(validation[mdl_cols]), validation['target_4cls'], average = 'macro'))"
   ]
  },
  {
   "cell_type": "code",
   "execution_count": null,
   "metadata": {},
   "outputs": [],
   "source": [
    "#xgboost的accuracy最高 f1和logistic差不多"
   ]
  }
 ],
 "metadata": {
  "kernelspec": {
   "display_name": "Python 3",
   "language": "python",
   "name": "python3"
  },
  "language_info": {
   "codemirror_mode": {
    "name": "ipython",
    "version": 3
   },
   "file_extension": ".py",
   "mimetype": "text/x-python",
   "name": "python",
   "nbconvert_exporter": "python",
   "pygments_lexer": "ipython3",
   "version": "3.8.5"
  }
 },
 "nbformat": 4,
 "nbformat_minor": 4
}