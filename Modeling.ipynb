{
 "cells": [
  {
   "cell_type": "code",
   "execution_count": 6,
   "metadata": {},
   "outputs": [
    {
     "data": {
      "text/html": [
       "<style type='text/css'>\n",
       ".datatable table.frame { margin-bottom: 0; }\n",
       ".datatable table.frame thead { border-bottom: none; }\n",
       ".datatable table.frame tr.coltypes td {  color: #FFFFFF;  line-height: 6px;  padding: 0 0.5em;}\n",
       ".datatable .bool    { background: #DDDD99; }\n",
       ".datatable .object  { background: #565656; }\n",
       ".datatable .int     { background: #5D9E5D; }\n",
       ".datatable .float   { background: #4040CC; }\n",
       ".datatable .str     { background: #CC4040; }\n",
       ".datatable .row_index {  background: var(--jp-border-color3);  border-right: 1px solid var(--jp-border-color0);  color: var(--jp-ui-font-color3);  font-size: 9px;}\n",
       ".datatable .frame tr.coltypes .row_index {  background: var(--jp-border-color0);}\n",
       ".datatable th:nth-child(2) { padding-left: 12px; }\n",
       ".datatable .hellipsis {  color: var(--jp-cell-editor-border-color);}\n",
       ".datatable .vellipsis {  background: var(--jp-layout-color0);  color: var(--jp-cell-editor-border-color);}\n",
       ".datatable .na {  color: var(--jp-cell-editor-border-color);  font-size: 80%;}\n",
       ".datatable .footer { font-size: 9px; }\n",
       ".datatable .frame_dimensions {  background: var(--jp-border-color3);  border-top: 1px solid var(--jp-border-color0);  color: var(--jp-ui-font-color3);  display: inline-block;  opacity: 0.6;  padding: 1px 10px 1px 5px;}\n",
       "</style>\n"
      ],
      "text/plain": [
       "<IPython.core.display.HTML object>"
      ]
     },
     "metadata": {},
     "output_type": "display_data"
    }
   ],
   "source": [
    "# general packages\n",
    "import numpy as np\n",
    "import pandas as pd\n",
    "import datatable as dt"
   ]
  },
  {
   "cell_type": "markdown",
   "metadata": {},
   "source": [
    "## Data preposessing"
   ]
  },
  {
   "cell_type": "code",
   "execution_count": 2,
   "metadata": {},
   "outputs": [
    {
     "name": "stdout",
     "output_type": "stream",
     "text": [
      "Wall time: 0 ns\n"
     ]
    }
   ],
   "source": [
    "%%time\n",
    "#parse_dates = ['CreatedDate', 'RequestedDate', 'AccTime', 'PupTime', 'DelTime']\n",
    "#A = pd.read_csv('Booking_Dispatch_training_set.csv', parse_dates = parse_dates, \n",
    "#date_parser = lambda x: pd.to_datetime(x).strftime(\"%Y-%m-%d %H:%M:%S\"))\n",
    "#data_parsed = A.to_csv('data_parsed.csv')"
   ]
  },
  {
   "cell_type": "code",
   "execution_count": 26,
   "metadata": {},
   "outputs": [
    {
     "name": "stdout",
     "output_type": "stream",
     "text": [
      "Wall time: 4min 22s\n"
     ]
    }
   ],
   "source": [
    "%%time\n",
    "#parse_dates = ['CreatedDate', 'RequestedDate']\n",
    "#B = pd.read_csv('Booking_Dispatch_training_set.csv', parse_dates = parse_dates, \n",
    "#date_parser = lambda x: pd.to_datetime(x).strftime(\"%Y-%m-%d %H:%M:%S\"))\n",
    "#data_parsed = B.to_csv('val_data_parsed.csv')"
   ]
  },
  {
   "cell_type": "code",
   "execution_count": 7,
   "metadata": {},
   "outputs": [
    {
     "name": "stdout",
     "output_type": "stream",
     "text": [
      "Wall time: 3min 3s\n"
     ]
    }
   ],
   "source": [
    "%%time\n",
    "train_data_datatable = dt.fread('data_parsed.csv') \n",
    "data = train_data_datatable.to_pandas()\n",
    "data = data.iloc[:,1:]"
   ]
  },
  {
   "cell_type": "code",
   "execution_count": 27,
   "metadata": {},
   "outputs": [
    {
     "name": "stdout",
     "output_type": "stream",
     "text": [
      "Wall time: 2min 12s\n"
     ]
    }
   ],
   "source": [
    "%%time\n",
    "val_data_datatable = dt.fread('val_data_parsed.csv')\n",
    "val_data = val_data_datatable.to_pandas()\n",
    "val_data = val_data.iloc[:,1:]"
   ]
  },
  {
   "cell_type": "code",
   "execution_count": 28,
   "metadata": {},
   "outputs": [
    {
     "data": {
      "text/plain": [
       "(3000000, 37)"
      ]
     },
     "execution_count": 28,
     "metadata": {},
     "output_type": "execute_result"
    }
   ],
   "source": [
    "data.shape"
   ]
  },
  {
   "cell_type": "code",
   "execution_count": 29,
   "metadata": {},
   "outputs": [
    {
     "data": {
      "text/plain": [
       "(3000000, 37)"
      ]
     },
     "execution_count": 29,
     "metadata": {},
     "output_type": "execute_result"
    }
   ],
   "source": [
    "val_data.shape"
   ]
  },
  {
   "cell_type": "code",
   "execution_count": 30,
   "metadata": {},
   "outputs": [],
   "source": [
    "#subtract the features and target variable for modeling \n",
    "train_features = data[['BookingSource','Conditions',\n",
    "     'HasCondition','IsAccountBooking','CreatedDate','RequestedDate',\n",
    "     'BookingFleet','DispatchFleet','AreaNumber','PuPlace','PuAddress',\n",
    "     'PuSuburb','PuLat','PuLong','TargetVariable']]"
   ]
  },
  {
   "cell_type": "code",
   "execution_count": 31,
   "metadata": {},
   "outputs": [],
   "source": [
    "val_features = val_data[['BookingSource','Conditions',\n",
    "     'HasCondition','IsAccountBooking','CreatedDate','RequestedDate',\n",
    "     'BookingFleet','DispatchFleet','AreaNumber','PuPlace','PuAddress',\n",
    "     'PuSuburb','PuLat','PuLong','TargetVariable']]"
   ]
  },
  {
   "cell_type": "code",
   "execution_count": 34,
   "metadata": {},
   "outputs": [
    {
     "data": {
      "text/html": [
       "<div>\n",
       "<style scoped>\n",
       "    .dataframe tbody tr th:only-of-type {\n",
       "        vertical-align: middle;\n",
       "    }\n",
       "\n",
       "    .dataframe tbody tr th {\n",
       "        vertical-align: top;\n",
       "    }\n",
       "\n",
       "    .dataframe thead th {\n",
       "        text-align: right;\n",
       "    }\n",
       "</style>\n",
       "<table border=\"1\" class=\"dataframe\">\n",
       "  <thead>\n",
       "    <tr style=\"text-align: right;\">\n",
       "      <th></th>\n",
       "      <th>BookingSource</th>\n",
       "      <th>Conditions</th>\n",
       "      <th>HasCondition</th>\n",
       "      <th>IsAccountBooking</th>\n",
       "      <th>CreatedDate</th>\n",
       "      <th>RequestedDate</th>\n",
       "      <th>BookingFleet</th>\n",
       "      <th>DispatchFleet</th>\n",
       "      <th>AreaNumber</th>\n",
       "      <th>PuPlace</th>\n",
       "      <th>PuAddress</th>\n",
       "      <th>PuSuburb</th>\n",
       "      <th>PuLat</th>\n",
       "      <th>PuLong</th>\n",
       "      <th>TargetVariable</th>\n",
       "    </tr>\n",
       "  </thead>\n",
       "  <tbody>\n",
       "    <tr>\n",
       "      <th>0</th>\n",
       "      <td>TelOp</td>\n",
       "      <td>0</td>\n",
       "      <td>No</td>\n",
       "      <td>No</td>\n",
       "      <td>2019-04-11 10:36:55</td>\n",
       "      <td>2019-04-11 11:00:00</td>\n",
       "      <td>13cabs Sydney</td>\n",
       "      <td>13cabs Sydney</td>\n",
       "      <td>177</td>\n",
       "      <td>House</td>\n",
       "      <td>11 Stewart St</td>\n",
       "      <td>Randwick</td>\n",
       "      <td>-33.921022</td>\n",
       "      <td>151.244202</td>\n",
       "      <td>Completed</td>\n",
       "    </tr>\n",
       "    <tr>\n",
       "      <th>1</th>\n",
       "      <td>TelOp</td>\n",
       "      <td>0</td>\n",
       "      <td>No</td>\n",
       "      <td>No</td>\n",
       "      <td>2019-06-23 09:52:55</td>\n",
       "      <td>2019-06-23 09:52:55</td>\n",
       "      <td>13cabs Sydney</td>\n",
       "      <td>13cabs Sydney</td>\n",
       "      <td>111</td>\n",
       "      <td></td>\n",
       "      <td>145 Alfred Rd</td>\n",
       "      <td>Narraweena</td>\n",
       "      <td>-33.755931</td>\n",
       "      <td>151.273028</td>\n",
       "      <td>Cancelled</td>\n",
       "    </tr>\n",
       "    <tr>\n",
       "      <th>2</th>\n",
       "      <td>Internet</td>\n",
       "      <td>0</td>\n",
       "      <td>No</td>\n",
       "      <td>No</td>\n",
       "      <td>2019-12-01 00:14:02</td>\n",
       "      <td>2019-12-01 00:14:02</td>\n",
       "      <td>13cabs Sydney</td>\n",
       "      <td>13cabs Sydney</td>\n",
       "      <td>92</td>\n",
       "      <td></td>\n",
       "      <td>284 Birrell Street</td>\n",
       "      <td>Bondi</td>\n",
       "      <td>-33.897201</td>\n",
       "      <td>151.261205</td>\n",
       "      <td>Completed</td>\n",
       "    </tr>\n",
       "    <tr>\n",
       "      <th>3</th>\n",
       "      <td>StratumIVR</td>\n",
       "      <td>0</td>\n",
       "      <td>No</td>\n",
       "      <td>No</td>\n",
       "      <td>2019-09-12 09:07:03</td>\n",
       "      <td>2019-09-12 09:07:04</td>\n",
       "      <td>13cabs Sydney</td>\n",
       "      <td>13cabs Sydney</td>\n",
       "      <td>182</td>\n",
       "      <td></td>\n",
       "      <td>127-131 Cook Rd</td>\n",
       "      <td>Centennial Park</td>\n",
       "      <td>-33.895716</td>\n",
       "      <td>151.228609</td>\n",
       "      <td>Completed</td>\n",
       "    </tr>\n",
       "    <tr>\n",
       "      <th>4</th>\n",
       "      <td>Internet</td>\n",
       "      <td>0</td>\n",
       "      <td>No</td>\n",
       "      <td>No</td>\n",
       "      <td>2019-02-21 21:37:04</td>\n",
       "      <td>2019-02-21 21:37:04</td>\n",
       "      <td>13cabs Sydney</td>\n",
       "      <td>13cabs Sydney</td>\n",
       "      <td>4</td>\n",
       "      <td></td>\n",
       "      <td>Unit 87/5010 Macquarie St</td>\n",
       "      <td>Sydney</td>\n",
       "      <td>-33.859737</td>\n",
       "      <td>151.213307</td>\n",
       "      <td>Cancelled</td>\n",
       "    </tr>\n",
       "  </tbody>\n",
       "</table>\n",
       "</div>"
      ],
      "text/plain": [
       "  BookingSource  Conditions HasCondition IsAccountBooking  \\\n",
       "0         TelOp           0           No               No   \n",
       "1         TelOp           0           No               No   \n",
       "2      Internet           0           No               No   \n",
       "3    StratumIVR           0           No               No   \n",
       "4      Internet           0           No               No   \n",
       "\n",
       "           CreatedDate        RequestedDate   BookingFleet  DispatchFleet  \\\n",
       "0  2019-04-11 10:36:55  2019-04-11 11:00:00  13cabs Sydney  13cabs Sydney   \n",
       "1  2019-06-23 09:52:55  2019-06-23 09:52:55  13cabs Sydney  13cabs Sydney   \n",
       "2  2019-12-01 00:14:02  2019-12-01 00:14:02  13cabs Sydney  13cabs Sydney   \n",
       "3  2019-09-12 09:07:03  2019-09-12 09:07:04  13cabs Sydney  13cabs Sydney   \n",
       "4  2019-02-21 21:37:04  2019-02-21 21:37:04  13cabs Sydney  13cabs Sydney   \n",
       "\n",
       "   AreaNumber PuPlace                  PuAddress         PuSuburb      PuLat  \\\n",
       "0         177   House              11 Stewart St         Randwick -33.921022   \n",
       "1         111                      145 Alfred Rd       Narraweena -33.755931   \n",
       "2          92                 284 Birrell Street            Bondi -33.897201   \n",
       "3         182                    127-131 Cook Rd  Centennial Park -33.895716   \n",
       "4           4          Unit 87/5010 Macquarie St           Sydney -33.859737   \n",
       "\n",
       "       PuLong TargetVariable  \n",
       "0  151.244202      Completed  \n",
       "1  151.273028      Cancelled  \n",
       "2  151.261205      Completed  \n",
       "3  151.228609      Completed  \n",
       "4  151.213307      Cancelled  "
      ]
     },
     "execution_count": 34,
     "metadata": {},
     "output_type": "execute_result"
    }
   ],
   "source": [
    "train_features.head()"
   ]
  },
  {
   "cell_type": "code",
   "execution_count": 35,
   "metadata": {},
   "outputs": [
    {
     "data": {
      "text/html": [
       "<div>\n",
       "<style scoped>\n",
       "    .dataframe tbody tr th:only-of-type {\n",
       "        vertical-align: middle;\n",
       "    }\n",
       "\n",
       "    .dataframe tbody tr th {\n",
       "        vertical-align: top;\n",
       "    }\n",
       "\n",
       "    .dataframe thead th {\n",
       "        text-align: right;\n",
       "    }\n",
       "</style>\n",
       "<table border=\"1\" class=\"dataframe\">\n",
       "  <thead>\n",
       "    <tr style=\"text-align: right;\">\n",
       "      <th></th>\n",
       "      <th>BookingSource</th>\n",
       "      <th>Conditions</th>\n",
       "      <th>HasCondition</th>\n",
       "      <th>IsAccountBooking</th>\n",
       "      <th>CreatedDate</th>\n",
       "      <th>RequestedDate</th>\n",
       "      <th>BookingFleet</th>\n",
       "      <th>DispatchFleet</th>\n",
       "      <th>AreaNumber</th>\n",
       "      <th>PuPlace</th>\n",
       "      <th>PuAddress</th>\n",
       "      <th>PuSuburb</th>\n",
       "      <th>PuLat</th>\n",
       "      <th>PuLong</th>\n",
       "      <th>TargetVariable</th>\n",
       "    </tr>\n",
       "  </thead>\n",
       "  <tbody>\n",
       "    <tr>\n",
       "      <th>0</th>\n",
       "      <td>TelOp</td>\n",
       "      <td>0</td>\n",
       "      <td>No</td>\n",
       "      <td>No</td>\n",
       "      <td>2019-04-11 10:36:55</td>\n",
       "      <td>2019-04-11 11:00:00</td>\n",
       "      <td>13cabs Sydney</td>\n",
       "      <td>13cabs Sydney</td>\n",
       "      <td>177</td>\n",
       "      <td>House</td>\n",
       "      <td>11 Stewart St</td>\n",
       "      <td>Randwick</td>\n",
       "      <td>-33.921022</td>\n",
       "      <td>151.244202</td>\n",
       "      <td>Completed</td>\n",
       "    </tr>\n",
       "    <tr>\n",
       "      <th>1</th>\n",
       "      <td>TelOp</td>\n",
       "      <td>0</td>\n",
       "      <td>No</td>\n",
       "      <td>No</td>\n",
       "      <td>2019-06-23 09:52:55</td>\n",
       "      <td>2019-06-23 09:52:55</td>\n",
       "      <td>13cabs Sydney</td>\n",
       "      <td>13cabs Sydney</td>\n",
       "      <td>111</td>\n",
       "      <td></td>\n",
       "      <td>145 Alfred Rd</td>\n",
       "      <td>Narraweena</td>\n",
       "      <td>-33.755931</td>\n",
       "      <td>151.273028</td>\n",
       "      <td>Cancelled</td>\n",
       "    </tr>\n",
       "    <tr>\n",
       "      <th>2</th>\n",
       "      <td>Internet</td>\n",
       "      <td>0</td>\n",
       "      <td>No</td>\n",
       "      <td>No</td>\n",
       "      <td>2019-12-01 00:14:02</td>\n",
       "      <td>2019-12-01 00:14:02</td>\n",
       "      <td>13cabs Sydney</td>\n",
       "      <td>13cabs Sydney</td>\n",
       "      <td>92</td>\n",
       "      <td></td>\n",
       "      <td>284 Birrell Street</td>\n",
       "      <td>Bondi</td>\n",
       "      <td>-33.897201</td>\n",
       "      <td>151.261205</td>\n",
       "      <td>Completed</td>\n",
       "    </tr>\n",
       "    <tr>\n",
       "      <th>3</th>\n",
       "      <td>StratumIVR</td>\n",
       "      <td>0</td>\n",
       "      <td>No</td>\n",
       "      <td>No</td>\n",
       "      <td>2019-09-12 09:07:03</td>\n",
       "      <td>2019-09-12 09:07:04</td>\n",
       "      <td>13cabs Sydney</td>\n",
       "      <td>13cabs Sydney</td>\n",
       "      <td>182</td>\n",
       "      <td></td>\n",
       "      <td>127-131 Cook Rd</td>\n",
       "      <td>Centennial Park</td>\n",
       "      <td>-33.895716</td>\n",
       "      <td>151.228609</td>\n",
       "      <td>Completed</td>\n",
       "    </tr>\n",
       "    <tr>\n",
       "      <th>4</th>\n",
       "      <td>Internet</td>\n",
       "      <td>0</td>\n",
       "      <td>No</td>\n",
       "      <td>No</td>\n",
       "      <td>2019-02-21 21:37:04</td>\n",
       "      <td>2019-02-21 21:37:04</td>\n",
       "      <td>13cabs Sydney</td>\n",
       "      <td>13cabs Sydney</td>\n",
       "      <td>4</td>\n",
       "      <td></td>\n",
       "      <td>Unit 87/5010 Macquarie St</td>\n",
       "      <td>Sydney</td>\n",
       "      <td>-33.859737</td>\n",
       "      <td>151.213307</td>\n",
       "      <td>Cancelled</td>\n",
       "    </tr>\n",
       "  </tbody>\n",
       "</table>\n",
       "</div>"
      ],
      "text/plain": [
       "  BookingSource  Conditions HasCondition IsAccountBooking  \\\n",
       "0         TelOp           0           No               No   \n",
       "1         TelOp           0           No               No   \n",
       "2      Internet           0           No               No   \n",
       "3    StratumIVR           0           No               No   \n",
       "4      Internet           0           No               No   \n",
       "\n",
       "           CreatedDate        RequestedDate   BookingFleet  DispatchFleet  \\\n",
       "0  2019-04-11 10:36:55  2019-04-11 11:00:00  13cabs Sydney  13cabs Sydney   \n",
       "1  2019-06-23 09:52:55  2019-06-23 09:52:55  13cabs Sydney  13cabs Sydney   \n",
       "2  2019-12-01 00:14:02  2019-12-01 00:14:02  13cabs Sydney  13cabs Sydney   \n",
       "3  2019-09-12 09:07:03  2019-09-12 09:07:04  13cabs Sydney  13cabs Sydney   \n",
       "4  2019-02-21 21:37:04  2019-02-21 21:37:04  13cabs Sydney  13cabs Sydney   \n",
       "\n",
       "   AreaNumber PuPlace                  PuAddress         PuSuburb      PuLat  \\\n",
       "0         177   House              11 Stewart St         Randwick -33.921022   \n",
       "1         111                      145 Alfred Rd       Narraweena -33.755931   \n",
       "2          92                 284 Birrell Street            Bondi -33.897201   \n",
       "3         182                    127-131 Cook Rd  Centennial Park -33.895716   \n",
       "4           4          Unit 87/5010 Macquarie St           Sydney -33.859737   \n",
       "\n",
       "       PuLong TargetVariable  \n",
       "0  151.244202      Completed  \n",
       "1  151.273028      Cancelled  \n",
       "2  151.261205      Completed  \n",
       "3  151.228609      Completed  \n",
       "4  151.213307      Cancelled  "
      ]
     },
     "execution_count": 35,
     "metadata": {},
     "output_type": "execute_result"
    }
   ],
   "source": [
    "val_features.head()"
   ]
  },
  {
   "cell_type": "code",
   "execution_count": 38,
   "metadata": {},
   "outputs": [],
   "source": [
    "#concatenate training data and validation data for feature engineering\n",
    "features = pd.concat([train_features, val_features], axis=0)"
   ]
  },
  {
   "cell_type": "code",
   "execution_count": 40,
   "metadata": {},
   "outputs": [
    {
     "data": {
      "text/html": [
       "<div>\n",
       "<style scoped>\n",
       "    .dataframe tbody tr th:only-of-type {\n",
       "        vertical-align: middle;\n",
       "    }\n",
       "\n",
       "    .dataframe tbody tr th {\n",
       "        vertical-align: top;\n",
       "    }\n",
       "\n",
       "    .dataframe thead th {\n",
       "        text-align: right;\n",
       "    }\n",
       "</style>\n",
       "<table border=\"1\" class=\"dataframe\">\n",
       "  <thead>\n",
       "    <tr style=\"text-align: right;\">\n",
       "      <th></th>\n",
       "      <th>BookingSource</th>\n",
       "      <th>Conditions</th>\n",
       "      <th>HasCondition</th>\n",
       "      <th>IsAccountBooking</th>\n",
       "      <th>CreatedDate</th>\n",
       "      <th>RequestedDate</th>\n",
       "      <th>BookingFleet</th>\n",
       "      <th>DispatchFleet</th>\n",
       "      <th>AreaNumber</th>\n",
       "      <th>PuPlace</th>\n",
       "      <th>PuAddress</th>\n",
       "      <th>PuSuburb</th>\n",
       "      <th>PuLat</th>\n",
       "      <th>PuLong</th>\n",
       "      <th>TargetVariable</th>\n",
       "    </tr>\n",
       "  </thead>\n",
       "  <tbody>\n",
       "    <tr>\n",
       "      <th>0</th>\n",
       "      <td>TelOp</td>\n",
       "      <td>0</td>\n",
       "      <td>No</td>\n",
       "      <td>No</td>\n",
       "      <td>2019-04-11 10:36:55</td>\n",
       "      <td>2019-04-11 11:00:00</td>\n",
       "      <td>13cabs Sydney</td>\n",
       "      <td>13cabs Sydney</td>\n",
       "      <td>177</td>\n",
       "      <td>House</td>\n",
       "      <td>11 Stewart St</td>\n",
       "      <td>Randwick</td>\n",
       "      <td>-33.921022</td>\n",
       "      <td>151.244202</td>\n",
       "      <td>Completed</td>\n",
       "    </tr>\n",
       "    <tr>\n",
       "      <th>1</th>\n",
       "      <td>TelOp</td>\n",
       "      <td>0</td>\n",
       "      <td>No</td>\n",
       "      <td>No</td>\n",
       "      <td>2019-06-23 09:52:55</td>\n",
       "      <td>2019-06-23 09:52:55</td>\n",
       "      <td>13cabs Sydney</td>\n",
       "      <td>13cabs Sydney</td>\n",
       "      <td>111</td>\n",
       "      <td></td>\n",
       "      <td>145 Alfred Rd</td>\n",
       "      <td>Narraweena</td>\n",
       "      <td>-33.755931</td>\n",
       "      <td>151.273028</td>\n",
       "      <td>Cancelled</td>\n",
       "    </tr>\n",
       "    <tr>\n",
       "      <th>2</th>\n",
       "      <td>Internet</td>\n",
       "      <td>0</td>\n",
       "      <td>No</td>\n",
       "      <td>No</td>\n",
       "      <td>2019-12-01 00:14:02</td>\n",
       "      <td>2019-12-01 00:14:02</td>\n",
       "      <td>13cabs Sydney</td>\n",
       "      <td>13cabs Sydney</td>\n",
       "      <td>92</td>\n",
       "      <td></td>\n",
       "      <td>284 Birrell Street</td>\n",
       "      <td>Bondi</td>\n",
       "      <td>-33.897201</td>\n",
       "      <td>151.261205</td>\n",
       "      <td>Completed</td>\n",
       "    </tr>\n",
       "    <tr>\n",
       "      <th>3</th>\n",
       "      <td>StratumIVR</td>\n",
       "      <td>0</td>\n",
       "      <td>No</td>\n",
       "      <td>No</td>\n",
       "      <td>2019-09-12 09:07:03</td>\n",
       "      <td>2019-09-12 09:07:04</td>\n",
       "      <td>13cabs Sydney</td>\n",
       "      <td>13cabs Sydney</td>\n",
       "      <td>182</td>\n",
       "      <td></td>\n",
       "      <td>127-131 Cook Rd</td>\n",
       "      <td>Centennial Park</td>\n",
       "      <td>-33.895716</td>\n",
       "      <td>151.228609</td>\n",
       "      <td>Completed</td>\n",
       "    </tr>\n",
       "    <tr>\n",
       "      <th>4</th>\n",
       "      <td>Internet</td>\n",
       "      <td>0</td>\n",
       "      <td>No</td>\n",
       "      <td>No</td>\n",
       "      <td>2019-02-21 21:37:04</td>\n",
       "      <td>2019-02-21 21:37:04</td>\n",
       "      <td>13cabs Sydney</td>\n",
       "      <td>13cabs Sydney</td>\n",
       "      <td>4</td>\n",
       "      <td></td>\n",
       "      <td>Unit 87/5010 Macquarie St</td>\n",
       "      <td>Sydney</td>\n",
       "      <td>-33.859737</td>\n",
       "      <td>151.213307</td>\n",
       "      <td>Cancelled</td>\n",
       "    </tr>\n",
       "  </tbody>\n",
       "</table>\n",
       "</div>"
      ],
      "text/plain": [
       "  BookingSource  Conditions HasCondition IsAccountBooking  \\\n",
       "0         TelOp           0           No               No   \n",
       "1         TelOp           0           No               No   \n",
       "2      Internet           0           No               No   \n",
       "3    StratumIVR           0           No               No   \n",
       "4      Internet           0           No               No   \n",
       "\n",
       "           CreatedDate        RequestedDate   BookingFleet  DispatchFleet  \\\n",
       "0  2019-04-11 10:36:55  2019-04-11 11:00:00  13cabs Sydney  13cabs Sydney   \n",
       "1  2019-06-23 09:52:55  2019-06-23 09:52:55  13cabs Sydney  13cabs Sydney   \n",
       "2  2019-12-01 00:14:02  2019-12-01 00:14:02  13cabs Sydney  13cabs Sydney   \n",
       "3  2019-09-12 09:07:03  2019-09-12 09:07:04  13cabs Sydney  13cabs Sydney   \n",
       "4  2019-02-21 21:37:04  2019-02-21 21:37:04  13cabs Sydney  13cabs Sydney   \n",
       "\n",
       "   AreaNumber PuPlace                  PuAddress         PuSuburb      PuLat  \\\n",
       "0         177   House              11 Stewart St         Randwick -33.921022   \n",
       "1         111                      145 Alfred Rd       Narraweena -33.755931   \n",
       "2          92                 284 Birrell Street            Bondi -33.897201   \n",
       "3         182                    127-131 Cook Rd  Centennial Park -33.895716   \n",
       "4           4          Unit 87/5010 Macquarie St           Sydney -33.859737   \n",
       "\n",
       "       PuLong TargetVariable  \n",
       "0  151.244202      Completed  \n",
       "1  151.273028      Cancelled  \n",
       "2  151.261205      Completed  \n",
       "3  151.228609      Completed  \n",
       "4  151.213307      Cancelled  "
      ]
     },
     "execution_count": 40,
     "metadata": {},
     "output_type": "execute_result"
    }
   ],
   "source": [
    "features.head()"
   ]
  },
  {
   "cell_type": "code",
   "execution_count": 41,
   "metadata": {},
   "outputs": [
    {
     "data": {
      "text/plain": [
       "BookingSource        object\n",
       "Conditions            int64\n",
       "HasCondition         object\n",
       "IsAccountBooking     object\n",
       "CreatedDate          object\n",
       "RequestedDate        object\n",
       "BookingFleet         object\n",
       "DispatchFleet        object\n",
       "AreaNumber            int32\n",
       "PuPlace              object\n",
       "PuAddress            object\n",
       "PuSuburb             object\n",
       "PuLat               float64\n",
       "PuLong              float64\n",
       "TargetVariable       object\n",
       "dtype: object"
      ]
     },
     "execution_count": 41,
     "metadata": {},
     "output_type": "execute_result"
    }
   ],
   "source": [
    "# check datatypes\n",
    "features.dtypes"
   ]
  },
  {
   "cell_type": "code",
   "execution_count": 48,
   "metadata": {},
   "outputs": [
    {
     "data": {
      "text/html": [
       "<div>\n",
       "<style scoped>\n",
       "    .dataframe tbody tr th:only-of-type {\n",
       "        vertical-align: middle;\n",
       "    }\n",
       "\n",
       "    .dataframe tbody tr th {\n",
       "        vertical-align: top;\n",
       "    }\n",
       "\n",
       "    .dataframe thead th {\n",
       "        text-align: right;\n",
       "    }\n",
       "</style>\n",
       "<table border=\"1\" class=\"dataframe\">\n",
       "  <thead>\n",
       "    <tr style=\"text-align: right;\">\n",
       "      <th></th>\n",
       "      <th>unique_values</th>\n",
       "      <th>counts</th>\n",
       "    </tr>\n",
       "  </thead>\n",
       "  <tbody>\n",
       "    <tr>\n",
       "      <th>0</th>\n",
       "      <td>0</td>\n",
       "      <td>2240288</td>\n",
       "    </tr>\n",
       "    <tr>\n",
       "      <th>1</th>\n",
       "      <td>4194304</td>\n",
       "      <td>304956</td>\n",
       "    </tr>\n",
       "    <tr>\n",
       "      <th>2</th>\n",
       "      <td>64</td>\n",
       "      <td>101869</td>\n",
       "    </tr>\n",
       "    <tr>\n",
       "      <th>3</th>\n",
       "      <td>262144</td>\n",
       "      <td>88487</td>\n",
       "    </tr>\n",
       "    <tr>\n",
       "      <th>4</th>\n",
       "      <td>16777216</td>\n",
       "      <td>38880</td>\n",
       "    </tr>\n",
       "    <tr>\n",
       "      <th>...</th>\n",
       "      <td>...</td>\n",
       "      <td>...</td>\n",
       "    </tr>\n",
       "    <tr>\n",
       "      <th>375</th>\n",
       "      <td>537133056</td>\n",
       "      <td>1</td>\n",
       "    </tr>\n",
       "    <tr>\n",
       "      <th>376</th>\n",
       "      <td>604012544</td>\n",
       "      <td>1</td>\n",
       "    </tr>\n",
       "    <tr>\n",
       "      <th>377</th>\n",
       "      <td>17196908544</td>\n",
       "      <td>1</td>\n",
       "    </tr>\n",
       "    <tr>\n",
       "      <th>378</th>\n",
       "      <td>262152</td>\n",
       "      <td>1</td>\n",
       "    </tr>\n",
       "    <tr>\n",
       "      <th>379</th>\n",
       "      <td>4195392</td>\n",
       "      <td>1</td>\n",
       "    </tr>\n",
       "  </tbody>\n",
       "</table>\n",
       "<p>380 rows × 2 columns</p>\n",
       "</div>"
      ],
      "text/plain": [
       "     unique_values   counts\n",
       "0                0  2240288\n",
       "1          4194304   304956\n",
       "2               64   101869\n",
       "3           262144    88487\n",
       "4         16777216    38880\n",
       "..             ...      ...\n",
       "375      537133056        1\n",
       "376      604012544        1\n",
       "377    17196908544        1\n",
       "378         262152        1\n",
       "379        4195392        1\n",
       "\n",
       "[380 rows x 2 columns]"
      ]
     },
     "execution_count": 48,
     "metadata": {},
     "output_type": "execute_result"
    }
   ],
   "source": [
    "#BookingSource variable\n",
    "Conditions_count = data['Conditions'].value_counts().rename_axis('unique_values').reset_index(name='counts')\n",
    "Conditions_count"
   ]
  },
  {
   "cell_type": "code",
   "execution_count": 50,
   "metadata": {},
   "outputs": [],
   "source": [
    "feature1 = features"
   ]
  },
  {
   "cell_type": "markdown",
   "metadata": {},
   "source": [
    "## Feature engineering"
   ]
  },
  {
   "cell_type": "code",
   "execution_count": null,
   "metadata": {},
   "outputs": [],
   "source": [
    "# BookingSource \n",
    "dummies = pd.get_dummies(features1['BookingSource'], drop_first=False)\n",
    "feature1 = feature1.join(dummies)\n",
    "feature1 = feature1.drop('room_type', axis= 1)"
   ]
  },
  {
   "cell_type": "code",
   "execution_count": null,
   "metadata": {},
   "outputs": [],
   "source": []
  },
  {
   "cell_type": "code",
   "execution_count": null,
   "metadata": {},
   "outputs": [],
   "source": []
  },
  {
   "cell_type": "markdown",
   "metadata": {},
   "source": [
    "## Modeling"
   ]
  },
  {
   "cell_type": "code",
   "execution_count": null,
   "metadata": {},
   "outputs": [],
   "source": []
  },
  {
   "cell_type": "code",
   "execution_count": null,
   "metadata": {},
   "outputs": [],
   "source": []
  },
  {
   "cell_type": "code",
   "execution_count": null,
   "metadata": {},
   "outputs": [],
   "source": []
  },
  {
   "cell_type": "code",
   "execution_count": null,
   "metadata": {},
   "outputs": [],
   "source": []
  }
 ],
 "metadata": {
  "jupytext": {
   "formats": "ipynb,py:light"
  },
  "kernelspec": {
   "display_name": "Python 3",
   "language": "python",
   "name": "python3"
  },
  "language_info": {
   "codemirror_mode": {
    "name": "ipython",
    "version": 3
   },
   "file_extension": ".py",
   "mimetype": "text/x-python",
   "name": "python",
   "nbconvert_exporter": "python",
   "pygments_lexer": "ipython3",
   "version": "3.7.7"
  }
 },
 "nbformat": 4,
 "nbformat_minor": 4
}