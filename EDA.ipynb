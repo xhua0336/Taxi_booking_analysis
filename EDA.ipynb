{
 "cells": [
  {
   "cell_type": "code",
   "execution_count": 1,
   "metadata": {},
   "outputs": [
    {
     "data": {
      "text/html": [
       "<style type='text/css'>\n",
       ".datatable table.frame { margin-bottom: 0; }\n",
       ".datatable table.frame thead { border-bottom: none; }\n",
       ".datatable table.frame tr.coltypes td {  color: #FFFFFF;  line-height: 6px;  padding: 0 0.5em;}\n",
       ".datatable .bool    { background: #DDDD99; }\n",
       ".datatable .object  { background: #565656; }\n",
       ".datatable .int     { background: #5D9E5D; }\n",
       ".datatable .float   { background: #4040CC; }\n",
       ".datatable .str     { background: #CC4040; }\n",
       ".datatable .row_index {  background: var(--jp-border-color3);  border-right: 1px solid var(--jp-border-color0);  color: var(--jp-ui-font-color3);  font-size: 9px;}\n",
       ".datatable .frame tr.coltypes .row_index {  background: var(--jp-border-color0);}\n",
       ".datatable th:nth-child(2) { padding-left: 12px; }\n",
       ".datatable .hellipsis {  color: var(--jp-cell-editor-border-color);}\n",
       ".datatable .vellipsis {  background: var(--jp-layout-color0);  color: var(--jp-cell-editor-border-color);}\n",
       ".datatable .na {  color: var(--jp-cell-editor-border-color);  font-size: 80%;}\n",
       ".datatable .footer { font-size: 9px; }\n",
       ".datatable .frame_dimensions {  background: var(--jp-border-color3);  border-top: 1px solid var(--jp-border-color0);  color: var(--jp-ui-font-color3);  display: inline-block;  opacity: 0.6;  padding: 1px 10px 1px 5px;}\n",
       "</style>\n"
      ],
      "text/plain": [
       "<IPython.core.display.HTML object>"
      ]
     },
     "metadata": {},
     "output_type": "display_data"
    }
   ],
   "source": [
    "# numpy\n",
    "import numpy as np\n",
    "\n",
    "# pandas\n",
    "import pandas as pd\n",
    "pd.set_option('display.max_rows', None)\n",
    "pd.set_option('display.max_columns', None)\n",
    "\n",
    "# plotting\n",
    "import json\n",
    "import matplotlib.pyplot as plt\n",
    "import seaborn as sns\n",
    "colorMap = sns.light_palette(\"blue\", as_cmap=True)\n",
    "from haversine import haversine, Unit\n",
    "\n",
    "#data reader\n",
    "import dabl\n",
    "import datatable as dt\n",
    "\n",
    "# system\n",
    "import warnings\n",
    "warnings.filterwarnings('ignore')"
   ]
  },
  {
   "cell_type": "markdown",
   "metadata": {},
   "source": [
    "#  Exploratory data analysis"
   ]
  },
  {
   "cell_type": "code",
   "execution_count": 2,
   "metadata": {},
   "outputs": [
    {
     "name": "stdout",
     "output_type": "stream",
     "text": [
      "Wall time: 0 ns\n"
     ]
    }
   ],
   "source": [
    "%%time\n",
    "#parse_dates = ['CreatedDate', 'RequestedDate', 'AccTime', 'PupTime', 'DelTime']\n",
    "#A = pd.read_csv('Booking_Dispatch_training_set.csv', parse_dates = parse_dates, \n",
    "#date_parser = lambda x: pd.to_datetime(x).strftime(\"%Y-%m-%d %H:%M:%S\"))\n",
    "#data_parsed = A.to_csv('data_parsed.csv')"
   ]
  },
  {
   "cell_type": "code",
   "execution_count": 3,
   "metadata": {},
   "outputs": [
    {
     "name": "stdout",
     "output_type": "stream",
     "text": [
      "Wall time: 2min 6s\n"
     ]
    }
   ],
   "source": [
    "%%time\n",
    "train_data_datatable = dt.fread('data_parsed.csv')\n",
    "data = train_data_datatable.to_pandas()\n",
    "data = data.iloc[:,1:]"
   ]
  },
  {
   "cell_type": "code",
   "execution_count": 4,
   "metadata": {},
   "outputs": [
    {
     "data": {
      "text/plain": [
       "(3000000, 37)"
      ]
     },
     "execution_count": 4,
     "metadata": {},
     "output_type": "execute_result"
    }
   ],
   "source": [
    "data.shape"
   ]
  },
  {
   "cell_type": "code",
   "execution_count": 5,
   "metadata": {},
   "outputs": [
    {
     "data": {
      "text/html": [
       "<div>\n",
       "<style scoped>\n",
       "    .dataframe tbody tr th:only-of-type {\n",
       "        vertical-align: middle;\n",
       "    }\n",
       "\n",
       "    .dataframe tbody tr th {\n",
       "        vertical-align: top;\n",
       "    }\n",
       "\n",
       "    .dataframe thead th {\n",
       "        text-align: right;\n",
       "    }\n",
       "</style>\n",
       "<table border=\"1\" class=\"dataframe\">\n",
       "  <thead>\n",
       "    <tr style=\"text-align: right;\">\n",
       "      <th></th>\n",
       "      <th>BookingID</th>\n",
       "      <th>BookingSource</th>\n",
       "      <th>Conditions</th>\n",
       "      <th>HasCondition</th>\n",
       "      <th>IsAccountBooking</th>\n",
       "      <th>CreatedDate</th>\n",
       "      <th>RequestedDate</th>\n",
       "      <th>BookingFleet</th>\n",
       "      <th>DispatchFleet</th>\n",
       "      <th>VehicleID</th>\n",
       "      <th>DriverID</th>\n",
       "      <th>AreaNumber</th>\n",
       "      <th>PuPlace</th>\n",
       "      <th>PuAddress</th>\n",
       "      <th>PuSuburb</th>\n",
       "      <th>PuLat</th>\n",
       "      <th>PuLong</th>\n",
       "      <th>DestPlace</th>\n",
       "      <th>DestAddress</th>\n",
       "      <th>DestSuburb</th>\n",
       "      <th>DestLat</th>\n",
       "      <th>DestLong</th>\n",
       "      <th>AccTime</th>\n",
       "      <th>AccArea</th>\n",
       "      <th>AccDistanceFromJob</th>\n",
       "      <th>PupTime</th>\n",
       "      <th>DelTime</th>\n",
       "      <th>DelJobDistance</th>\n",
       "      <th>DelJobTime</th>\n",
       "      <th>ChargesPrice</th>\n",
       "      <th>ChargesExtras</th>\n",
       "      <th>ChargesFlagfall</th>\n",
       "      <th>Tolls</th>\n",
       "      <th>Tips</th>\n",
       "      <th>Discount</th>\n",
       "      <th>FinalDispatchStatus</th>\n",
       "      <th>TargetVariable</th>\n",
       "    </tr>\n",
       "  </thead>\n",
       "  <tbody>\n",
       "    <tr>\n",
       "      <th>0</th>\n",
       "      <td>171970588</td>\n",
       "      <td>TelOp</td>\n",
       "      <td>0</td>\n",
       "      <td>No</td>\n",
       "      <td>No</td>\n",
       "      <td>2019-04-11 10:36:55</td>\n",
       "      <td>2019-04-11 11:00:00</td>\n",
       "      <td>13cabs Sydney</td>\n",
       "      <td>13cabs Sydney</td>\n",
       "      <td>602</td>\n",
       "      <td>21194</td>\n",
       "      <td>177</td>\n",
       "      <td>House</td>\n",
       "      <td>11 Stewart St</td>\n",
       "      <td>Randwick</td>\n",
       "      <td>-33.921022</td>\n",
       "      <td>151.244202</td>\n",
       "      <td>Domestic</td>\n",
       "      <td></td>\n",
       "      <td>Sydney Airport</td>\n",
       "      <td>-33.931785</td>\n",
       "      <td>151.172876</td>\n",
       "      <td>2019-04-11 10:50:43</td>\n",
       "      <td>177</td>\n",
       "      <td>1050</td>\n",
       "      <td>2019-04-11 10:55:05</td>\n",
       "      <td>2019-04-11 11:15:46</td>\n",
       "      <td>8150</td>\n",
       "      <td>1252</td>\n",
       "      <td>0.0</td>\n",
       "      <td>0.0</td>\n",
       "      <td>0.0</td>\n",
       "      <td>0.0</td>\n",
       "      <td>0.0</td>\n",
       "      <td>0.0</td>\n",
       "      <td>Completed</td>\n",
       "      <td>Completed</td>\n",
       "    </tr>\n",
       "    <tr>\n",
       "      <th>1</th>\n",
       "      <td>174526964</td>\n",
       "      <td>TelOp</td>\n",
       "      <td>0</td>\n",
       "      <td>No</td>\n",
       "      <td>No</td>\n",
       "      <td>2019-06-23 09:52:55</td>\n",
       "      <td>2019-06-23 09:52:55</td>\n",
       "      <td>13cabs Sydney</td>\n",
       "      <td>13cabs Sydney</td>\n",
       "      <td>108</td>\n",
       "      <td>17448</td>\n",
       "      <td>111</td>\n",
       "      <td></td>\n",
       "      <td>145 Alfred Rd</td>\n",
       "      <td>Narraweena</td>\n",
       "      <td>-33.755931</td>\n",
       "      <td>151.273028</td>\n",
       "      <td></td>\n",
       "      <td></td>\n",
       "      <td></td>\n",
       "      <td>NaN</td>\n",
       "      <td>NaN</td>\n",
       "      <td>2019-06-23 09:53:13</td>\n",
       "      <td>105</td>\n",
       "      <td>1250</td>\n",
       "      <td></td>\n",
       "      <td></td>\n",
       "      <td>-1</td>\n",
       "      <td>-1</td>\n",
       "      <td>0.0</td>\n",
       "      <td>0.0</td>\n",
       "      <td>0.0</td>\n",
       "      <td>0.0</td>\n",
       "      <td>0.0</td>\n",
       "      <td>0.0</td>\n",
       "      <td>Cancelled</td>\n",
       "      <td>Cancelled</td>\n",
       "    </tr>\n",
       "    <tr>\n",
       "      <th>2</th>\n",
       "      <td>180286324</td>\n",
       "      <td>Internet</td>\n",
       "      <td>0</td>\n",
       "      <td>No</td>\n",
       "      <td>No</td>\n",
       "      <td>2019-12-01 00:14:02</td>\n",
       "      <td>2019-12-01 00:14:02</td>\n",
       "      <td>13cabs Sydney</td>\n",
       "      <td>13cabs Sydney</td>\n",
       "      <td>2868</td>\n",
       "      <td>22269</td>\n",
       "      <td>92</td>\n",
       "      <td></td>\n",
       "      <td>284 Birrell Street</td>\n",
       "      <td>Bondi</td>\n",
       "      <td>-33.897201</td>\n",
       "      <td>151.261205</td>\n",
       "      <td>Prince Of Wales Hospital</td>\n",
       "      <td>320-346 Barker Street</td>\n",
       "      <td>Randwick</td>\n",
       "      <td>-33.918701</td>\n",
       "      <td>151.238405</td>\n",
       "      <td>2019-12-01 00:14:40</td>\n",
       "      <td>92</td>\n",
       "      <td>800</td>\n",
       "      <td>2019-12-01 00:19:22</td>\n",
       "      <td>2019-12-01 00:28:09</td>\n",
       "      <td>4550</td>\n",
       "      <td>527</td>\n",
       "      <td>13.5</td>\n",
       "      <td>3.6</td>\n",
       "      <td>6.1</td>\n",
       "      <td>0.0</td>\n",
       "      <td>0.0</td>\n",
       "      <td>0.0</td>\n",
       "      <td>Completed</td>\n",
       "      <td>Completed</td>\n",
       "    </tr>\n",
       "    <tr>\n",
       "      <th>3</th>\n",
       "      <td>177228281</td>\n",
       "      <td>StratumIVR</td>\n",
       "      <td>0</td>\n",
       "      <td>No</td>\n",
       "      <td>No</td>\n",
       "      <td>2019-09-12 09:07:03</td>\n",
       "      <td>2019-09-12 09:07:04</td>\n",
       "      <td>13cabs Sydney</td>\n",
       "      <td>13cabs Sydney</td>\n",
       "      <td>2330</td>\n",
       "      <td>8417</td>\n",
       "      <td>182</td>\n",
       "      <td></td>\n",
       "      <td>127-131 Cook Rd</td>\n",
       "      <td>Centennial Park</td>\n",
       "      <td>-33.895716</td>\n",
       "      <td>151.228609</td>\n",
       "      <td></td>\n",
       "      <td></td>\n",
       "      <td>As Requested</td>\n",
       "      <td>-33.838634</td>\n",
       "      <td>151.300184</td>\n",
       "      <td>2019-09-12 09:07:12</td>\n",
       "      <td>179</td>\n",
       "      <td>750</td>\n",
       "      <td>2019-09-12 09:14:33</td>\n",
       "      <td>2019-09-12 09:21:15</td>\n",
       "      <td>2800</td>\n",
       "      <td>403</td>\n",
       "      <td>7.8</td>\n",
       "      <td>3.6</td>\n",
       "      <td>3.6</td>\n",
       "      <td>0.0</td>\n",
       "      <td>0.0</td>\n",
       "      <td>0.0</td>\n",
       "      <td>Completed</td>\n",
       "      <td>Completed</td>\n",
       "    </tr>\n",
       "    <tr>\n",
       "      <th>4</th>\n",
       "      <td>170046024</td>\n",
       "      <td>Internet</td>\n",
       "      <td>0</td>\n",
       "      <td>No</td>\n",
       "      <td>No</td>\n",
       "      <td>2019-02-21 21:37:04</td>\n",
       "      <td>2019-02-21 21:37:04</td>\n",
       "      <td>13cabs Sydney</td>\n",
       "      <td>13cabs Sydney</td>\n",
       "      <td>-1</td>\n",
       "      <td>-1</td>\n",
       "      <td>4</td>\n",
       "      <td></td>\n",
       "      <td>Unit 87/5010 Macquarie St</td>\n",
       "      <td>Sydney</td>\n",
       "      <td>-33.859737</td>\n",
       "      <td>151.213307</td>\n",
       "      <td></td>\n",
       "      <td>88 Broadway</td>\n",
       "      <td>Chippendale</td>\n",
       "      <td>-33.884719</td>\n",
       "      <td>151.198786</td>\n",
       "      <td></td>\n",
       "      <td>-1</td>\n",
       "      <td>-1</td>\n",
       "      <td></td>\n",
       "      <td></td>\n",
       "      <td>-1</td>\n",
       "      <td>-1</td>\n",
       "      <td>0.0</td>\n",
       "      <td>0.0</td>\n",
       "      <td>0.0</td>\n",
       "      <td>0.0</td>\n",
       "      <td>0.0</td>\n",
       "      <td>0.0</td>\n",
       "      <td>Cancelled</td>\n",
       "      <td>Cancelled</td>\n",
       "    </tr>\n",
       "  </tbody>\n",
       "</table>\n",
       "</div>"
      ],
      "text/plain": [
       "   BookingID BookingSource  Conditions HasCondition IsAccountBooking  \\\n",
       "0  171970588         TelOp           0           No               No   \n",
       "1  174526964         TelOp           0           No               No   \n",
       "2  180286324      Internet           0           No               No   \n",
       "3  177228281    StratumIVR           0           No               No   \n",
       "4  170046024      Internet           0           No               No   \n",
       "\n",
       "           CreatedDate        RequestedDate   BookingFleet  DispatchFleet  \\\n",
       "0  2019-04-11 10:36:55  2019-04-11 11:00:00  13cabs Sydney  13cabs Sydney   \n",
       "1  2019-06-23 09:52:55  2019-06-23 09:52:55  13cabs Sydney  13cabs Sydney   \n",
       "2  2019-12-01 00:14:02  2019-12-01 00:14:02  13cabs Sydney  13cabs Sydney   \n",
       "3  2019-09-12 09:07:03  2019-09-12 09:07:04  13cabs Sydney  13cabs Sydney   \n",
       "4  2019-02-21 21:37:04  2019-02-21 21:37:04  13cabs Sydney  13cabs Sydney   \n",
       "\n",
       "   VehicleID  DriverID  AreaNumber PuPlace                  PuAddress  \\\n",
       "0        602     21194         177   House              11 Stewart St   \n",
       "1        108     17448         111                      145 Alfred Rd   \n",
       "2       2868     22269          92                 284 Birrell Street   \n",
       "3       2330      8417         182                    127-131 Cook Rd   \n",
       "4         -1        -1           4          Unit 87/5010 Macquarie St   \n",
       "\n",
       "          PuSuburb      PuLat      PuLong                 DestPlace  \\\n",
       "0         Randwick -33.921022  151.244202                  Domestic   \n",
       "1       Narraweena -33.755931  151.273028                             \n",
       "2            Bondi -33.897201  151.261205  Prince Of Wales Hospital   \n",
       "3  Centennial Park -33.895716  151.228609                             \n",
       "4           Sydney -33.859737  151.213307                             \n",
       "\n",
       "             DestAddress      DestSuburb    DestLat    DestLong  \\\n",
       "0                         Sydney Airport -33.931785  151.172876   \n",
       "1                                               NaN         NaN   \n",
       "2  320-346 Barker Street        Randwick -33.918701  151.238405   \n",
       "3                           As Requested -33.838634  151.300184   \n",
       "4            88 Broadway     Chippendale -33.884719  151.198786   \n",
       "\n",
       "               AccTime  AccArea  AccDistanceFromJob              PupTime  \\\n",
       "0  2019-04-11 10:50:43      177                1050  2019-04-11 10:55:05   \n",
       "1  2019-06-23 09:53:13      105                1250                        \n",
       "2  2019-12-01 00:14:40       92                 800  2019-12-01 00:19:22   \n",
       "3  2019-09-12 09:07:12      179                 750  2019-09-12 09:14:33   \n",
       "4                            -1                  -1                        \n",
       "\n",
       "               DelTime  DelJobDistance  DelJobTime  ChargesPrice  \\\n",
       "0  2019-04-11 11:15:46            8150        1252           0.0   \n",
       "1                                   -1          -1           0.0   \n",
       "2  2019-12-01 00:28:09            4550         527          13.5   \n",
       "3  2019-09-12 09:21:15            2800         403           7.8   \n",
       "4                                   -1          -1           0.0   \n",
       "\n",
       "   ChargesExtras  ChargesFlagfall  Tolls  Tips  Discount FinalDispatchStatus  \\\n",
       "0            0.0              0.0    0.0   0.0       0.0           Completed   \n",
       "1            0.0              0.0    0.0   0.0       0.0           Cancelled   \n",
       "2            3.6              6.1    0.0   0.0       0.0           Completed   \n",
       "3            3.6              3.6    0.0   0.0       0.0           Completed   \n",
       "4            0.0              0.0    0.0   0.0       0.0           Cancelled   \n",
       "\n",
       "  TargetVariable  \n",
       "0      Completed  \n",
       "1      Cancelled  \n",
       "2      Completed  \n",
       "3      Completed  \n",
       "4      Cancelled  "
      ]
     },
     "execution_count": 5,
     "metadata": {},
     "output_type": "execute_result"
    }
   ],
   "source": [
    "data.head()"
   ]
  },
  {
   "cell_type": "code",
   "execution_count": 6,
   "metadata": {},
   "outputs": [
    {
     "data": {
      "text/plain": [
       "BookingID                int32\n",
       "BookingSource           object\n",
       "Conditions               int64\n",
       "HasCondition            object\n",
       "IsAccountBooking        object\n",
       "CreatedDate             object\n",
       "RequestedDate           object\n",
       "BookingFleet            object\n",
       "DispatchFleet           object\n",
       "VehicleID                int32\n",
       "DriverID                 int32\n",
       "AreaNumber               int32\n",
       "PuPlace                 object\n",
       "PuAddress               object\n",
       "PuSuburb                object\n",
       "PuLat                  float64\n",
       "PuLong                 float64\n",
       "DestPlace               object\n",
       "DestAddress             object\n",
       "DestSuburb              object\n",
       "DestLat                float64\n",
       "DestLong               float64\n",
       "AccTime                 object\n",
       "AccArea                  int32\n",
       "AccDistanceFromJob       int32\n",
       "PupTime                 object\n",
       "DelTime                 object\n",
       "DelJobDistance           int32\n",
       "DelJobTime               int32\n",
       "ChargesPrice           float64\n",
       "ChargesExtras          float64\n",
       "ChargesFlagfall        float64\n",
       "Tolls                  float64\n",
       "Tips                   float64\n",
       "Discount               float64\n",
       "FinalDispatchStatus     object\n",
       "TargetVariable          object\n",
       "dtype: object"
      ]
     },
     "execution_count": 6,
     "metadata": {},
     "output_type": "execute_result"
    }
   ],
   "source": [
    "# check datatypes\n",
    "data.dtypes"
   ]
  },
  {
   "cell_type": "code",
   "execution_count": 7,
   "metadata": {},
   "outputs": [
    {
     "data": {
      "text/html": [
       "<div>\n",
       "<style scoped>\n",
       "    .dataframe tbody tr th:only-of-type {\n",
       "        vertical-align: middle;\n",
       "    }\n",
       "\n",
       "    .dataframe tbody tr th {\n",
       "        vertical-align: top;\n",
       "    }\n",
       "\n",
       "    .dataframe thead th {\n",
       "        text-align: right;\n",
       "    }\n",
       "</style>\n",
       "<table border=\"1\" class=\"dataframe\">\n",
       "  <thead>\n",
       "    <tr style=\"text-align: right;\">\n",
       "      <th></th>\n",
       "      <th>AccDistanceFromJob</th>\n",
       "      <th>DelJobDistance</th>\n",
       "      <th>DelJobTime</th>\n",
       "      <th>ChargesPrice</th>\n",
       "      <th>ChargesExtras</th>\n",
       "      <th>ChargesFlagfall</th>\n",
       "      <th>Tolls</th>\n",
       "      <th>Tips</th>\n",
       "      <th>Discount</th>\n",
       "    </tr>\n",
       "  </thead>\n",
       "  <tbody>\n",
       "    <tr>\n",
       "      <th>count</th>\n",
       "      <td>3000000.000</td>\n",
       "      <td>3000000.000</td>\n",
       "      <td>3000000.000</td>\n",
       "      <td>3000000.000</td>\n",
       "      <td>3000000.000</td>\n",
       "      <td>3000000.000</td>\n",
       "      <td>3000000.000</td>\n",
       "      <td>3000000.000</td>\n",
       "      <td>3000000.000</td>\n",
       "    </tr>\n",
       "    <tr>\n",
       "      <th>mean</th>\n",
       "      <td>1350.742</td>\n",
       "      <td>6794.496</td>\n",
       "      <td>836.431</td>\n",
       "      <td>18.642</td>\n",
       "      <td>2.678</td>\n",
       "      <td>2.619</td>\n",
       "      <td>0.495</td>\n",
       "      <td>0.000</td>\n",
       "      <td>0.010</td>\n",
       "    </tr>\n",
       "    <tr>\n",
       "      <th>std</th>\n",
       "      <td>5973.970</td>\n",
       "      <td>8402.954</td>\n",
       "      <td>825.654</td>\n",
       "      <td>23.537</td>\n",
       "      <td>2.388</td>\n",
       "      <td>1.856</td>\n",
       "      <td>1.753</td>\n",
       "      <td>0.102</td>\n",
       "      <td>0.537</td>\n",
       "    </tr>\n",
       "    <tr>\n",
       "      <th>min</th>\n",
       "      <td>-1.000</td>\n",
       "      <td>-1.000</td>\n",
       "      <td>-1.000</td>\n",
       "      <td>-1.800</td>\n",
       "      <td>-23.140</td>\n",
       "      <td>0.000</td>\n",
       "      <td>0.000</td>\n",
       "      <td>0.000</td>\n",
       "      <td>-128.000</td>\n",
       "    </tr>\n",
       "    <tr>\n",
       "      <th>25%</th>\n",
       "      <td>400.000</td>\n",
       "      <td>700.000</td>\n",
       "      <td>139.000</td>\n",
       "      <td>0.000</td>\n",
       "      <td>0.000</td>\n",
       "      <td>0.000</td>\n",
       "      <td>0.000</td>\n",
       "      <td>0.000</td>\n",
       "      <td>0.000</td>\n",
       "    </tr>\n",
       "    <tr>\n",
       "      <th>50%</th>\n",
       "      <td>900.000</td>\n",
       "      <td>4200.000</td>\n",
       "      <td>682.000</td>\n",
       "      <td>12.000</td>\n",
       "      <td>3.600</td>\n",
       "      <td>3.600</td>\n",
       "      <td>0.000</td>\n",
       "      <td>0.000</td>\n",
       "      <td>0.000</td>\n",
       "    </tr>\n",
       "    <tr>\n",
       "      <th>75%</th>\n",
       "      <td>1700.000</td>\n",
       "      <td>9450.000</td>\n",
       "      <td>1271.000</td>\n",
       "      <td>27.400</td>\n",
       "      <td>3.600</td>\n",
       "      <td>3.600</td>\n",
       "      <td>0.000</td>\n",
       "      <td>0.000</td>\n",
       "      <td>0.000</td>\n",
       "    </tr>\n",
       "    <tr>\n",
       "      <th>max</th>\n",
       "      <td>3123650.000</td>\n",
       "      <td>448450.000</td>\n",
       "      <td>27142.000</td>\n",
       "      <td>2459.700</td>\n",
       "      <td>113.600</td>\n",
       "      <td>190.750</td>\n",
       "      <td>72.400</td>\n",
       "      <td>131.300</td>\n",
       "      <td>131.500</td>\n",
       "    </tr>\n",
       "  </tbody>\n",
       "</table>\n",
       "</div>"
      ],
      "text/plain": [
       "       AccDistanceFromJob  DelJobDistance   DelJobTime  ChargesPrice  \\\n",
       "count         3000000.000     3000000.000  3000000.000   3000000.000   \n",
       "mean             1350.742        6794.496      836.431        18.642   \n",
       "std              5973.970        8402.954      825.654        23.537   \n",
       "min                -1.000          -1.000       -1.000        -1.800   \n",
       "25%               400.000         700.000      139.000         0.000   \n",
       "50%               900.000        4200.000      682.000        12.000   \n",
       "75%              1700.000        9450.000     1271.000        27.400   \n",
       "max           3123650.000      448450.000    27142.000      2459.700   \n",
       "\n",
       "       ChargesExtras  ChargesFlagfall        Tolls         Tips     Discount  \n",
       "count    3000000.000      3000000.000  3000000.000  3000000.000  3000000.000  \n",
       "mean           2.678            2.619        0.495        0.000        0.010  \n",
       "std            2.388            1.856        1.753        0.102        0.537  \n",
       "min          -23.140            0.000        0.000        0.000     -128.000  \n",
       "25%            0.000            0.000        0.000        0.000        0.000  \n",
       "50%            3.600            3.600        0.000        0.000        0.000  \n",
       "75%            3.600            3.600        0.000        0.000        0.000  \n",
       "max          113.600          190.750       72.400      131.300      131.500  "
      ]
     },
     "execution_count": 7,
     "metadata": {},
     "output_type": "execute_result"
    }
   ],
   "source": [
    "# check statistics of the features\n",
    "stats = data[['AccDistanceFromJob','DelJobDistance','DelJobTime',\n",
    "     'ChargesPrice','ChargesExtras','ChargesFlagfall','Tolls','Tips','Discount']]\n",
    "stats.describe().round(3)"
   ]
  },
  {
   "cell_type": "code",
   "execution_count": 18,
   "metadata": {},
   "outputs": [
    {
     "data": {
      "text/html": [
       "<div>\n",
       "<style scoped>\n",
       "    .dataframe tbody tr th:only-of-type {\n",
       "        vertical-align: middle;\n",
       "    }\n",
       "\n",
       "    .dataframe tbody tr th {\n",
       "        vertical-align: top;\n",
       "    }\n",
       "\n",
       "    .dataframe thead th {\n",
       "        text-align: right;\n",
       "    }\n",
       "</style>\n",
       "<table border=\"1\" class=\"dataframe\">\n",
       "  <thead>\n",
       "    <tr style=\"text-align: right;\">\n",
       "      <th></th>\n",
       "      <th>unique_values</th>\n",
       "      <th>counts</th>\n",
       "    </tr>\n",
       "  </thead>\n",
       "  <tbody>\n",
       "    <tr>\n",
       "      <th>0</th>\n",
       "      <td>Completed</td>\n",
       "      <td>2323710</td>\n",
       "    </tr>\n",
       "    <tr>\n",
       "      <th>1</th>\n",
       "      <td>Cancelled</td>\n",
       "      <td>385662</td>\n",
       "    </tr>\n",
       "    <tr>\n",
       "      <th>2</th>\n",
       "      <td>No Job</td>\n",
       "      <td>248071</td>\n",
       "    </tr>\n",
       "    <tr>\n",
       "      <th>3</th>\n",
       "      <td>Replaced</td>\n",
       "      <td>27137</td>\n",
       "    </tr>\n",
       "    <tr>\n",
       "      <th>4</th>\n",
       "      <td>No Car Available</td>\n",
       "      <td>6198</td>\n",
       "    </tr>\n",
       "    <tr>\n",
       "      <th>5</th>\n",
       "      <td>Picked Up</td>\n",
       "      <td>5209</td>\n",
       "    </tr>\n",
       "    <tr>\n",
       "      <th>6</th>\n",
       "      <td>Auto Discard</td>\n",
       "      <td>1852</td>\n",
       "    </tr>\n",
       "    <tr>\n",
       "      <th>7</th>\n",
       "      <td>Accepted</td>\n",
       "      <td>1226</td>\n",
       "    </tr>\n",
       "    <tr>\n",
       "      <th>8</th>\n",
       "      <td>Split</td>\n",
       "      <td>379</td>\n",
       "    </tr>\n",
       "    <tr>\n",
       "      <th>9</th>\n",
       "      <td>Stop</td>\n",
       "      <td>176</td>\n",
       "    </tr>\n",
       "    <tr>\n",
       "      <th>10</th>\n",
       "      <td>Assigned</td>\n",
       "      <td>156</td>\n",
       "    </tr>\n",
       "    <tr>\n",
       "      <th>11</th>\n",
       "      <td>Inload Cancel</td>\n",
       "      <td>97</td>\n",
       "    </tr>\n",
       "    <tr>\n",
       "      <th>12</th>\n",
       "      <td>Covered By Alternate</td>\n",
       "      <td>70</td>\n",
       "    </tr>\n",
       "    <tr>\n",
       "      <th>13</th>\n",
       "      <td>Acknowledged</td>\n",
       "      <td>48</td>\n",
       "    </tr>\n",
       "    <tr>\n",
       "      <th>14</th>\n",
       "      <td>External NoJob</td>\n",
       "      <td>3</td>\n",
       "    </tr>\n",
       "    <tr>\n",
       "      <th>15</th>\n",
       "      <td>Pending Price</td>\n",
       "      <td>2</td>\n",
       "    </tr>\n",
       "    <tr>\n",
       "      <th>16</th>\n",
       "      <td>Dispatching</td>\n",
       "      <td>2</td>\n",
       "    </tr>\n",
       "    <tr>\n",
       "      <th>17</th>\n",
       "      <td>Not Dispatched</td>\n",
       "      <td>2</td>\n",
       "    </tr>\n",
       "  </tbody>\n",
       "</table>\n",
       "</div>"
      ],
      "text/plain": [
       "           unique_values   counts\n",
       "0              Completed  2323710\n",
       "1              Cancelled   385662\n",
       "2                 No Job   248071\n",
       "3               Replaced    27137\n",
       "4       No Car Available     6198\n",
       "5              Picked Up     5209\n",
       "6           Auto Discard     1852\n",
       "7               Accepted     1226\n",
       "8                  Split      379\n",
       "9                   Stop      176\n",
       "10              Assigned      156\n",
       "11         Inload Cancel       97\n",
       "12  Covered By Alternate       70\n",
       "13          Acknowledged       48\n",
       "14        External NoJob        3\n",
       "15         Pending Price        2\n",
       "16           Dispatching        2\n",
       "17        Not Dispatched        2"
      ]
     },
     "execution_count": 18,
     "metadata": {},
     "output_type": "execute_result"
    }
   ],
   "source": [
    "#FinalDispatchStatus\n",
    "finalstatus_count = data['FinalDispatchStatus'].value_counts().rename_axis('unique_values').reset_index(name='counts')\n",
    "finalstatus_count"
   ]
  },
  {
   "cell_type": "code",
   "execution_count": 19,
   "metadata": {},
   "outputs": [
    {
     "data": {
      "text/html": [
       "<div>\n",
       "<style scoped>\n",
       "    .dataframe tbody tr th:only-of-type {\n",
       "        vertical-align: middle;\n",
       "    }\n",
       "\n",
       "    .dataframe tbody tr th {\n",
       "        vertical-align: top;\n",
       "    }\n",
       "\n",
       "    .dataframe thead th {\n",
       "        text-align: right;\n",
       "    }\n",
       "</style>\n",
       "<table border=\"1\" class=\"dataframe\">\n",
       "  <thead>\n",
       "    <tr style=\"text-align: right;\">\n",
       "      <th></th>\n",
       "      <th>unique_values</th>\n",
       "      <th>counts</th>\n",
       "    </tr>\n",
       "  </thead>\n",
       "  <tbody>\n",
       "    <tr>\n",
       "      <th>0</th>\n",
       "      <td>Completed</td>\n",
       "      <td>2328919</td>\n",
       "    </tr>\n",
       "    <tr>\n",
       "      <th>1</th>\n",
       "      <td>Cancelled</td>\n",
       "      <td>385662</td>\n",
       "    </tr>\n",
       "    <tr>\n",
       "      <th>2</th>\n",
       "      <td>No Job</td>\n",
       "      <td>248071</td>\n",
       "    </tr>\n",
       "    <tr>\n",
       "      <th>3</th>\n",
       "      <td>ELSE</td>\n",
       "      <td>37348</td>\n",
       "    </tr>\n",
       "  </tbody>\n",
       "</table>\n",
       "</div>"
      ],
      "text/plain": [
       "  unique_values   counts\n",
       "0     Completed  2328919\n",
       "1     Cancelled   385662\n",
       "2        No Job   248071\n",
       "3          ELSE    37348"
      ]
     },
     "execution_count": 19,
     "metadata": {},
     "output_type": "execute_result"
    }
   ],
   "source": [
    "#target variable\n",
    "target_count = data['TargetVariable'].value_counts().rename_axis('unique_values').reset_index(name='counts')\n",
    "target_count"
   ]
  },
  {
   "cell_type": "code",
   "execution_count": 15,
   "metadata": {},
   "outputs": [
    {
     "data": {
      "text/plain": [
       "<AxesSubplot:xlabel='unique_values', ylabel='counts'>"
      ]
     },
     "execution_count": 15,
     "metadata": {},
     "output_type": "execute_result"
    },
    {
     "data": {
      "image/png": "[encoded data removed]",
      "text/plain": [
       "<Figure size 432x288 with 1 Axes>"
      ]
     },
     "metadata": {
      "needs_background": "light"
     },
     "output_type": "display_data"
    }
   ],
   "source": [
    "sns.barplot(x='unique_values', y = 'counts',data=target_count)"
   ]
  },
  {
   "cell_type": "code",
   "execution_count": 9,
   "metadata": {},
   "outputs": [
    {
     "data": {
      "text/plain": [
       "Completed    0.776\n",
       "Cancelled    0.129\n",
       "No Job       0.083\n",
       "ELSE         0.012\n",
       "Name: TargetVariable, dtype: float64"
      ]
     },
     "execution_count": 9,
     "metadata": {},
     "output_type": "execute_result"
    }
   ],
   "source": [
    "#target variable\n",
    "round(data['TargetVariable'].value_counts()/data.shape[0],3)"
   ]
  },
  {
   "cell_type": "code",
   "execution_count": 10,
   "metadata": {},
   "outputs": [
    {
     "name": "stdout",
     "output_type": "stream",
     "text": [
      "BookingID                   0\n",
      "BookingSource               0\n",
      "Conditions                  0\n",
      "HasCondition                0\n",
      "IsAccountBooking            0\n",
      "CreatedDate                 0\n",
      "RequestedDate               0\n",
      "BookingFleet                0\n",
      "DispatchFleet               0\n",
      "VehicleID                   0\n",
      "DriverID                    0\n",
      "AreaNumber                  0\n",
      "PuPlace                     0\n",
      "PuAddress                   0\n",
      "PuSuburb                    0\n",
      "PuLat                       0\n",
      "PuLong                      0\n",
      "DestPlace                   0\n",
      "DestAddress                 0\n",
      "DestSuburb                  0\n",
      "DestLat                106857\n",
      "DestLong               106857\n",
      "AccTime                     0\n",
      "AccArea                     0\n",
      "AccDistanceFromJob          0\n",
      "PupTime                     0\n",
      "DelTime                     0\n",
      "DelJobDistance              0\n",
      "DelJobTime                  0\n",
      "ChargesPrice                0\n",
      "ChargesExtras               0\n",
      "ChargesFlagfall             0\n",
      "Tolls                       0\n",
      "Tips                        0\n",
      "Discount                    0\n",
      "FinalDispatchStatus         0\n",
      "TargetVariable              0\n",
      "dtype: int64\n"
     ]
    }
   ],
   "source": [
    "#check misssing data\n",
    "print(data.isnull().sum())"
   ]
  },
  {
   "cell_type": "markdown",
   "metadata": {},
   "source": [
    "## 1 Univariate Analysis"
   ]
  },
  {
   "cell_type": "markdown",
   "metadata": {},
   "source": [
    "## 1.1 Time"
   ]
  },
  {
   "cell_type": "code",
   "execution_count": 11,
   "metadata": {},
   "outputs": [],
   "source": [
    "# Changing the pickup_datetime and dropoff_datetime from object to datetime datatype\n",
    "data['CreatedDate']=pd.to_datetime(data['CreatedDate'])\n",
    "data['RequestedDate']=pd.to_datetime(data['RequestedDate'])\n",
    "data['PupTime']=pd.to_datetime(data['PupTime'])\n",
    "data['DelTime']=pd.to_datetime(data['DelTime'])"
   ]
  },
  {
   "cell_type": "code",
   "execution_count": 12,
   "metadata": {},
   "outputs": [],
   "source": [
    "# Creating features based on day\n",
    "data['create_by_day'] = data['CreatedDate'].dt.day_name()\n",
    "data['request_by_day'] = data['RequestedDate'].dt.day_name()\n",
    "data['PupTime_by_day'] = data['PupTime'].dt.day_name()\n",
    "data['DelTime_by_day'] = data['DelTime'].dt.day_name()"
   ]
  },
  {
   "cell_type": "code",
   "execution_count": 13,
   "metadata": {},
   "outputs": [],
   "source": [
    "# Creating features based on Hour\n",
    "data['create_by_hour'] = data['CreatedDate'].dt.hour\n",
    "data['request_by_hour'] = data['RequestedDate'].dt.hour\n",
    "data['PupTime_by_hour'] = data['PupTime'].dt.hour\n",
    "data['DelTime_by_hour'] = data['DelTime'].dt.hour\n",
    "#Morning, which starts at 6:01 am and ends at 12:oopm\n",
    "#Afternoon, which starts at 12:01 pm and ends at 18:00pm\n",
    "#Evening, which starts at 18:01 and ends at 21:00pm\n",
    "#Night, which start at 21:01 and ends at 6:00am"
   ]
  },
  {
   "cell_type": "code",
   "execution_count": 14,
   "metadata": {},
   "outputs": [],
   "source": [
    "def part_of_day (t):\n",
    "    if t in range (6,12):\n",
    "        return \"Morning\"\n",
    "    elif t in range (12,18):\n",
    "        return \"Afternoon\"\n",
    "    elif t in range (18,21):\n",
    "        return \"Evening\"\n",
    "    else:\n",
    "        return \"Night\""
   ]
  },
  {
   "cell_type": "code",
   "execution_count": 15,
   "metadata": {},
   "outputs": [],
   "source": [
    "data['create_part_of_day']=data['create_by_hour'].apply(part_of_day)\n",
    "data['request_part_of_day']=data['request_by_hour'].apply(part_of_day)\n",
    "data['PupTime_part_of_day']=data['PupTime_by_hour'].apply(part_of_day)\n",
    "data['DelTime_part_of_day']=data['DelTime_by_hour'].apply(part_of_day)"
   ]
  },
  {
   "cell_type": "code",
   "execution_count": 17,
   "metadata": {},
   "outputs": [
    {
     "data": {
      "text/plain": [
       "<AxesSubplot:xlabel='TargetVariable', ylabel='proportion'>"
      ]
     },
     "execution_count": 17,
     "metadata": {},
     "output_type": "execute_result"
    },
    {
     "data": {
      "image/png": "[encoded data removed]",
      "text/plain": [
       "<Figure size 432x288 with 1 Axes>"
      ]
     },
     "metadata": {
      "needs_background": "light"
     },
     "output_type": "display_data"
    }
   ],
   "source": [
    "# create_part_of_day\n",
    "(data['TargetVariable']\n",
    " .groupby(data['create_part_of_day'])\n",
    " .value_counts(normalize=True)\n",
    " .rename('proportion')\n",
    " .reset_index()\n",
    " .pipe((sns.barplot, \"data\"), x ='TargetVariable', y ='proportion', hue='create_part_of_day'))"
   ]
  },
  {
   "cell_type": "code",
   "execution_count": 18,
   "metadata": {},
   "outputs": [
    {
     "data": {
      "text/plain": [
       "<AxesSubplot:xlabel='TargetVariable', ylabel='proportion'>"
      ]
     },
     "execution_count": 18,
     "metadata": {},
     "output_type": "execute_result"
    },
    {
     "data": {
      "image/png": "[encoded data removed]",
      "text/plain": [
       "<Figure size 432x288 with 1 Axes>"
      ]
     },
     "metadata": {
      "needs_background": "light"
     },
     "output_type": "display_data"
    }
   ],
   "source": [
    "# request_part_of_day\n",
    "(data['TargetVariable']\n",
    " .groupby(data['request_part_of_day'])\n",
    " .value_counts(normalize=True)\n",
    " .rename('proportion')\n",
    " .reset_index()\n",
    " .pipe((sns.barplot, \"data\"), x ='TargetVariable', y ='proportion', hue='request_part_of_day'))"
   ]
  },
  {
   "cell_type": "code",
   "execution_count": 19,
   "metadata": {},
   "outputs": [
    {
     "data": {
      "text/plain": [
       "<AxesSubplot:xlabel='TargetVariable', ylabel='proportion'>"
      ]
     },
     "execution_count": 19,
     "metadata": {},
     "output_type": "execute_result"
    },
    {
     "data": {
      "image/png": "[encoded data removed]",
      "text/plain": [
       "<Figure size 432x288 with 1 Axes>"
      ]
     },
     "metadata": {
      "needs_background": "light"
     },
     "output_type": "display_data"
    }
   ],
   "source": [
    "#PupTime_part_of_day\n",
    "(data['TargetVariable']\n",
    " .groupby(data['PupTime_part_of_day'])\n",
    " .value_counts(normalize=True)\n",
    " .rename('proportion')\n",
    " .reset_index()\n",
    " .pipe((sns.barplot, \"data\"), x ='TargetVariable', y ='proportion', hue='PupTime_part_of_day'))"
   ]
  },
  {
   "cell_type": "code",
   "execution_count": 20,
   "metadata": {},
   "outputs": [
    {
     "data": {
      "text/plain": [
       "<AxesSubplot:xlabel='TargetVariable', ylabel='proportion'>"
      ]
     },
     "execution_count": 20,
     "metadata": {},
     "output_type": "execute_result"
    },
    {
     "data": {
      "image/png": "[encoded data removed]",
      "text/plain": [
       "<Figure size 432x288 with 1 Axes>"
      ]
     },
     "metadata": {
      "needs_background": "light"
     },
     "output_type": "display_data"
    }
   ],
   "source": [
    "#DelTime_part_of_day\n",
    "(data['TargetVariable']\n",
    " .groupby(data['DelTime_part_of_day'])\n",
    " .value_counts(normalize=True)\n",
    " .rename('proportion')\n",
    " .reset_index()\n",
    " .pipe((sns.barplot, \"data\"), x ='TargetVariable', y ='proportion', hue='DelTime_part_of_day'))"
   ]
  },
  {
   "cell_type": "markdown",
   "metadata": {},
   "source": [
    "## 1.2 Location"
   ]
  },
  {
   "cell_type": "code",
   "execution_count": 22,
   "metadata": {},
   "outputs": [
    {
     "data": {
      "text/plain": [
       "<seaborn.axisgrid.FacetGrid at 0x1b270864688>"
      ]
     },
     "execution_count": 22,
     "metadata": {},
     "output_type": "execute_result"
    },
    {
     "data": {
      "image/png": "[encoded data removed]",
      "text/plain": [
       "<Figure size 360x360 with 1 Axes>"
      ]
     },
     "metadata": {
      "needs_background": "light"
     },
     "output_type": "display_data"
    }
   ],
   "source": [
    "sns.catplot(x=\"TargetVariable\", y='AccDistanceFromJob', kind=\"point\", data=data)"
   ]
  },
  {
   "cell_type": "code",
   "execution_count": 21,
   "metadata": {},
   "outputs": [
    {
     "data": {
      "text/plain": [
       "<seaborn.axisgrid.FacetGrid at 0x1b097b83608>"
      ]
     },
     "execution_count": 21,
     "metadata": {},
     "output_type": "execute_result"
    },
    {
     "data": {
      "image/png": "[encoded data removed]",
      "text/plain": [
       "<Figure size 360x360 with 1 Axes>"
      ]
     },
     "metadata": {
      "needs_background": "light"
     },
     "output_type": "display_data"
    }
   ],
   "source": [
    "sns.catplot(x=\"TargetVariable\", y='DelJobDistance', kind=\"point\", data=data)"
   ]
  },
  {
   "cell_type": "code",
   "execution_count": 25,
   "metadata": {},
   "outputs": [],
   "source": [
    "destlat = data['DestLat'].dropna()\n",
    "destlong = data['DestLong'].dropna()"
   ]
  },
  {
   "cell_type": "code",
   "execution_count": 26,
   "metadata": {},
   "outputs": [],
   "source": [
    "# reading training data\n",
    "latlong = np.array(destlat, destlong)\n",
    "\n",
    "# cut off long distance trips\n",
    "lat_low, lat_hgh = np.percentile(destlat, [2,98])\n",
    "lon_low, lon_hgh = np.percentile(destlong, [2, 98])"
   ]
  },
  {
   "cell_type": "code",
   "execution_count": 27,
   "metadata": {},
   "outputs": [
    {
     "data": {
      "image/png": "[encoded data removed]",
      "text/plain": [
       "<Figure size 432x288 with 1 Axes>"
      ]
     },
     "metadata": {
      "needs_background": "light"
     },
     "output_type": "display_data"
    }
   ],
   "source": [
    "# create image\n",
    "bins =250\n",
    "lat_bins = np.linspace(lat_low, lat_hgh, bins)\n",
    "lon_bins = np.linspace(lon_low, lon_hgh, bins)\n",
    "H2, _, _ = np.histogram2d(destlat, destlong, bins=(lat_bins, lon_bins))\n",
    "\n",
    "img = np.log(H2[::-1, :] + 1)\n",
    "\n",
    "plt.figure()\n",
    "ax = plt.subplot(1,1,1)\n",
    "plt.imshow(img)\n",
    "plt.axis('off')\n",
    "plt.title('Taxi trip end points')\n",
    "plt.savefig(\"taxi_trip_end_points.png\")"
   ]
  },
  {
   "cell_type": "markdown",
   "metadata": {},
   "source": [
    "## 1.3 No destination records"
   ]
  },
  {
   "cell_type": "code",
   "execution_count": 28,
   "metadata": {},
   "outputs": [],
   "source": [
    "# categorize if there is a destination record\n",
    "loc_target = data[['DestLat','TargetVariable']]\n",
    "loc_target['Null'] = loc_target['DestLat'].isnull()"
   ]
  },
  {
   "cell_type": "code",
   "execution_count": 30,
   "metadata": {},
   "outputs": [
    {
     "data": {
      "text/plain": [
       "<AxesSubplot:xlabel='TargetVariable', ylabel='proportion'>"
      ]
     },
     "execution_count": 30,
     "metadata": {},
     "output_type": "execute_result"
    },
    {
     "data": {
      "image/png": "[encoded data removed]",
      "text/plain": [
       "<Figure size 432x288 with 1 Axes>"
      ]
     },
     "metadata": {
      "needs_background": "light"
     },
     "output_type": "display_data"
    }
   ],
   "source": [
    "(loc_target['TargetVariable']\n",
    " .groupby(loc_target['Null'])\n",
    " .value_counts(normalize=True)\n",
    " .rename('proportion')\n",
    " .reset_index()\n",
    " .pipe((sns.barplot, \"data\"), x ='TargetVariable', y ='proportion', hue='Null'))"
   ]
  },
  {
   "cell_type": "markdown",
   "metadata": {},
   "source": [
    "## 1.4 DelJobDistance"
   ]
  },
  {
   "cell_type": "code",
   "execution_count": 32,
   "metadata": {},
   "outputs": [
    {
     "data": {
      "text/plain": [
       "<seaborn.axisgrid.FacetGrid at 0x281caad88c8>"
      ]
     },
     "execution_count": 32,
     "metadata": {},
     "output_type": "execute_result"
    },
    {
     "data": {
      "image/png": "[encoded data removed]",
      "text/plain": [
       "<Figure size 360x360 with 1 Axes>"
      ]
     },
     "metadata": {
      "needs_background": "light"
     },
     "output_type": "display_data"
    }
   ],
   "source": [
    "sns.catplot(x=\"TargetVariable\", y='DelJobDistance', kind=\"point\", data=data)"
   ]
  },
  {
   "cell_type": "markdown",
   "metadata": {},
   "source": [
    "## 1.5 DelJobTime"
   ]
  },
  {
   "cell_type": "code",
   "execution_count": 33,
   "metadata": {},
   "outputs": [
    {
     "data": {
      "text/plain": [
       "<seaborn.axisgrid.FacetGrid at 0x28349dccbc8>"
      ]
     },
     "execution_count": 33,
     "metadata": {},
     "output_type": "execute_result"
    },
    {
     "data": {
      "image/png": "[encoded data removed]",
      "text/plain": [
       "<Figure size 360x360 with 1 Axes>"
      ]
     },
     "metadata": {
      "needs_background": "light"
     },
     "output_type": "display_data"
    }
   ],
   "source": [
    "sns.catplot(x=\"TargetVariable\", y='DelJobTime', kind=\"point\", data=data)"
   ]
  },
  {
   "cell_type": "markdown",
   "metadata": {},
   "source": [
    "## 1.6 ChargesPrice\t"
   ]
  },
  {
   "cell_type": "code",
   "execution_count": 34,
   "metadata": {},
   "outputs": [
    {
     "data": {
      "text/plain": [
       "<seaborn.axisgrid.FacetGrid at 0x282c2f00948>"
      ]
     },
     "execution_count": 34,
     "metadata": {},
     "output_type": "execute_result"
    },
    {
     "data": {
      "image/png": "[encoded data removed]",
      "text/plain": [
       "<Figure size 360x360 with 1 Axes>"
      ]
     },
     "metadata": {
      "needs_background": "light"
     },
     "output_type": "display_data"
    }
   ],
   "source": [
    "sns.catplot(x=\"TargetVariable\", y='ChargesPrice', kind=\"point\", data=data)"
   ]
  },
  {
   "cell_type": "markdown",
   "metadata": {},
   "source": [
    "## 1.7 ChargesExtras"
   ]
  },
  {
   "cell_type": "code",
   "execution_count": 35,
   "metadata": {},
   "outputs": [
    {
     "data": {
      "text/plain": [
       "<seaborn.axisgrid.FacetGrid at 0x2830e2956c8>"
      ]
     },
     "execution_count": 35,
     "metadata": {},
     "output_type": "execute_result"
    },
    {
     "data": {
      "image/png": "[encoded data removed]",
      "text/plain": [
       "<Figure size 360x360 with 1 Axes>"
      ]
     },
     "metadata": {
      "needs_background": "light"
     },
     "output_type": "display_data"
    }
   ],
   "source": [
    "sns.catplot(x=\"TargetVariable\", y='ChargesExtras', kind=\"point\", data=data)"
   ]
  },
  {
   "cell_type": "markdown",
   "metadata": {},
   "source": [
    "## 1.8 ChargesFlagfall"
   ]
  },
  {
   "cell_type": "code",
   "execution_count": 36,
   "metadata": {},
   "outputs": [
    {
     "data": {
      "text/plain": [
       "<seaborn.axisgrid.FacetGrid at 0x282c2b2d5c8>"
      ]
     },
     "execution_count": 36,
     "metadata": {},
     "output_type": "execute_result"
    },
    {
     "data": {
      "image/png": "[encoded data removed]",
      "text/plain": [
       "<Figure size 360x360 with 1 Axes>"
      ]
     },
     "metadata": {
      "needs_background": "light"
     },
     "output_type": "display_data"
    }
   ],
   "source": [
    "sns.catplot(x=\"TargetVariable\", y='ChargesFlagfall', kind=\"point\", data=data)"
   ]
  },
  {
   "cell_type": "markdown",
   "metadata": {},
   "source": [
    "## 1.9 Tolls\t"
   ]
  },
  {
   "cell_type": "code",
   "execution_count": 37,
   "metadata": {},
   "outputs": [
    {
     "data": {
      "text/plain": [
       "<seaborn.axisgrid.FacetGrid at 0x28300140d08>"
      ]
     },
     "execution_count": 37,
     "metadata": {},
     "output_type": "execute_result"
    },
    {
     "data": {
      "image/png": "[encoded data removed]",
      "text/plain": [
       "<Figure size 360x360 with 1 Axes>"
      ]
     },
     "metadata": {
      "needs_background": "light"
     },
     "output_type": "display_data"
    }
   ],
   "source": [
    "sns.catplot(x=\"TargetVariable\", y='Tolls', kind=\"point\", data=data)"
   ]
  },
  {
   "cell_type": "markdown",
   "metadata": {},
   "source": [
    "## 1.11 Tips\t"
   ]
  },
  {
   "cell_type": "code",
   "execution_count": 38,
   "metadata": {},
   "outputs": [
    {
     "data": {
      "text/plain": [
       "<seaborn.axisgrid.FacetGrid at 0x2830ee34f88>"
      ]
     },
     "execution_count": 38,
     "metadata": {},
     "output_type": "execute_result"
    },
    {
     "data": {
      "image/png": "[encoded data removed]",
      "text/plain": [
       "<Figure size 360x360 with 1 Axes>"
      ]
     },
     "metadata": {
      "needs_background": "light"
     },
     "output_type": "display_data"
    }
   ],
   "source": [
    "sns.catplot(x=\"TargetVariable\", y='Tips', kind=\"point\", data=data)"
   ]
  },
  {
   "cell_type": "markdown",
   "metadata": {},
   "source": [
    "## 1.12 Discount"
   ]
  },
  {
   "cell_type": "code",
   "execution_count": 39,
   "metadata": {},
   "outputs": [
    {
     "data": {
      "text/plain": [
       "<seaborn.axisgrid.FacetGrid at 0x282c311fd08>"
      ]
     },
     "execution_count": 39,
     "metadata": {},
     "output_type": "execute_result"
    },
    {
     "data": {
      "image/png": "[encoded data removed]",
      "text/plain": [
       "<Figure size 360x360 with 1 Axes>"
      ]
     },
     "metadata": {
      "needs_background": "light"
     },
     "output_type": "display_data"
    }
   ],
   "source": [
    "sns.catplot(x=\"TargetVariable\", y='Discount', kind=\"point\", data=data)"
   ]
  },
  {
   "cell_type": "markdown",
   "metadata": {},
   "source": [
    "## 1.13 BookingSource"
   ]
  },
  {
   "cell_type": "code",
   "execution_count": 40,
   "metadata": {},
   "outputs": [
    {
     "data": {
      "text/plain": [
       "Internet      1399175\n",
       "TelOp         1136872\n",
       "StratumIVR     458012\n",
       "Permanent        5941\n",
       "Name: BookingSource, dtype: int64"
      ]
     },
     "execution_count": 40,
     "metadata": {},
     "output_type": "execute_result"
    }
   ],
   "source": [
    "data['BookingSource'].value_counts()"
   ]
  },
  {
   "cell_type": "code",
   "execution_count": 41,
   "metadata": {},
   "outputs": [
    {
     "data": {
      "text/plain": [
       "<AxesSubplot:xlabel='TargetVariable', ylabel='proportion'>"
      ]
     },
     "execution_count": 41,
     "metadata": {},
     "output_type": "execute_result"
    },
    {
     "data": {
      "image/png": "[encoded data removed]",
      "text/plain": [
       "<Figure size 432x288 with 1 Axes>"
      ]
     },
     "metadata": {
      "needs_background": "light"
     },
     "output_type": "display_data"
    }
   ],
   "source": [
    "(data['TargetVariable']\n",
    " .groupby(data['BookingSource'])\n",
    " .value_counts(normalize=True)\n",
    " .rename('proportion')\n",
    " .reset_index()\n",
    " .pipe((sns.barplot, \"data\"), x ='TargetVariable', y ='proportion', hue='BookingSource'))"
   ]
  },
  {
   "cell_type": "markdown",
   "metadata": {},
   "source": [
    "## 1.14 Conditions    "
   ]
  },
  {
   "cell_type": "code",
   "execution_count": 44,
   "metadata": {},
   "outputs": [
    {
     "data": {
      "text/plain": [
       "0               2240288\n",
       "4194304          304956\n",
       "64               101869\n",
       "262144            88487\n",
       "16777216          38880\n",
       "1024              33653\n",
       "274877906944      31661\n",
       "274877907008      21350\n",
       "33554432          16982\n",
       "524288            15005\n",
       "268435456         14313\n",
       "1048576           13986\n",
       "67108864          12937\n",
       "4                 11153\n",
       "134217728          7312\n",
       "2                  7134\n",
       "536870912          5920\n",
       "274882101248       4614\n",
       "4294967296         2927\n",
       "131072             1817\n",
       "16384              1759\n",
       "137438953472       1700\n",
       "1028               1685\n",
       "8192               1597\n",
       "16777220           1492\n",
       "68719476736        1402\n",
       "20971520            854\n",
       "274882101312        842\n",
       "16777218            732\n",
       "549772591104        656\n",
       "Name: Conditions, dtype: int64"
      ]
     },
     "execution_count": 44,
     "metadata": {},
     "output_type": "execute_result"
    }
   ],
   "source": [
    "data['Conditions'].value_counts().head(30)\n",
    "# 64 Endorsed Driver Driver is qualified for account work\n",
    "# 4194304 Premium $11 Booking Fee\n",
    "# 262144  Wheelchair Accredited Zero200 Wheelchair Accredited\n",
    "# 16777216 5 seater 5 Seat Vehicle Required\n"
   ]
  },
  {
   "cell_type": "markdown",
   "metadata": {},
   "source": [
    "## 1.15 HasCondition "
   ]
  },
  {
   "cell_type": "code",
   "execution_count": 45,
   "metadata": {},
   "outputs": [
    {
     "data": {
      "text/plain": [
       "<AxesSubplot:xlabel='TargetVariable', ylabel='proportion'>"
      ]
     },
     "execution_count": 45,
     "metadata": {},
     "output_type": "execute_result"
    },
    {
     "data": {
      "image/png": "[encoded data removed]",
      "text/plain": [
       "<Figure size 432x288 with 1 Axes>"
      ]
     },
     "metadata": {
      "needs_background": "light"
     },
     "output_type": "display_data"
    }
   ],
   "source": [
    "(data['TargetVariable']\n",
    " .groupby(data['HasCondition'])\n",
    " .value_counts(normalize=True)\n",
    " .rename('proportion')\n",
    " .reset_index()\n",
    " .pipe((sns.barplot, \"data\"), x ='TargetVariable', y ='proportion', hue='HasCondition'))"
   ]
  },
  {
   "cell_type": "markdown",
   "metadata": {},
   "source": [
    "## 1.16 IsAccountBooking "
   ]
  },
  {
   "cell_type": "code",
   "execution_count": 46,
   "metadata": {},
   "outputs": [
    {
     "data": {
      "text/plain": [
       "<AxesSubplot:xlabel='TargetVariable', ylabel='proportion'>"
      ]
     },
     "execution_count": 46,
     "metadata": {},
     "output_type": "execute_result"
    },
    {
     "data": {
      "image/png": "[encoded data removed]",
      "text/plain": [
       "<Figure size 432x288 with 1 Axes>"
      ]
     },
     "metadata": {
      "needs_background": "light"
     },
     "output_type": "display_data"
    }
   ],
   "source": [
    "(data['TargetVariable']\n",
    " .groupby(data['IsAccountBooking'])\n",
    " .value_counts(normalize=True)\n",
    " .rename('proportion')\n",
    " .reset_index()\n",
    " .pipe((sns.barplot, \"data\"), x ='TargetVariable', y ='proportion', hue='IsAccountBooking'))"
   ]
  },
  {
   "cell_type": "markdown",
   "metadata": {},
   "source": [
    "## 1.17 BookingFleet"
   ]
  },
  {
   "cell_type": "code",
   "execution_count": 23,
   "metadata": {},
   "outputs": [
    {
     "data": {
      "text/html": [
       "<div>\n",
       "<style scoped>\n",
       "    .dataframe tbody tr th:only-of-type {\n",
       "        vertical-align: middle;\n",
       "    }\n",
       "\n",
       "    .dataframe tbody tr th {\n",
       "        vertical-align: top;\n",
       "    }\n",
       "\n",
       "    .dataframe thead th {\n",
       "        text-align: right;\n",
       "    }\n",
       "</style>\n",
       "<table border=\"1\" class=\"dataframe\">\n",
       "  <thead>\n",
       "    <tr style=\"text-align: right;\">\n",
       "      <th></th>\n",
       "      <th>unique_values</th>\n",
       "      <th>counts</th>\n",
       "    </tr>\n",
       "  </thead>\n",
       "  <tbody>\n",
       "    <tr>\n",
       "      <th>0</th>\n",
       "      <td>13cabs Sydney</td>\n",
       "      <td>2766068</td>\n",
       "    </tr>\n",
       "    <tr>\n",
       "      <th>1</th>\n",
       "      <td>WATs Sydney</td>\n",
       "      <td>118037</td>\n",
       "    </tr>\n",
       "    <tr>\n",
       "      <th>2</th>\n",
       "      <td>Silver Service Sydney</td>\n",
       "      <td>90881</td>\n",
       "    </tr>\n",
       "    <tr>\n",
       "      <th>3</th>\n",
       "      <td>Blue Mountains 13cabs</td>\n",
       "      <td>21352</td>\n",
       "    </tr>\n",
       "    <tr>\n",
       "      <th>4</th>\n",
       "      <td>Training Sydney</td>\n",
       "      <td>2416</td>\n",
       "    </tr>\n",
       "    <tr>\n",
       "      <th>5</th>\n",
       "      <td>South Western Cabs</td>\n",
       "      <td>814</td>\n",
       "    </tr>\n",
       "    <tr>\n",
       "      <th>6</th>\n",
       "      <td>iHail</td>\n",
       "      <td>304</td>\n",
       "    </tr>\n",
       "    <tr>\n",
       "      <th>7</th>\n",
       "      <td>Test Sydney</td>\n",
       "      <td>96</td>\n",
       "    </tr>\n",
       "    <tr>\n",
       "      <th>8</th>\n",
       "      <td>13cabs Wollongong</td>\n",
       "      <td>17</td>\n",
       "    </tr>\n",
       "    <tr>\n",
       "      <th>9</th>\n",
       "      <td>Sydney Tiger Team</td>\n",
       "      <td>15</td>\n",
       "    </tr>\n",
       "  </tbody>\n",
       "</table>\n",
       "</div>"
      ],
      "text/plain": [
       "           unique_values   counts\n",
       "0          13cabs Sydney  2766068\n",
       "1            WATs Sydney   118037\n",
       "2  Silver Service Sydney    90881\n",
       "3  Blue Mountains 13cabs    21352\n",
       "4        Training Sydney     2416\n",
       "5     South Western Cabs      814\n",
       "6                  iHail      304\n",
       "7            Test Sydney       96\n",
       "8      13cabs Wollongong       17\n",
       "9      Sydney Tiger Team       15"
      ]
     },
     "execution_count": 23,
     "metadata": {},
     "output_type": "execute_result"
    }
   ],
   "source": [
    "#target variable\n",
    "booking_fleet = data['BookingFleet'].value_counts().rename_axis('unique_values').reset_index(name='counts')\n",
    "booking_fleet"
   ]
  },
  {
   "cell_type": "code",
   "execution_count": 48,
   "metadata": {},
   "outputs": [
    {
     "data": {
      "text/plain": [
       "<AxesSubplot:xlabel='TargetVariable', ylabel='proportion'>"
      ]
     },
     "execution_count": 48,
     "metadata": {},
     "output_type": "execute_result"
    },
    {
     "data": {
      "image/png": "[encoded data removed]",
      "text/plain": [
       "<Figure size 432x288 with 1 Axes>"
      ]
     },
     "metadata": {
      "needs_background": "light"
     },
     "output_type": "display_data"
    }
   ],
   "source": [
    "(data['TargetVariable']\n",
    " .groupby(data['BookingFleet'])\n",
    " .value_counts(normalize=True)\n",
    " .rename('proportion')\n",
    " .reset_index()\n",
    " .pipe((sns.barplot, \"data\"), x ='TargetVariable', y ='proportion', hue='BookingFleet'))"
   ]
  },
  {
   "cell_type": "markdown",
   "metadata": {},
   "source": [
    "## 1.18 DispatchFleet "
   ]
  },
  {
   "cell_type": "code",
   "execution_count": 24,
   "metadata": {},
   "outputs": [
    {
     "data": {
      "text/html": [
       "<div>\n",
       "<style scoped>\n",
       "    .dataframe tbody tr th:only-of-type {\n",
       "        vertical-align: middle;\n",
       "    }\n",
       "\n",
       "    .dataframe tbody tr th {\n",
       "        vertical-align: top;\n",
       "    }\n",
       "\n",
       "    .dataframe thead th {\n",
       "        text-align: right;\n",
       "    }\n",
       "</style>\n",
       "<table border=\"1\" class=\"dataframe\">\n",
       "  <thead>\n",
       "    <tr style=\"text-align: right;\">\n",
       "      <th></th>\n",
       "      <th>unique_values</th>\n",
       "      <th>counts</th>\n",
       "    </tr>\n",
       "  </thead>\n",
       "  <tbody>\n",
       "    <tr>\n",
       "      <th>0</th>\n",
       "      <td>13cabs Sydney</td>\n",
       "      <td>1909518</td>\n",
       "    </tr>\n",
       "    <tr>\n",
       "      <th>1</th>\n",
       "      <td>Silver Service Sydney</td>\n",
       "      <td>1018056</td>\n",
       "    </tr>\n",
       "    <tr>\n",
       "      <th>2</th>\n",
       "      <td>WATs Sydney</td>\n",
       "      <td>48182</td>\n",
       "    </tr>\n",
       "    <tr>\n",
       "      <th>3</th>\n",
       "      <td>Blue Mountains 13cabs</td>\n",
       "      <td>21275</td>\n",
       "    </tr>\n",
       "    <tr>\n",
       "      <th>4</th>\n",
       "      <td>Training Sydney</td>\n",
       "      <td>2416</td>\n",
       "    </tr>\n",
       "    <tr>\n",
       "      <th>5</th>\n",
       "      <td>South Western Cabs</td>\n",
       "      <td>225</td>\n",
       "    </tr>\n",
       "    <tr>\n",
       "      <th>6</th>\n",
       "      <td>iHail</td>\n",
       "      <td>184</td>\n",
       "    </tr>\n",
       "    <tr>\n",
       "      <th>7</th>\n",
       "      <td>Test Sydney</td>\n",
       "      <td>128</td>\n",
       "    </tr>\n",
       "    <tr>\n",
       "      <th>8</th>\n",
       "      <td>Sydney Tiger Team</td>\n",
       "      <td>15</td>\n",
       "    </tr>\n",
       "    <tr>\n",
       "      <th>9</th>\n",
       "      <td>13cabs Wollongong</td>\n",
       "      <td>1</td>\n",
       "    </tr>\n",
       "  </tbody>\n",
       "</table>\n",
       "</div>"
      ],
      "text/plain": [
       "           unique_values   counts\n",
       "0          13cabs Sydney  1909518\n",
       "1  Silver Service Sydney  1018056\n",
       "2            WATs Sydney    48182\n",
       "3  Blue Mountains 13cabs    21275\n",
       "4        Training Sydney     2416\n",
       "5     South Western Cabs      225\n",
       "6                  iHail      184\n",
       "7            Test Sydney      128\n",
       "8      Sydney Tiger Team       15\n",
       "9      13cabs Wollongong        1"
      ]
     },
     "execution_count": 24,
     "metadata": {},
     "output_type": "execute_result"
    }
   ],
   "source": [
    "Dispatch_fleet = data['DispatchFleet'].value_counts().rename_axis('unique_values').reset_index(name='counts')\n",
    "Dispatch_fleet"
   ]
  },
  {
   "cell_type": "code",
   "execution_count": 50,
   "metadata": {},
   "outputs": [
    {
     "data": {
      "text/plain": [
       "<AxesSubplot:xlabel='TargetVariable', ylabel='proportion'>"
      ]
     },
     "execution_count": 50,
     "metadata": {},
     "output_type": "execute_result"
    },
    {
     "data": {
      "image/png": "[encoded data removed]",
      "text/plain": [
       "<Figure size 432x288 with 1 Axes>"
      ]
     },
     "metadata": {
      "needs_background": "light"
     },
     "output_type": "display_data"
    }
   ],
   "source": [
    "(data['TargetVariable']\n",
    " .groupby(data['DispatchFleet'])\n",
    " .value_counts(normalize=True)\n",
    " .rename('proportion')\n",
    " .reset_index()\n",
    " .pipe((sns.barplot, \"data\"), x ='TargetVariable', y ='proportion', hue='DispatchFleet'))"
   ]
  },
  {
   "cell_type": "markdown",
   "metadata": {},
   "source": [
    "## 1.19 PuSuburb"
   ]
  },
  {
   "cell_type": "code",
   "execution_count": 51,
   "metadata": {},
   "outputs": [
    {
     "data": {
      "text/plain": [
       "['GREYSTANES',\n",
       " 'NORTHMEAD',\n",
       " 'HAYMARKET',\n",
       " 'OATLANDS',\n",
       " 'WESTLEIGH',\n",
       " 'GLENMORE PARK',\n",
       " 'Couridjah',\n",
       " 'Maldon',\n",
       " 'PICNIC POINT',\n",
       " 'NORTH WAHROONGA',\n",
       " 'MENAI',\n",
       " 'MOUNT PRITCHARD',\n",
       " 'ROSEVILLE CHASE',\n",
       " 'Balmoral (South)',\n",
       " 'LIBERTY GROVE',\n",
       " 'MOUNT ANNAN',\n",
       " 'Belimbla Park',\n",
       " 'GLENFIELD',\n",
       " 'WARRAWEE',\n",
       " 'REVESBY',\n",
       " 'Ebenezer',\n",
       " 'ASHCROFT',\n",
       " 'DUNDAS VALLEY',\n",
       " 'Scotland Island',\n",
       " 'GLEDSWOOD HILLS',\n",
       " 'BEXLEY',\n",
       " 'Bobbin Head',\n",
       " 'KOGARAH',\n",
       " 'ENFIELD',\n",
       " 'NORTH ROCKS',\n",
       " 'Kurmond',\n",
       " 'STANHOPE GARDENS',\n",
       " 'DACEYVILLE',\n",
       " 'RAMSGATE',\n",
       " 'GYMEA',\n",
       " 'CARINGBAH',\n",
       " 'Kelso',\n",
       " 'Sun Valley',\n",
       " 'Port Kembla',\n",
       " 'ROOTY HILL',\n",
       " 'HOMEBUSH WEST',\n",
       " 'Rose Bay North',\n",
       " 'GREGORY HILLS',\n",
       " 'ST MARYS',\n",
       " 'Hartley',\n",
       " 'KELLYVILLE',\n",
       " 'BLACKTOWN',\n",
       " 'CABRAMATTA WEST',\n",
       " 'GYMEA BAY',\n",
       " 'NORMANHURST',\n",
       " 'GREENHILLS BEACH',\n",
       " 'KAREELA',\n",
       " 'CHESTER HILL',\n",
       " 'NEWPORT',\n",
       " 'ARCADIA',\n",
       " 'CARNES HILL',\n",
       " 'LILLI PILLI',\n",
       " 'BLAKEHURST',\n",
       " 'Theresa Park',\n",
       " 'Hill Top (North)',\n",
       " 'PENDLE HILL',\n",
       " 'KIRRAWEE',\n",
       " 'WEST HOXTON',\n",
       " 'NORTH EPPING',\n",
       " 'REGENTS PARK',\n",
       " 'MEADOWBANK',\n",
       " 'Werombi',\n",
       " 'Lakesland',\n",
       " 'ASQUITH',\n",
       " 'Bellambi',\n",
       " 'BANKSMEADOW',\n",
       " 'Warilla',\n",
       " 'BARANGAROO',\n",
       " 'Maroota',\n",
       " 'KYEEMAGH',\n",
       " 'SOUTH TURRAMURRA',\n",
       " 'MONA VALE',\n",
       " 'SUTHERLAND',\n",
       " 'WENTWORTHVILLE',\n",
       " 'SYDNEY OLYMPIC PARK',\n",
       " 'ALLAWAH',\n",
       " 'CANLEY VALE',\n",
       " 'BILGOLA PLATEAU',\n",
       " 'COLEBEE',\n",
       " 'Balmoral',\n",
       " 'EAST HILLS',\n",
       " 'COMO',\n",
       " 'THE PONDS',\n",
       " 'WOODCROFT',\n",
       " 'Rydal',\n",
       " 'SILVERWATER',\n",
       " 'North St Ives',\n",
       " 'SPRING FARM',\n",
       " 'Middle Harbour',\n",
       " 'CONDELL PARK',\n",
       " 'BAYVIEW',\n",
       " 'Balgownie',\n",
       " 'ROUSE HILL',\n",
       " 'South Bathurst',\n",
       " 'PENSHURST',\n",
       " 'WORONORA',\n",
       " 'MACQUARIE LINKS',\n",
       " 'Wallerawang',\n",
       " 'ST ANDREWS',\n",
       " 'WARRIEWOOD',\n",
       " 'GEORGES HALL',\n",
       " 'Tarrawanna',\n",
       " 'DURAL',\n",
       " 'Careel Bay',\n",
       " 'TOONGABBIE',\n",
       " 'AMBARVALE',\n",
       " 'CABRAMATTA',\n",
       " 'DENHAM COURT',\n",
       " 'Berkeley',\n",
       " 'Nattai',\n",
       " 'BELLA VISTA',\n",
       " 'Thirroul',\n",
       " 'OAKHURST',\n",
       " 'East Gordon',\n",
       " 'White Bay',\n",
       " 'MERRYLANDS WEST',\n",
       " 'Grenfell',\n",
       " 'WESTMEAD',\n",
       " 'ORAN PARK',\n",
       " 'Oberon',\n",
       " 'HARRIS PARK',\n",
       " 'BANGOR',\n",
       " 'YARRAWARRAH',\n",
       " 'Richmond RAAF',\n",
       " 'Randwick NSW',\n",
       " 'LURNEA',\n",
       " 'Albion Park Rail',\n",
       " 'KANGAROO POINT',\n",
       " 'SCHOFIELDS',\n",
       " 'Mittagong',\n",
       " 'West Bathurst',\n",
       " 'Gormans Hill',\n",
       " 'Cringila',\n",
       " 'BONNET BAY',\n",
       " 'BARDEN RIDGE',\n",
       " 'Mount Ousley',\n",
       " 'East Corrimal',\n",
       " 'HENLEY',\n",
       " 'AIRDS',\n",
       " 'Morts Estate',\n",
       " 'BEXLEY NORTH',\n",
       " 'Pitt Town Bottoms',\n",
       " 'SYLVANIA WATERS',\n",
       " 'Glenbrook',\n",
       " 'Yellow Rock',\n",
       " 'NORTH PARRAMATTA',\n",
       " 'LOFTUS',\n",
       " 'HECKENBERG',\n",
       " 'HURSTVILLE GROVE',\n",
       " 'Kingswood (North)',\n",
       " 'Mckellars Park',\n",
       " 'Woonona',\n",
       " 'WOOLOOWARE',\n",
       " 'Mount Warrigal',\n",
       " 'North Cronulla',\n",
       " 'KELLYVILLE RIDGE',\n",
       " 'Mount Pleasant',\n",
       " 'GRAYS POINT',\n",
       " 'KEARNS',\n",
       " 'GLENDENNING',\n",
       " 'Dobroyd Point',\n",
       " 'GALSTON',\n",
       " 'OLD TOONGABBIE',\n",
       " 'Hurstville South',\n",
       " 'BURRANEER',\n",
       " 'EAGLE VALE',\n",
       " 'DUNDAS',\n",
       " 'MOUNT VICTORIA',\n",
       " 'darling harbour',\n",
       " 'WALSH BAY',\n",
       " 'GREENFIELD PARK',\n",
       " 'Akuna Bay',\n",
       " 'MILLER',\n",
       " 'DOONSIDE',\n",
       " 'VINEYARD',\n",
       " 'CARLTON',\n",
       " 'OATLEY',\n",
       " 'Lemongrove',\n",
       " 'Eglinton',\n",
       " 'MONTEREY',\n",
       " 'HAMMONDVILLE',\n",
       " 'TERREY HILLS',\n",
       " 'BUSBY',\n",
       " 'Windradyne',\n",
       " 'REGENTVILLE',\n",
       " 'GREEN VALLEY']"
      ]
     },
     "execution_count": 51,
     "metadata": {},
     "output_type": "execute_result"
    }
   ],
   "source": [
    "pick = data['PuSuburb'].value_counts().tail(191).keys().tolist() #<4\n",
    "pick"
   ]
  },
  {
   "cell_type": "code",
   "execution_count": 52,
   "metadata": {},
   "outputs": [],
   "source": [
    "data['pick'] = np.where(data['PuSuburb'].isin(pick), True, False)"
   ]
  },
  {
   "cell_type": "code",
   "execution_count": 53,
   "metadata": {},
   "outputs": [
    {
     "data": {
      "text/plain": [
       "<AxesSubplot:xlabel='TargetVariable', ylabel='proportion'>"
      ]
     },
     "execution_count": 53,
     "metadata": {},
     "output_type": "execute_result"
    },
    {
     "data": {
      "image/png": "[encoded data removed]",
      "text/plain": [
       "<Figure size 432x288 with 1 Axes>"
      ]
     },
     "metadata": {
      "needs_background": "light"
     },
     "output_type": "display_data"
    }
   ],
   "source": [
    "(data['TargetVariable']\n",
    " .groupby(data['pick'])\n",
    " .value_counts(normalize=True)\n",
    " .rename('proportion')\n",
    " .reset_index()\n",
    " .pipe((sns.barplot, \"data\"), x ='TargetVariable', y ='proportion', hue='pick'))"
   ]
  },
  {
   "cell_type": "markdown",
   "metadata": {},
   "source": [
    "## 1.20 DestSuburb"
   ]
  },
  {
   "cell_type": "code",
   "execution_count": 54,
   "metadata": {},
   "outputs": [
    {
     "data": {
      "text/plain": [
       "['South Bathurst',\n",
       " 'Pitt Town Bottoms',\n",
       " 'Kincumber',\n",
       " 'Woollamia',\n",
       " 'East Wahroonga',\n",
       " 'Rydal',\n",
       " 'Wyong Creek',\n",
       " 'Green Hills (South)',\n",
       " 'Hillsborough',\n",
       " 'Leederville',\n",
       " 'GUILDFORD WEST',\n",
       " 'Oak Flats',\n",
       " 'Bellambi',\n",
       " 'HENLEY',\n",
       " 'Muswellbrook',\n",
       " 'St Helens',\n",
       " 'Pokolbin',\n",
       " 'Blackbutt',\n",
       " 'Lawrence',\n",
       " 'Oberne Creek',\n",
       " 'Rainbow Beach',\n",
       " 'Sackville North',\n",
       " 'Colo Heights',\n",
       " 'Lisarow',\n",
       " 'Blues Point',\n",
       " 'Hampton',\n",
       " 'Undercliffe',\n",
       " 'Renwick',\n",
       " 'SYDNEY OLYMPIC PARK',\n",
       " 'SANDRINGHAM',\n",
       " 'KAREELA',\n",
       " 'Cringila',\n",
       " 'East Ballina',\n",
       " 'Smiths Lake',\n",
       " 'ROUSE HILL',\n",
       " 'Murrengenburg',\n",
       " 'CARINGBAH',\n",
       " 'Noble Park',\n",
       " 'Young',\n",
       " 'Concord, Sydney',\n",
       " 'Toongabbie East',\n",
       " 'Nort',\n",
       " 'Crawley',\n",
       " 'Mowbray Park',\n",
       " 'Oakey Park',\n",
       " 'Thredbo',\n",
       " 'TELOPEA',\n",
       " 'BURWOOD HEIGHTS',\n",
       " 'COLLAROY',\n",
       " 'Neurea',\n",
       " 'The University of Sydney',\n",
       " 'Huskisson',\n",
       " 'Clarkson',\n",
       " 'St Kilda',\n",
       " 'Sackville',\n",
       " 'Werombi',\n",
       " 'BLAKEHURST',\n",
       " 'Warranulla',\n",
       " 'GREENFIELD PARK',\n",
       " 'Rylstone',\n",
       " 'Canton Beach',\n",
       " 'HORNINGSEA PARK',\n",
       " 'EAST HILLS',\n",
       " 'GREYSTANES',\n",
       " 'West Baulkham Hills',\n",
       " 'Gladstone',\n",
       " 'CANADA BAY',\n",
       " 'Hillville',\n",
       " 'North Seaforth',\n",
       " 'Ryanston',\n",
       " 'Catalina',\n",
       " 'Dee Why Beach',\n",
       " 'Boorganna',\n",
       " 'Long Jetty',\n",
       " 'Langley Vale',\n",
       " 'Marnomg Point',\n",
       " 'Jilliby',\n",
       " 'OAKHURST',\n",
       " 'Marble Bar',\n",
       " 'Gol Gol',\n",
       " 'Cairns City',\n",
       " 'Kangaroo Valley',\n",
       " 'Garie Beach',\n",
       " 'Millthorpe',\n",
       " 'Colinton',\n",
       " 'Keiraville',\n",
       " 'Berrara',\n",
       " 'Mont Albert',\n",
       " 'Diamond Bay',\n",
       " 'Blowering',\n",
       " 'East Bowral',\n",
       " 'Sandilands',\n",
       " 'Cedar Creek (South)',\n",
       " 'CONSTITUTION HILL',\n",
       " 'ST CLAIR',\n",
       " 'SANS SOUCI',\n",
       " 'Glenworth Valley',\n",
       " 'West Bathurst',\n",
       " 'Kew',\n",
       " 'Marinna',\n",
       " 'West Croydon',\n",
       " 'Yanderra',\n",
       " 'Saratoga',\n",
       " 'OATLANDS',\n",
       " 'ESCHOL PARK',\n",
       " 'ROSEMEADOW',\n",
       " 'Balhannah',\n",
       " 'Sussex Inlet',\n",
       " 'Ashford',\n",
       " 'Mount Wilson',\n",
       " 'Mount Saint Thomas',\n",
       " 'Petermann',\n",
       " 'WOODCROFT',\n",
       " 'Meringo',\n",
       " 'COLEBEE',\n",
       " 'Guildford East',\n",
       " 'Campbellfield',\n",
       " 'West Melbourne',\n",
       " 'Bungendore',\n",
       " 'Careel Bay',\n",
       " 'Woronora River',\n",
       " 'Footscray',\n",
       " 'Vittoria',\n",
       " 'Goonoo Forest',\n",
       " 'Jindabyne',\n",
       " 'Koolewong',\n",
       " 'Terrigal',\n",
       " 'Geurie',\n",
       " 'Wollumboola',\n",
       " 'Brunswick West',\n",
       " 'Cameron Park',\n",
       " 'Mawson Lakes',\n",
       " 'Belair',\n",
       " 'SYLVANIA',\n",
       " 'Ashby',\n",
       " 'Tullimbar',\n",
       " 'Kingsvale',\n",
       " 'CRONULLA',\n",
       " 'NORTH TURRAMURRA',\n",
       " 'Singleton Military Area',\n",
       " 'BANKSTOWN AERODROME',\n",
       " 'Ku RingGaiChase',\n",
       " 'Wyndham Vale',\n",
       " 'Glossodia',\n",
       " 'FAIRFIELD HEIGHTS',\n",
       " 'Watanobbi',\n",
       " 'Calala',\n",
       " 'North Boambee Valley',\n",
       " 'Wollongbar',\n",
       " 'Currabubula',\n",
       " 'Kings Forest',\n",
       " 'Blayney',\n",
       " 'Andergrove',\n",
       " 'NARWEE',\n",
       " 'Willow Vale (west)',\n",
       " 'Hayters Hill',\n",
       " 'Nelson (north)',\n",
       " 'Berambing',\n",
       " 'GREEN VALLEY',\n",
       " 'KYEEMAGH',\n",
       " 'AVALON BEACH',\n",
       " 'Blackburn',\n",
       " 'Hawthorn',\n",
       " 'Wamboin',\n",
       " 'ELIZABETH HILLS',\n",
       " 'SILVERWATER',\n",
       " 'Isaacs',\n",
       " 'Pakenham',\n",
       " 'Mount Keira',\n",
       " 'Coggan',\n",
       " 'Quarry Hill',\n",
       " 'Pyramul',\n",
       " 'Bonbeach',\n",
       " 'Warners Bay',\n",
       " 'PROSPECT',\n",
       " 'Brunswick East',\n",
       " 'South Toowoomba',\n",
       " 'North St Ives',\n",
       " 'Brunswick Heads',\n",
       " 'Wellington',\n",
       " 'Booral',\n",
       " 'Fairy Meadow',\n",
       " 'Newstead',\n",
       " 'Ballimore',\n",
       " 'Gerroa',\n",
       " 'GLENFIELD',\n",
       " 'Mount St Thomas',\n",
       " 'YOWIE BAY',\n",
       " 'Williamtown',\n",
       " 'Hambledon Hill',\n",
       " 'Cooranbong',\n",
       " 'BILGOLA PLATEAU',\n",
       " 'King Creek',\n",
       " 'BURRANEER',\n",
       " 'Crestmead',\n",
       " 'Reservoir',\n",
       " 'Manton',\n",
       " 'Rivertree',\n",
       " 'KIRRAWEE',\n",
       " 'Braemar',\n",
       " 'Somerset Park',\n",
       " 'Point Lonsdale',\n",
       " 'Corney Town',\n",
       " 'Lemongrove',\n",
       " 'King Street Wharf',\n",
       " 'Charmhaven',\n",
       " 'Black Creek (North)',\n",
       " 'Burpengary',\n",
       " 'Childers',\n",
       " 'MACQUARIE LINKS',\n",
       " 'Willina',\n",
       " 'Allworth',\n",
       " 'Fassifern',\n",
       " 'DACEYVILLE',\n",
       " 'Lilyvale',\n",
       " 'Wyong',\n",
       " 'Norway',\n",
       " 'Deakin',\n",
       " 'Killarney Vale',\n",
       " 'Rosewood',\n",
       " 'LEURA',\n",
       " 'Wallabi Point',\n",
       " 'MONTEREY',\n",
       " 'Bilpin',\n",
       " 'Weetangera',\n",
       " 'Yamba',\n",
       " 'Sherwood Park',\n",
       " 'LIBERTY GROVE',\n",
       " 'Kayuga',\n",
       " 'CABARITA',\n",
       " 'ST ANDREWS',\n",
       " 'Cumnock',\n",
       " 'BLAIR ATHOL',\n",
       " 'Breakfast Creek',\n",
       " 'Willow Vale (West)',\n",
       " 'Abbotsford Point',\n",
       " 'Falbrook',\n",
       " 'Environa',\n",
       " 'Tarneit',\n",
       " 'Lambton',\n",
       " 'REGENTS PARK',\n",
       " 'Leeming',\n",
       " 'Spotswood',\n",
       " 'Hammonville',\n",
       " 'Hamlyn Terrace',\n",
       " 'Meroo',\n",
       " 'Calliope',\n",
       " 'Wallan',\n",
       " 'RIVERSTONE',\n",
       " 'MARSDEN PARK',\n",
       " 'Airport  Sydney',\n",
       " 'East Esplanade, Manly',\n",
       " 'Moonah',\n",
       " 'DUFFYS FOREST',\n",
       " 'Elwood',\n",
       " 'Lue',\n",
       " 'Macksville',\n",
       " 'Cobar Park',\n",
       " 'Adelaide Airport',\n",
       " 'Brisbane',\n",
       " 'CANLEY VALE',\n",
       " 'Forster',\n",
       " 'Glenelg',\n",
       " 'Monash',\n",
       " 'Cessnock',\n",
       " 'Gulgong',\n",
       " 'Cranbrook',\n",
       " 'ROSEHILL',\n",
       " 'Sutherland Shire',\n",
       " 'Oakleigh',\n",
       " 'Tuggerah',\n",
       " 'GRANVILLE',\n",
       " 'Bowen Mountain',\n",
       " 'Chatsbury',\n",
       " 'Singleton',\n",
       " 'Mount Panorama',\n",
       " 'Bell',\n",
       " 'WAITARA',\n",
       " 'Bara',\n",
       " 'Dungog',\n",
       " 'Sanctuary Point',\n",
       " 'WAKELEY',\n",
       " 'MELROSE PARK',\n",
       " 'Tarragindi',\n",
       " 'Goolwa North',\n",
       " 'Surfers Paradise',\n",
       " 'Msoman',\n",
       " 'LA PEROUSE',\n",
       " 'Biggera Waters',\n",
       " 'Nowra',\n",
       " 'Bexhill',\n",
       " 'Lewinsbrook',\n",
       " 'South Yarra',\n",
       " 'Avonside',\n",
       " 'MENAI',\n",
       " 'Eden',\n",
       " 'Scarborough',\n",
       " 'Brocklehurst',\n",
       " 'Glenlee',\n",
       " 'Macdonaldtown',\n",
       " 'STRATHFIELD SOUTH',\n",
       " 'DARLINGHURST SYDNEY',\n",
       " 'East Kurrajong',\n",
       " 'HUNTLEYS COVE',\n",
       " 'UNSW',\n",
       " 'Pages Creek',\n",
       " 'BANKSMEADOW',\n",
       " 'Willoughby North',\n",
       " 'Balaclava',\n",
       " 'Kerrabee',\n",
       " 'Wybong',\n",
       " 'Mount Hutton',\n",
       " 'Forbes',\n",
       " 'TURRELLA',\n",
       " 'Red Head',\n",
       " 'Green Gully',\n",
       " 'HARRINGTON PARK',\n",
       " 'Lismore',\n",
       " 'Parkes',\n",
       " 'Larbert',\n",
       " 'EDENSOR PARK',\n",
       " 'Corrimal',\n",
       " 'Gilmore',\n",
       " 'Maroota',\n",
       " 'Richmond Lowlands',\n",
       " 'Port Stephens',\n",
       " 'HECKENBERG',\n",
       " 'St Georges Basin',\n",
       " 'Laverton North',\n",
       " 'SHALVEY',\n",
       " 'Coledale',\n",
       " 'Figtree',\n",
       " 'Wiagdon',\n",
       " 'The Entrance']"
      ]
     },
     "execution_count": 54,
     "metadata": {},
     "output_type": "execute_result"
    }
   ],
   "source": [
    "dest = data['DestSuburb'].value_counts().tail(334).keys().tolist() #<1\n",
    "dest"
   ]
  },
  {
   "cell_type": "code",
   "execution_count": 55,
   "metadata": {},
   "outputs": [],
   "source": [
    "data['dest'] = np.where(data['PuSuburb'].isin(dest), True, False)"
   ]
  },
  {
   "cell_type": "code",
   "execution_count": 56,
   "metadata": {},
   "outputs": [
    {
     "data": {
      "text/plain": [
       "<AxesSubplot:xlabel='TargetVariable', ylabel='proportion'>"
      ]
     },
     "execution_count": 56,
     "metadata": {},
     "output_type": "execute_result"
    },
    {
     "data": {
      "image/png": "[encoded data removed]",
      "text/plain": [
       "<Figure size 432x288 with 1 Axes>"
      ]
     },
     "metadata": {
      "needs_background": "light"
     },
     "output_type": "display_data"
    }
   ],
   "source": [
    "(data['TargetVariable']\n",
    " .groupby(data['dest'])\n",
    " .value_counts(normalize=True)\n",
    " .rename('proportion')\n",
    " .reset_index()\n",
    " .pipe((sns.barplot, \"data\"), x ='TargetVariable', y ='proportion', hue='dest'))"
   ]
  },
  {
   "cell_type": "markdown",
   "metadata": {},
   "source": [
    "## 2 Multivariate Analysis"
   ]
  },
  {
   "cell_type": "code",
   "execution_count": 57,
   "metadata": {},
   "outputs": [],
   "source": [
    "# Calculating the correlation\n",
    "corr =data.corr()"
   ]
  },
  {
   "cell_type": "code",
   "execution_count": 58,
   "metadata": {},
   "outputs": [
    {
     "data": {
      "text/plain": [
       "<AxesSubplot:>"
      ]
     },
     "execution_count": 58,
     "metadata": {},
     "output_type": "execute_result"
    },
    {
     "data": {
      "image/png": "[encoded data removed]",
      "text/plain": [
       "<Figure size 432x288 with 2 Axes>"
      ]
     },
     "metadata": {
      "needs_background": "light"
     },
     "output_type": "display_data"
    }
   ],
   "source": [
    "# Visualizing the relationship based on correlation\n",
    "sns.heatmap(corr)"
   ]
  }
 ],
 "metadata": {
  "jupytext": {
   "formats": "ipynb,py:light"
  },
  "kernelspec": {
   "display_name": "Python 3",
   "language": "python",
   "name": "python3"
  },
  "language_info": {
   "codemirror_mode": {
    "name": "ipython",
    "version": 3
   },
   "file_extension": ".py",
   "mimetype": "text/x-python",
   "name": "python",
   "nbconvert_exporter": "python",
   "pygments_lexer": "ipython3",
   "version": "3.7.7"
  }
 },
 "nbformat": 4,
 "nbformat_minor": 4
}
